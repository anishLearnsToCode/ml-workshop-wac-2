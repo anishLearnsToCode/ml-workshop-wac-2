{
 "cells": [
  {
   "cell_type": "markdown",
   "metadata": {},
   "source": [
    "# Vectorization"
   ]
  },
  {
   "cell_type": "code",
   "execution_count": 1,
   "metadata": {},
   "outputs": [],
   "source": [
    "# runif you dont have numpy\n",
    "# pip install numpy"
   ]
  },
  {
   "cell_type": "code",
   "execution_count": 1,
   "metadata": {},
   "outputs": [
    {
     "name": "stdout",
     "output_type": "stream",
     "text": [
      "[1 3]\n"
     ]
    }
   ],
   "source": [
    "import numpy as np\n",
    "a = np.array([1, 3])\n",
    "print(a)"
   ]
  },
  {
   "cell_type": "code",
   "execution_count": 2,
   "metadata": {},
   "outputs": [
    {
     "name": "stdout",
     "output_type": "stream",
     "text": [
      "128.692626953125\n"
     ]
    }
   ],
   "source": [
    "import time\n",
    "a = np.random.rand(10 ** 8)\n",
    "b = np.random.rand(10 ** 8)\n",
    "\n",
    "tick = time.time()\n",
    "c = np.dot(a, b)\n",
    "tock = time.time()\n",
    "print(1000 * (tock - tick))"
   ]
  },
  {
   "cell_type": "code",
   "execution_count": 3,
   "metadata": {},
   "outputs": [
    {
     "name": "stdout",
     "output_type": "stream",
     "text": [
      "25072.49140739441\n"
     ]
    }
   ],
   "source": [
    "a = np.random.rand(10 ** 7)\n",
    "b = np.random.rand(10 ** 7)\n",
    "tick = time.time();\n",
    "\n",
    "for index in range(len(a)):\n",
    "    c += a[index] * b[index]\n",
    "\n",
    "tock = time.time()    \n",
    "print(1000 * (tock - tick))"
   ]
  },
  {
   "cell_type": "code",
   "execution_count": 9,
   "metadata": {},
   "outputs": [
    {
     "name": "stdout",
     "output_type": "stream",
     "text": [
      "1.0\n",
      "[1.         0.36787944 0.13533528]\n"
     ]
    }
   ],
   "source": [
    "def sigmoid(z):\n",
    "    return np.exp(-z)\n",
    "\n",
    "print(sigmoid(0))\n",
    "print(sigmoid(np.array([0, 1, 2])))"
   ]
  }
 ],
 "metadata": {
  "kernelspec": {
   "display_name": "Python 3",
   "language": "python",
   "name": "python3"
  },
  "language_info": {
   "codemirror_mode": {
    "name": "ipython",
    "version": 3
   },
   "file_extension": ".py",
   "mimetype": "text/x-python",
   "name": "python",
   "nbconvert_exporter": "python",
   "pygments_lexer": "ipython3",
   "version": "3.7.9"
  }
 },
 "nbformat": 4,
 "nbformat_minor": 4
}
