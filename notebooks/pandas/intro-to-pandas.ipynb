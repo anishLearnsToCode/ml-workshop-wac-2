{
 "cells": [
  {
   "cell_type": "markdown",
   "metadata": {},
   "source": [
    "# 🐼 Introduction To Pandas"
   ]
  },
  {
   "cell_type": "code",
   "execution_count": 1,
   "metadata": {},
   "outputs": [],
   "source": [
    "# importing libraries\n",
    "import pandas as pd"
   ]
  },
  {
   "cell_type": "code",
   "execution_count": 2,
   "metadata": {},
   "outputs": [
    {
     "data": {
      "text/plain": [
       "<module 'pandas' from 'c:\\\\users\\\\anish\\\\appdata\\\\local\\\\programs\\\\python\\\\python37\\\\lib\\\\site-packages\\\\pandas\\\\__init__.py'>"
      ]
     },
     "execution_count": 2,
     "metadata": {},
     "output_type": "execute_result"
    }
   ],
   "source": [
    "# checking that pandas has been loaded correctly\n",
    "pd"
   ]
  },
  {
   "cell_type": "markdown",
   "metadata": {},
   "source": [
    "## Making Pandas DataFrame from Python Dictionaries"
   ]
  },
  {
   "cell_type": "code",
   "execution_count": 3,
   "metadata": {},
   "outputs": [],
   "source": [
    "people = {\n",
    "    'first_name': ['Alan', 'Tim', 'Grace', 'John'],\n",
    "    'last_name': ['Turing', 'Berners-Lee', 'Hopper', 'V. Neuman'],\n",
    "    'birth_place': ['UK', 'UK', 'USA', 'Hungary']\n",
    "}"
   ]
  },
  {
   "cell_type": "code",
   "execution_count": 4,
   "metadata": {},
   "outputs": [
    {
     "data": {
      "text/plain": [
       "['Alan', 'Tim', 'Grace', 'John']"
      ]
     },
     "execution_count": 4,
     "metadata": {},
     "output_type": "execute_result"
    }
   ],
   "source": [
    "people['first_name']"
   ]
  },
  {
   "cell_type": "code",
   "execution_count": 5,
   "metadata": {},
   "outputs": [
    {
     "data": {
      "text/plain": [
       "['UK', 'UK', 'USA', 'Hungary']"
      ]
     },
     "execution_count": 5,
     "metadata": {},
     "output_type": "execute_result"
    }
   ],
   "source": [
    "people['birth_place']"
   ]
  },
  {
   "cell_type": "code",
   "execution_count": 6,
   "metadata": {},
   "outputs": [
    {
     "data": {
      "text/html": [
       "<div>\n",
       "<style scoped>\n",
       "    .dataframe tbody tr th:only-of-type {\n",
       "        vertical-align: middle;\n",
       "    }\n",
       "\n",
       "    .dataframe tbody tr th {\n",
       "        vertical-align: top;\n",
       "    }\n",
       "\n",
       "    .dataframe thead th {\n",
       "        text-align: right;\n",
       "    }\n",
       "</style>\n",
       "<table border=\"1\" class=\"dataframe\">\n",
       "  <thead>\n",
       "    <tr style=\"text-align: right;\">\n",
       "      <th></th>\n",
       "      <th>first_name</th>\n",
       "      <th>last_name</th>\n",
       "      <th>birth_place</th>\n",
       "    </tr>\n",
       "  </thead>\n",
       "  <tbody>\n",
       "    <tr>\n",
       "      <th>0</th>\n",
       "      <td>Alan</td>\n",
       "      <td>Turing</td>\n",
       "      <td>UK</td>\n",
       "    </tr>\n",
       "    <tr>\n",
       "      <th>1</th>\n",
       "      <td>Tim</td>\n",
       "      <td>Berners-Lee</td>\n",
       "      <td>UK</td>\n",
       "    </tr>\n",
       "    <tr>\n",
       "      <th>2</th>\n",
       "      <td>Grace</td>\n",
       "      <td>Hopper</td>\n",
       "      <td>USA</td>\n",
       "    </tr>\n",
       "    <tr>\n",
       "      <th>3</th>\n",
       "      <td>John</td>\n",
       "      <td>V. Neuman</td>\n",
       "      <td>Hungary</td>\n",
       "    </tr>\n",
       "  </tbody>\n",
       "</table>\n",
       "</div>"
      ],
      "text/plain": [
       "  first_name    last_name birth_place\n",
       "0       Alan       Turing          UK\n",
       "1        Tim  Berners-Lee          UK\n",
       "2      Grace       Hopper         USA\n",
       "3       John    V. Neuman     Hungary"
      ]
     },
     "execution_count": 6,
     "metadata": {},
     "output_type": "execute_result"
    }
   ],
   "source": [
    "data = pd.DataFrame(people)\n",
    "data"
   ]
  },
  {
   "cell_type": "code",
   "execution_count": 15,
   "metadata": {},
   "outputs": [
    {
     "data": {
      "text/html": [
       "<div>\n",
       "<style scoped>\n",
       "    .dataframe tbody tr th:only-of-type {\n",
       "        vertical-align: middle;\n",
       "    }\n",
       "\n",
       "    .dataframe tbody tr th {\n",
       "        vertical-align: top;\n",
       "    }\n",
       "\n",
       "    .dataframe thead th {\n",
       "        text-align: right;\n",
       "    }\n",
       "</style>\n",
       "<table border=\"1\" class=\"dataframe\">\n",
       "  <thead>\n",
       "    <tr style=\"text-align: right;\">\n",
       "      <th></th>\n",
       "      <th>last_name</th>\n",
       "      <th>birth_place</th>\n",
       "    </tr>\n",
       "  </thead>\n",
       "  <tbody>\n",
       "    <tr>\n",
       "      <th>0</th>\n",
       "      <td>Turing</td>\n",
       "      <td>UK</td>\n",
       "    </tr>\n",
       "    <tr>\n",
       "      <th>1</th>\n",
       "      <td>Berners-Lee</td>\n",
       "      <td>UK</td>\n",
       "    </tr>\n",
       "    <tr>\n",
       "      <th>2</th>\n",
       "      <td>Hopper</td>\n",
       "      <td>USA</td>\n",
       "    </tr>\n",
       "    <tr>\n",
       "      <th>3</th>\n",
       "      <td>V. Neuman</td>\n",
       "      <td>Hungary</td>\n",
       "    </tr>\n",
       "  </tbody>\n",
       "</table>\n",
       "</div>"
      ],
      "text/plain": [
       "     last_name birth_place\n",
       "0       Turing          UK\n",
       "1  Berners-Lee          UK\n",
       "2       Hopper         USA\n",
       "3    V. Neuman     Hungary"
      ]
     },
     "execution_count": 15,
     "metadata": {},
     "output_type": "execute_result"
    }
   ],
   "source": [
    "data.iloc[:, [1, 2]]"
   ]
  },
  {
   "cell_type": "code",
   "execution_count": 8,
   "metadata": {},
   "outputs": [
    {
     "data": {
      "text/plain": [
       "0         Turing\n",
       "1    Berners-Lee\n",
       "2         Hopper\n",
       "3      V. Neuman\n",
       "Name: last_name, dtype: object"
      ]
     },
     "execution_count": 8,
     "metadata": {},
     "output_type": "execute_result"
    }
   ],
   "source": [
    "data['last_name']"
   ]
  },
  {
   "cell_type": "code",
   "execution_count": 9,
   "metadata": {},
   "outputs": [
    {
     "data": {
      "text/plain": [
       "0     Alan\n",
       "1      Tim\n",
       "2    Grace\n",
       "3     John\n",
       "Name: first_name, dtype: object"
      ]
     },
     "execution_count": 9,
     "metadata": {},
     "output_type": "execute_result"
    }
   ],
   "source": [
    "data['first_name']"
   ]
  },
  {
   "cell_type": "code",
   "execution_count": 10,
   "metadata": {},
   "outputs": [
    {
     "data": {
      "text/plain": [
       "0         UK\n",
       "1         UK\n",
       "2        USA\n",
       "3    Hungary\n",
       "Name: birth_place, dtype: object"
      ]
     },
     "execution_count": 10,
     "metadata": {},
     "output_type": "execute_result"
    }
   ],
   "source": [
    "data['birth_place']"
   ]
  },
  {
   "cell_type": "code",
   "execution_count": 11,
   "metadata": {},
   "outputs": [
    {
     "data": {
      "text/plain": [
       "Index(['first_name', 'last_name', 'birth_place'], dtype='object')"
      ]
     },
     "execution_count": 11,
     "metadata": {},
     "output_type": "execute_result"
    }
   ],
   "source": [
    "# We can view the columns in a Data Frame\n",
    "data.columns"
   ]
  },
  {
   "cell_type": "markdown",
   "metadata": {},
   "source": [
    "## Accessing Elements\n",
    "\n",
    "We can access individual cells, rows and columns using the `iloc` property of the DataFrame object."
   ]
  },
  {
   "cell_type": "code",
   "execution_count": 12,
   "metadata": {},
   "outputs": [
    {
     "data": {
      "text/plain": [
       "'Alan'"
      ]
     },
     "execution_count": 12,
     "metadata": {},
     "output_type": "execute_result"
    }
   ],
   "source": [
    "# Accessing individual cell\n",
    "data.iloc[0, 0]"
   ]
  },
  {
   "cell_type": "code",
   "execution_count": 13,
   "metadata": {},
   "outputs": [
    {
     "data": {
      "text/plain": [
       "'Turing'"
      ]
     },
     "execution_count": 13,
     "metadata": {},
     "output_type": "execute_result"
    }
   ],
   "source": [
    "data.iloc[0, 1]"
   ]
  },
  {
   "cell_type": "code",
   "execution_count": 14,
   "metadata": {},
   "outputs": [
    {
     "data": {
      "text/plain": [
       "first_name       Alan\n",
       "last_name      Turing\n",
       "birth_place        UK\n",
       "Name: 0, dtype: object"
      ]
     },
     "execution_count": 14,
     "metadata": {},
     "output_type": "execute_result"
    }
   ],
   "source": [
    "# Accessinng entire rows\n",
    "data.iloc[0, :]"
   ]
  },
  {
   "cell_type": "code",
   "execution_count": 15,
   "metadata": {},
   "outputs": [
    {
     "data": {
      "text/plain": [
       "0     Alan\n",
       "1      Tim\n",
       "2    Grace\n",
       "3     John\n",
       "Name: first_name, dtype: object"
      ]
     },
     "execution_count": 15,
     "metadata": {},
     "output_type": "execute_result"
    }
   ],
   "source": [
    "# Accessing entire column \n",
    "data.iloc[:, 0]"
   ]
  },
  {
   "cell_type": "code",
   "execution_count": 16,
   "metadata": {},
   "outputs": [
    {
     "data": {
      "text/plain": [
       "0         UK\n",
       "1         UK\n",
       "2        USA\n",
       "3    Hungary\n",
       "Name: birth_place, dtype: object"
      ]
     },
     "execution_count": 16,
     "metadata": {},
     "output_type": "execute_result"
    }
   ],
   "source": [
    "data.iloc[:, 2]"
   ]
  },
  {
   "cell_type": "code",
   "execution_count": 35,
   "metadata": {},
   "outputs": [
    {
     "data": {
      "text/html": [
       "<div>\n",
       "<style scoped>\n",
       "    .dataframe tbody tr th:only-of-type {\n",
       "        vertical-align: middle;\n",
       "    }\n",
       "\n",
       "    .dataframe tbody tr th {\n",
       "        vertical-align: top;\n",
       "    }\n",
       "\n",
       "    .dataframe thead th {\n",
       "        text-align: right;\n",
       "    }\n",
       "</style>\n",
       "<table border=\"1\" class=\"dataframe\">\n",
       "  <thead>\n",
       "    <tr style=\"text-align: right;\">\n",
       "      <th></th>\n",
       "      <th>first_name</th>\n",
       "      <th>last_name</th>\n",
       "      <th>birth_place</th>\n",
       "    </tr>\n",
       "  </thead>\n",
       "  <tbody>\n",
       "    <tr>\n",
       "      <th>1</th>\n",
       "      <td>Tim</td>\n",
       "      <td>Berners-Lee</td>\n",
       "      <td>UK</td>\n",
       "    </tr>\n",
       "    <tr>\n",
       "      <th>0</th>\n",
       "      <td>Alan</td>\n",
       "      <td>Turing</td>\n",
       "      <td>UK</td>\n",
       "    </tr>\n",
       "  </tbody>\n",
       "</table>\n",
       "</div>"
      ],
      "text/plain": [
       "  first_name    last_name birth_place\n",
       "1        Tim  Berners-Lee          UK\n",
       "0       Alan       Turing          UK"
      ]
     },
     "execution_count": 35,
     "metadata": {},
     "output_type": "execute_result"
    }
   ],
   "source": [
    "# Accessing Multiple Rows\n",
    "data.iloc[[1, 0], ]"
   ]
  },
  {
   "cell_type": "code",
   "execution_count": 30,
   "metadata": {},
   "outputs": [
    {
     "data": {
      "text/html": [
       "<div>\n",
       "<style scoped>\n",
       "    .dataframe tbody tr th:only-of-type {\n",
       "        vertical-align: middle;\n",
       "    }\n",
       "\n",
       "    .dataframe tbody tr th {\n",
       "        vertical-align: top;\n",
       "    }\n",
       "\n",
       "    .dataframe thead th {\n",
       "        text-align: right;\n",
       "    }\n",
       "</style>\n",
       "<table border=\"1\" class=\"dataframe\">\n",
       "  <thead>\n",
       "    <tr style=\"text-align: right;\">\n",
       "      <th></th>\n",
       "      <th>first_name</th>\n",
       "    </tr>\n",
       "  </thead>\n",
       "  <tbody>\n",
       "    <tr>\n",
       "      <th>0</th>\n",
       "      <td>Alan</td>\n",
       "    </tr>\n",
       "    <tr>\n",
       "      <th>1</th>\n",
       "      <td>Tim</td>\n",
       "    </tr>\n",
       "    <tr>\n",
       "      <th>2</th>\n",
       "      <td>Grace</td>\n",
       "    </tr>\n",
       "    <tr>\n",
       "      <th>3</th>\n",
       "      <td>John</td>\n",
       "    </tr>\n",
       "  </tbody>\n",
       "</table>\n",
       "</div>"
      ],
      "text/plain": [
       "  first_name\n",
       "0       Alan\n",
       "1        Tim\n",
       "2      Grace\n",
       "3       John"
      ]
     },
     "execution_count": 30,
     "metadata": {},
     "output_type": "execute_result"
    }
   ],
   "source": [
    "# Accessing Multiple Columns\n",
    "data.iloc[:, [0]]"
   ]
  },
  {
   "cell_type": "code",
   "execution_count": 36,
   "metadata": {},
   "outputs": [
    {
     "data": {
      "text/html": [
       "<div>\n",
       "<style scoped>\n",
       "    .dataframe tbody tr th:only-of-type {\n",
       "        vertical-align: middle;\n",
       "    }\n",
       "\n",
       "    .dataframe tbody tr th {\n",
       "        vertical-align: top;\n",
       "    }\n",
       "\n",
       "    .dataframe thead th {\n",
       "        text-align: right;\n",
       "    }\n",
       "</style>\n",
       "<table border=\"1\" class=\"dataframe\">\n",
       "  <thead>\n",
       "    <tr style=\"text-align: right;\">\n",
       "      <th></th>\n",
       "      <th>last_name</th>\n",
       "      <th>birth_place</th>\n",
       "    </tr>\n",
       "  </thead>\n",
       "  <tbody>\n",
       "    <tr>\n",
       "      <th>0</th>\n",
       "      <td>Turing</td>\n",
       "      <td>UK</td>\n",
       "    </tr>\n",
       "    <tr>\n",
       "      <th>1</th>\n",
       "      <td>Berners-Lee</td>\n",
       "      <td>UK</td>\n",
       "    </tr>\n",
       "    <tr>\n",
       "      <th>2</th>\n",
       "      <td>Hopper</td>\n",
       "      <td>USA</td>\n",
       "    </tr>\n",
       "    <tr>\n",
       "      <th>3</th>\n",
       "      <td>V. Neuman</td>\n",
       "      <td>Hungary</td>\n",
       "    </tr>\n",
       "  </tbody>\n",
       "</table>\n",
       "</div>"
      ],
      "text/plain": [
       "     last_name birth_place\n",
       "0       Turing          UK\n",
       "1  Berners-Lee          UK\n",
       "2       Hopper         USA\n",
       "3    V. Neuman     Hungary"
      ]
     },
     "execution_count": 36,
     "metadata": {},
     "output_type": "execute_result"
    }
   ],
   "source": [
    "data.iloc[:, [1, 2]]"
   ]
  },
  {
   "cell_type": "code",
   "execution_count": 37,
   "metadata": {},
   "outputs": [
    {
     "data": {
      "text/html": [
       "<div>\n",
       "<style scoped>\n",
       "    .dataframe tbody tr th:only-of-type {\n",
       "        vertical-align: middle;\n",
       "    }\n",
       "\n",
       "    .dataframe tbody tr th {\n",
       "        vertical-align: top;\n",
       "    }\n",
       "\n",
       "    .dataframe thead th {\n",
       "        text-align: right;\n",
       "    }\n",
       "</style>\n",
       "<table border=\"1\" class=\"dataframe\">\n",
       "  <thead>\n",
       "    <tr style=\"text-align: right;\">\n",
       "      <th></th>\n",
       "      <th>birth_place</th>\n",
       "      <th>last_name</th>\n",
       "    </tr>\n",
       "  </thead>\n",
       "  <tbody>\n",
       "    <tr>\n",
       "      <th>2</th>\n",
       "      <td>USA</td>\n",
       "      <td>Hopper</td>\n",
       "    </tr>\n",
       "    <tr>\n",
       "      <th>0</th>\n",
       "      <td>UK</td>\n",
       "      <td>Turing</td>\n",
       "    </tr>\n",
       "  </tbody>\n",
       "</table>\n",
       "</div>"
      ],
      "text/plain": [
       "  birth_place last_name\n",
       "2         USA    Hopper\n",
       "0          UK    Turing"
      ]
     },
     "execution_count": 37,
     "metadata": {},
     "output_type": "execute_result"
    }
   ],
   "source": [
    "# Accessing particular rows and columns\n",
    "data.iloc[[2, 0], [2, 1]]"
   ]
  },
  {
   "cell_type": "markdown",
   "metadata": {},
   "source": [
    "## Using `loc` to access columns through names rather than numeric location"
   ]
  },
  {
   "cell_type": "code",
   "execution_count": 47,
   "metadata": {},
   "outputs": [
    {
     "data": {
      "text/html": [
       "<div>\n",
       "<style scoped>\n",
       "    .dataframe tbody tr th:only-of-type {\n",
       "        vertical-align: middle;\n",
       "    }\n",
       "\n",
       "    .dataframe tbody tr th {\n",
       "        vertical-align: top;\n",
       "    }\n",
       "\n",
       "    .dataframe thead th {\n",
       "        text-align: right;\n",
       "    }\n",
       "</style>\n",
       "<table border=\"1\" class=\"dataframe\">\n",
       "  <thead>\n",
       "    <tr style=\"text-align: right;\">\n",
       "      <th></th>\n",
       "      <th>last_name</th>\n",
       "      <th>first_name</th>\n",
       "    </tr>\n",
       "  </thead>\n",
       "  <tbody>\n",
       "    <tr>\n",
       "      <th>2</th>\n",
       "      <td>Hopper</td>\n",
       "      <td>Grace</td>\n",
       "    </tr>\n",
       "    <tr>\n",
       "      <th>1</th>\n",
       "      <td>Berners-Lee</td>\n",
       "      <td>Tim</td>\n",
       "    </tr>\n",
       "  </tbody>\n",
       "</table>\n",
       "</div>"
      ],
      "text/plain": [
       "     last_name first_name\n",
       "2       Hopper      Grace\n",
       "1  Berners-Lee        Tim"
      ]
     },
     "execution_count": 47,
     "metadata": {},
     "output_type": "execute_result"
    }
   ],
   "source": [
    "# We can also access columns through their unique names (identifiers)\n",
    "data.loc[[2, 1], ['last_name', 'first_name']]"
   ]
  },
  {
   "cell_type": "markdown",
   "metadata": {},
   "source": [
    "## Creating Custom Indices in DataFrames"
   ]
  },
  {
   "cell_type": "code",
   "execution_count": 48,
   "metadata": {},
   "outputs": [],
   "source": [
    "people = {\n",
    "    'first_name': ['Alan', 'Tim', 'Grace', 'John'],\n",
    "    'last_name': ['Turing', 'Berners-Lee', 'Hopper', 'V. Neuman'],\n",
    "    'birth_place': ['UK', 'UK', 'USA', 'Hungary'],\n",
    "    'email': ['alan_turing@outlook.com', 'time.lee@cern.ch', 'grace.hopper@gmail.com', 'john_n@gmail.com']\n",
    "}"
   ]
  },
  {
   "cell_type": "code",
   "execution_count": 49,
   "metadata": {},
   "outputs": [
    {
     "data": {
      "text/html": [
       "<div>\n",
       "<style scoped>\n",
       "    .dataframe tbody tr th:only-of-type {\n",
       "        vertical-align: middle;\n",
       "    }\n",
       "\n",
       "    .dataframe tbody tr th {\n",
       "        vertical-align: top;\n",
       "    }\n",
       "\n",
       "    .dataframe thead th {\n",
       "        text-align: right;\n",
       "    }\n",
       "</style>\n",
       "<table border=\"1\" class=\"dataframe\">\n",
       "  <thead>\n",
       "    <tr style=\"text-align: right;\">\n",
       "      <th></th>\n",
       "      <th>first_name</th>\n",
       "      <th>last_name</th>\n",
       "      <th>birth_place</th>\n",
       "      <th>email</th>\n",
       "    </tr>\n",
       "  </thead>\n",
       "  <tbody>\n",
       "    <tr>\n",
       "      <th>0</th>\n",
       "      <td>Alan</td>\n",
       "      <td>Turing</td>\n",
       "      <td>UK</td>\n",
       "      <td>alan_turing@outlook.com</td>\n",
       "    </tr>\n",
       "    <tr>\n",
       "      <th>1</th>\n",
       "      <td>Tim</td>\n",
       "      <td>Berners-Lee</td>\n",
       "      <td>UK</td>\n",
       "      <td>time.lee@cern.ch</td>\n",
       "    </tr>\n",
       "    <tr>\n",
       "      <th>2</th>\n",
       "      <td>Grace</td>\n",
       "      <td>Hopper</td>\n",
       "      <td>USA</td>\n",
       "      <td>grace.hopper@gmail.com</td>\n",
       "    </tr>\n",
       "    <tr>\n",
       "      <th>3</th>\n",
       "      <td>John</td>\n",
       "      <td>V. Neuman</td>\n",
       "      <td>Hungary</td>\n",
       "      <td>john_n@gmail.com</td>\n",
       "    </tr>\n",
       "  </tbody>\n",
       "</table>\n",
       "</div>"
      ],
      "text/plain": [
       "  first_name    last_name birth_place                    email\n",
       "0       Alan       Turing          UK  alan_turing@outlook.com\n",
       "1        Tim  Berners-Lee          UK         time.lee@cern.ch\n",
       "2      Grace       Hopper         USA   grace.hopper@gmail.com\n",
       "3       John    V. Neuman     Hungary         john_n@gmail.com"
      ]
     },
     "execution_count": 49,
     "metadata": {},
     "output_type": "execute_result"
    }
   ],
   "source": [
    "data = pd.DataFrame(people)\n",
    "data"
   ]
  },
  {
   "cell_type": "code",
   "execution_count": 50,
   "metadata": {},
   "outputs": [
    {
     "data": {
      "text/plain": [
       "0    alan_turing@outlook.com\n",
       "1           time.lee@cern.ch\n",
       "2     grace.hopper@gmail.com\n",
       "3           john_n@gmail.com\n",
       "Name: email, dtype: object"
      ]
     },
     "execution_count": 50,
     "metadata": {},
     "output_type": "execute_result"
    }
   ],
   "source": [
    "# accessing the email column \n",
    "data['email']"
   ]
  },
  {
   "cell_type": "code",
   "execution_count": 51,
   "metadata": {},
   "outputs": [
    {
     "data": {
      "text/plain": [
       "first_name                        Alan\n",
       "last_name                       Turing\n",
       "birth_place                         UK\n",
       "email          alan_turing@outlook.com\n",
       "Name: 0, dtype: object"
      ]
     },
     "execution_count": 51,
     "metadata": {},
     "output_type": "execute_result"
    }
   ],
   "source": [
    "# accessing rows using the row index number\n",
    "data.iloc[0, ]"
   ]
  },
  {
   "cell_type": "code",
   "execution_count": 54,
   "metadata": {},
   "outputs": [],
   "source": [
    "# setting the key as email\n",
    "data.set_index('email', inplace=True)"
   ]
  },
  {
   "cell_type": "code",
   "execution_count": 55,
   "metadata": {},
   "outputs": [
    {
     "data": {
      "text/html": [
       "<div>\n",
       "<style scoped>\n",
       "    .dataframe tbody tr th:only-of-type {\n",
       "        vertical-align: middle;\n",
       "    }\n",
       "\n",
       "    .dataframe tbody tr th {\n",
       "        vertical-align: top;\n",
       "    }\n",
       "\n",
       "    .dataframe thead th {\n",
       "        text-align: right;\n",
       "    }\n",
       "</style>\n",
       "<table border=\"1\" class=\"dataframe\">\n",
       "  <thead>\n",
       "    <tr style=\"text-align: right;\">\n",
       "      <th></th>\n",
       "      <th>first_name</th>\n",
       "      <th>last_name</th>\n",
       "      <th>birth_place</th>\n",
       "    </tr>\n",
       "    <tr>\n",
       "      <th>email</th>\n",
       "      <th></th>\n",
       "      <th></th>\n",
       "      <th></th>\n",
       "    </tr>\n",
       "  </thead>\n",
       "  <tbody>\n",
       "    <tr>\n",
       "      <th>alan_turing@outlook.com</th>\n",
       "      <td>Alan</td>\n",
       "      <td>Turing</td>\n",
       "      <td>UK</td>\n",
       "    </tr>\n",
       "    <tr>\n",
       "      <th>time.lee@cern.ch</th>\n",
       "      <td>Tim</td>\n",
       "      <td>Berners-Lee</td>\n",
       "      <td>UK</td>\n",
       "    </tr>\n",
       "    <tr>\n",
       "      <th>grace.hopper@gmail.com</th>\n",
       "      <td>Grace</td>\n",
       "      <td>Hopper</td>\n",
       "      <td>USA</td>\n",
       "    </tr>\n",
       "    <tr>\n",
       "      <th>john_n@gmail.com</th>\n",
       "      <td>John</td>\n",
       "      <td>V. Neuman</td>\n",
       "      <td>Hungary</td>\n",
       "    </tr>\n",
       "  </tbody>\n",
       "</table>\n",
       "</div>"
      ],
      "text/plain": [
       "                        first_name    last_name birth_place\n",
       "email                                                      \n",
       "alan_turing@outlook.com       Alan       Turing          UK\n",
       "time.lee@cern.ch               Tim  Berners-Lee          UK\n",
       "grace.hopper@gmail.com       Grace       Hopper         USA\n",
       "john_n@gmail.com              John    V. Neuman     Hungary"
      ]
     },
     "execution_count": 55,
     "metadata": {},
     "output_type": "execute_result"
    }
   ],
   "source": [
    "data"
   ]
  },
  {
   "cell_type": "code",
   "execution_count": 56,
   "metadata": {},
   "outputs": [
    {
     "data": {
      "text/plain": [
       "Index(['alan_turing@outlook.com', 'time.lee@cern.ch', 'grace.hopper@gmail.com',\n",
       "       'john_n@gmail.com'],\n",
       "      dtype='object', name='email')"
      ]
     },
     "execution_count": 56,
     "metadata": {},
     "output_type": "execute_result"
    }
   ],
   "source": [
    "# accessing the index\n",
    "data.index"
   ]
  },
  {
   "cell_type": "code",
   "execution_count": 57,
   "metadata": {},
   "outputs": [
    {
     "data": {
      "text/plain": [
       "first_name       Alan\n",
       "last_name      Turing\n",
       "birth_place        UK\n",
       "Name: alan_turing@outlook.com, dtype: object"
      ]
     },
     "execution_count": 57,
     "metadata": {},
     "output_type": "execute_result"
    }
   ],
   "source": [
    "data.loc['alan_turing@outlook.com']"
   ]
  },
  {
   "cell_type": "code",
   "execution_count": 58,
   "metadata": {},
   "outputs": [
    {
     "data": {
      "text/plain": [
       "first_name       Alan\n",
       "last_name      Turing\n",
       "birth_place        UK\n",
       "Name: alan_turing@outlook.com, dtype: object"
      ]
     },
     "execution_count": 58,
     "metadata": {},
     "output_type": "execute_result"
    }
   ],
   "source": [
    "data.iloc[0,]"
   ]
  },
  {
   "cell_type": "code",
   "execution_count": 67,
   "metadata": {},
   "outputs": [
    {
     "data": {
      "text/plain": [
       "'Alan'"
      ]
     },
     "execution_count": 67,
     "metadata": {},
     "output_type": "execute_result"
    }
   ],
   "source": [
    "# accessing particular cell using loc \n",
    "data.loc['alan_turing@outlook.com', 'first_name']"
   ]
  },
  {
   "cell_type": "code",
   "execution_count": 69,
   "metadata": {},
   "outputs": [],
   "source": [
    "# If we wish to revert back to the original indexes (0 integer based)\n",
    "data.reset_index(inplace=True)"
   ]
  },
  {
   "cell_type": "code",
   "execution_count": 76,
   "metadata": {},
   "outputs": [
    {
     "data": {
      "text/plain": [
       "RangeIndex(start=10, stop=18, step=2)"
      ]
     },
     "execution_count": 76,
     "metadata": {},
     "output_type": "execute_result"
    }
   ],
   "source": [
    "data.index = pd.RangeIndex(start=10, stop=18, step=2)\n",
    "data.index"
   ]
  },
  {
   "cell_type": "code",
   "execution_count": 77,
   "metadata": {},
   "outputs": [
    {
     "data": {
      "text/html": [
       "<div>\n",
       "<style scoped>\n",
       "    .dataframe tbody tr th:only-of-type {\n",
       "        vertical-align: middle;\n",
       "    }\n",
       "\n",
       "    .dataframe tbody tr th {\n",
       "        vertical-align: top;\n",
       "    }\n",
       "\n",
       "    .dataframe thead th {\n",
       "        text-align: right;\n",
       "    }\n",
       "</style>\n",
       "<table border=\"1\" class=\"dataframe\">\n",
       "  <thead>\n",
       "    <tr style=\"text-align: right;\">\n",
       "      <th></th>\n",
       "      <th>email</th>\n",
       "      <th>first_name</th>\n",
       "      <th>last_name</th>\n",
       "      <th>birth_place</th>\n",
       "    </tr>\n",
       "  </thead>\n",
       "  <tbody>\n",
       "    <tr>\n",
       "      <th>10</th>\n",
       "      <td>alan_turing@outlook.com</td>\n",
       "      <td>Alan</td>\n",
       "      <td>Turing</td>\n",
       "      <td>UK</td>\n",
       "    </tr>\n",
       "    <tr>\n",
       "      <th>12</th>\n",
       "      <td>time.lee@cern.ch</td>\n",
       "      <td>Tim</td>\n",
       "      <td>Berners-Lee</td>\n",
       "      <td>UK</td>\n",
       "    </tr>\n",
       "    <tr>\n",
       "      <th>14</th>\n",
       "      <td>grace.hopper@gmail.com</td>\n",
       "      <td>Grace</td>\n",
       "      <td>Hopper</td>\n",
       "      <td>USA</td>\n",
       "    </tr>\n",
       "    <tr>\n",
       "      <th>16</th>\n",
       "      <td>john_n@gmail.com</td>\n",
       "      <td>John</td>\n",
       "      <td>V. Neuman</td>\n",
       "      <td>Hungary</td>\n",
       "    </tr>\n",
       "  </tbody>\n",
       "</table>\n",
       "</div>"
      ],
      "text/plain": [
       "                      email first_name    last_name birth_place\n",
       "10  alan_turing@outlook.com       Alan       Turing          UK\n",
       "12         time.lee@cern.ch        Tim  Berners-Lee          UK\n",
       "14   grace.hopper@gmail.com      Grace       Hopper         USA\n",
       "16         john_n@gmail.com       John    V. Neuman     Hungary"
      ]
     },
     "execution_count": 77,
     "metadata": {},
     "output_type": "execute_result"
    }
   ],
   "source": [
    "data"
   ]
  },
  {
   "cell_type": "code",
   "execution_count": 78,
   "metadata": {},
   "outputs": [
    {
     "data": {
      "text/plain": [
       "email          alan_turing@outlook.com\n",
       "first_name                        Alan\n",
       "last_name                       Turing\n",
       "birth_place                         UK\n",
       "Name: 10, dtype: object"
      ]
     },
     "execution_count": 78,
     "metadata": {},
     "output_type": "execute_result"
    }
   ],
   "source": [
    "data.iloc[0, :]"
   ]
  },
  {
   "cell_type": "code",
   "execution_count": 79,
   "metadata": {},
   "outputs": [
    {
     "data": {
      "text/plain": [
       "email          alan_turing@outlook.com\n",
       "first_name                        Alan\n",
       "last_name                       Turing\n",
       "birth_place                         UK\n",
       "Name: 10, dtype: object"
      ]
     },
     "execution_count": 79,
     "metadata": {},
     "output_type": "execute_result"
    }
   ],
   "source": [
    "data.loc[10, :]"
   ]
  },
  {
   "cell_type": "code",
   "execution_count": 81,
   "metadata": {},
   "outputs": [
    {
     "data": {
      "text/plain": [
       "10    False\n",
       "12    False\n",
       "14     True\n",
       "16    False\n",
       "Name: last_name, dtype: bool"
      ]
     },
     "execution_count": 81,
     "metadata": {},
     "output_type": "execute_result"
    }
   ],
   "source": [
    "data['last_name'] == 'Hopper'"
   ]
  },
  {
   "cell_type": "code",
   "execution_count": 82,
   "metadata": {},
   "outputs": [
    {
     "data": {
      "text/plain": [
       "10    False\n",
       "12    False\n",
       "14     True\n",
       "16    False\n",
       "Name: first_name, dtype: bool"
      ]
     },
     "execution_count": 82,
     "metadata": {},
     "output_type": "execute_result"
    }
   ],
   "source": [
    "data['first_name'] == 'Grace'"
   ]
  },
  {
   "cell_type": "code",
   "execution_count": 83,
   "metadata": {},
   "outputs": [
    {
     "data": {
      "text/plain": [
       "10     True\n",
       "12    False\n",
       "14    False\n",
       "16    False\n",
       "dtype: bool"
      ]
     },
     "execution_count": 83,
     "metadata": {},
     "output_type": "execute_result"
    }
   ],
   "source": [
    "# filtering DataFrame\n",
    "mask = (data['last_name'] == 'Turing') & (data['first_name'] == 'Alan')\n",
    "mask"
   ]
  },
  {
   "cell_type": "code",
   "execution_count": 85,
   "metadata": {},
   "outputs": [
    {
     "data": {
      "text/html": [
       "<div>\n",
       "<style scoped>\n",
       "    .dataframe tbody tr th:only-of-type {\n",
       "        vertical-align: middle;\n",
       "    }\n",
       "\n",
       "    .dataframe tbody tr th {\n",
       "        vertical-align: top;\n",
       "    }\n",
       "\n",
       "    .dataframe thead th {\n",
       "        text-align: right;\n",
       "    }\n",
       "</style>\n",
       "<table border=\"1\" class=\"dataframe\">\n",
       "  <thead>\n",
       "    <tr style=\"text-align: right;\">\n",
       "      <th></th>\n",
       "      <th>email</th>\n",
       "      <th>first_name</th>\n",
       "      <th>last_name</th>\n",
       "      <th>birth_place</th>\n",
       "    </tr>\n",
       "  </thead>\n",
       "  <tbody>\n",
       "    <tr>\n",
       "      <th>10</th>\n",
       "      <td>alan_turing@outlook.com</td>\n",
       "      <td>Alan</td>\n",
       "      <td>Turing</td>\n",
       "      <td>UK</td>\n",
       "    </tr>\n",
       "  </tbody>\n",
       "</table>\n",
       "</div>"
      ],
      "text/plain": [
       "                      email first_name last_name birth_place\n",
       "10  alan_turing@outlook.com       Alan    Turing          UK"
      ]
     },
     "execution_count": 85,
     "metadata": {},
     "output_type": "execute_result"
    }
   ],
   "source": [
    "data[mask]"
   ]
  },
  {
   "cell_type": "code",
   "execution_count": 86,
   "metadata": {},
   "outputs": [
    {
     "data": {
      "text/html": [
       "<div>\n",
       "<style scoped>\n",
       "    .dataframe tbody tr th:only-of-type {\n",
       "        vertical-align: middle;\n",
       "    }\n",
       "\n",
       "    .dataframe tbody tr th {\n",
       "        vertical-align: top;\n",
       "    }\n",
       "\n",
       "    .dataframe thead th {\n",
       "        text-align: right;\n",
       "    }\n",
       "</style>\n",
       "<table border=\"1\" class=\"dataframe\">\n",
       "  <thead>\n",
       "    <tr style=\"text-align: right;\">\n",
       "      <th></th>\n",
       "      <th>last_name</th>\n",
       "      <th>first_name</th>\n",
       "    </tr>\n",
       "  </thead>\n",
       "  <tbody>\n",
       "    <tr>\n",
       "      <th>10</th>\n",
       "      <td>Turing</td>\n",
       "      <td>Alan</td>\n",
       "    </tr>\n",
       "  </tbody>\n",
       "</table>\n",
       "</div>"
      ],
      "text/plain": [
       "   last_name first_name\n",
       "10    Turing       Alan"
      ]
     },
     "execution_count": 86,
     "metadata": {},
     "output_type": "execute_result"
    }
   ],
   "source": [
    "#using .loc also gives the same result\n",
    "data.loc[mask, ['last_name', 'first_name']]"
   ]
  },
  {
   "cell_type": "code",
   "execution_count": 87,
   "metadata": {},
   "outputs": [
    {
     "data": {
      "text/plain": [
       "10    False\n",
       "12    False\n",
       "14     True\n",
       "16     True\n",
       "dtype: bool"
      ]
     },
     "execution_count": 87,
     "metadata": {},
     "output_type": "execute_result"
    }
   ],
   "source": [
    "# or operator\n",
    "mask = (data['first_name'] == 'John') | (data['last_name'] == 'Hopper')\n",
    "mask"
   ]
  },
  {
   "cell_type": "code",
   "execution_count": 88,
   "metadata": {},
   "outputs": [
    {
     "data": {
      "text/html": [
       "<div>\n",
       "<style scoped>\n",
       "    .dataframe tbody tr th:only-of-type {\n",
       "        vertical-align: middle;\n",
       "    }\n",
       "\n",
       "    .dataframe tbody tr th {\n",
       "        vertical-align: top;\n",
       "    }\n",
       "\n",
       "    .dataframe thead th {\n",
       "        text-align: right;\n",
       "    }\n",
       "</style>\n",
       "<table border=\"1\" class=\"dataframe\">\n",
       "  <thead>\n",
       "    <tr style=\"text-align: right;\">\n",
       "      <th></th>\n",
       "      <th>email</th>\n",
       "      <th>first_name</th>\n",
       "      <th>last_name</th>\n",
       "      <th>birth_place</th>\n",
       "    </tr>\n",
       "  </thead>\n",
       "  <tbody>\n",
       "    <tr>\n",
       "      <th>14</th>\n",
       "      <td>grace.hopper@gmail.com</td>\n",
       "      <td>Grace</td>\n",
       "      <td>Hopper</td>\n",
       "      <td>USA</td>\n",
       "    </tr>\n",
       "    <tr>\n",
       "      <th>16</th>\n",
       "      <td>john_n@gmail.com</td>\n",
       "      <td>John</td>\n",
       "      <td>V. Neuman</td>\n",
       "      <td>Hungary</td>\n",
       "    </tr>\n",
       "  </tbody>\n",
       "</table>\n",
       "</div>"
      ],
      "text/plain": [
       "                     email first_name  last_name birth_place\n",
       "14  grace.hopper@gmail.com      Grace     Hopper         USA\n",
       "16        john_n@gmail.com       John  V. Neuman     Hungary"
      ]
     },
     "execution_count": 88,
     "metadata": {},
     "output_type": "execute_result"
    }
   ],
   "source": [
    "data.loc[mask]"
   ]
  },
  {
   "cell_type": "code",
   "execution_count": 92,
   "metadata": {},
   "outputs": [
    {
     "data": {
      "text/plain": [
       "10     True\n",
       "12     True\n",
       "14    False\n",
       "16    False\n",
       "dtype: bool"
      ]
     },
     "execution_count": 92,
     "metadata": {},
     "output_type": "execute_result"
    }
   ],
   "source": [
    "# negative of a mask \n",
    "mask = ~mask\n",
    "mask"
   ]
  },
  {
   "cell_type": "code",
   "execution_count": 93,
   "metadata": {},
   "outputs": [
    {
     "data": {
      "text/html": [
       "<div>\n",
       "<style scoped>\n",
       "    .dataframe tbody tr th:only-of-type {\n",
       "        vertical-align: middle;\n",
       "    }\n",
       "\n",
       "    .dataframe tbody tr th {\n",
       "        vertical-align: top;\n",
       "    }\n",
       "\n",
       "    .dataframe thead th {\n",
       "        text-align: right;\n",
       "    }\n",
       "</style>\n",
       "<table border=\"1\" class=\"dataframe\">\n",
       "  <thead>\n",
       "    <tr style=\"text-align: right;\">\n",
       "      <th></th>\n",
       "      <th>email</th>\n",
       "      <th>first_name</th>\n",
       "      <th>last_name</th>\n",
       "      <th>birth_place</th>\n",
       "    </tr>\n",
       "  </thead>\n",
       "  <tbody>\n",
       "    <tr>\n",
       "      <th>10</th>\n",
       "      <td>alan_turing@outlook.com</td>\n",
       "      <td>Alan</td>\n",
       "      <td>Turing</td>\n",
       "      <td>UK</td>\n",
       "    </tr>\n",
       "    <tr>\n",
       "      <th>12</th>\n",
       "      <td>time.lee@cern.ch</td>\n",
       "      <td>Tim</td>\n",
       "      <td>Berners-Lee</td>\n",
       "      <td>UK</td>\n",
       "    </tr>\n",
       "  </tbody>\n",
       "</table>\n",
       "</div>"
      ],
      "text/plain": [
       "                      email first_name    last_name birth_place\n",
       "10  alan_turing@outlook.com       Alan       Turing          UK\n",
       "12         time.lee@cern.ch        Tim  Berners-Lee          UK"
      ]
     },
     "execution_count": 93,
     "metadata": {},
     "output_type": "execute_result"
    }
   ],
   "source": [
    "data.loc[mask]"
   ]
  },
  {
   "cell_type": "markdown",
   "metadata": {},
   "source": [
    "## Updating Data"
   ]
  },
  {
   "cell_type": "code",
   "execution_count": 94,
   "metadata": {},
   "outputs": [
    {
     "data": {
      "text/html": [
       "<div>\n",
       "<style scoped>\n",
       "    .dataframe tbody tr th:only-of-type {\n",
       "        vertical-align: middle;\n",
       "    }\n",
       "\n",
       "    .dataframe tbody tr th {\n",
       "        vertical-align: top;\n",
       "    }\n",
       "\n",
       "    .dataframe thead th {\n",
       "        text-align: right;\n",
       "    }\n",
       "</style>\n",
       "<table border=\"1\" class=\"dataframe\">\n",
       "  <thead>\n",
       "    <tr style=\"text-align: right;\">\n",
       "      <th></th>\n",
       "      <th>email</th>\n",
       "      <th>first_name</th>\n",
       "      <th>last_name</th>\n",
       "      <th>birth_place</th>\n",
       "    </tr>\n",
       "  </thead>\n",
       "  <tbody>\n",
       "    <tr>\n",
       "      <th>10</th>\n",
       "      <td>alan_turing@outlook.com</td>\n",
       "      <td>Alan</td>\n",
       "      <td>Turing</td>\n",
       "      <td>UK</td>\n",
       "    </tr>\n",
       "    <tr>\n",
       "      <th>12</th>\n",
       "      <td>time.lee@cern.ch</td>\n",
       "      <td>Tim</td>\n",
       "      <td>Berners-Lee</td>\n",
       "      <td>UK</td>\n",
       "    </tr>\n",
       "    <tr>\n",
       "      <th>14</th>\n",
       "      <td>grace.hopper@gmail.com</td>\n",
       "      <td>Grace</td>\n",
       "      <td>Hopper</td>\n",
       "      <td>USA</td>\n",
       "    </tr>\n",
       "    <tr>\n",
       "      <th>16</th>\n",
       "      <td>john_n@gmail.com</td>\n",
       "      <td>John</td>\n",
       "      <td>V. Neuman</td>\n",
       "      <td>Hungary</td>\n",
       "    </tr>\n",
       "  </tbody>\n",
       "</table>\n",
       "</div>"
      ],
      "text/plain": [
       "                      email first_name    last_name birth_place\n",
       "10  alan_turing@outlook.com       Alan       Turing          UK\n",
       "12         time.lee@cern.ch        Tim  Berners-Lee          UK\n",
       "14   grace.hopper@gmail.com      Grace       Hopper         USA\n",
       "16         john_n@gmail.com       John    V. Neuman     Hungary"
      ]
     },
     "execution_count": 94,
     "metadata": {},
     "output_type": "execute_result"
    }
   ],
   "source": [
    "data"
   ]
  },
  {
   "cell_type": "code",
   "execution_count": 95,
   "metadata": {},
   "outputs": [
    {
     "data": {
      "text/plain": [
       "Index(['email', 'first_name', 'last_name', 'birth_place'], dtype='object')"
      ]
     },
     "execution_count": 95,
     "metadata": {},
     "output_type": "execute_result"
    }
   ],
   "source": [
    "data.columns"
   ]
  },
  {
   "cell_type": "code",
   "execution_count": 96,
   "metadata": {},
   "outputs": [],
   "source": [
    "data.columns = ['email_id', 'first', 'last', 'bp']"
   ]
  },
  {
   "cell_type": "code",
   "execution_count": 97,
   "metadata": {},
   "outputs": [
    {
     "data": {
      "text/html": [
       "<div>\n",
       "<style scoped>\n",
       "    .dataframe tbody tr th:only-of-type {\n",
       "        vertical-align: middle;\n",
       "    }\n",
       "\n",
       "    .dataframe tbody tr th {\n",
       "        vertical-align: top;\n",
       "    }\n",
       "\n",
       "    .dataframe thead th {\n",
       "        text-align: right;\n",
       "    }\n",
       "</style>\n",
       "<table border=\"1\" class=\"dataframe\">\n",
       "  <thead>\n",
       "    <tr style=\"text-align: right;\">\n",
       "      <th></th>\n",
       "      <th>email_id</th>\n",
       "      <th>first</th>\n",
       "      <th>last</th>\n",
       "      <th>bp</th>\n",
       "    </tr>\n",
       "  </thead>\n",
       "  <tbody>\n",
       "    <tr>\n",
       "      <th>10</th>\n",
       "      <td>alan_turing@outlook.com</td>\n",
       "      <td>Alan</td>\n",
       "      <td>Turing</td>\n",
       "      <td>UK</td>\n",
       "    </tr>\n",
       "    <tr>\n",
       "      <th>12</th>\n",
       "      <td>time.lee@cern.ch</td>\n",
       "      <td>Tim</td>\n",
       "      <td>Berners-Lee</td>\n",
       "      <td>UK</td>\n",
       "    </tr>\n",
       "    <tr>\n",
       "      <th>14</th>\n",
       "      <td>grace.hopper@gmail.com</td>\n",
       "      <td>Grace</td>\n",
       "      <td>Hopper</td>\n",
       "      <td>USA</td>\n",
       "    </tr>\n",
       "    <tr>\n",
       "      <th>16</th>\n",
       "      <td>john_n@gmail.com</td>\n",
       "      <td>John</td>\n",
       "      <td>V. Neuman</td>\n",
       "      <td>Hungary</td>\n",
       "    </tr>\n",
       "  </tbody>\n",
       "</table>\n",
       "</div>"
      ],
      "text/plain": [
       "                   email_id  first         last       bp\n",
       "10  alan_turing@outlook.com   Alan       Turing       UK\n",
       "12         time.lee@cern.ch    Tim  Berners-Lee       UK\n",
       "14   grace.hopper@gmail.com  Grace       Hopper      USA\n",
       "16         john_n@gmail.com   John    V. Neuman  Hungary"
      ]
     },
     "execution_count": 97,
     "metadata": {},
     "output_type": "execute_result"
    }
   ],
   "source": [
    "data"
   ]
  },
  {
   "cell_type": "code",
   "execution_count": 98,
   "metadata": {},
   "outputs": [],
   "source": [
    "data.columns = ['email_id', 'first_name', 'last_name', 'birth_place']"
   ]
  },
  {
   "cell_type": "code",
   "execution_count": 99,
   "metadata": {},
   "outputs": [
    {
     "data": {
      "text/html": [
       "<div>\n",
       "<style scoped>\n",
       "    .dataframe tbody tr th:only-of-type {\n",
       "        vertical-align: middle;\n",
       "    }\n",
       "\n",
       "    .dataframe tbody tr th {\n",
       "        vertical-align: top;\n",
       "    }\n",
       "\n",
       "    .dataframe thead th {\n",
       "        text-align: right;\n",
       "    }\n",
       "</style>\n",
       "<table border=\"1\" class=\"dataframe\">\n",
       "  <thead>\n",
       "    <tr style=\"text-align: right;\">\n",
       "      <th></th>\n",
       "      <th>email_id</th>\n",
       "      <th>first_name</th>\n",
       "      <th>last_name</th>\n",
       "      <th>birth_place</th>\n",
       "    </tr>\n",
       "  </thead>\n",
       "  <tbody>\n",
       "    <tr>\n",
       "      <th>10</th>\n",
       "      <td>alan_turing@outlook.com</td>\n",
       "      <td>Alan</td>\n",
       "      <td>Turing</td>\n",
       "      <td>UK</td>\n",
       "    </tr>\n",
       "    <tr>\n",
       "      <th>12</th>\n",
       "      <td>time.lee@cern.ch</td>\n",
       "      <td>Tim</td>\n",
       "      <td>Berners-Lee</td>\n",
       "      <td>UK</td>\n",
       "    </tr>\n",
       "    <tr>\n",
       "      <th>14</th>\n",
       "      <td>grace.hopper@gmail.com</td>\n",
       "      <td>Grace</td>\n",
       "      <td>Hopper</td>\n",
       "      <td>USA</td>\n",
       "    </tr>\n",
       "    <tr>\n",
       "      <th>16</th>\n",
       "      <td>john_n@gmail.com</td>\n",
       "      <td>John</td>\n",
       "      <td>V. Neuman</td>\n",
       "      <td>Hungary</td>\n",
       "    </tr>\n",
       "  </tbody>\n",
       "</table>\n",
       "</div>"
      ],
      "text/plain": [
       "                   email_id first_name    last_name birth_place\n",
       "10  alan_turing@outlook.com       Alan       Turing          UK\n",
       "12         time.lee@cern.ch        Tim  Berners-Lee          UK\n",
       "14   grace.hopper@gmail.com      Grace       Hopper         USA\n",
       "16         john_n@gmail.com       John    V. Neuman     Hungary"
      ]
     },
     "execution_count": 99,
     "metadata": {},
     "output_type": "execute_result"
    }
   ],
   "source": [
    "data"
   ]
  },
  {
   "cell_type": "code",
   "execution_count": 100,
   "metadata": {},
   "outputs": [],
   "source": [
    "# making all columns Upper Case\n",
    "data.columns = [column.upper() for column in data.columns]"
   ]
  },
  {
   "cell_type": "code",
   "execution_count": 101,
   "metadata": {},
   "outputs": [
    {
     "data": {
      "text/html": [
       "<div>\n",
       "<style scoped>\n",
       "    .dataframe tbody tr th:only-of-type {\n",
       "        vertical-align: middle;\n",
       "    }\n",
       "\n",
       "    .dataframe tbody tr th {\n",
       "        vertical-align: top;\n",
       "    }\n",
       "\n",
       "    .dataframe thead th {\n",
       "        text-align: right;\n",
       "    }\n",
       "</style>\n",
       "<table border=\"1\" class=\"dataframe\">\n",
       "  <thead>\n",
       "    <tr style=\"text-align: right;\">\n",
       "      <th></th>\n",
       "      <th>EMAIL_ID</th>\n",
       "      <th>FIRST_NAME</th>\n",
       "      <th>LAST_NAME</th>\n",
       "      <th>BIRTH_PLACE</th>\n",
       "    </tr>\n",
       "  </thead>\n",
       "  <tbody>\n",
       "    <tr>\n",
       "      <th>10</th>\n",
       "      <td>alan_turing@outlook.com</td>\n",
       "      <td>Alan</td>\n",
       "      <td>Turing</td>\n",
       "      <td>UK</td>\n",
       "    </tr>\n",
       "    <tr>\n",
       "      <th>12</th>\n",
       "      <td>time.lee@cern.ch</td>\n",
       "      <td>Tim</td>\n",
       "      <td>Berners-Lee</td>\n",
       "      <td>UK</td>\n",
       "    </tr>\n",
       "    <tr>\n",
       "      <th>14</th>\n",
       "      <td>grace.hopper@gmail.com</td>\n",
       "      <td>Grace</td>\n",
       "      <td>Hopper</td>\n",
       "      <td>USA</td>\n",
       "    </tr>\n",
       "    <tr>\n",
       "      <th>16</th>\n",
       "      <td>john_n@gmail.com</td>\n",
       "      <td>John</td>\n",
       "      <td>V. Neuman</td>\n",
       "      <td>Hungary</td>\n",
       "    </tr>\n",
       "  </tbody>\n",
       "</table>\n",
       "</div>"
      ],
      "text/plain": [
       "                   EMAIL_ID FIRST_NAME    LAST_NAME BIRTH_PLACE\n",
       "10  alan_turing@outlook.com       Alan       Turing          UK\n",
       "12         time.lee@cern.ch        Tim  Berners-Lee          UK\n",
       "14   grace.hopper@gmail.com      Grace       Hopper         USA\n",
       "16         john_n@gmail.com       John    V. Neuman     Hungary"
      ]
     },
     "execution_count": 101,
     "metadata": {},
     "output_type": "execute_result"
    }
   ],
   "source": [
    "data"
   ]
  },
  {
   "cell_type": "code",
   "execution_count": 102,
   "metadata": {},
   "outputs": [
    {
     "data": {
      "text/html": [
       "<div>\n",
       "<style scoped>\n",
       "    .dataframe tbody tr th:only-of-type {\n",
       "        vertical-align: middle;\n",
       "    }\n",
       "\n",
       "    .dataframe tbody tr th {\n",
       "        vertical-align: top;\n",
       "    }\n",
       "\n",
       "    .dataframe thead th {\n",
       "        text-align: right;\n",
       "    }\n",
       "</style>\n",
       "<table border=\"1\" class=\"dataframe\">\n",
       "  <thead>\n",
       "    <tr style=\"text-align: right;\">\n",
       "      <th></th>\n",
       "      <th>EMAIL ID</th>\n",
       "      <th>FIRST NAME</th>\n",
       "      <th>LAST NAME</th>\n",
       "      <th>BIRTH PLACE</th>\n",
       "    </tr>\n",
       "  </thead>\n",
       "  <tbody>\n",
       "    <tr>\n",
       "      <th>10</th>\n",
       "      <td>alan_turing@outlook.com</td>\n",
       "      <td>Alan</td>\n",
       "      <td>Turing</td>\n",
       "      <td>UK</td>\n",
       "    </tr>\n",
       "    <tr>\n",
       "      <th>12</th>\n",
       "      <td>time.lee@cern.ch</td>\n",
       "      <td>Tim</td>\n",
       "      <td>Berners-Lee</td>\n",
       "      <td>UK</td>\n",
       "    </tr>\n",
       "    <tr>\n",
       "      <th>14</th>\n",
       "      <td>grace.hopper@gmail.com</td>\n",
       "      <td>Grace</td>\n",
       "      <td>Hopper</td>\n",
       "      <td>USA</td>\n",
       "    </tr>\n",
       "    <tr>\n",
       "      <th>16</th>\n",
       "      <td>john_n@gmail.com</td>\n",
       "      <td>John</td>\n",
       "      <td>V. Neuman</td>\n",
       "      <td>Hungary</td>\n",
       "    </tr>\n",
       "  </tbody>\n",
       "</table>\n",
       "</div>"
      ],
      "text/plain": [
       "                   EMAIL ID FIRST NAME    LAST NAME BIRTH PLACE\n",
       "10  alan_turing@outlook.com       Alan       Turing          UK\n",
       "12         time.lee@cern.ch        Tim  Berners-Lee          UK\n",
       "14   grace.hopper@gmail.com      Grace       Hopper         USA\n",
       "16         john_n@gmail.com       John    V. Neuman     Hungary"
      ]
     },
     "execution_count": 102,
     "metadata": {},
     "output_type": "execute_result"
    }
   ],
   "source": [
    "# replacing underscores with spaces\n",
    "data.columns = data.columns.str.replace('_', ' ')\n",
    "data"
   ]
  },
  {
   "cell_type": "code",
   "execution_count": 103,
   "metadata": {},
   "outputs": [
    {
     "data": {
      "text/html": [
       "<div>\n",
       "<style scoped>\n",
       "    .dataframe tbody tr th:only-of-type {\n",
       "        vertical-align: middle;\n",
       "    }\n",
       "\n",
       "    .dataframe tbody tr th {\n",
       "        vertical-align: top;\n",
       "    }\n",
       "\n",
       "    .dataframe thead th {\n",
       "        text-align: right;\n",
       "    }\n",
       "</style>\n",
       "<table border=\"1\" class=\"dataframe\">\n",
       "  <thead>\n",
       "    <tr style=\"text-align: right;\">\n",
       "      <th></th>\n",
       "      <th>EMAIL_ID</th>\n",
       "      <th>FIRST_NAME</th>\n",
       "      <th>LAST_NAME</th>\n",
       "      <th>BIRTH_PLACE</th>\n",
       "    </tr>\n",
       "  </thead>\n",
       "  <tbody>\n",
       "    <tr>\n",
       "      <th>10</th>\n",
       "      <td>alan_turing@outlook.com</td>\n",
       "      <td>Alan</td>\n",
       "      <td>Turing</td>\n",
       "      <td>UK</td>\n",
       "    </tr>\n",
       "    <tr>\n",
       "      <th>12</th>\n",
       "      <td>time.lee@cern.ch</td>\n",
       "      <td>Tim</td>\n",
       "      <td>Berners-Lee</td>\n",
       "      <td>UK</td>\n",
       "    </tr>\n",
       "    <tr>\n",
       "      <th>14</th>\n",
       "      <td>grace.hopper@gmail.com</td>\n",
       "      <td>Grace</td>\n",
       "      <td>Hopper</td>\n",
       "      <td>USA</td>\n",
       "    </tr>\n",
       "    <tr>\n",
       "      <th>16</th>\n",
       "      <td>john_n@gmail.com</td>\n",
       "      <td>John</td>\n",
       "      <td>V. Neuman</td>\n",
       "      <td>Hungary</td>\n",
       "    </tr>\n",
       "  </tbody>\n",
       "</table>\n",
       "</div>"
      ],
      "text/plain": [
       "                   EMAIL_ID FIRST_NAME    LAST_NAME BIRTH_PLACE\n",
       "10  alan_turing@outlook.com       Alan       Turing          UK\n",
       "12         time.lee@cern.ch        Tim  Berners-Lee          UK\n",
       "14   grace.hopper@gmail.com      Grace       Hopper         USA\n",
       "16         john_n@gmail.com       John    V. Neuman     Hungary"
      ]
     },
     "execution_count": 103,
     "metadata": {},
     "output_type": "execute_result"
    }
   ],
   "source": [
    "# replacing all space characters with underscore\n",
    "data.columns = data.columns.str.replace(' ', '_')\n",
    "data"
   ]
  },
  {
   "cell_type": "code",
   "execution_count": 104,
   "metadata": {},
   "outputs": [
    {
     "data": {
      "text/html": [
       "<div>\n",
       "<style scoped>\n",
       "    .dataframe tbody tr th:only-of-type {\n",
       "        vertical-align: middle;\n",
       "    }\n",
       "\n",
       "    .dataframe tbody tr th {\n",
       "        vertical-align: top;\n",
       "    }\n",
       "\n",
       "    .dataframe thead th {\n",
       "        text-align: right;\n",
       "    }\n",
       "</style>\n",
       "<table border=\"1\" class=\"dataframe\">\n",
       "  <thead>\n",
       "    <tr style=\"text-align: right;\">\n",
       "      <th></th>\n",
       "      <th>email_id</th>\n",
       "      <th>first_name</th>\n",
       "      <th>last_name</th>\n",
       "      <th>birth_place</th>\n",
       "    </tr>\n",
       "  </thead>\n",
       "  <tbody>\n",
       "    <tr>\n",
       "      <th>10</th>\n",
       "      <td>alan_turing@outlook.com</td>\n",
       "      <td>Alan</td>\n",
       "      <td>Turing</td>\n",
       "      <td>UK</td>\n",
       "    </tr>\n",
       "    <tr>\n",
       "      <th>12</th>\n",
       "      <td>time.lee@cern.ch</td>\n",
       "      <td>Tim</td>\n",
       "      <td>Berners-Lee</td>\n",
       "      <td>UK</td>\n",
       "    </tr>\n",
       "    <tr>\n",
       "      <th>14</th>\n",
       "      <td>grace.hopper@gmail.com</td>\n",
       "      <td>Grace</td>\n",
       "      <td>Hopper</td>\n",
       "      <td>USA</td>\n",
       "    </tr>\n",
       "    <tr>\n",
       "      <th>16</th>\n",
       "      <td>john_n@gmail.com</td>\n",
       "      <td>John</td>\n",
       "      <td>V. Neuman</td>\n",
       "      <td>Hungary</td>\n",
       "    </tr>\n",
       "  </tbody>\n",
       "</table>\n",
       "</div>"
      ],
      "text/plain": [
       "                   email_id first_name    last_name birth_place\n",
       "10  alan_turing@outlook.com       Alan       Turing          UK\n",
       "12         time.lee@cern.ch        Tim  Berners-Lee          UK\n",
       "14   grace.hopper@gmail.com      Grace       Hopper         USA\n",
       "16         john_n@gmail.com       John    V. Neuman     Hungary"
      ]
     },
     "execution_count": 104,
     "metadata": {},
     "output_type": "execute_result"
    }
   ],
   "source": [
    "# replacing upper case with lower case\n",
    "data.columns = [column.lower() for column in data.columns]\n",
    "data"
   ]
  },
  {
   "cell_type": "code",
   "execution_count": 108,
   "metadata": {},
   "outputs": [
    {
     "data": {
      "text/plain": [
       "10    alan_turing@outlook.com\n",
       "12           time.lee@cern.ch\n",
       "14     grace.hopper@gmail.com\n",
       "16           john_n@gmail.com\n",
       "Name: email_id, dtype: object"
      ]
     },
     "execution_count": 108,
     "metadata": {},
     "output_type": "execute_result"
    }
   ],
   "source": [
    "data.email_id"
   ]
  },
  {
   "cell_type": "code",
   "execution_count": 109,
   "metadata": {},
   "outputs": [
    {
     "data": {
      "text/plain": [
       "10     Alan\n",
       "12      Tim\n",
       "14    Grace\n",
       "16     John\n",
       "Name: first_name, dtype: object"
      ]
     },
     "execution_count": 109,
     "metadata": {},
     "output_type": "execute_result"
    }
   ],
   "source": [
    "# We can now access directly using columnn names\n",
    "data.first_name"
   ]
  },
  {
   "cell_type": "code",
   "execution_count": 110,
   "metadata": {},
   "outputs": [
    {
     "data": {
      "text/plain": [
       "10    alan_turing@outlook.com\n",
       "12           time.lee@cern.ch\n",
       "14     grace.hopper@gmail.com\n",
       "16           john_n@gmail.com\n",
       "Name: email_id, dtype: object"
      ]
     },
     "execution_count": 110,
     "metadata": {},
     "output_type": "execute_result"
    }
   ],
   "source": [
    "data.email_id"
   ]
  },
  {
   "cell_type": "code",
   "execution_count": 111,
   "metadata": {},
   "outputs": [
    {
     "data": {
      "text/html": [
       "<div>\n",
       "<style scoped>\n",
       "    .dataframe tbody tr th:only-of-type {\n",
       "        vertical-align: middle;\n",
       "    }\n",
       "\n",
       "    .dataframe tbody tr th {\n",
       "        vertical-align: top;\n",
       "    }\n",
       "\n",
       "    .dataframe thead th {\n",
       "        text-align: right;\n",
       "    }\n",
       "</style>\n",
       "<table border=\"1\" class=\"dataframe\">\n",
       "  <thead>\n",
       "    <tr style=\"text-align: right;\">\n",
       "      <th></th>\n",
       "      <th>email</th>\n",
       "      <th>first_name</th>\n",
       "      <th>last_name</th>\n",
       "      <th>birth_place</th>\n",
       "    </tr>\n",
       "  </thead>\n",
       "  <tbody>\n",
       "    <tr>\n",
       "      <th>10</th>\n",
       "      <td>alan_turing@outlook.com</td>\n",
       "      <td>Alan</td>\n",
       "      <td>Turing</td>\n",
       "      <td>UK</td>\n",
       "    </tr>\n",
       "    <tr>\n",
       "      <th>12</th>\n",
       "      <td>time.lee@cern.ch</td>\n",
       "      <td>Tim</td>\n",
       "      <td>Berners-Lee</td>\n",
       "      <td>UK</td>\n",
       "    </tr>\n",
       "    <tr>\n",
       "      <th>14</th>\n",
       "      <td>grace.hopper@gmail.com</td>\n",
       "      <td>Grace</td>\n",
       "      <td>Hopper</td>\n",
       "      <td>USA</td>\n",
       "    </tr>\n",
       "    <tr>\n",
       "      <th>16</th>\n",
       "      <td>john_n@gmail.com</td>\n",
       "      <td>John</td>\n",
       "      <td>V. Neuman</td>\n",
       "      <td>Hungary</td>\n",
       "    </tr>\n",
       "  </tbody>\n",
       "</table>\n",
       "</div>"
      ],
      "text/plain": [
       "                      email first_name    last_name birth_place\n",
       "10  alan_turing@outlook.com       Alan       Turing          UK\n",
       "12         time.lee@cern.ch        Tim  Berners-Lee          UK\n",
       "14   grace.hopper@gmail.com      Grace       Hopper         USA\n",
       "16         john_n@gmail.com       John    V. Neuman     Hungary"
      ]
     },
     "execution_count": 111,
     "metadata": {},
     "output_type": "execute_result"
    }
   ],
   "source": [
    "# Renaming a Few Columns\n",
    "data.rename(columns={'email_id': 'email'}, inplace=True)\n",
    "data"
   ]
  },
  {
   "cell_type": "markdown",
   "metadata": {},
   "source": [
    "## Updating Data in Rows"
   ]
  },
  {
   "cell_type": "code",
   "execution_count": 112,
   "metadata": {},
   "outputs": [
    {
     "data": {
      "text/html": [
       "<div>\n",
       "<style scoped>\n",
       "    .dataframe tbody tr th:only-of-type {\n",
       "        vertical-align: middle;\n",
       "    }\n",
       "\n",
       "    .dataframe tbody tr th {\n",
       "        vertical-align: top;\n",
       "    }\n",
       "\n",
       "    .dataframe thead th {\n",
       "        text-align: right;\n",
       "    }\n",
       "</style>\n",
       "<table border=\"1\" class=\"dataframe\">\n",
       "  <thead>\n",
       "    <tr style=\"text-align: right;\">\n",
       "      <th></th>\n",
       "      <th>email</th>\n",
       "      <th>first_name</th>\n",
       "      <th>last_name</th>\n",
       "      <th>birth_place</th>\n",
       "    </tr>\n",
       "  </thead>\n",
       "  <tbody>\n",
       "    <tr>\n",
       "      <th>10</th>\n",
       "      <td>alan_turing@outlook.com</td>\n",
       "      <td>Alan</td>\n",
       "      <td>Turing</td>\n",
       "      <td>UK</td>\n",
       "    </tr>\n",
       "    <tr>\n",
       "      <th>12</th>\n",
       "      <td>email</td>\n",
       "      <td>john</td>\n",
       "      <td>doe</td>\n",
       "      <td>bermuda triangle</td>\n",
       "    </tr>\n",
       "    <tr>\n",
       "      <th>14</th>\n",
       "      <td>grace.hopper@gmail.com</td>\n",
       "      <td>Grace</td>\n",
       "      <td>Hopper</td>\n",
       "      <td>USA</td>\n",
       "    </tr>\n",
       "    <tr>\n",
       "      <th>16</th>\n",
       "      <td>john_n@gmail.com</td>\n",
       "      <td>John</td>\n",
       "      <td>V. Neuman</td>\n",
       "      <td>Hungary</td>\n",
       "    </tr>\n",
       "  </tbody>\n",
       "</table>\n",
       "</div>"
      ],
      "text/plain": [
       "                      email first_name  last_name       birth_place\n",
       "10  alan_turing@outlook.com       Alan     Turing                UK\n",
       "12                    email       john        doe  bermuda triangle\n",
       "14   grace.hopper@gmail.com      Grace     Hopper               USA\n",
       "16         john_n@gmail.com       John  V. Neuman           Hungary"
      ]
     },
     "execution_count": 112,
     "metadata": {},
     "output_type": "execute_result"
    }
   ],
   "source": [
    "# changing an entire row\n",
    "data.iloc[1] = ['email', 'john', 'doe', 'bermuda triangle']\n",
    "data"
   ]
  },
  {
   "cell_type": "code",
   "execution_count": 113,
   "metadata": {},
   "outputs": [
    {
     "data": {
      "text/html": [
       "<div>\n",
       "<style scoped>\n",
       "    .dataframe tbody tr th:only-of-type {\n",
       "        vertical-align: middle;\n",
       "    }\n",
       "\n",
       "    .dataframe tbody tr th {\n",
       "        vertical-align: top;\n",
       "    }\n",
       "\n",
       "    .dataframe thead th {\n",
       "        text-align: right;\n",
       "    }\n",
       "</style>\n",
       "<table border=\"1\" class=\"dataframe\">\n",
       "  <thead>\n",
       "    <tr style=\"text-align: right;\">\n",
       "      <th></th>\n",
       "      <th>email</th>\n",
       "      <th>first_name</th>\n",
       "      <th>last_name</th>\n",
       "      <th>birth_place</th>\n",
       "    </tr>\n",
       "  </thead>\n",
       "  <tbody>\n",
       "    <tr>\n",
       "      <th>10</th>\n",
       "      <td>alan_turing@outlook.com</td>\n",
       "      <td>Alan</td>\n",
       "      <td>Turing</td>\n",
       "      <td>UK</td>\n",
       "    </tr>\n",
       "    <tr>\n",
       "      <th>12</th>\n",
       "      <td>tim@cern.ch</td>\n",
       "      <td>Tim</td>\n",
       "      <td>doe</td>\n",
       "      <td>bermuda triangle</td>\n",
       "    </tr>\n",
       "    <tr>\n",
       "      <th>14</th>\n",
       "      <td>grace.hopper@gmail.com</td>\n",
       "      <td>Grace</td>\n",
       "      <td>Hopper</td>\n",
       "      <td>USA</td>\n",
       "    </tr>\n",
       "    <tr>\n",
       "      <th>16</th>\n",
       "      <td>john_n@gmail.com</td>\n",
       "      <td>John</td>\n",
       "      <td>V. Neuman</td>\n",
       "      <td>Hungary</td>\n",
       "    </tr>\n",
       "  </tbody>\n",
       "</table>\n",
       "</div>"
      ],
      "text/plain": [
       "                      email first_name  last_name       birth_place\n",
       "10  alan_turing@outlook.com       Alan     Turing                UK\n",
       "12              tim@cern.ch        Tim        doe  bermuda triangle\n",
       "14   grace.hopper@gmail.com      Grace     Hopper               USA\n",
       "16         john_n@gmail.com       John  V. Neuman           Hungary"
      ]
     },
     "execution_count": 113,
     "metadata": {},
     "output_type": "execute_result"
    }
   ],
   "source": [
    "# changing only a few specific columns\n",
    "data.loc[12, ['first_name', 'email']] = ['Tim', 'tim@cern.ch']\n",
    "data"
   ]
  },
  {
   "cell_type": "code",
   "execution_count": 114,
   "metadata": {},
   "outputs": [
    {
     "data": {
      "text/html": [
       "<div>\n",
       "<style scoped>\n",
       "    .dataframe tbody tr th:only-of-type {\n",
       "        vertical-align: middle;\n",
       "    }\n",
       "\n",
       "    .dataframe tbody tr th {\n",
       "        vertical-align: top;\n",
       "    }\n",
       "\n",
       "    .dataframe thead th {\n",
       "        text-align: right;\n",
       "    }\n",
       "</style>\n",
       "<table border=\"1\" class=\"dataframe\">\n",
       "  <thead>\n",
       "    <tr style=\"text-align: right;\">\n",
       "      <th></th>\n",
       "      <th>email</th>\n",
       "      <th>first_name</th>\n",
       "      <th>last_name</th>\n",
       "      <th>birth_place</th>\n",
       "    </tr>\n",
       "  </thead>\n",
       "  <tbody>\n",
       "    <tr>\n",
       "      <th>10</th>\n",
       "      <td>alan_turing@outlook.com</td>\n",
       "      <td>Alan</td>\n",
       "      <td>Turing</td>\n",
       "      <td>UK</td>\n",
       "    </tr>\n",
       "    <tr>\n",
       "      <th>12</th>\n",
       "      <td>tim@cern.ch</td>\n",
       "      <td>Tim</td>\n",
       "      <td>apple</td>\n",
       "      <td>bermuda triangle</td>\n",
       "    </tr>\n",
       "    <tr>\n",
       "      <th>14</th>\n",
       "      <td>grace.hopper@gmail.com</td>\n",
       "      <td>Grace</td>\n",
       "      <td>Hopper</td>\n",
       "      <td>USA</td>\n",
       "    </tr>\n",
       "    <tr>\n",
       "      <th>16</th>\n",
       "      <td>john_n@gmail.com</td>\n",
       "      <td>John</td>\n",
       "      <td>V. Neuman</td>\n",
       "      <td>Hungary</td>\n",
       "    </tr>\n",
       "  </tbody>\n",
       "</table>\n",
       "</div>"
      ],
      "text/plain": [
       "                      email first_name  last_name       birth_place\n",
       "10  alan_turing@outlook.com       Alan     Turing                UK\n",
       "12              tim@cern.ch        Tim      apple  bermuda triangle\n",
       "14   grace.hopper@gmail.com      Grace     Hopper               USA\n",
       "16         john_n@gmail.com       John  V. Neuman           Hungary"
      ]
     },
     "execution_count": 114,
     "metadata": {},
     "output_type": "execute_result"
    }
   ],
   "source": [
    "# changing a single cell\n",
    "data.loc[12, ['last_name']] = 'apple'\n",
    "data"
   ]
  },
  {
   "cell_type": "code",
   "execution_count": 115,
   "metadata": {},
   "outputs": [
    {
     "data": {
      "text/html": [
       "<div>\n",
       "<style scoped>\n",
       "    .dataframe tbody tr th:only-of-type {\n",
       "        vertical-align: middle;\n",
       "    }\n",
       "\n",
       "    .dataframe tbody tr th {\n",
       "        vertical-align: top;\n",
       "    }\n",
       "\n",
       "    .dataframe thead th {\n",
       "        text-align: right;\n",
       "    }\n",
       "</style>\n",
       "<table border=\"1\" class=\"dataframe\">\n",
       "  <thead>\n",
       "    <tr style=\"text-align: right;\">\n",
       "      <th></th>\n",
       "      <th>email</th>\n",
       "      <th>first_name</th>\n",
       "      <th>last_name</th>\n",
       "      <th>birth_place</th>\n",
       "    </tr>\n",
       "  </thead>\n",
       "  <tbody>\n",
       "    <tr>\n",
       "      <th>10</th>\n",
       "      <td>alan_turing@outlook.com</td>\n",
       "      <td>Alan</td>\n",
       "      <td>Turing</td>\n",
       "      <td>UK</td>\n",
       "    </tr>\n",
       "    <tr>\n",
       "      <th>12</th>\n",
       "      <td>tim@cern.ch</td>\n",
       "      <td>Tim</td>\n",
       "      <td>Berners-Lee</td>\n",
       "      <td>bermuda triangle</td>\n",
       "    </tr>\n",
       "    <tr>\n",
       "      <th>14</th>\n",
       "      <td>grace.hopper@gmail.com</td>\n",
       "      <td>Grace</td>\n",
       "      <td>Hopper</td>\n",
       "      <td>USA</td>\n",
       "    </tr>\n",
       "    <tr>\n",
       "      <th>16</th>\n",
       "      <td>john_n@gmail.com</td>\n",
       "      <td>John</td>\n",
       "      <td>V. Neuman</td>\n",
       "      <td>Hungary</td>\n",
       "    </tr>\n",
       "  </tbody>\n",
       "</table>\n",
       "</div>"
      ],
      "text/plain": [
       "                      email first_name    last_name       birth_place\n",
       "10  alan_turing@outlook.com       Alan       Turing                UK\n",
       "12              tim@cern.ch        Tim  Berners-Lee  bermuda triangle\n",
       "14   grace.hopper@gmail.com      Grace       Hopper               USA\n",
       "16         john_n@gmail.com       John    V. Neuman           Hungary"
      ]
     },
     "execution_count": 115,
     "metadata": {},
     "output_type": "execute_result"
    }
   ],
   "source": [
    "# using at to look up single cell values\n",
    "data.at[12, 'last_name'] = 'Berners-Lee'\n",
    "data"
   ]
  },
  {
   "cell_type": "code",
   "execution_count": 116,
   "metadata": {},
   "outputs": [
    {
     "data": {
      "text/plain": [
       "10     True\n",
       "12    False\n",
       "14    False\n",
       "16    False\n",
       "Name: birth_place, dtype: bool"
      ]
     },
     "execution_count": 116,
     "metadata": {},
     "output_type": "execute_result"
    }
   ],
   "source": [
    "# seeking specific value using birth place\n",
    "uk_filter = data['birth_place'] == 'UK'\n",
    "uk_filter"
   ]
  },
  {
   "cell_type": "code",
   "execution_count": 117,
   "metadata": {},
   "outputs": [
    {
     "data": {
      "text/html": [
       "<div>\n",
       "<style scoped>\n",
       "    .dataframe tbody tr th:only-of-type {\n",
       "        vertical-align: middle;\n",
       "    }\n",
       "\n",
       "    .dataframe tbody tr th {\n",
       "        vertical-align: top;\n",
       "    }\n",
       "\n",
       "    .dataframe thead th {\n",
       "        text-align: right;\n",
       "    }\n",
       "</style>\n",
       "<table border=\"1\" class=\"dataframe\">\n",
       "  <thead>\n",
       "    <tr style=\"text-align: right;\">\n",
       "      <th></th>\n",
       "      <th>email</th>\n",
       "      <th>first_name</th>\n",
       "      <th>last_name</th>\n",
       "      <th>birth_place</th>\n",
       "    </tr>\n",
       "  </thead>\n",
       "  <tbody>\n",
       "    <tr>\n",
       "      <th>10</th>\n",
       "      <td>alan_turing@outlook.com</td>\n",
       "      <td>Alan</td>\n",
       "      <td>Turing</td>\n",
       "      <td>UK</td>\n",
       "    </tr>\n",
       "  </tbody>\n",
       "</table>\n",
       "</div>"
      ],
      "text/plain": [
       "                      email first_name last_name birth_place\n",
       "10  alan_turing@outlook.com       Alan    Turing          UK"
      ]
     },
     "execution_count": 117,
     "metadata": {},
     "output_type": "execute_result"
    }
   ],
   "source": [
    "data.loc[uk_filter]"
   ]
  },
  {
   "cell_type": "code",
   "execution_count": 118,
   "metadata": {},
   "outputs": [
    {
     "data": {
      "text/html": [
       "<div>\n",
       "<style scoped>\n",
       "    .dataframe tbody tr th:only-of-type {\n",
       "        vertical-align: middle;\n",
       "    }\n",
       "\n",
       "    .dataframe tbody tr th {\n",
       "        vertical-align: top;\n",
       "    }\n",
       "\n",
       "    .dataframe thead th {\n",
       "        text-align: right;\n",
       "    }\n",
       "</style>\n",
       "<table border=\"1\" class=\"dataframe\">\n",
       "  <thead>\n",
       "    <tr style=\"text-align: right;\">\n",
       "      <th></th>\n",
       "      <th>email</th>\n",
       "      <th>first_name</th>\n",
       "      <th>last_name</th>\n",
       "      <th>birth_place</th>\n",
       "    </tr>\n",
       "  </thead>\n",
       "  <tbody>\n",
       "    <tr>\n",
       "      <th>10</th>\n",
       "      <td>alan_turing@outlook.com</td>\n",
       "      <td>Alan</td>\n",
       "      <td>Turing</td>\n",
       "      <td>UK</td>\n",
       "    </tr>\n",
       "  </tbody>\n",
       "</table>\n",
       "</div>"
      ],
      "text/plain": [
       "                      email first_name last_name birth_place\n",
       "10  alan_turing@outlook.com       Alan    Turing          UK"
      ]
     },
     "execution_count": 118,
     "metadata": {},
     "output_type": "execute_result"
    }
   ],
   "source": [
    "data[uk_filter]"
   ]
  },
  {
   "cell_type": "code",
   "execution_count": 119,
   "metadata": {},
   "outputs": [
    {
     "name": "stderr",
     "output_type": "stream",
     "text": [
      "c:\\users\\anish\\appdata\\local\\programs\\python\\python37\\lib\\site-packages\\ipykernel_launcher.py:2: SettingWithCopyWarning: \n",
      "A value is trying to be set on a copy of a slice from a DataFrame.\n",
      "Try using .loc[row_indexer,col_indexer] = value instead\n",
      "\n",
      "See the caveats in the documentation: https://pandas.pydata.org/pandas-docs/stable/user_guide/indexing.html#returning-a-view-versus-a-copy\n",
      "  \n"
     ]
    },
    {
     "data": {
      "text/html": [
       "<div>\n",
       "<style scoped>\n",
       "    .dataframe tbody tr th:only-of-type {\n",
       "        vertical-align: middle;\n",
       "    }\n",
       "\n",
       "    .dataframe tbody tr th {\n",
       "        vertical-align: top;\n",
       "    }\n",
       "\n",
       "    .dataframe thead th {\n",
       "        text-align: right;\n",
       "    }\n",
       "</style>\n",
       "<table border=\"1\" class=\"dataframe\">\n",
       "  <thead>\n",
       "    <tr style=\"text-align: right;\">\n",
       "      <th></th>\n",
       "      <th>email</th>\n",
       "      <th>first_name</th>\n",
       "      <th>last_name</th>\n",
       "      <th>birth_place</th>\n",
       "    </tr>\n",
       "  </thead>\n",
       "  <tbody>\n",
       "    <tr>\n",
       "      <th>10</th>\n",
       "      <td>alan_turing@outlook.com</td>\n",
       "      <td>Alan</td>\n",
       "      <td>Turing</td>\n",
       "      <td>UK</td>\n",
       "    </tr>\n",
       "    <tr>\n",
       "      <th>12</th>\n",
       "      <td>tim@cern.ch</td>\n",
       "      <td>Tim</td>\n",
       "      <td>Berners-Lee</td>\n",
       "      <td>bermuda triangle</td>\n",
       "    </tr>\n",
       "    <tr>\n",
       "      <th>14</th>\n",
       "      <td>grace.hopper@gmail.com</td>\n",
       "      <td>Grace</td>\n",
       "      <td>Hopper</td>\n",
       "      <td>USA</td>\n",
       "    </tr>\n",
       "    <tr>\n",
       "      <th>16</th>\n",
       "      <td>john_n@gmail.com</td>\n",
       "      <td>John</td>\n",
       "      <td>V. Neuman</td>\n",
       "      <td>Hungary</td>\n",
       "    </tr>\n",
       "  </tbody>\n",
       "</table>\n",
       "</div>"
      ],
      "text/plain": [
       "                      email first_name    last_name       birth_place\n",
       "10  alan_turing@outlook.com       Alan       Turing                UK\n",
       "12              tim@cern.ch        Tim  Berners-Lee  bermuda triangle\n",
       "14   grace.hopper@gmail.com      Grace       Hopper               USA\n",
       "16         john_n@gmail.com       John    V. Neuman           Hungary"
      ]
     },
     "execution_count": 119,
     "metadata": {},
     "output_type": "execute_result"
    }
   ],
   "source": [
    "# This will not work\n",
    "data[uk_filter]['last_name'] = 'Smith'\n",
    "data"
   ]
  },
  {
   "cell_type": "code",
   "execution_count": 120,
   "metadata": {},
   "outputs": [
    {
     "data": {
      "text/html": [
       "<div>\n",
       "<style scoped>\n",
       "    .dataframe tbody tr th:only-of-type {\n",
       "        vertical-align: middle;\n",
       "    }\n",
       "\n",
       "    .dataframe tbody tr th {\n",
       "        vertical-align: top;\n",
       "    }\n",
       "\n",
       "    .dataframe thead th {\n",
       "        text-align: right;\n",
       "    }\n",
       "</style>\n",
       "<table border=\"1\" class=\"dataframe\">\n",
       "  <thead>\n",
       "    <tr style=\"text-align: right;\">\n",
       "      <th></th>\n",
       "      <th>email</th>\n",
       "      <th>first_name</th>\n",
       "      <th>last_name</th>\n",
       "      <th>birth_place</th>\n",
       "    </tr>\n",
       "  </thead>\n",
       "  <tbody>\n",
       "    <tr>\n",
       "      <th>10</th>\n",
       "      <td>alan_turing@outlook.com</td>\n",
       "      <td>Alan</td>\n",
       "      <td>Smith</td>\n",
       "      <td>UK</td>\n",
       "    </tr>\n",
       "    <tr>\n",
       "      <th>12</th>\n",
       "      <td>tim@cern.ch</td>\n",
       "      <td>Tim</td>\n",
       "      <td>Berners-Lee</td>\n",
       "      <td>bermuda triangle</td>\n",
       "    </tr>\n",
       "    <tr>\n",
       "      <th>14</th>\n",
       "      <td>grace.hopper@gmail.com</td>\n",
       "      <td>Grace</td>\n",
       "      <td>Hopper</td>\n",
       "      <td>USA</td>\n",
       "    </tr>\n",
       "    <tr>\n",
       "      <th>16</th>\n",
       "      <td>john_n@gmail.com</td>\n",
       "      <td>John</td>\n",
       "      <td>V. Neuman</td>\n",
       "      <td>Hungary</td>\n",
       "    </tr>\n",
       "  </tbody>\n",
       "</table>\n",
       "</div>"
      ],
      "text/plain": [
       "                      email first_name    last_name       birth_place\n",
       "10  alan_turing@outlook.com       Alan        Smith                UK\n",
       "12              tim@cern.ch        Tim  Berners-Lee  bermuda triangle\n",
       "14   grace.hopper@gmail.com      Grace       Hopper               USA\n",
       "16         john_n@gmail.com       John    V. Neuman           Hungary"
      ]
     },
     "execution_count": 120,
     "metadata": {},
     "output_type": "execute_result"
    }
   ],
   "source": [
    "# to actually make a change we need to use .loc\n",
    "data.loc[uk_filter, 'last_name'] = 'Smith'\n",
    "data"
   ]
  },
  {
   "cell_type": "markdown",
   "metadata": {},
   "source": [
    "## String Operations"
   ]
  },
  {
   "cell_type": "code",
   "execution_count": 121,
   "metadata": {},
   "outputs": [
    {
     "data": {
      "text/html": [
       "<div>\n",
       "<style scoped>\n",
       "    .dataframe tbody tr th:only-of-type {\n",
       "        vertical-align: middle;\n",
       "    }\n",
       "\n",
       "    .dataframe tbody tr th {\n",
       "        vertical-align: top;\n",
       "    }\n",
       "\n",
       "    .dataframe thead th {\n",
       "        text-align: right;\n",
       "    }\n",
       "</style>\n",
       "<table border=\"1\" class=\"dataframe\">\n",
       "  <thead>\n",
       "    <tr style=\"text-align: right;\">\n",
       "      <th></th>\n",
       "      <th>email</th>\n",
       "      <th>first_name</th>\n",
       "      <th>last_name</th>\n",
       "      <th>birth_place</th>\n",
       "    </tr>\n",
       "  </thead>\n",
       "  <tbody>\n",
       "    <tr>\n",
       "      <th>10</th>\n",
       "      <td>ALAN_TURING@OUTLOOK.COM</td>\n",
       "      <td>Alan</td>\n",
       "      <td>Smith</td>\n",
       "      <td>UK</td>\n",
       "    </tr>\n",
       "    <tr>\n",
       "      <th>12</th>\n",
       "      <td>TIM@CERN.CH</td>\n",
       "      <td>Tim</td>\n",
       "      <td>Berners-Lee</td>\n",
       "      <td>bermuda triangle</td>\n",
       "    </tr>\n",
       "    <tr>\n",
       "      <th>14</th>\n",
       "      <td>GRACE.HOPPER@GMAIL.COM</td>\n",
       "      <td>Grace</td>\n",
       "      <td>Hopper</td>\n",
       "      <td>USA</td>\n",
       "    </tr>\n",
       "    <tr>\n",
       "      <th>16</th>\n",
       "      <td>JOHN_N@GMAIL.COM</td>\n",
       "      <td>John</td>\n",
       "      <td>V. Neuman</td>\n",
       "      <td>Hungary</td>\n",
       "    </tr>\n",
       "  </tbody>\n",
       "</table>\n",
       "</div>"
      ],
      "text/plain": [
       "                      email first_name    last_name       birth_place\n",
       "10  ALAN_TURING@OUTLOOK.COM       Alan        Smith                UK\n",
       "12              TIM@CERN.CH        Tim  Berners-Lee  bermuda triangle\n",
       "14   GRACE.HOPPER@GMAIL.COM      Grace       Hopper               USA\n",
       "16         JOHN_N@GMAIL.COM       John    V. Neuman           Hungary"
      ]
     },
     "execution_count": 121,
     "metadata": {},
     "output_type": "execute_result"
    }
   ],
   "source": [
    "data['email'] = data['email'].str.upper()\n",
    "data"
   ]
  },
  {
   "cell_type": "code",
   "execution_count": 124,
   "metadata": {},
   "outputs": [
    {
     "data": {
      "text/html": [
       "<div>\n",
       "<style scoped>\n",
       "    .dataframe tbody tr th:only-of-type {\n",
       "        vertical-align: middle;\n",
       "    }\n",
       "\n",
       "    .dataframe tbody tr th {\n",
       "        vertical-align: top;\n",
       "    }\n",
       "\n",
       "    .dataframe thead th {\n",
       "        text-align: right;\n",
       "    }\n",
       "</style>\n",
       "<table border=\"1\" class=\"dataframe\">\n",
       "  <thead>\n",
       "    <tr style=\"text-align: right;\">\n",
       "      <th></th>\n",
       "      <th>email</th>\n",
       "      <th>first_name</th>\n",
       "      <th>last_name</th>\n",
       "      <th>birth_place</th>\n",
       "    </tr>\n",
       "  </thead>\n",
       "  <tbody>\n",
       "    <tr>\n",
       "      <th>10</th>\n",
       "      <td>alan_turing@outlook.com</td>\n",
       "      <td>Alan</td>\n",
       "      <td>Smith</td>\n",
       "      <td>UK</td>\n",
       "    </tr>\n",
       "    <tr>\n",
       "      <th>12</th>\n",
       "      <td>tim@cern.ch</td>\n",
       "      <td>Tim</td>\n",
       "      <td>Berners-Lee</td>\n",
       "      <td>bermuda triangle</td>\n",
       "    </tr>\n",
       "    <tr>\n",
       "      <th>14</th>\n",
       "      <td>grace.hopper@gmail.com</td>\n",
       "      <td>Grace</td>\n",
       "      <td>Hopper</td>\n",
       "      <td>USA</td>\n",
       "    </tr>\n",
       "    <tr>\n",
       "      <th>16</th>\n",
       "      <td>john_n@gmail.com</td>\n",
       "      <td>John</td>\n",
       "      <td>V. Neuman</td>\n",
       "      <td>Hungary</td>\n",
       "    </tr>\n",
       "  </tbody>\n",
       "</table>\n",
       "</div>"
      ],
      "text/plain": [
       "                      email first_name    last_name       birth_place\n",
       "10  alan_turing@outlook.com       Alan        Smith                UK\n",
       "12              tim@cern.ch        Tim  Berners-Lee  bermuda triangle\n",
       "14   grace.hopper@gmail.com      Grace       Hopper               USA\n",
       "16         john_n@gmail.com       John    V. Neuman           Hungary"
      ]
     },
     "execution_count": 124,
     "metadata": {},
     "output_type": "execute_result"
    }
   ],
   "source": [
    "# converting to lower case\n",
    "data['email'] = data['email'].str.lower()\n",
    "data"
   ]
  },
  {
   "cell_type": "markdown",
   "metadata": {},
   "source": [
    "### Apply Method"
   ]
  },
  {
   "cell_type": "code",
   "execution_count": 68,
   "metadata": {},
   "outputs": [
    {
     "data": {
      "text/plain": [
       "0    23\n",
       "1    11\n",
       "2    22\n",
       "3    16\n",
       "Name: email, dtype: int64"
      ]
     },
     "execution_count": 68,
     "metadata": {},
     "output_type": "execute_result"
    }
   ],
   "source": [
    "# applying a function to every item in a series\n",
    "data['email'].apply(len)"
   ]
  },
  {
   "cell_type": "code",
   "execution_count": 125,
   "metadata": {},
   "outputs": [
    {
     "data": {
      "text/html": [
       "<div>\n",
       "<style scoped>\n",
       "    .dataframe tbody tr th:only-of-type {\n",
       "        vertical-align: middle;\n",
       "    }\n",
       "\n",
       "    .dataframe tbody tr th {\n",
       "        vertical-align: top;\n",
       "    }\n",
       "\n",
       "    .dataframe thead th {\n",
       "        text-align: right;\n",
       "    }\n",
       "</style>\n",
       "<table border=\"1\" class=\"dataframe\">\n",
       "  <thead>\n",
       "    <tr style=\"text-align: right;\">\n",
       "      <th></th>\n",
       "      <th>email</th>\n",
       "      <th>first_name</th>\n",
       "      <th>last_name</th>\n",
       "      <th>birth_place</th>\n",
       "    </tr>\n",
       "  </thead>\n",
       "  <tbody>\n",
       "    <tr>\n",
       "      <th>10</th>\n",
       "      <td>alan_turing@outlook.com</td>\n",
       "      <td>Alan</td>\n",
       "      <td>Smith</td>\n",
       "      <td>UK</td>\n",
       "    </tr>\n",
       "    <tr>\n",
       "      <th>12</th>\n",
       "      <td>tim@cern.ch</td>\n",
       "      <td>Tim</td>\n",
       "      <td>Berners-Lee</td>\n",
       "      <td>bermuda triangle</td>\n",
       "    </tr>\n",
       "    <tr>\n",
       "      <th>14</th>\n",
       "      <td>grace.hopper@gmail.com</td>\n",
       "      <td>Grace</td>\n",
       "      <td>Hopper</td>\n",
       "      <td>USA</td>\n",
       "    </tr>\n",
       "    <tr>\n",
       "      <th>16</th>\n",
       "      <td>john_n@gmail.com</td>\n",
       "      <td>John</td>\n",
       "      <td>V. Neuman</td>\n",
       "      <td>Hungary</td>\n",
       "    </tr>\n",
       "  </tbody>\n",
       "</table>\n",
       "</div>"
      ],
      "text/plain": [
       "                      email first_name    last_name       birth_place\n",
       "10  alan_turing@outlook.com       Alan        Smith                UK\n",
       "12              tim@cern.ch        Tim  Berners-Lee  bermuda triangle\n",
       "14   grace.hopper@gmail.com      Grace       Hopper               USA\n",
       "16         john_n@gmail.com       John    V. Neuman           Hungary"
      ]
     },
     "execution_count": 125,
     "metadata": {},
     "output_type": "execute_result"
    }
   ],
   "source": [
    "data"
   ]
  },
  {
   "cell_type": "code",
   "execution_count": 126,
   "metadata": {},
   "outputs": [],
   "source": [
    "def update_email(email: str) -> str:\n",
    "    return email.upper()"
   ]
  },
  {
   "cell_type": "code",
   "execution_count": 127,
   "metadata": {},
   "outputs": [
    {
     "data": {
      "text/plain": [
       "10    ALAN_TURING@OUTLOOK.COM\n",
       "12                TIM@CERN.CH\n",
       "14     GRACE.HOPPER@GMAIL.COM\n",
       "16           JOHN_N@GMAIL.COM\n",
       "Name: email, dtype: object"
      ]
     },
     "execution_count": 127,
     "metadata": {},
     "output_type": "execute_result"
    }
   ],
   "source": [
    "# using external function with apply\n",
    "data['email'].apply(update_email)"
   ]
  },
  {
   "cell_type": "code",
   "execution_count": 128,
   "metadata": {},
   "outputs": [
    {
     "data": {
      "text/html": [
       "<div>\n",
       "<style scoped>\n",
       "    .dataframe tbody tr th:only-of-type {\n",
       "        vertical-align: middle;\n",
       "    }\n",
       "\n",
       "    .dataframe tbody tr th {\n",
       "        vertical-align: top;\n",
       "    }\n",
       "\n",
       "    .dataframe thead th {\n",
       "        text-align: right;\n",
       "    }\n",
       "</style>\n",
       "<table border=\"1\" class=\"dataframe\">\n",
       "  <thead>\n",
       "    <tr style=\"text-align: right;\">\n",
       "      <th></th>\n",
       "      <th>email</th>\n",
       "      <th>first_name</th>\n",
       "      <th>last_name</th>\n",
       "      <th>birth_place</th>\n",
       "    </tr>\n",
       "  </thead>\n",
       "  <tbody>\n",
       "    <tr>\n",
       "      <th>10</th>\n",
       "      <td>ALAN_TURING@OUTLOOK.COM</td>\n",
       "      <td>Alan</td>\n",
       "      <td>Smith</td>\n",
       "      <td>UK</td>\n",
       "    </tr>\n",
       "    <tr>\n",
       "      <th>12</th>\n",
       "      <td>TIM@CERN.CH</td>\n",
       "      <td>Tim</td>\n",
       "      <td>Berners-Lee</td>\n",
       "      <td>bermuda triangle</td>\n",
       "    </tr>\n",
       "    <tr>\n",
       "      <th>14</th>\n",
       "      <td>GRACE.HOPPER@GMAIL.COM</td>\n",
       "      <td>Grace</td>\n",
       "      <td>Hopper</td>\n",
       "      <td>USA</td>\n",
       "    </tr>\n",
       "    <tr>\n",
       "      <th>16</th>\n",
       "      <td>JOHN_N@GMAIL.COM</td>\n",
       "      <td>John</td>\n",
       "      <td>V. Neuman</td>\n",
       "      <td>Hungary</td>\n",
       "    </tr>\n",
       "  </tbody>\n",
       "</table>\n",
       "</div>"
      ],
      "text/plain": [
       "                      email first_name    last_name       birth_place\n",
       "10  ALAN_TURING@OUTLOOK.COM       Alan        Smith                UK\n",
       "12              TIM@CERN.CH        Tim  Berners-Lee  bermuda triangle\n",
       "14   GRACE.HOPPER@GMAIL.COM      Grace       Hopper               USA\n",
       "16         JOHN_N@GMAIL.COM       John    V. Neuman           Hungary"
      ]
     },
     "execution_count": 128,
     "metadata": {},
     "output_type": "execute_result"
    }
   ],
   "source": [
    "# to change the value of a series, we can set it\n",
    "data['email'] = data['email'].apply(update_email)\n",
    "data"
   ]
  },
  {
   "cell_type": "code",
   "execution_count": 130,
   "metadata": {},
   "outputs": [
    {
     "data": {
      "text/html": [
       "<div>\n",
       "<style scoped>\n",
       "    .dataframe tbody tr th:only-of-type {\n",
       "        vertical-align: middle;\n",
       "    }\n",
       "\n",
       "    .dataframe tbody tr th {\n",
       "        vertical-align: top;\n",
       "    }\n",
       "\n",
       "    .dataframe thead th {\n",
       "        text-align: right;\n",
       "    }\n",
       "</style>\n",
       "<table border=\"1\" class=\"dataframe\">\n",
       "  <thead>\n",
       "    <tr style=\"text-align: right;\">\n",
       "      <th></th>\n",
       "      <th>email</th>\n",
       "      <th>first_name</th>\n",
       "      <th>last_name</th>\n",
       "      <th>birth_place</th>\n",
       "    </tr>\n",
       "  </thead>\n",
       "  <tbody>\n",
       "    <tr>\n",
       "      <th>10</th>\n",
       "      <td>alan_turing@outlook.com</td>\n",
       "      <td>Alan</td>\n",
       "      <td>Smith</td>\n",
       "      <td>UK</td>\n",
       "    </tr>\n",
       "    <tr>\n",
       "      <th>12</th>\n",
       "      <td>tim@cern.ch</td>\n",
       "      <td>Tim</td>\n",
       "      <td>Berners-Lee</td>\n",
       "      <td>bermuda triangle</td>\n",
       "    </tr>\n",
       "    <tr>\n",
       "      <th>14</th>\n",
       "      <td>grace.hopper@gmail.com</td>\n",
       "      <td>Grace</td>\n",
       "      <td>Hopper</td>\n",
       "      <td>USA</td>\n",
       "    </tr>\n",
       "    <tr>\n",
       "      <th>16</th>\n",
       "      <td>john_n@gmail.com</td>\n",
       "      <td>John</td>\n",
       "      <td>V. Neuman</td>\n",
       "      <td>Hungary</td>\n",
       "    </tr>\n",
       "  </tbody>\n",
       "</table>\n",
       "</div>"
      ],
      "text/plain": [
       "                      email first_name    last_name       birth_place\n",
       "10  alan_turing@outlook.com       Alan        Smith                UK\n",
       "12              tim@cern.ch        Tim  Berners-Lee  bermuda triangle\n",
       "14   grace.hopper@gmail.com      Grace       Hopper               USA\n",
       "16         john_n@gmail.com       John    V. Neuman           Hungary"
      ]
     },
     "execution_count": 130,
     "metadata": {},
     "output_type": "execute_result"
    }
   ],
   "source": [
    "# Using a Lambda function for converting back to lowercase\n",
    "data['email'] = data['email'].apply(lambda x: x.lower())\n",
    "data"
   ]
  },
  {
   "cell_type": "code",
   "execution_count": 131,
   "metadata": {},
   "outputs": [
    {
     "data": {
      "text/plain": [
       "email          4\n",
       "first_name     4\n",
       "last_name      4\n",
       "birth_place    4\n",
       "dtype: int64"
      ]
     },
     "execution_count": 131,
     "metadata": {},
     "output_type": "execute_result"
    }
   ],
   "source": [
    "# applying apply() to the entire data frame\n",
    "data.apply(len)"
   ]
  },
  {
   "cell_type": "code",
   "execution_count": 132,
   "metadata": {},
   "outputs": [
    {
     "data": {
      "text/plain": [
       "4"
      ]
     },
     "execution_count": 132,
     "metadata": {},
     "output_type": "execute_result"
    }
   ],
   "source": [
    "len(data['first_name'])"
   ]
  },
  {
   "cell_type": "code",
   "execution_count": 134,
   "metadata": {},
   "outputs": [
    {
     "data": {
      "text/plain": [
       "10    4\n",
       "12    4\n",
       "14    4\n",
       "16    4\n",
       "dtype: int64"
      ]
     },
     "execution_count": 134,
     "metadata": {},
     "output_type": "execute_result"
    }
   ],
   "source": [
    "data.apply(len, axis='columns')"
   ]
  },
  {
   "cell_type": "code",
   "execution_count": 135,
   "metadata": {},
   "outputs": [
    {
     "data": {
      "text/plain": [
       "email          alan_turing@outlook.com\n",
       "first_name                        Alan\n",
       "last_name                  Berners-Lee\n",
       "birth_place                    Hungary\n",
       "dtype: object"
      ]
     },
     "execution_count": 135,
     "metadata": {},
     "output_type": "execute_result"
    }
   ],
   "source": [
    "# selecting tehe minimum in every column (Series)\n",
    "# Lexographical sorting\n",
    "data.apply(pd.Series.min)"
   ]
  },
  {
   "cell_type": "code",
   "execution_count": 136,
   "metadata": {},
   "outputs": [
    {
     "data": {
      "text/plain": [
       "email          alan_turing@outlook.com\n",
       "first_name                        Alan\n",
       "last_name                  Berners-Lee\n",
       "birth_place                    Hungary\n",
       "dtype: object"
      ]
     },
     "execution_count": 136,
     "metadata": {},
     "output_type": "execute_result"
    }
   ],
   "source": [
    "# using Lambda\n",
    "data.apply(lambda x: x.min())"
   ]
  },
  {
   "cell_type": "code",
   "execution_count": 137,
   "metadata": {},
   "outputs": [
    {
     "data": {
      "text/plain": [
       "['Hungary', 'UK', 'USA', 'bermuda triangle']"
      ]
     },
     "execution_count": 137,
     "metadata": {},
     "output_type": "execute_result"
    }
   ],
   "source": [
    "sorted(data.birth_place)"
   ]
  },
  {
   "cell_type": "markdown",
   "metadata": {},
   "source": [
    "### Apply Map\n",
    "Only works with data frame objects and not series objects."
   ]
  },
  {
   "cell_type": "code",
   "execution_count": 138,
   "metadata": {},
   "outputs": [
    {
     "data": {
      "text/html": [
       "<div>\n",
       "<style scoped>\n",
       "    .dataframe tbody tr th:only-of-type {\n",
       "        vertical-align: middle;\n",
       "    }\n",
       "\n",
       "    .dataframe tbody tr th {\n",
       "        vertical-align: top;\n",
       "    }\n",
       "\n",
       "    .dataframe thead th {\n",
       "        text-align: right;\n",
       "    }\n",
       "</style>\n",
       "<table border=\"1\" class=\"dataframe\">\n",
       "  <thead>\n",
       "    <tr style=\"text-align: right;\">\n",
       "      <th></th>\n",
       "      <th>email</th>\n",
       "      <th>first_name</th>\n",
       "      <th>last_name</th>\n",
       "      <th>birth_place</th>\n",
       "    </tr>\n",
       "  </thead>\n",
       "  <tbody>\n",
       "    <tr>\n",
       "      <th>10</th>\n",
       "      <td>23</td>\n",
       "      <td>4</td>\n",
       "      <td>5</td>\n",
       "      <td>2</td>\n",
       "    </tr>\n",
       "    <tr>\n",
       "      <th>12</th>\n",
       "      <td>11</td>\n",
       "      <td>3</td>\n",
       "      <td>11</td>\n",
       "      <td>16</td>\n",
       "    </tr>\n",
       "    <tr>\n",
       "      <th>14</th>\n",
       "      <td>22</td>\n",
       "      <td>5</td>\n",
       "      <td>6</td>\n",
       "      <td>3</td>\n",
       "    </tr>\n",
       "    <tr>\n",
       "      <th>16</th>\n",
       "      <td>16</td>\n",
       "      <td>4</td>\n",
       "      <td>9</td>\n",
       "      <td>7</td>\n",
       "    </tr>\n",
       "  </tbody>\n",
       "</table>\n",
       "</div>"
      ],
      "text/plain": [
       "    email  first_name  last_name  birth_place\n",
       "10     23           4          5            2\n",
       "12     11           3         11           16\n",
       "14     22           5          6            3\n",
       "16     16           4          9            7"
      ]
     },
     "execution_count": 138,
     "metadata": {},
     "output_type": "execute_result"
    }
   ],
   "source": [
    "data.applymap(len)"
   ]
  },
  {
   "cell_type": "code",
   "execution_count": 139,
   "metadata": {},
   "outputs": [
    {
     "data": {
      "text/html": [
       "<div>\n",
       "<style scoped>\n",
       "    .dataframe tbody tr th:only-of-type {\n",
       "        vertical-align: middle;\n",
       "    }\n",
       "\n",
       "    .dataframe tbody tr th {\n",
       "        vertical-align: top;\n",
       "    }\n",
       "\n",
       "    .dataframe thead th {\n",
       "        text-align: right;\n",
       "    }\n",
       "</style>\n",
       "<table border=\"1\" class=\"dataframe\">\n",
       "  <thead>\n",
       "    <tr style=\"text-align: right;\">\n",
       "      <th></th>\n",
       "      <th>email</th>\n",
       "      <th>first_name</th>\n",
       "      <th>last_name</th>\n",
       "      <th>birth_place</th>\n",
       "    </tr>\n",
       "  </thead>\n",
       "  <tbody>\n",
       "    <tr>\n",
       "      <th>10</th>\n",
       "      <td>alan_turing@outlook.com</td>\n",
       "      <td>alan</td>\n",
       "      <td>smith</td>\n",
       "      <td>uk</td>\n",
       "    </tr>\n",
       "    <tr>\n",
       "      <th>12</th>\n",
       "      <td>tim@cern.ch</td>\n",
       "      <td>tim</td>\n",
       "      <td>berners-lee</td>\n",
       "      <td>bermuda triangle</td>\n",
       "    </tr>\n",
       "    <tr>\n",
       "      <th>14</th>\n",
       "      <td>grace.hopper@gmail.com</td>\n",
       "      <td>grace</td>\n",
       "      <td>hopper</td>\n",
       "      <td>usa</td>\n",
       "    </tr>\n",
       "    <tr>\n",
       "      <th>16</th>\n",
       "      <td>john_n@gmail.com</td>\n",
       "      <td>john</td>\n",
       "      <td>v. neuman</td>\n",
       "      <td>hungary</td>\n",
       "    </tr>\n",
       "  </tbody>\n",
       "</table>\n",
       "</div>"
      ],
      "text/plain": [
       "                      email first_name    last_name       birth_place\n",
       "10  alan_turing@outlook.com       alan        smith                uk\n",
       "12              tim@cern.ch        tim  berners-lee  bermuda triangle\n",
       "14   grace.hopper@gmail.com      grace       hopper               usa\n",
       "16         john_n@gmail.com       john    v. neuman           hungary"
      ]
     },
     "execution_count": 139,
     "metadata": {},
     "output_type": "execute_result"
    }
   ],
   "source": [
    "# converting everything to lowercase\n",
    "data.applymap(str.lower)"
   ]
  },
  {
   "cell_type": "markdown",
   "metadata": {},
   "source": [
    "### Map method"
   ]
  },
  {
   "cell_type": "code",
   "execution_count": 140,
   "metadata": {},
   "outputs": [
    {
     "data": {
      "text/plain": [
       "10     Alan\n",
       "12      Tim\n",
       "14    Grace\n",
       "16     John\n",
       "Name: first_name, dtype: object"
      ]
     },
     "execution_count": 140,
     "metadata": {},
     "output_type": "execute_result"
    }
   ],
   "source": [
    "data['first_name']"
   ]
  },
  {
   "cell_type": "code",
   "execution_count": 141,
   "metadata": {},
   "outputs": [
    {
     "data": {
      "text/plain": [
       "10    Chris\n",
       "12      NaN\n",
       "14      NaN\n",
       "16     Jane\n",
       "Name: first_name, dtype: object"
      ]
     },
     "execution_count": 141,
     "metadata": {},
     "output_type": "execute_result"
    }
   ],
   "source": [
    "data['first_name'].map({\n",
    "    'Alan': 'Chris',\n",
    "    'John': 'Jane'\n",
    "})"
   ]
  },
  {
   "cell_type": "code",
   "execution_count": 142,
   "metadata": {},
   "outputs": [
    {
     "data": {
      "text/plain": [
       "10    Chris\n",
       "12      Tim\n",
       "14    Grace\n",
       "16     Jane\n",
       "Name: first_name, dtype: object"
      ]
     },
     "execution_count": 142,
     "metadata": {},
     "output_type": "execute_result"
    }
   ],
   "source": [
    "# replace doesn't put NaN values, whereas map does\n",
    "data['first_name'].replace({\n",
    "    'Alan': 'Chris',\n",
    "    'John': 'Jane'\n",
    "})"
   ]
  },
  {
   "cell_type": "code",
   "execution_count": 143,
   "metadata": {},
   "outputs": [
    {
     "data": {
      "text/html": [
       "<div>\n",
       "<style scoped>\n",
       "    .dataframe tbody tr th:only-of-type {\n",
       "        vertical-align: middle;\n",
       "    }\n",
       "\n",
       "    .dataframe tbody tr th {\n",
       "        vertical-align: top;\n",
       "    }\n",
       "\n",
       "    .dataframe thead th {\n",
       "        text-align: right;\n",
       "    }\n",
       "</style>\n",
       "<table border=\"1\" class=\"dataframe\">\n",
       "  <thead>\n",
       "    <tr style=\"text-align: right;\">\n",
       "      <th></th>\n",
       "      <th>email</th>\n",
       "      <th>first_name</th>\n",
       "      <th>last_name</th>\n",
       "      <th>birth_place</th>\n",
       "    </tr>\n",
       "  </thead>\n",
       "  <tbody>\n",
       "    <tr>\n",
       "      <th>10</th>\n",
       "      <td>alan_turing@outlook.com</td>\n",
       "      <td>Chris</td>\n",
       "      <td>Smith</td>\n",
       "      <td>UK</td>\n",
       "    </tr>\n",
       "    <tr>\n",
       "      <th>12</th>\n",
       "      <td>tim@cern.ch</td>\n",
       "      <td>Tim</td>\n",
       "      <td>Berners-Lee</td>\n",
       "      <td>bermuda triangle</td>\n",
       "    </tr>\n",
       "    <tr>\n",
       "      <th>14</th>\n",
       "      <td>grace.hopper@gmail.com</td>\n",
       "      <td>Grace</td>\n",
       "      <td>Hopper</td>\n",
       "      <td>USA</td>\n",
       "    </tr>\n",
       "    <tr>\n",
       "      <th>16</th>\n",
       "      <td>john_n@gmail.com</td>\n",
       "      <td>Jane</td>\n",
       "      <td>V. Neuman</td>\n",
       "      <td>Hungary</td>\n",
       "    </tr>\n",
       "  </tbody>\n",
       "</table>\n",
       "</div>"
      ],
      "text/plain": [
       "                      email first_name    last_name       birth_place\n",
       "10  alan_turing@outlook.com      Chris        Smith                UK\n",
       "12              tim@cern.ch        Tim  Berners-Lee  bermuda triangle\n",
       "14   grace.hopper@gmail.com      Grace       Hopper               USA\n",
       "16         john_n@gmail.com       Jane    V. Neuman           Hungary"
      ]
     },
     "execution_count": 143,
     "metadata": {},
     "output_type": "execute_result"
    }
   ],
   "source": [
    "# to update the value of our data frame we need to set the series to it\n",
    "data['first_name'] = data['first_name'].replace({\n",
    "    'Alan': 'Chris',\n",
    "    'John': 'Jane'\n",
    "})\n",
    "data"
   ]
  },
  {
   "cell_type": "markdown",
   "metadata": {},
   "source": [
    "## Adding and Removing Columns From The Table"
   ]
  },
  {
   "cell_type": "code",
   "execution_count": 144,
   "metadata": {},
   "outputs": [
    {
     "data": {
      "text/plain": [
       "10        Chris Smith\n",
       "12    Tim Berners-Lee\n",
       "14       Grace Hopper\n",
       "16     Jane V. Neuman\n",
       "dtype: object"
      ]
     },
     "execution_count": 144,
     "metadata": {},
     "output_type": "execute_result"
    }
   ],
   "source": [
    "data['first_name'] + ' ' + data['last_name']"
   ]
  },
  {
   "cell_type": "code",
   "execution_count": 145,
   "metadata": {},
   "outputs": [
    {
     "data": {
      "text/html": [
       "<div>\n",
       "<style scoped>\n",
       "    .dataframe tbody tr th:only-of-type {\n",
       "        vertical-align: middle;\n",
       "    }\n",
       "\n",
       "    .dataframe tbody tr th {\n",
       "        vertical-align: top;\n",
       "    }\n",
       "\n",
       "    .dataframe thead th {\n",
       "        text-align: right;\n",
       "    }\n",
       "</style>\n",
       "<table border=\"1\" class=\"dataframe\">\n",
       "  <thead>\n",
       "    <tr style=\"text-align: right;\">\n",
       "      <th></th>\n",
       "      <th>email</th>\n",
       "      <th>first_name</th>\n",
       "      <th>last_name</th>\n",
       "      <th>birth_place</th>\n",
       "      <th>full_name</th>\n",
       "    </tr>\n",
       "  </thead>\n",
       "  <tbody>\n",
       "    <tr>\n",
       "      <th>10</th>\n",
       "      <td>alan_turing@outlook.com</td>\n",
       "      <td>Chris</td>\n",
       "      <td>Smith</td>\n",
       "      <td>UK</td>\n",
       "      <td>Chris Smith</td>\n",
       "    </tr>\n",
       "    <tr>\n",
       "      <th>12</th>\n",
       "      <td>tim@cern.ch</td>\n",
       "      <td>Tim</td>\n",
       "      <td>Berners-Lee</td>\n",
       "      <td>bermuda triangle</td>\n",
       "      <td>Tim Berners-Lee</td>\n",
       "    </tr>\n",
       "    <tr>\n",
       "      <th>14</th>\n",
       "      <td>grace.hopper@gmail.com</td>\n",
       "      <td>Grace</td>\n",
       "      <td>Hopper</td>\n",
       "      <td>USA</td>\n",
       "      <td>Grace Hopper</td>\n",
       "    </tr>\n",
       "    <tr>\n",
       "      <th>16</th>\n",
       "      <td>john_n@gmail.com</td>\n",
       "      <td>Jane</td>\n",
       "      <td>V. Neuman</td>\n",
       "      <td>Hungary</td>\n",
       "      <td>Jane V. Neuman</td>\n",
       "    </tr>\n",
       "  </tbody>\n",
       "</table>\n",
       "</div>"
      ],
      "text/plain": [
       "                      email first_name    last_name       birth_place  \\\n",
       "10  alan_turing@outlook.com      Chris        Smith                UK   \n",
       "12              tim@cern.ch        Tim  Berners-Lee  bermuda triangle   \n",
       "14   grace.hopper@gmail.com      Grace       Hopper               USA   \n",
       "16         john_n@gmail.com       Jane    V. Neuman           Hungary   \n",
       "\n",
       "          full_name  \n",
       "10      Chris Smith  \n",
       "12  Tim Berners-Lee  \n",
       "14     Grace Hopper  \n",
       "16   Jane V. Neuman  "
      ]
     },
     "execution_count": 145,
     "metadata": {},
     "output_type": "execute_result"
    }
   ],
   "source": [
    "# creating a full_name column\n",
    "data['full_name'] = data['first_name'] + ' ' + data['last_name']\n",
    "data"
   ]
  },
  {
   "cell_type": "code",
   "execution_count": 146,
   "metadata": {},
   "outputs": [
    {
     "data": {
      "text/html": [
       "<div>\n",
       "<style scoped>\n",
       "    .dataframe tbody tr th:only-of-type {\n",
       "        vertical-align: middle;\n",
       "    }\n",
       "\n",
       "    .dataframe tbody tr th {\n",
       "        vertical-align: top;\n",
       "    }\n",
       "\n",
       "    .dataframe thead th {\n",
       "        text-align: right;\n",
       "    }\n",
       "</style>\n",
       "<table border=\"1\" class=\"dataframe\">\n",
       "  <thead>\n",
       "    <tr style=\"text-align: right;\">\n",
       "      <th></th>\n",
       "      <th>email</th>\n",
       "      <th>birth_place</th>\n",
       "      <th>full_name</th>\n",
       "    </tr>\n",
       "  </thead>\n",
       "  <tbody>\n",
       "    <tr>\n",
       "      <th>10</th>\n",
       "      <td>alan_turing@outlook.com</td>\n",
       "      <td>UK</td>\n",
       "      <td>Chris Smith</td>\n",
       "    </tr>\n",
       "    <tr>\n",
       "      <th>12</th>\n",
       "      <td>tim@cern.ch</td>\n",
       "      <td>bermuda triangle</td>\n",
       "      <td>Tim Berners-Lee</td>\n",
       "    </tr>\n",
       "    <tr>\n",
       "      <th>14</th>\n",
       "      <td>grace.hopper@gmail.com</td>\n",
       "      <td>USA</td>\n",
       "      <td>Grace Hopper</td>\n",
       "    </tr>\n",
       "    <tr>\n",
       "      <th>16</th>\n",
       "      <td>john_n@gmail.com</td>\n",
       "      <td>Hungary</td>\n",
       "      <td>Jane V. Neuman</td>\n",
       "    </tr>\n",
       "  </tbody>\n",
       "</table>\n",
       "</div>"
      ],
      "text/plain": [
       "                      email       birth_place        full_name\n",
       "10  alan_turing@outlook.com                UK      Chris Smith\n",
       "12              tim@cern.ch  bermuda triangle  Tim Berners-Lee\n",
       "14   grace.hopper@gmail.com               USA     Grace Hopper\n",
       "16         john_n@gmail.com           Hungary   Jane V. Neuman"
      ]
     },
     "execution_count": 146,
     "metadata": {},
     "output_type": "execute_result"
    }
   ],
   "source": [
    "# Removing columns from the dataframe\n",
    "data.drop(columns=['first_name', 'last_name'])"
   ]
  },
  {
   "cell_type": "code",
   "execution_count": 147,
   "metadata": {},
   "outputs": [
    {
     "data": {
      "text/html": [
       "<div>\n",
       "<style scoped>\n",
       "    .dataframe tbody tr th:only-of-type {\n",
       "        vertical-align: middle;\n",
       "    }\n",
       "\n",
       "    .dataframe tbody tr th {\n",
       "        vertical-align: top;\n",
       "    }\n",
       "\n",
       "    .dataframe thead th {\n",
       "        text-align: right;\n",
       "    }\n",
       "</style>\n",
       "<table border=\"1\" class=\"dataframe\">\n",
       "  <thead>\n",
       "    <tr style=\"text-align: right;\">\n",
       "      <th></th>\n",
       "      <th>email</th>\n",
       "      <th>first_name</th>\n",
       "      <th>last_name</th>\n",
       "      <th>birth_place</th>\n",
       "      <th>full_name</th>\n",
       "    </tr>\n",
       "  </thead>\n",
       "  <tbody>\n",
       "    <tr>\n",
       "      <th>10</th>\n",
       "      <td>alan_turing@outlook.com</td>\n",
       "      <td>Chris</td>\n",
       "      <td>Smith</td>\n",
       "      <td>UK</td>\n",
       "      <td>Chris Smith</td>\n",
       "    </tr>\n",
       "    <tr>\n",
       "      <th>12</th>\n",
       "      <td>tim@cern.ch</td>\n",
       "      <td>Tim</td>\n",
       "      <td>Berners-Lee</td>\n",
       "      <td>bermuda triangle</td>\n",
       "      <td>Tim Berners-Lee</td>\n",
       "    </tr>\n",
       "    <tr>\n",
       "      <th>14</th>\n",
       "      <td>grace.hopper@gmail.com</td>\n",
       "      <td>Grace</td>\n",
       "      <td>Hopper</td>\n",
       "      <td>USA</td>\n",
       "      <td>Grace Hopper</td>\n",
       "    </tr>\n",
       "    <tr>\n",
       "      <th>16</th>\n",
       "      <td>john_n@gmail.com</td>\n",
       "      <td>Jane</td>\n",
       "      <td>V. Neuman</td>\n",
       "      <td>Hungary</td>\n",
       "      <td>Jane V. Neuman</td>\n",
       "    </tr>\n",
       "  </tbody>\n",
       "</table>\n",
       "</div>"
      ],
      "text/plain": [
       "                      email first_name    last_name       birth_place  \\\n",
       "10  alan_turing@outlook.com      Chris        Smith                UK   \n",
       "12              tim@cern.ch        Tim  Berners-Lee  bermuda triangle   \n",
       "14   grace.hopper@gmail.com      Grace       Hopper               USA   \n",
       "16         john_n@gmail.com       Jane    V. Neuman           Hungary   \n",
       "\n",
       "          full_name  \n",
       "10      Chris Smith  \n",
       "12  Tim Berners-Lee  \n",
       "14     Grace Hopper  \n",
       "16   Jane V. Neuman  "
      ]
     },
     "execution_count": 147,
     "metadata": {},
     "output_type": "execute_result"
    }
   ],
   "source": [
    "data"
   ]
  },
  {
   "cell_type": "code",
   "execution_count": 149,
   "metadata": {},
   "outputs": [
    {
     "data": {
      "text/html": [
       "<div>\n",
       "<style scoped>\n",
       "    .dataframe tbody tr th:only-of-type {\n",
       "        vertical-align: middle;\n",
       "    }\n",
       "\n",
       "    .dataframe tbody tr th {\n",
       "        vertical-align: top;\n",
       "    }\n",
       "\n",
       "    .dataframe thead th {\n",
       "        text-align: right;\n",
       "    }\n",
       "</style>\n",
       "<table border=\"1\" class=\"dataframe\">\n",
       "  <thead>\n",
       "    <tr style=\"text-align: right;\">\n",
       "      <th></th>\n",
       "      <th>0</th>\n",
       "      <th>1</th>\n",
       "      <th>2</th>\n",
       "    </tr>\n",
       "  </thead>\n",
       "  <tbody>\n",
       "    <tr>\n",
       "      <th>10</th>\n",
       "      <td>Chris</td>\n",
       "      <td>Smith</td>\n",
       "      <td>None</td>\n",
       "    </tr>\n",
       "    <tr>\n",
       "      <th>12</th>\n",
       "      <td>Tim</td>\n",
       "      <td>Berners-Lee</td>\n",
       "      <td>None</td>\n",
       "    </tr>\n",
       "    <tr>\n",
       "      <th>14</th>\n",
       "      <td>Grace</td>\n",
       "      <td>Hopper</td>\n",
       "      <td>None</td>\n",
       "    </tr>\n",
       "    <tr>\n",
       "      <th>16</th>\n",
       "      <td>Jane</td>\n",
       "      <td>V.</td>\n",
       "      <td>Neuman</td>\n",
       "    </tr>\n",
       "  </tbody>\n",
       "</table>\n",
       "</div>"
      ],
      "text/plain": [
       "        0            1       2\n",
       "10  Chris        Smith    None\n",
       "12    Tim  Berners-Lee    None\n",
       "14  Grace       Hopper    None\n",
       "16   Jane           V.  Neuman"
      ]
     },
     "execution_count": 149,
     "metadata": {},
     "output_type": "execute_result"
    }
   ],
   "source": [
    "data['full_name'].str.split(expand=True)"
   ]
  },
  {
   "cell_type": "markdown",
   "metadata": {},
   "source": [
    "## Adding / Removing Rows of Data"
   ]
  },
  {
   "cell_type": "code",
   "execution_count": 150,
   "metadata": {},
   "outputs": [
    {
     "data": {
      "text/html": [
       "<div>\n",
       "<style scoped>\n",
       "    .dataframe tbody tr th:only-of-type {\n",
       "        vertical-align: middle;\n",
       "    }\n",
       "\n",
       "    .dataframe tbody tr th {\n",
       "        vertical-align: top;\n",
       "    }\n",
       "\n",
       "    .dataframe thead th {\n",
       "        text-align: right;\n",
       "    }\n",
       "</style>\n",
       "<table border=\"1\" class=\"dataframe\">\n",
       "  <thead>\n",
       "    <tr style=\"text-align: right;\">\n",
       "      <th></th>\n",
       "      <th>email</th>\n",
       "      <th>first_name</th>\n",
       "      <th>last_name</th>\n",
       "      <th>birth_place</th>\n",
       "      <th>full_name</th>\n",
       "    </tr>\n",
       "  </thead>\n",
       "  <tbody>\n",
       "    <tr>\n",
       "      <th>0</th>\n",
       "      <td>alan_turing@outlook.com</td>\n",
       "      <td>Chris</td>\n",
       "      <td>Smith</td>\n",
       "      <td>UK</td>\n",
       "      <td>Chris Smith</td>\n",
       "    </tr>\n",
       "    <tr>\n",
       "      <th>1</th>\n",
       "      <td>tim@cern.ch</td>\n",
       "      <td>Tim</td>\n",
       "      <td>Berners-Lee</td>\n",
       "      <td>bermuda triangle</td>\n",
       "      <td>Tim Berners-Lee</td>\n",
       "    </tr>\n",
       "    <tr>\n",
       "      <th>2</th>\n",
       "      <td>grace.hopper@gmail.com</td>\n",
       "      <td>Grace</td>\n",
       "      <td>Hopper</td>\n",
       "      <td>USA</td>\n",
       "      <td>Grace Hopper</td>\n",
       "    </tr>\n",
       "    <tr>\n",
       "      <th>3</th>\n",
       "      <td>john_n@gmail.com</td>\n",
       "      <td>Jane</td>\n",
       "      <td>V. Neuman</td>\n",
       "      <td>Hungary</td>\n",
       "      <td>Jane V. Neuman</td>\n",
       "    </tr>\n",
       "    <tr>\n",
       "      <th>4</th>\n",
       "      <td>NaN</td>\n",
       "      <td>Tony</td>\n",
       "      <td>NaN</td>\n",
       "      <td>NaN</td>\n",
       "      <td>NaN</td>\n",
       "    </tr>\n",
       "  </tbody>\n",
       "</table>\n",
       "</div>"
      ],
      "text/plain": [
       "                     email first_name    last_name       birth_place  \\\n",
       "0  alan_turing@outlook.com      Chris        Smith                UK   \n",
       "1              tim@cern.ch        Tim  Berners-Lee  bermuda triangle   \n",
       "2   grace.hopper@gmail.com      Grace       Hopper               USA   \n",
       "3         john_n@gmail.com       Jane    V. Neuman           Hungary   \n",
       "4                      NaN       Tony          NaN               NaN   \n",
       "\n",
       "         full_name  \n",
       "0      Chris Smith  \n",
       "1  Tim Berners-Lee  \n",
       "2     Grace Hopper  \n",
       "3   Jane V. Neuman  \n",
       "4              NaN  "
      ]
     },
     "execution_count": 150,
     "metadata": {},
     "output_type": "execute_result"
    }
   ],
   "source": [
    "data.append({'first_name': 'Tony'}, ignore_index=True)"
   ]
  },
  {
   "cell_type": "markdown",
   "metadata": {},
   "source": [
    "## Recreating Table"
   ]
  },
  {
   "cell_type": "code",
   "execution_count": 151,
   "metadata": {},
   "outputs": [],
   "source": [
    "people = {\n",
    "    'first_name': ['Tony', 'Steve'],\n",
    "    'last_name': ['Stark', 'Rogers'],\n",
    "    'email': ['tony@avengers.com', 'steve@avengers.com']\n",
    "}"
   ]
  },
  {
   "cell_type": "code",
   "execution_count": 152,
   "metadata": {},
   "outputs": [
    {
     "data": {
      "text/html": [
       "<div>\n",
       "<style scoped>\n",
       "    .dataframe tbody tr th:only-of-type {\n",
       "        vertical-align: middle;\n",
       "    }\n",
       "\n",
       "    .dataframe tbody tr th {\n",
       "        vertical-align: top;\n",
       "    }\n",
       "\n",
       "    .dataframe thead th {\n",
       "        text-align: right;\n",
       "    }\n",
       "</style>\n",
       "<table border=\"1\" class=\"dataframe\">\n",
       "  <thead>\n",
       "    <tr style=\"text-align: right;\">\n",
       "      <th></th>\n",
       "      <th>first_name</th>\n",
       "      <th>last_name</th>\n",
       "      <th>email</th>\n",
       "    </tr>\n",
       "  </thead>\n",
       "  <tbody>\n",
       "    <tr>\n",
       "      <th>0</th>\n",
       "      <td>Tony</td>\n",
       "      <td>Stark</td>\n",
       "      <td>tony@avengers.com</td>\n",
       "    </tr>\n",
       "    <tr>\n",
       "      <th>1</th>\n",
       "      <td>Steve</td>\n",
       "      <td>Rogers</td>\n",
       "      <td>steve@avengers.com</td>\n",
       "    </tr>\n",
       "  </tbody>\n",
       "</table>\n",
       "</div>"
      ],
      "text/plain": [
       "  first_name last_name               email\n",
       "0       Tony     Stark   tony@avengers.com\n",
       "1      Steve    Rogers  steve@avengers.com"
      ]
     },
     "execution_count": 152,
     "metadata": {},
     "output_type": "execute_result"
    }
   ],
   "source": [
    "df = pd.DataFrame(people)\n",
    "df"
   ]
  },
  {
   "cell_type": "code",
   "execution_count": 153,
   "metadata": {},
   "outputs": [
    {
     "data": {
      "text/html": [
       "<div>\n",
       "<style scoped>\n",
       "    .dataframe tbody tr th:only-of-type {\n",
       "        vertical-align: middle;\n",
       "    }\n",
       "\n",
       "    .dataframe tbody tr th {\n",
       "        vertical-align: top;\n",
       "    }\n",
       "\n",
       "    .dataframe thead th {\n",
       "        text-align: right;\n",
       "    }\n",
       "</style>\n",
       "<table border=\"1\" class=\"dataframe\">\n",
       "  <thead>\n",
       "    <tr style=\"text-align: right;\">\n",
       "      <th></th>\n",
       "      <th>email</th>\n",
       "      <th>first_name</th>\n",
       "      <th>last_name</th>\n",
       "      <th>birth_place</th>\n",
       "      <th>full_name</th>\n",
       "    </tr>\n",
       "  </thead>\n",
       "  <tbody>\n",
       "    <tr>\n",
       "      <th>0</th>\n",
       "      <td>alan_turing@outlook.com</td>\n",
       "      <td>Chris</td>\n",
       "      <td>Smith</td>\n",
       "      <td>UK</td>\n",
       "      <td>Chris Smith</td>\n",
       "    </tr>\n",
       "    <tr>\n",
       "      <th>1</th>\n",
       "      <td>tim@cern.ch</td>\n",
       "      <td>Tim</td>\n",
       "      <td>Berners-Lee</td>\n",
       "      <td>bermuda triangle</td>\n",
       "      <td>Tim Berners-Lee</td>\n",
       "    </tr>\n",
       "    <tr>\n",
       "      <th>2</th>\n",
       "      <td>grace.hopper@gmail.com</td>\n",
       "      <td>Grace</td>\n",
       "      <td>Hopper</td>\n",
       "      <td>USA</td>\n",
       "      <td>Grace Hopper</td>\n",
       "    </tr>\n",
       "    <tr>\n",
       "      <th>3</th>\n",
       "      <td>john_n@gmail.com</td>\n",
       "      <td>Jane</td>\n",
       "      <td>V. Neuman</td>\n",
       "      <td>Hungary</td>\n",
       "      <td>Jane V. Neuman</td>\n",
       "    </tr>\n",
       "    <tr>\n",
       "      <th>4</th>\n",
       "      <td>tony@avengers.com</td>\n",
       "      <td>Tony</td>\n",
       "      <td>Stark</td>\n",
       "      <td>NaN</td>\n",
       "      <td>NaN</td>\n",
       "    </tr>\n",
       "    <tr>\n",
       "      <th>5</th>\n",
       "      <td>steve@avengers.com</td>\n",
       "      <td>Steve</td>\n",
       "      <td>Rogers</td>\n",
       "      <td>NaN</td>\n",
       "      <td>NaN</td>\n",
       "    </tr>\n",
       "  </tbody>\n",
       "</table>\n",
       "</div>"
      ],
      "text/plain": [
       "                     email first_name    last_name       birth_place  \\\n",
       "0  alan_turing@outlook.com      Chris        Smith                UK   \n",
       "1              tim@cern.ch        Tim  Berners-Lee  bermuda triangle   \n",
       "2   grace.hopper@gmail.com      Grace       Hopper               USA   \n",
       "3         john_n@gmail.com       Jane    V. Neuman           Hungary   \n",
       "4        tony@avengers.com       Tony        Stark               NaN   \n",
       "5       steve@avengers.com      Steve       Rogers               NaN   \n",
       "\n",
       "         full_name  \n",
       "0      Chris Smith  \n",
       "1  Tim Berners-Lee  \n",
       "2     Grace Hopper  \n",
       "3   Jane V. Neuman  \n",
       "4              NaN  \n",
       "5              NaN  "
      ]
     },
     "execution_count": 153,
     "metadata": {},
     "output_type": "execute_result"
    }
   ],
   "source": [
    "data.append(df, ignore_index=True)"
   ]
  },
  {
   "cell_type": "code",
   "execution_count": 154,
   "metadata": {},
   "outputs": [
    {
     "data": {
      "text/html": [
       "<div>\n",
       "<style scoped>\n",
       "    .dataframe tbody tr th:only-of-type {\n",
       "        vertical-align: middle;\n",
       "    }\n",
       "\n",
       "    .dataframe tbody tr th {\n",
       "        vertical-align: top;\n",
       "    }\n",
       "\n",
       "    .dataframe thead th {\n",
       "        text-align: right;\n",
       "    }\n",
       "</style>\n",
       "<table border=\"1\" class=\"dataframe\">\n",
       "  <thead>\n",
       "    <tr style=\"text-align: right;\">\n",
       "      <th></th>\n",
       "      <th>email</th>\n",
       "      <th>first_name</th>\n",
       "      <th>last_name</th>\n",
       "      <th>birth_place</th>\n",
       "      <th>full_name</th>\n",
       "    </tr>\n",
       "  </thead>\n",
       "  <tbody>\n",
       "    <tr>\n",
       "      <th>10</th>\n",
       "      <td>alan_turing@outlook.com</td>\n",
       "      <td>Chris</td>\n",
       "      <td>Smith</td>\n",
       "      <td>UK</td>\n",
       "      <td>Chris Smith</td>\n",
       "    </tr>\n",
       "    <tr>\n",
       "      <th>12</th>\n",
       "      <td>tim@cern.ch</td>\n",
       "      <td>Tim</td>\n",
       "      <td>Berners-Lee</td>\n",
       "      <td>bermuda triangle</td>\n",
       "      <td>Tim Berners-Lee</td>\n",
       "    </tr>\n",
       "    <tr>\n",
       "      <th>14</th>\n",
       "      <td>grace.hopper@gmail.com</td>\n",
       "      <td>Grace</td>\n",
       "      <td>Hopper</td>\n",
       "      <td>USA</td>\n",
       "      <td>Grace Hopper</td>\n",
       "    </tr>\n",
       "    <tr>\n",
       "      <th>16</th>\n",
       "      <td>john_n@gmail.com</td>\n",
       "      <td>Jane</td>\n",
       "      <td>V. Neuman</td>\n",
       "      <td>Hungary</td>\n",
       "      <td>Jane V. Neuman</td>\n",
       "    </tr>\n",
       "  </tbody>\n",
       "</table>\n",
       "</div>"
      ],
      "text/plain": [
       "                      email first_name    last_name       birth_place  \\\n",
       "10  alan_turing@outlook.com      Chris        Smith                UK   \n",
       "12              tim@cern.ch        Tim  Berners-Lee  bermuda triangle   \n",
       "14   grace.hopper@gmail.com      Grace       Hopper               USA   \n",
       "16         john_n@gmail.com       Jane    V. Neuman           Hungary   \n",
       "\n",
       "          full_name  \n",
       "10      Chris Smith  \n",
       "12  Tim Berners-Lee  \n",
       "14     Grace Hopper  \n",
       "16   Jane V. Neuman  "
      ]
     },
     "execution_count": 154,
     "metadata": {},
     "output_type": "execute_result"
    }
   ],
   "source": [
    "data"
   ]
  },
  {
   "cell_type": "code",
   "execution_count": 155,
   "metadata": {},
   "outputs": [
    {
     "data": {
      "text/html": [
       "<div>\n",
       "<style scoped>\n",
       "    .dataframe tbody tr th:only-of-type {\n",
       "        vertical-align: middle;\n",
       "    }\n",
       "\n",
       "    .dataframe tbody tr th {\n",
       "        vertical-align: top;\n",
       "    }\n",
       "\n",
       "    .dataframe thead th {\n",
       "        text-align: right;\n",
       "    }\n",
       "</style>\n",
       "<table border=\"1\" class=\"dataframe\">\n",
       "  <thead>\n",
       "    <tr style=\"text-align: right;\">\n",
       "      <th></th>\n",
       "      <th>email</th>\n",
       "      <th>first_name</th>\n",
       "      <th>last_name</th>\n",
       "      <th>birth_place</th>\n",
       "      <th>full_name</th>\n",
       "    </tr>\n",
       "  </thead>\n",
       "  <tbody>\n",
       "    <tr>\n",
       "      <th>0</th>\n",
       "      <td>alan_turing@outlook.com</td>\n",
       "      <td>Chris</td>\n",
       "      <td>Smith</td>\n",
       "      <td>UK</td>\n",
       "      <td>Chris Smith</td>\n",
       "    </tr>\n",
       "    <tr>\n",
       "      <th>1</th>\n",
       "      <td>tim@cern.ch</td>\n",
       "      <td>Tim</td>\n",
       "      <td>Berners-Lee</td>\n",
       "      <td>bermuda triangle</td>\n",
       "      <td>Tim Berners-Lee</td>\n",
       "    </tr>\n",
       "    <tr>\n",
       "      <th>2</th>\n",
       "      <td>grace.hopper@gmail.com</td>\n",
       "      <td>Grace</td>\n",
       "      <td>Hopper</td>\n",
       "      <td>USA</td>\n",
       "      <td>Grace Hopper</td>\n",
       "    </tr>\n",
       "    <tr>\n",
       "      <th>3</th>\n",
       "      <td>john_n@gmail.com</td>\n",
       "      <td>Jane</td>\n",
       "      <td>V. Neuman</td>\n",
       "      <td>Hungary</td>\n",
       "      <td>Jane V. Neuman</td>\n",
       "    </tr>\n",
       "    <tr>\n",
       "      <th>4</th>\n",
       "      <td>tony@avengers.com</td>\n",
       "      <td>Tony</td>\n",
       "      <td>Stark</td>\n",
       "      <td>NaN</td>\n",
       "      <td>NaN</td>\n",
       "    </tr>\n",
       "    <tr>\n",
       "      <th>5</th>\n",
       "      <td>steve@avengers.com</td>\n",
       "      <td>Steve</td>\n",
       "      <td>Rogers</td>\n",
       "      <td>NaN</td>\n",
       "      <td>NaN</td>\n",
       "    </tr>\n",
       "  </tbody>\n",
       "</table>\n",
       "</div>"
      ],
      "text/plain": [
       "                     email first_name    last_name       birth_place  \\\n",
       "0  alan_turing@outlook.com      Chris        Smith                UK   \n",
       "1              tim@cern.ch        Tim  Berners-Lee  bermuda triangle   \n",
       "2   grace.hopper@gmail.com      Grace       Hopper               USA   \n",
       "3         john_n@gmail.com       Jane    V. Neuman           Hungary   \n",
       "4        tony@avengers.com       Tony        Stark               NaN   \n",
       "5       steve@avengers.com      Steve       Rogers               NaN   \n",
       "\n",
       "         full_name  \n",
       "0      Chris Smith  \n",
       "1  Tim Berners-Lee  \n",
       "2     Grace Hopper  \n",
       "3   Jane V. Neuman  \n",
       "4              NaN  \n",
       "5              NaN  "
      ]
     },
     "execution_count": 155,
     "metadata": {},
     "output_type": "execute_result"
    }
   ],
   "source": [
    "data = data.append(df, ignore_index=True)\n",
    "data"
   ]
  },
  {
   "cell_type": "code",
   "execution_count": 156,
   "metadata": {},
   "outputs": [
    {
     "data": {
      "text/plain": [
       "RangeIndex(start=0, stop=6, step=1)"
      ]
     },
     "execution_count": 156,
     "metadata": {},
     "output_type": "execute_result"
    }
   ],
   "source": [
    "# removing a row\n",
    "data.index"
   ]
  },
  {
   "cell_type": "code",
   "execution_count": 157,
   "metadata": {},
   "outputs": [
    {
     "data": {
      "text/html": [
       "<div>\n",
       "<style scoped>\n",
       "    .dataframe tbody tr th:only-of-type {\n",
       "        vertical-align: middle;\n",
       "    }\n",
       "\n",
       "    .dataframe tbody tr th {\n",
       "        vertical-align: top;\n",
       "    }\n",
       "\n",
       "    .dataframe thead th {\n",
       "        text-align: right;\n",
       "    }\n",
       "</style>\n",
       "<table border=\"1\" class=\"dataframe\">\n",
       "  <thead>\n",
       "    <tr style=\"text-align: right;\">\n",
       "      <th></th>\n",
       "      <th>email</th>\n",
       "      <th>first_name</th>\n",
       "      <th>last_name</th>\n",
       "      <th>birth_place</th>\n",
       "      <th>full_name</th>\n",
       "    </tr>\n",
       "  </thead>\n",
       "  <tbody>\n",
       "    <tr>\n",
       "      <th>0</th>\n",
       "      <td>alan_turing@outlook.com</td>\n",
       "      <td>Chris</td>\n",
       "      <td>Smith</td>\n",
       "      <td>UK</td>\n",
       "      <td>Chris Smith</td>\n",
       "    </tr>\n",
       "    <tr>\n",
       "      <th>1</th>\n",
       "      <td>tim@cern.ch</td>\n",
       "      <td>Tim</td>\n",
       "      <td>Berners-Lee</td>\n",
       "      <td>bermuda triangle</td>\n",
       "      <td>Tim Berners-Lee</td>\n",
       "    </tr>\n",
       "    <tr>\n",
       "      <th>2</th>\n",
       "      <td>grace.hopper@gmail.com</td>\n",
       "      <td>Grace</td>\n",
       "      <td>Hopper</td>\n",
       "      <td>USA</td>\n",
       "      <td>Grace Hopper</td>\n",
       "    </tr>\n",
       "    <tr>\n",
       "      <th>3</th>\n",
       "      <td>john_n@gmail.com</td>\n",
       "      <td>Jane</td>\n",
       "      <td>V. Neuman</td>\n",
       "      <td>Hungary</td>\n",
       "      <td>Jane V. Neuman</td>\n",
       "    </tr>\n",
       "    <tr>\n",
       "      <th>4</th>\n",
       "      <td>tony@avengers.com</td>\n",
       "      <td>Tony</td>\n",
       "      <td>Stark</td>\n",
       "      <td>NaN</td>\n",
       "      <td>NaN</td>\n",
       "    </tr>\n",
       "  </tbody>\n",
       "</table>\n",
       "</div>"
      ],
      "text/plain": [
       "                     email first_name    last_name       birth_place  \\\n",
       "0  alan_turing@outlook.com      Chris        Smith                UK   \n",
       "1              tim@cern.ch        Tim  Berners-Lee  bermuda triangle   \n",
       "2   grace.hopper@gmail.com      Grace       Hopper               USA   \n",
       "3         john_n@gmail.com       Jane    V. Neuman           Hungary   \n",
       "4        tony@avengers.com       Tony        Stark               NaN   \n",
       "\n",
       "         full_name  \n",
       "0      Chris Smith  \n",
       "1  Tim Berners-Lee  \n",
       "2     Grace Hopper  \n",
       "3   Jane V. Neuman  \n",
       "4              NaN  "
      ]
     },
     "execution_count": 157,
     "metadata": {},
     "output_type": "execute_result"
    }
   ],
   "source": [
    "data.drop(index=5, inplace=True)\n",
    "data"
   ]
  },
  {
   "cell_type": "code",
   "execution_count": 158,
   "metadata": {},
   "outputs": [
    {
     "data": {
      "text/plain": [
       "0    False\n",
       "1    False\n",
       "2    False\n",
       "3     True\n",
       "4    False\n",
       "Name: first_name, dtype: bool"
      ]
     },
     "execution_count": 158,
     "metadata": {},
     "output_type": "execute_result"
    }
   ],
   "source": [
    "filter = data['first_name'] == 'Jane'\n",
    "filter"
   ]
  },
  {
   "cell_type": "code",
   "execution_count": 159,
   "metadata": {},
   "outputs": [
    {
     "data": {
      "text/plain": [
       "Int64Index([3], dtype='int64')"
      ]
     },
     "execution_count": 159,
     "metadata": {},
     "output_type": "execute_result"
    }
   ],
   "source": [
    "data.loc[filter].index"
   ]
  },
  {
   "cell_type": "code",
   "execution_count": 160,
   "metadata": {},
   "outputs": [
    {
     "data": {
      "text/html": [
       "<div>\n",
       "<style scoped>\n",
       "    .dataframe tbody tr th:only-of-type {\n",
       "        vertical-align: middle;\n",
       "    }\n",
       "\n",
       "    .dataframe tbody tr th {\n",
       "        vertical-align: top;\n",
       "    }\n",
       "\n",
       "    .dataframe thead th {\n",
       "        text-align: right;\n",
       "    }\n",
       "</style>\n",
       "<table border=\"1\" class=\"dataframe\">\n",
       "  <thead>\n",
       "    <tr style=\"text-align: right;\">\n",
       "      <th></th>\n",
       "      <th>email</th>\n",
       "      <th>first_name</th>\n",
       "      <th>last_name</th>\n",
       "      <th>birth_place</th>\n",
       "      <th>full_name</th>\n",
       "    </tr>\n",
       "  </thead>\n",
       "  <tbody>\n",
       "    <tr>\n",
       "      <th>0</th>\n",
       "      <td>alan_turing@outlook.com</td>\n",
       "      <td>Chris</td>\n",
       "      <td>Smith</td>\n",
       "      <td>UK</td>\n",
       "      <td>Chris Smith</td>\n",
       "    </tr>\n",
       "    <tr>\n",
       "      <th>1</th>\n",
       "      <td>tim@cern.ch</td>\n",
       "      <td>Tim</td>\n",
       "      <td>Berners-Lee</td>\n",
       "      <td>bermuda triangle</td>\n",
       "      <td>Tim Berners-Lee</td>\n",
       "    </tr>\n",
       "    <tr>\n",
       "      <th>2</th>\n",
       "      <td>grace.hopper@gmail.com</td>\n",
       "      <td>Grace</td>\n",
       "      <td>Hopper</td>\n",
       "      <td>USA</td>\n",
       "      <td>Grace Hopper</td>\n",
       "    </tr>\n",
       "    <tr>\n",
       "      <th>4</th>\n",
       "      <td>tony@avengers.com</td>\n",
       "      <td>Tony</td>\n",
       "      <td>Stark</td>\n",
       "      <td>NaN</td>\n",
       "      <td>NaN</td>\n",
       "    </tr>\n",
       "  </tbody>\n",
       "</table>\n",
       "</div>"
      ],
      "text/plain": [
       "                     email first_name    last_name       birth_place  \\\n",
       "0  alan_turing@outlook.com      Chris        Smith                UK   \n",
       "1              tim@cern.ch        Tim  Berners-Lee  bermuda triangle   \n",
       "2   grace.hopper@gmail.com      Grace       Hopper               USA   \n",
       "4        tony@avengers.com       Tony        Stark               NaN   \n",
       "\n",
       "         full_name  \n",
       "0      Chris Smith  \n",
       "1  Tim Berners-Lee  \n",
       "2     Grace Hopper  \n",
       "4              NaN  "
      ]
     },
     "execution_count": 160,
     "metadata": {},
     "output_type": "execute_result"
    }
   ],
   "source": [
    "data.drop(index=data.loc[filter].index)"
   ]
  },
  {
   "cell_type": "markdown",
   "metadata": {},
   "source": [
    "## Sorting Column in Pandas "
   ]
  },
  {
   "cell_type": "code",
   "execution_count": 162,
   "metadata": {},
   "outputs": [
    {
     "data": {
      "text/html": [
       "<div>\n",
       "<style scoped>\n",
       "    .dataframe tbody tr th:only-of-type {\n",
       "        vertical-align: middle;\n",
       "    }\n",
       "\n",
       "    .dataframe tbody tr th {\n",
       "        vertical-align: top;\n",
       "    }\n",
       "\n",
       "    .dataframe thead th {\n",
       "        text-align: right;\n",
       "    }\n",
       "</style>\n",
       "<table border=\"1\" class=\"dataframe\">\n",
       "  <thead>\n",
       "    <tr style=\"text-align: right;\">\n",
       "      <th></th>\n",
       "      <th>email</th>\n",
       "      <th>first_name</th>\n",
       "      <th>last_name</th>\n",
       "      <th>birth_place</th>\n",
       "      <th>full_name</th>\n",
       "    </tr>\n",
       "  </thead>\n",
       "  <tbody>\n",
       "    <tr>\n",
       "      <th>3</th>\n",
       "      <td>john_n@gmail.com</td>\n",
       "      <td>Jane</td>\n",
       "      <td>V. Neuman</td>\n",
       "      <td>Hungary</td>\n",
       "      <td>Jane V. Neuman</td>\n",
       "    </tr>\n",
       "    <tr>\n",
       "      <th>4</th>\n",
       "      <td>tony@avengers.com</td>\n",
       "      <td>Tony</td>\n",
       "      <td>Stark</td>\n",
       "      <td>NaN</td>\n",
       "      <td>NaN</td>\n",
       "    </tr>\n",
       "    <tr>\n",
       "      <th>0</th>\n",
       "      <td>alan_turing@outlook.com</td>\n",
       "      <td>Chris</td>\n",
       "      <td>Smith</td>\n",
       "      <td>UK</td>\n",
       "      <td>Chris Smith</td>\n",
       "    </tr>\n",
       "    <tr>\n",
       "      <th>2</th>\n",
       "      <td>grace.hopper@gmail.com</td>\n",
       "      <td>Grace</td>\n",
       "      <td>Hopper</td>\n",
       "      <td>USA</td>\n",
       "      <td>Grace Hopper</td>\n",
       "    </tr>\n",
       "    <tr>\n",
       "      <th>1</th>\n",
       "      <td>tim@cern.ch</td>\n",
       "      <td>Tim</td>\n",
       "      <td>Berners-Lee</td>\n",
       "      <td>bermuda triangle</td>\n",
       "      <td>Tim Berners-Lee</td>\n",
       "    </tr>\n",
       "  </tbody>\n",
       "</table>\n",
       "</div>"
      ],
      "text/plain": [
       "                     email first_name    last_name       birth_place  \\\n",
       "3         john_n@gmail.com       Jane    V. Neuman           Hungary   \n",
       "4        tony@avengers.com       Tony        Stark               NaN   \n",
       "0  alan_turing@outlook.com      Chris        Smith                UK   \n",
       "2   grace.hopper@gmail.com      Grace       Hopper               USA   \n",
       "1              tim@cern.ch        Tim  Berners-Lee  bermuda triangle   \n",
       "\n",
       "         full_name  \n",
       "3   Jane V. Neuman  \n",
       "4              NaN  \n",
       "0      Chris Smith  \n",
       "2     Grace Hopper  \n",
       "1  Tim Berners-Lee  "
      ]
     },
     "execution_count": 162,
     "metadata": {},
     "output_type": "execute_result"
    }
   ],
   "source": [
    "data.sort_values(by='last_name', ascending=False)"
   ]
  },
  {
   "cell_type": "code",
   "execution_count": 163,
   "metadata": {},
   "outputs": [
    {
     "data": {
      "text/html": [
       "<div>\n",
       "<style scoped>\n",
       "    .dataframe tbody tr th:only-of-type {\n",
       "        vertical-align: middle;\n",
       "    }\n",
       "\n",
       "    .dataframe tbody tr th {\n",
       "        vertical-align: top;\n",
       "    }\n",
       "\n",
       "    .dataframe thead th {\n",
       "        text-align: right;\n",
       "    }\n",
       "</style>\n",
       "<table border=\"1\" class=\"dataframe\">\n",
       "  <thead>\n",
       "    <tr style=\"text-align: right;\">\n",
       "      <th></th>\n",
       "      <th>email</th>\n",
       "      <th>first_name</th>\n",
       "      <th>last_name</th>\n",
       "      <th>birth_place</th>\n",
       "      <th>full_name</th>\n",
       "    </tr>\n",
       "  </thead>\n",
       "  <tbody>\n",
       "    <tr>\n",
       "      <th>0</th>\n",
       "      <td>alan_turing@outlook.com</td>\n",
       "      <td>Chris</td>\n",
       "      <td>Smith</td>\n",
       "      <td>UK</td>\n",
       "      <td>Chris Smith</td>\n",
       "    </tr>\n",
       "    <tr>\n",
       "      <th>1</th>\n",
       "      <td>tim@cern.ch</td>\n",
       "      <td>Tim</td>\n",
       "      <td>Berners-Lee</td>\n",
       "      <td>bermuda triangle</td>\n",
       "      <td>Tim Berners-Lee</td>\n",
       "    </tr>\n",
       "    <tr>\n",
       "      <th>2</th>\n",
       "      <td>grace.hopper@gmail.com</td>\n",
       "      <td>Grace</td>\n",
       "      <td>Hopper</td>\n",
       "      <td>USA</td>\n",
       "      <td>Grace Hopper</td>\n",
       "    </tr>\n",
       "    <tr>\n",
       "      <th>3</th>\n",
       "      <td>john_n@gmail.com</td>\n",
       "      <td>Jane</td>\n",
       "      <td>V. Neuman</td>\n",
       "      <td>Hungary</td>\n",
       "      <td>Jane V. Neuman</td>\n",
       "    </tr>\n",
       "    <tr>\n",
       "      <th>4</th>\n",
       "      <td>tony@avengers.com</td>\n",
       "      <td>Tony</td>\n",
       "      <td>Stark</td>\n",
       "      <td>NaN</td>\n",
       "      <td>NaN</td>\n",
       "    </tr>\n",
       "  </tbody>\n",
       "</table>\n",
       "</div>"
      ],
      "text/plain": [
       "                     email first_name    last_name       birth_place  \\\n",
       "0  alan_turing@outlook.com      Chris        Smith                UK   \n",
       "1              tim@cern.ch        Tim  Berners-Lee  bermuda triangle   \n",
       "2   grace.hopper@gmail.com      Grace       Hopper               USA   \n",
       "3         john_n@gmail.com       Jane    V. Neuman           Hungary   \n",
       "4        tony@avengers.com       Tony        Stark               NaN   \n",
       "\n",
       "         full_name  \n",
       "0      Chris Smith  \n",
       "1  Tim Berners-Lee  \n",
       "2     Grace Hopper  \n",
       "3   Jane V. Neuman  \n",
       "4              NaN  "
      ]
     },
     "execution_count": 163,
     "metadata": {},
     "output_type": "execute_result"
    }
   ],
   "source": [
    "data"
   ]
  },
  {
   "cell_type": "code",
   "execution_count": 164,
   "metadata": {},
   "outputs": [
    {
     "data": {
      "text/html": [
       "<div>\n",
       "<style scoped>\n",
       "    .dataframe tbody tr th:only-of-type {\n",
       "        vertical-align: middle;\n",
       "    }\n",
       "\n",
       "    .dataframe tbody tr th {\n",
       "        vertical-align: top;\n",
       "    }\n",
       "\n",
       "    .dataframe thead th {\n",
       "        text-align: right;\n",
       "    }\n",
       "</style>\n",
       "<table border=\"1\" class=\"dataframe\">\n",
       "  <thead>\n",
       "    <tr style=\"text-align: right;\">\n",
       "      <th></th>\n",
       "      <th>email</th>\n",
       "      <th>first_name</th>\n",
       "      <th>last_name</th>\n",
       "      <th>birth_place</th>\n",
       "      <th>full_name</th>\n",
       "    </tr>\n",
       "  </thead>\n",
       "  <tbody>\n",
       "    <tr>\n",
       "      <th>1</th>\n",
       "      <td>tim@cern.ch</td>\n",
       "      <td>Tim</td>\n",
       "      <td>Berners-Lee</td>\n",
       "      <td>bermuda triangle</td>\n",
       "      <td>Tim Berners-Lee</td>\n",
       "    </tr>\n",
       "    <tr>\n",
       "      <th>2</th>\n",
       "      <td>grace.hopper@gmail.com</td>\n",
       "      <td>Grace</td>\n",
       "      <td>Hopper</td>\n",
       "      <td>USA</td>\n",
       "      <td>Grace Hopper</td>\n",
       "    </tr>\n",
       "    <tr>\n",
       "      <th>0</th>\n",
       "      <td>alan_turing@outlook.com</td>\n",
       "      <td>Chris</td>\n",
       "      <td>Smith</td>\n",
       "      <td>UK</td>\n",
       "      <td>Chris Smith</td>\n",
       "    </tr>\n",
       "    <tr>\n",
       "      <th>4</th>\n",
       "      <td>tony@avengers.com</td>\n",
       "      <td>Tony</td>\n",
       "      <td>Stark</td>\n",
       "      <td>NaN</td>\n",
       "      <td>NaN</td>\n",
       "    </tr>\n",
       "    <tr>\n",
       "      <th>3</th>\n",
       "      <td>john_n@gmail.com</td>\n",
       "      <td>Jane</td>\n",
       "      <td>V. Neuman</td>\n",
       "      <td>Hungary</td>\n",
       "      <td>Jane V. Neuman</td>\n",
       "    </tr>\n",
       "  </tbody>\n",
       "</table>\n",
       "</div>"
      ],
      "text/plain": [
       "                     email first_name    last_name       birth_place  \\\n",
       "1              tim@cern.ch        Tim  Berners-Lee  bermuda triangle   \n",
       "2   grace.hopper@gmail.com      Grace       Hopper               USA   \n",
       "0  alan_turing@outlook.com      Chris        Smith                UK   \n",
       "4        tony@avengers.com       Tony        Stark               NaN   \n",
       "3         john_n@gmail.com       Jane    V. Neuman           Hungary   \n",
       "\n",
       "         full_name  \n",
       "1  Tim Berners-Lee  \n",
       "2     Grace Hopper  \n",
       "0      Chris Smith  \n",
       "4              NaN  \n",
       "3   Jane V. Neuman  "
      ]
     },
     "execution_count": 164,
     "metadata": {},
     "output_type": "execute_result"
    }
   ],
   "source": [
    "data.sort_values(by='last_name', inplace=True)\n",
    "data"
   ]
  },
  {
   "cell_type": "code",
   "execution_count": 167,
   "metadata": {},
   "outputs": [
    {
     "data": {
      "text/html": [
       "<div>\n",
       "<style scoped>\n",
       "    .dataframe tbody tr th:only-of-type {\n",
       "        vertical-align: middle;\n",
       "    }\n",
       "\n",
       "    .dataframe tbody tr th {\n",
       "        vertical-align: top;\n",
       "    }\n",
       "\n",
       "    .dataframe thead th {\n",
       "        text-align: right;\n",
       "    }\n",
       "</style>\n",
       "<table border=\"1\" class=\"dataframe\">\n",
       "  <thead>\n",
       "    <tr style=\"text-align: right;\">\n",
       "      <th></th>\n",
       "      <th>email</th>\n",
       "      <th>first_name</th>\n",
       "      <th>last_name</th>\n",
       "      <th>birth_place</th>\n",
       "      <th>full_name</th>\n",
       "    </tr>\n",
       "  </thead>\n",
       "  <tbody>\n",
       "    <tr>\n",
       "      <th>1</th>\n",
       "      <td>tim@cern.ch</td>\n",
       "      <td>Tim</td>\n",
       "      <td>Berners-Lee</td>\n",
       "      <td>bermuda triangle</td>\n",
       "      <td>Tim Berners-Lee</td>\n",
       "    </tr>\n",
       "    <tr>\n",
       "      <th>2</th>\n",
       "      <td>grace.hopper@gmail.com</td>\n",
       "      <td>Grace</td>\n",
       "      <td>Hopper</td>\n",
       "      <td>USA</td>\n",
       "      <td>Grace Hopper</td>\n",
       "    </tr>\n",
       "    <tr>\n",
       "      <th>0</th>\n",
       "      <td>alan_turing@outlook.com</td>\n",
       "      <td>Chris</td>\n",
       "      <td>Stark</td>\n",
       "      <td>UK</td>\n",
       "      <td>Chris Smith</td>\n",
       "    </tr>\n",
       "    <tr>\n",
       "      <th>4</th>\n",
       "      <td>tony@avengers.com</td>\n",
       "      <td>Tony</td>\n",
       "      <td>Stark</td>\n",
       "      <td>NaN</td>\n",
       "      <td>NaN</td>\n",
       "    </tr>\n",
       "    <tr>\n",
       "      <th>3</th>\n",
       "      <td>john_n@gmail.com</td>\n",
       "      <td>Jane</td>\n",
       "      <td>V. Neuman</td>\n",
       "      <td>Hungary</td>\n",
       "      <td>Jane V. Neuman</td>\n",
       "    </tr>\n",
       "  </tbody>\n",
       "</table>\n",
       "</div>"
      ],
      "text/plain": [
       "                     email first_name    last_name       birth_place  \\\n",
       "1              tim@cern.ch        Tim  Berners-Lee  bermuda triangle   \n",
       "2   grace.hopper@gmail.com      Grace       Hopper               USA   \n",
       "0  alan_turing@outlook.com      Chris        Stark                UK   \n",
       "4        tony@avengers.com       Tony        Stark               NaN   \n",
       "3         john_n@gmail.com       Jane    V. Neuman           Hungary   \n",
       "\n",
       "         full_name  \n",
       "1  Tim Berners-Lee  \n",
       "2     Grace Hopper  \n",
       "0      Chris Smith  \n",
       "4              NaN  \n",
       "3   Jane V. Neuman  "
      ]
     },
     "execution_count": 167,
     "metadata": {},
     "output_type": "execute_result"
    }
   ],
   "source": [
    "data.loc[0, 'last_name'] = 'Stark'\n",
    "data"
   ]
  },
  {
   "cell_type": "code",
   "execution_count": 168,
   "metadata": {},
   "outputs": [
    {
     "data": {
      "text/html": [
       "<div>\n",
       "<style scoped>\n",
       "    .dataframe tbody tr th:only-of-type {\n",
       "        vertical-align: middle;\n",
       "    }\n",
       "\n",
       "    .dataframe tbody tr th {\n",
       "        vertical-align: top;\n",
       "    }\n",
       "\n",
       "    .dataframe thead th {\n",
       "        text-align: right;\n",
       "    }\n",
       "</style>\n",
       "<table border=\"1\" class=\"dataframe\">\n",
       "  <thead>\n",
       "    <tr style=\"text-align: right;\">\n",
       "      <th></th>\n",
       "      <th>email</th>\n",
       "      <th>first_name</th>\n",
       "      <th>last_name</th>\n",
       "      <th>birth_place</th>\n",
       "      <th>full_name</th>\n",
       "    </tr>\n",
       "  </thead>\n",
       "  <tbody>\n",
       "    <tr>\n",
       "      <th>1</th>\n",
       "      <td>tim@cern.ch</td>\n",
       "      <td>Tim</td>\n",
       "      <td>Berners-Lee</td>\n",
       "      <td>bermuda triangle</td>\n",
       "      <td>Tim Berners-Lee</td>\n",
       "    </tr>\n",
       "    <tr>\n",
       "      <th>2</th>\n",
       "      <td>grace.hopper@gmail.com</td>\n",
       "      <td>Grace</td>\n",
       "      <td>Hopper</td>\n",
       "      <td>USA</td>\n",
       "      <td>Grace Hopper</td>\n",
       "    </tr>\n",
       "    <tr>\n",
       "      <th>0</th>\n",
       "      <td>alan_turing@outlook.com</td>\n",
       "      <td>Chris</td>\n",
       "      <td>Stark</td>\n",
       "      <td>UK</td>\n",
       "      <td>Chris Smith</td>\n",
       "    </tr>\n",
       "    <tr>\n",
       "      <th>4</th>\n",
       "      <td>tony@avengers.com</td>\n",
       "      <td>Tony</td>\n",
       "      <td>Stark</td>\n",
       "      <td>NaN</td>\n",
       "      <td>NaN</td>\n",
       "    </tr>\n",
       "    <tr>\n",
       "      <th>3</th>\n",
       "      <td>john_n@gmail.com</td>\n",
       "      <td>Jane</td>\n",
       "      <td>V. Neuman</td>\n",
       "      <td>Hungary</td>\n",
       "      <td>Jane V. Neuman</td>\n",
       "    </tr>\n",
       "  </tbody>\n",
       "</table>\n",
       "</div>"
      ],
      "text/plain": [
       "                     email first_name    last_name       birth_place  \\\n",
       "1              tim@cern.ch        Tim  Berners-Lee  bermuda triangle   \n",
       "2   grace.hopper@gmail.com      Grace       Hopper               USA   \n",
       "0  alan_turing@outlook.com      Chris        Stark                UK   \n",
       "4        tony@avengers.com       Tony        Stark               NaN   \n",
       "3         john_n@gmail.com       Jane    V. Neuman           Hungary   \n",
       "\n",
       "         full_name  \n",
       "1  Tim Berners-Lee  \n",
       "2     Grace Hopper  \n",
       "0      Chris Smith  \n",
       "4              NaN  \n",
       "3   Jane V. Neuman  "
      ]
     },
     "execution_count": 168,
     "metadata": {},
     "output_type": "execute_result"
    }
   ],
   "source": [
    "# sorting using multiple values\n",
    "data.sort_values(by=['last_name', 'first_name'])"
   ]
  },
  {
   "cell_type": "code",
   "execution_count": 169,
   "metadata": {},
   "outputs": [
    {
     "data": {
      "text/html": [
       "<div>\n",
       "<style scoped>\n",
       "    .dataframe tbody tr th:only-of-type {\n",
       "        vertical-align: middle;\n",
       "    }\n",
       "\n",
       "    .dataframe tbody tr th {\n",
       "        vertical-align: top;\n",
       "    }\n",
       "\n",
       "    .dataframe thead th {\n",
       "        text-align: right;\n",
       "    }\n",
       "</style>\n",
       "<table border=\"1\" class=\"dataframe\">\n",
       "  <thead>\n",
       "    <tr style=\"text-align: right;\">\n",
       "      <th></th>\n",
       "      <th>email</th>\n",
       "      <th>first_name</th>\n",
       "      <th>last_name</th>\n",
       "      <th>birth_place</th>\n",
       "      <th>full_name</th>\n",
       "    </tr>\n",
       "  </thead>\n",
       "  <tbody>\n",
       "    <tr>\n",
       "      <th>3</th>\n",
       "      <td>john_n@gmail.com</td>\n",
       "      <td>Jane</td>\n",
       "      <td>V. Neuman</td>\n",
       "      <td>Hungary</td>\n",
       "      <td>Jane V. Neuman</td>\n",
       "    </tr>\n",
       "    <tr>\n",
       "      <th>0</th>\n",
       "      <td>alan_turing@outlook.com</td>\n",
       "      <td>Chris</td>\n",
       "      <td>Stark</td>\n",
       "      <td>UK</td>\n",
       "      <td>Chris Smith</td>\n",
       "    </tr>\n",
       "    <tr>\n",
       "      <th>4</th>\n",
       "      <td>tony@avengers.com</td>\n",
       "      <td>Tony</td>\n",
       "      <td>Stark</td>\n",
       "      <td>NaN</td>\n",
       "      <td>NaN</td>\n",
       "    </tr>\n",
       "    <tr>\n",
       "      <th>2</th>\n",
       "      <td>grace.hopper@gmail.com</td>\n",
       "      <td>Grace</td>\n",
       "      <td>Hopper</td>\n",
       "      <td>USA</td>\n",
       "      <td>Grace Hopper</td>\n",
       "    </tr>\n",
       "    <tr>\n",
       "      <th>1</th>\n",
       "      <td>tim@cern.ch</td>\n",
       "      <td>Tim</td>\n",
       "      <td>Berners-Lee</td>\n",
       "      <td>bermuda triangle</td>\n",
       "      <td>Tim Berners-Lee</td>\n",
       "    </tr>\n",
       "  </tbody>\n",
       "</table>\n",
       "</div>"
      ],
      "text/plain": [
       "                     email first_name    last_name       birth_place  \\\n",
       "3         john_n@gmail.com       Jane    V. Neuman           Hungary   \n",
       "0  alan_turing@outlook.com      Chris        Stark                UK   \n",
       "4        tony@avengers.com       Tony        Stark               NaN   \n",
       "2   grace.hopper@gmail.com      Grace       Hopper               USA   \n",
       "1              tim@cern.ch        Tim  Berners-Lee  bermuda triangle   \n",
       "\n",
       "         full_name  \n",
       "3   Jane V. Neuman  \n",
       "0      Chris Smith  \n",
       "4              NaN  \n",
       "2     Grace Hopper  \n",
       "1  Tim Berners-Lee  "
      ]
     },
     "execution_count": 169,
     "metadata": {},
     "output_type": "execute_result"
    }
   ],
   "source": [
    "data.sort_values(by=['last_name', 'first_name'], ascending=[False, True])"
   ]
  },
  {
   "cell_type": "code",
   "execution_count": 170,
   "metadata": {},
   "outputs": [
    {
     "data": {
      "text/html": [
       "<div>\n",
       "<style scoped>\n",
       "    .dataframe tbody tr th:only-of-type {\n",
       "        vertical-align: middle;\n",
       "    }\n",
       "\n",
       "    .dataframe tbody tr th {\n",
       "        vertical-align: top;\n",
       "    }\n",
       "\n",
       "    .dataframe thead th {\n",
       "        text-align: right;\n",
       "    }\n",
       "</style>\n",
       "<table border=\"1\" class=\"dataframe\">\n",
       "  <thead>\n",
       "    <tr style=\"text-align: right;\">\n",
       "      <th></th>\n",
       "      <th>email</th>\n",
       "      <th>first_name</th>\n",
       "      <th>last_name</th>\n",
       "      <th>birth_place</th>\n",
       "      <th>full_name</th>\n",
       "    </tr>\n",
       "  </thead>\n",
       "  <tbody>\n",
       "    <tr>\n",
       "      <th>0</th>\n",
       "      <td>alan_turing@outlook.com</td>\n",
       "      <td>Chris</td>\n",
       "      <td>Stark</td>\n",
       "      <td>UK</td>\n",
       "      <td>Chris Smith</td>\n",
       "    </tr>\n",
       "    <tr>\n",
       "      <th>1</th>\n",
       "      <td>tim@cern.ch</td>\n",
       "      <td>Tim</td>\n",
       "      <td>Berners-Lee</td>\n",
       "      <td>bermuda triangle</td>\n",
       "      <td>Tim Berners-Lee</td>\n",
       "    </tr>\n",
       "    <tr>\n",
       "      <th>2</th>\n",
       "      <td>grace.hopper@gmail.com</td>\n",
       "      <td>Grace</td>\n",
       "      <td>Hopper</td>\n",
       "      <td>USA</td>\n",
       "      <td>Grace Hopper</td>\n",
       "    </tr>\n",
       "    <tr>\n",
       "      <th>3</th>\n",
       "      <td>john_n@gmail.com</td>\n",
       "      <td>Jane</td>\n",
       "      <td>V. Neuman</td>\n",
       "      <td>Hungary</td>\n",
       "      <td>Jane V. Neuman</td>\n",
       "    </tr>\n",
       "    <tr>\n",
       "      <th>4</th>\n",
       "      <td>tony@avengers.com</td>\n",
       "      <td>Tony</td>\n",
       "      <td>Stark</td>\n",
       "      <td>NaN</td>\n",
       "      <td>NaN</td>\n",
       "    </tr>\n",
       "  </tbody>\n",
       "</table>\n",
       "</div>"
      ],
      "text/plain": [
       "                     email first_name    last_name       birth_place  \\\n",
       "0  alan_turing@outlook.com      Chris        Stark                UK   \n",
       "1              tim@cern.ch        Tim  Berners-Lee  bermuda triangle   \n",
       "2   grace.hopper@gmail.com      Grace       Hopper               USA   \n",
       "3         john_n@gmail.com       Jane    V. Neuman           Hungary   \n",
       "4        tony@avengers.com       Tony        Stark               NaN   \n",
       "\n",
       "         full_name  \n",
       "0      Chris Smith  \n",
       "1  Tim Berners-Lee  \n",
       "2     Grace Hopper  \n",
       "3   Jane V. Neuman  \n",
       "4              NaN  "
      ]
     },
     "execution_count": 170,
     "metadata": {},
     "output_type": "execute_result"
    }
   ],
   "source": [
    "# sorting by indexes\n",
    "data.sort_index()"
   ]
  },
  {
   "cell_type": "code",
   "execution_count": 171,
   "metadata": {},
   "outputs": [
    {
     "data": {
      "text/plain": [
       "0    Chris\n",
       "2    Grace\n",
       "3     Jane\n",
       "1      Tim\n",
       "4     Tony\n",
       "Name: first_name, dtype: object"
      ]
     },
     "execution_count": 171,
     "metadata": {},
     "output_type": "execute_result"
    }
   ],
   "source": [
    "# we can even sort series\n",
    "data['first_name'].sort_values()"
   ]
  }
 ],
 "metadata": {
  "kernelspec": {
   "display_name": "Python 3",
   "language": "python",
   "name": "python3"
  },
  "language_info": {
   "codemirror_mode": {
    "name": "ipython",
    "version": 3
   },
   "file_extension": ".py",
   "mimetype": "text/x-python",
   "name": "python",
   "nbconvert_exporter": "python",
   "pygments_lexer": "ipython3",
   "version": "3.7.9"
  }
 },
 "nbformat": 4,
 "nbformat_minor": 4
}
