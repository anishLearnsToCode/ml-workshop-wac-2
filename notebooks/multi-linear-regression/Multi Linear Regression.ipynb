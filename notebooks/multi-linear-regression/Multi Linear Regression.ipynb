{
 "cells": [
  {
   "cell_type": "markdown",
   "metadata": {},
   "source": [
    "# Multi Linear Regression"
   ]
  },
  {
   "cell_type": "code",
   "execution_count": 147,
   "metadata": {},
   "outputs": [],
   "source": [
    "from sklearn.datasets import load_boston\n",
    "import pandas as pd\n",
    "import numpy as np\n",
    "import matplotlib.pyplot as plt\n",
    "import time"
   ]
  },
  {
   "cell_type": "code",
   "execution_count": 148,
   "metadata": {},
   "outputs": [],
   "source": [
    "X = load_boston().data\n",
    "Y = load_boston().target\n",
    "ones=np.ones((X.shape[0],1))"
   ]
  },
  {
   "cell_type": "code",
   "execution_count": 149,
   "metadata": {},
   "outputs": [
    {
     "data": {
      "text/html": [
       "<div>\n",
       "<style scoped>\n",
       "    .dataframe tbody tr th:only-of-type {\n",
       "        vertical-align: middle;\n",
       "    }\n",
       "\n",
       "    .dataframe tbody tr th {\n",
       "        vertical-align: top;\n",
       "    }\n",
       "\n",
       "    .dataframe thead th {\n",
       "        text-align: right;\n",
       "    }\n",
       "</style>\n",
       "<table border=\"1\" class=\"dataframe\">\n",
       "  <thead>\n",
       "    <tr style=\"text-align: right;\">\n",
       "      <th></th>\n",
       "      <th>CRIM</th>\n",
       "      <th>ZN</th>\n",
       "      <th>INDUS</th>\n",
       "      <th>CHAS</th>\n",
       "      <th>NOX</th>\n",
       "      <th>RM</th>\n",
       "      <th>AGE</th>\n",
       "      <th>DIS</th>\n",
       "      <th>RAD</th>\n",
       "      <th>TAX</th>\n",
       "      <th>PTRATIO</th>\n",
       "      <th>B</th>\n",
       "      <th>LSTAT</th>\n",
       "    </tr>\n",
       "  </thead>\n",
       "  <tbody>\n",
       "    <tr>\n",
       "      <th>count</th>\n",
       "      <td>506.000000</td>\n",
       "      <td>506.000000</td>\n",
       "      <td>506.000000</td>\n",
       "      <td>506.000000</td>\n",
       "      <td>506.000000</td>\n",
       "      <td>506.000000</td>\n",
       "      <td>506.000000</td>\n",
       "      <td>506.000000</td>\n",
       "      <td>506.000000</td>\n",
       "      <td>506.000000</td>\n",
       "      <td>506.000000</td>\n",
       "      <td>506.000000</td>\n",
       "      <td>506.000000</td>\n",
       "    </tr>\n",
       "    <tr>\n",
       "      <th>mean</th>\n",
       "      <td>3.613524</td>\n",
       "      <td>11.363636</td>\n",
       "      <td>11.136779</td>\n",
       "      <td>0.069170</td>\n",
       "      <td>0.554695</td>\n",
       "      <td>6.284634</td>\n",
       "      <td>68.574901</td>\n",
       "      <td>3.795043</td>\n",
       "      <td>9.549407</td>\n",
       "      <td>408.237154</td>\n",
       "      <td>18.455534</td>\n",
       "      <td>356.674032</td>\n",
       "      <td>12.653063</td>\n",
       "    </tr>\n",
       "    <tr>\n",
       "      <th>std</th>\n",
       "      <td>8.601545</td>\n",
       "      <td>23.322453</td>\n",
       "      <td>6.860353</td>\n",
       "      <td>0.253994</td>\n",
       "      <td>0.115878</td>\n",
       "      <td>0.702617</td>\n",
       "      <td>28.148861</td>\n",
       "      <td>2.105710</td>\n",
       "      <td>8.707259</td>\n",
       "      <td>168.537116</td>\n",
       "      <td>2.164946</td>\n",
       "      <td>91.294864</td>\n",
       "      <td>7.141062</td>\n",
       "    </tr>\n",
       "    <tr>\n",
       "      <th>min</th>\n",
       "      <td>0.006320</td>\n",
       "      <td>0.000000</td>\n",
       "      <td>0.460000</td>\n",
       "      <td>0.000000</td>\n",
       "      <td>0.385000</td>\n",
       "      <td>3.561000</td>\n",
       "      <td>2.900000</td>\n",
       "      <td>1.129600</td>\n",
       "      <td>1.000000</td>\n",
       "      <td>187.000000</td>\n",
       "      <td>12.600000</td>\n",
       "      <td>0.320000</td>\n",
       "      <td>1.730000</td>\n",
       "    </tr>\n",
       "    <tr>\n",
       "      <th>25%</th>\n",
       "      <td>0.082045</td>\n",
       "      <td>0.000000</td>\n",
       "      <td>5.190000</td>\n",
       "      <td>0.000000</td>\n",
       "      <td>0.449000</td>\n",
       "      <td>5.885500</td>\n",
       "      <td>45.025000</td>\n",
       "      <td>2.100175</td>\n",
       "      <td>4.000000</td>\n",
       "      <td>279.000000</td>\n",
       "      <td>17.400000</td>\n",
       "      <td>375.377500</td>\n",
       "      <td>6.950000</td>\n",
       "    </tr>\n",
       "    <tr>\n",
       "      <th>50%</th>\n",
       "      <td>0.256510</td>\n",
       "      <td>0.000000</td>\n",
       "      <td>9.690000</td>\n",
       "      <td>0.000000</td>\n",
       "      <td>0.538000</td>\n",
       "      <td>6.208500</td>\n",
       "      <td>77.500000</td>\n",
       "      <td>3.207450</td>\n",
       "      <td>5.000000</td>\n",
       "      <td>330.000000</td>\n",
       "      <td>19.050000</td>\n",
       "      <td>391.440000</td>\n",
       "      <td>11.360000</td>\n",
       "    </tr>\n",
       "    <tr>\n",
       "      <th>75%</th>\n",
       "      <td>3.677083</td>\n",
       "      <td>12.500000</td>\n",
       "      <td>18.100000</td>\n",
       "      <td>0.000000</td>\n",
       "      <td>0.624000</td>\n",
       "      <td>6.623500</td>\n",
       "      <td>94.075000</td>\n",
       "      <td>5.188425</td>\n",
       "      <td>24.000000</td>\n",
       "      <td>666.000000</td>\n",
       "      <td>20.200000</td>\n",
       "      <td>396.225000</td>\n",
       "      <td>16.955000</td>\n",
       "    </tr>\n",
       "    <tr>\n",
       "      <th>max</th>\n",
       "      <td>88.976200</td>\n",
       "      <td>100.000000</td>\n",
       "      <td>27.740000</td>\n",
       "      <td>1.000000</td>\n",
       "      <td>0.871000</td>\n",
       "      <td>8.780000</td>\n",
       "      <td>100.000000</td>\n",
       "      <td>12.126500</td>\n",
       "      <td>24.000000</td>\n",
       "      <td>711.000000</td>\n",
       "      <td>22.000000</td>\n",
       "      <td>396.900000</td>\n",
       "      <td>37.970000</td>\n",
       "    </tr>\n",
       "  </tbody>\n",
       "</table>\n",
       "</div>"
      ],
      "text/plain": [
       "             CRIM          ZN       INDUS        CHAS         NOX          RM  \\\n",
       "count  506.000000  506.000000  506.000000  506.000000  506.000000  506.000000   \n",
       "mean     3.613524   11.363636   11.136779    0.069170    0.554695    6.284634   \n",
       "std      8.601545   23.322453    6.860353    0.253994    0.115878    0.702617   \n",
       "min      0.006320    0.000000    0.460000    0.000000    0.385000    3.561000   \n",
       "25%      0.082045    0.000000    5.190000    0.000000    0.449000    5.885500   \n",
       "50%      0.256510    0.000000    9.690000    0.000000    0.538000    6.208500   \n",
       "75%      3.677083   12.500000   18.100000    0.000000    0.624000    6.623500   \n",
       "max     88.976200  100.000000   27.740000    1.000000    0.871000    8.780000   \n",
       "\n",
       "              AGE         DIS         RAD         TAX     PTRATIO           B  \\\n",
       "count  506.000000  506.000000  506.000000  506.000000  506.000000  506.000000   \n",
       "mean    68.574901    3.795043    9.549407  408.237154   18.455534  356.674032   \n",
       "std     28.148861    2.105710    8.707259  168.537116    2.164946   91.294864   \n",
       "min      2.900000    1.129600    1.000000  187.000000   12.600000    0.320000   \n",
       "25%     45.025000    2.100175    4.000000  279.000000   17.400000  375.377500   \n",
       "50%     77.500000    3.207450    5.000000  330.000000   19.050000  391.440000   \n",
       "75%     94.075000    5.188425   24.000000  666.000000   20.200000  396.225000   \n",
       "max    100.000000   12.126500   24.000000  711.000000   22.000000  396.900000   \n",
       "\n",
       "            LSTAT  \n",
       "count  506.000000  \n",
       "mean    12.653063  \n",
       "std      7.141062  \n",
       "min      1.730000  \n",
       "25%      6.950000  \n",
       "50%     11.360000  \n",
       "75%     16.955000  \n",
       "max     37.970000  "
      ]
     },
     "execution_count": 149,
     "metadata": {},
     "output_type": "execute_result"
    }
   ],
   "source": [
    "df = pd.DataFrame(X, columns=load_boston().feature_names)\n",
    "df.describe()"
   ]
  },
  {
   "cell_type": "code",
   "execution_count": 150,
   "metadata": {},
   "outputs": [
    {
     "data": {
      "text/plain": [
       "CRIM       0\n",
       "ZN         0\n",
       "INDUS      0\n",
       "CHAS       0\n",
       "NOX        0\n",
       "RM         0\n",
       "AGE        0\n",
       "DIS        0\n",
       "RAD        0\n",
       "TAX        0\n",
       "PTRATIO    0\n",
       "B          0\n",
       "LSTAT      0\n",
       "dtype: int64"
      ]
     },
     "execution_count": 150,
     "metadata": {},
     "output_type": "execute_result"
    }
   ],
   "source": [
    "df.isna().sum()"
   ]
  },
  {
   "cell_type": "code",
   "execution_count": 151,
   "metadata": {},
   "outputs": [
    {
     "data": {
      "text/plain": [
       "array([[-0.41978194,  0.28482986, -1.2879095 , ..., -1.45900038,\n",
       "         0.44105193, -1.0755623 ],\n",
       "       [-0.41733926, -0.48772236, -0.59338101, ..., -0.30309415,\n",
       "         0.44105193, -0.49243937],\n",
       "       [-0.41734159, -0.48772236, -0.59338101, ..., -0.30309415,\n",
       "         0.39642699, -1.2087274 ],\n",
       "       ...,\n",
       "       [-0.41344658, -0.48772236,  0.11573841, ...,  1.17646583,\n",
       "         0.44105193, -0.98304761],\n",
       "       [-0.40776407, -0.48772236,  0.11573841, ...,  1.17646583,\n",
       "         0.4032249 , -0.86530163],\n",
       "       [-0.41500016, -0.48772236,  0.11573841, ...,  1.17646583,\n",
       "         0.44105193, -0.66905833]])"
      ]
     },
     "execution_count": 151,
     "metadata": {},
     "output_type": "execute_result"
    }
   ],
   "source": [
    "mu = np.mean(X, axis=0)\n",
    "sigma = np.std(X, axis=0)\n",
    "X = (X - mu) / sigma\n",
    "X"
   ]
  },
  {
   "cell_type": "markdown",
   "metadata": {},
   "source": [
    "## Multivariate Regression"
   ]
  },
  {
   "cell_type": "code",
   "execution_count": 152,
   "metadata": {},
   "outputs": [],
   "source": [
    "def hypothesis(X,theta):\n",
    "    y=0.0\n",
    "    for i in range(X.shape[0]):\n",
    "        y += X[i]*theta[i]\n",
    "    return y"
   ]
  },
  {
   "cell_type": "markdown",
   "metadata": {},
   "source": [
    "m : No. of entries\n",
    "\n",
    "n : No. of features"
   ]
  },
  {
   "cell_type": "code",
   "execution_count": 154,
   "metadata": {},
   "outputs": [],
   "source": [
    "def error(X,Y,theta):\n",
    "    err = 0.0\n",
    "    m = Y.shape[0]\n",
    "    for i in range(m):\n",
    "        h = hypothesis(X[i], theta)\n",
    "        err += (h - Y[i]) ** 2\n",
    "    return err / m"
   ]
  },
  {
   "cell_type": "code",
   "execution_count": null,
   "metadata": {},
   "outputs": [],
   "source": []
  },
  {
   "cell_type": "code",
   "execution_count": 99,
   "metadata": {},
   "outputs": [],
   "source": [
    "def gradient(X,Y,theta):\n",
    "    grad = np.zeros((theta.shape[0]))\n",
    "    for i in range(theta.shape[0]):\n",
    "        for j in range(X.shape[0]):\n",
    "            h=hypothesis(X[j],theta)\n",
    "            grad[i]+=(h-Y[j])*X[j][i]\n",
    "            \n",
    "    return grad/X.shape[0]"
   ]
  },
  {
   "cell_type": "code",
   "execution_count": 100,
   "metadata": {},
   "outputs": [],
   "source": [
    "def gradient_descent(X,Y,lr=.1,max_itr=100):\n",
    "    m,n=X.shape\n",
    "    theta=np.zeros((n,))\n",
    "    err=[]\n",
    "    for i in range(max_itr):\n",
    "        err.append(error(X,Y,theta))\n",
    "        theta=theta-lr*gradient(X,Y,theta)\n",
    "    return err,theta"
   ]
  },
  {
   "cell_type": "code",
   "execution_count": 101,
   "metadata": {},
   "outputs": [],
   "source": [
    "X=np.hstack((np.ones((X.shape[0],1)),X))"
   ]
  },
  {
   "cell_type": "code",
   "execution_count": 103,
   "metadata": {},
   "outputs": [],
   "source": [
    "err, theta = gradient_descent(X,Y)"
   ]
  },
  {
   "cell_type": "code",
   "execution_count": 104,
   "metadata": {},
   "outputs": [
    {
     "data": {
      "text/plain": [
       "[<matplotlib.lines.Line2D at 0x12c13093208>]"
      ]
     },
     "execution_count": 104,
     "metadata": {},
     "output_type": "execute_result"
    },
    {
     "data": {
      "image/png": "[encoded data removed]",
      "text/plain": [
       "<Figure size 432x288 with 1 Axes>"
      ]
     },
     "metadata": {
      "needs_background": "light"
     },
     "output_type": "display_data"
    }
   ],
   "source": [
    "plt.plot(err)"
   ]
  },
  {
   "cell_type": "code",
   "execution_count": 105,
   "metadata": {},
   "outputs": [
    {
     "data": {
      "text/plain": [
       "array([22.53220782, -0.78185418,  0.81390376, -0.27302486,  0.74237969,\n",
       "       -1.58190647,  2.88681934, -0.10320657, -2.74824502,  1.4628725 ,\n",
       "       -0.88418974, -1.95313341,  0.87190431, -3.64467529])"
      ]
     },
     "execution_count": 105,
     "metadata": {},
     "output_type": "execute_result"
    }
   ],
   "source": [
    "theta"
   ]
  },
  {
   "cell_type": "code",
   "execution_count": 106,
   "metadata": {},
   "outputs": [],
   "source": [
    "df=pd.read_csv(\"Train.csv\").values\n",
    "Y_train=df[:,-1]\n",
    "X_train=df[:,:-1]"
   ]
  },
  {
   "cell_type": "code",
   "execution_count": 107,
   "metadata": {},
   "outputs": [
    {
     "data": {
      "text/plain": [
       "((1600, 5), (1600,))"
      ]
     },
     "execution_count": 107,
     "metadata": {},
     "output_type": "execute_result"
    }
   ],
   "source": [
    "X_train.shape,Y_train.shape"
   ]
  },
  {
   "cell_type": "code",
   "execution_count": 108,
   "metadata": {},
   "outputs": [],
   "source": [
    "mu = np.mean(X_train,axis=0)\n",
    "sigma = np.std(X_train,axis=0)\n",
    "X_train = (X_train - mu) / sigma"
   ]
  },
  {
   "cell_type": "code",
   "execution_count": 109,
   "metadata": {},
   "outputs": [],
   "source": [
    "X_train=np.hstack((np.ones((X_train.shape[0],1)),X_train))"
   ]
  },
  {
   "cell_type": "code",
   "execution_count": 110,
   "metadata": {},
   "outputs": [],
   "source": [
    "err, theta = gradient_descent(X_train, Y_train)"
   ]
  },
  {
   "cell_type": "code",
   "execution_count": 111,
   "metadata": {},
   "outputs": [],
   "source": [
    "X_test=pd.read_csv(\"Test.csv\").values"
   ]
  },
  {
   "cell_type": "code",
   "execution_count": 112,
   "metadata": {},
   "outputs": [],
   "source": [
    "X_test=(X_test-mu)/sigma"
   ]
  },
  {
   "cell_type": "code",
   "execution_count": 113,
   "metadata": {},
   "outputs": [],
   "source": [
    "X_test=np.hstack((np.ones((X_test.shape[0],1)),X_test))"
   ]
  },
  {
   "cell_type": "code",
   "execution_count": 114,
   "metadata": {},
   "outputs": [],
   "source": [
    "Y_test=[]\n",
    "for i in range(theta.shape[0]):\n",
    "    Y_test.append(hypothesis(X_test[i],theta))"
   ]
  },
  {
   "cell_type": "code",
   "execution_count": 115,
   "metadata": {},
   "outputs": [],
   "source": [
    "Y_test=np.array(Y_test)\n",
    "Y_test=np.reshape(Y_test,(-1,1))"
   ]
  },
  {
   "cell_type": "code",
   "execution_count": 116,
   "metadata": {},
   "outputs": [],
   "source": [
    "df=pd.DataFrame(Y_test)"
   ]
  },
  {
   "cell_type": "code",
   "execution_count": 63,
   "metadata": {},
   "outputs": [],
   "source": [
    "df.to_csv(\"Sol.csv\",index_label=[\"Id\",\"target\"])"
   ]
  },
  {
   "cell_type": "markdown",
   "metadata": {},
   "source": [
    "## Vectorization"
   ]
  },
  {
   "cell_type": "code",
   "execution_count": 156,
   "metadata": {},
   "outputs": [],
   "source": [
    "def Hypothesis(X,theta):\n",
    "    return np.dot(X,theta)"
   ]
  },
  {
   "cell_type": "code",
   "execution_count": 157,
   "metadata": {},
   "outputs": [],
   "source": [
    "def Error(X,Y,theta):\n",
    "    m, _= X.shape\n",
    "    hx = Hypothesis(X, theta)\n",
    "    return ((hx - Y) ** 2).sum() / m"
   ]
  },
  {
   "cell_type": "markdown",
   "metadata": {},
   "source": [
    "## Gradient Descent\n",
    "$$\n",
    "\\frac{\\delta J}{\\delta \\theta_j} = \\frac{1}{m} \\Sigma_{i \\in m} (h(x^{(i)}) - y^{(i)}) x^{(i)}_j\n",
    "$$\n",
    "\n",
    "Vectorized will be \n",
    "\n",
    "$$\n",
    "\\frac{\\delta J}{\\delta \\theta} = \\frac{1}{m} X^{T} \\cdot (h(X) - Y)\n",
    "$$"
   ]
  },
  {
   "cell_type": "markdown",
   "metadata": {},
   "source": [
    "m = 2\n",
    "\n",
    "n = 3\n",
    "\n",
    "x(1) = [10, 23, 67]\n",
    "\n",
    "x(2) = [100, 34, 67]\n",
    "\n",
    "(h(x(1)) - y(1)) ^ 2\n",
    "\n",
    "(h(x(1)) - y(1)) * x(1, 0) + (h(x(2)) - y(2)) * x(2, 0)\n",
    "(h(x(1)) - y(1)) * x(1, 1) + (h(x(2)) - y(2)) * x(2, 1)\n",
    "(h(x(1)) - y(1)) * x(1, 2) + (h(x(2)) - y(2)) * x(2, 2)\n",
    "\n",
    "X: (m, n) --> (m, n + 1)\n",
    "x(3) --> [1, 90, 89, 100, 4]\n",
    "theta --> [t0, t1, t2, t3, t4]\n",
    "h(theta, x(3)) --> t0 + 90 t1 + 89 t2 + 100 t3 + 4 t4\n",
    "theta.T.dot(x(3)) (1, n + 1) . (n + 1, 1) --> (1, 1)\n",
    "\n",
    "\n",
    "X.T dot (h(X) - Y)\n",
    "(m, n + 1)\n",
    "(n + 1, m) ((m, 1) - (m, 1))\n",
    "(n + 1, m) dot (m, 1) --> (n + 1, 1)"
   ]
  },
  {
   "cell_type": "code",
   "execution_count": 158,
   "metadata": {},
   "outputs": [],
   "source": [
    "def gradient(X, Y, theta):\n",
    "    m, _ = X.shape\n",
    "    hx = Hypothesis(X, theta)\n",
    "    return X.T.dot(hx - Y) / m"
   ]
  },
  {
   "cell_type": "code",
   "execution_count": 172,
   "metadata": {},
   "outputs": [],
   "source": [
    "def gradient_descent(X, Y, lr=0.1, max_itr=100):\n",
    "    m, n = X.shape\n",
    "    err_list = []\n",
    "    theta = np.zeros((n,1))\n",
    "    for i in range(max_itr):\n",
    "        err = Error(X,Y,theta)\n",
    "        err_list.append(err)\n",
    "        grad = gradient(X, Y, theta)\n",
    "        theta = theta - lr * grad\n",
    "        if i % 10 == 0:\n",
    "            print(f'Iteration no. {i} and cost is {err}')\n",
    "    return theta, err_list"
   ]
  },
  {
   "cell_type": "code",
   "execution_count": 160,
   "metadata": {},
   "outputs": [],
   "source": [
    "X = load_boston().data\n",
    "Y = load_boston().target"
   ]
  },
  {
   "cell_type": "code",
   "execution_count": 161,
   "metadata": {},
   "outputs": [
    {
     "data": {
      "text/plain": [
       "(506,)"
      ]
     },
     "execution_count": 161,
     "metadata": {},
     "output_type": "execute_result"
    }
   ],
   "source": [
    "Y.shape"
   ]
  },
  {
   "cell_type": "code",
   "execution_count": 167,
   "metadata": {},
   "outputs": [
    {
     "data": {
      "text/plain": [
       "(506,)"
      ]
     },
     "execution_count": 167,
     "metadata": {},
     "output_type": "execute_result"
    }
   ],
   "source": [
    "Y.shape"
   ]
  },
  {
   "cell_type": "code",
   "execution_count": 162,
   "metadata": {},
   "outputs": [],
   "source": [
    "mu = np.mean(X, axis=0)\n",
    "sigma = np.std(X, axis=0)\n",
    "X = (X - mu) / sigma"
   ]
  },
  {
   "cell_type": "code",
   "execution_count": 163,
   "metadata": {},
   "outputs": [
    {
     "data": {
      "text/plain": [
       "array([[-0.41978194,  0.28482986, -1.2879095 , ..., -1.45900038,\n",
       "         0.44105193, -1.0755623 ],\n",
       "       [-0.41733926, -0.48772236, -0.59338101, ..., -0.30309415,\n",
       "         0.44105193, -0.49243937],\n",
       "       [-0.41734159, -0.48772236, -0.59338101, ..., -0.30309415,\n",
       "         0.39642699, -1.2087274 ],\n",
       "       ...,\n",
       "       [-0.41344658, -0.48772236,  0.11573841, ...,  1.17646583,\n",
       "         0.44105193, -0.98304761],\n",
       "       [-0.40776407, -0.48772236,  0.11573841, ...,  1.17646583,\n",
       "         0.4032249 , -0.86530163],\n",
       "       [-0.41500016, -0.48772236,  0.11573841, ...,  1.17646583,\n",
       "         0.44105193, -0.66905833]])"
      ]
     },
     "execution_count": 163,
     "metadata": {},
     "output_type": "execute_result"
    }
   ],
   "source": [
    "X"
   ]
  },
  {
   "cell_type": "code",
   "execution_count": 164,
   "metadata": {},
   "outputs": [
    {
     "data": {
      "text/plain": [
       "(506, 13)"
      ]
     },
     "execution_count": 164,
     "metadata": {},
     "output_type": "execute_result"
    }
   ],
   "source": [
    "X.shape"
   ]
  },
  {
   "cell_type": "code",
   "execution_count": 165,
   "metadata": {},
   "outputs": [
    {
     "data": {
      "text/plain": [
       "array([[ 1.        , -0.41978194,  0.28482986, ..., -1.45900038,\n",
       "         0.44105193, -1.0755623 ],\n",
       "       [ 1.        , -0.41733926, -0.48772236, ..., -0.30309415,\n",
       "         0.44105193, -0.49243937],\n",
       "       [ 1.        , -0.41734159, -0.48772236, ..., -0.30309415,\n",
       "         0.39642699, -1.2087274 ],\n",
       "       ...,\n",
       "       [ 1.        , -0.41344658, -0.48772236, ...,  1.17646583,\n",
       "         0.44105193, -0.98304761],\n",
       "       [ 1.        , -0.40776407, -0.48772236, ...,  1.17646583,\n",
       "         0.4032249 , -0.86530163],\n",
       "       [ 1.        , -0.41500016, -0.48772236, ...,  1.17646583,\n",
       "         0.44105193, -0.66905833]])"
      ]
     },
     "execution_count": 165,
     "metadata": {},
     "output_type": "execute_result"
    }
   ],
   "source": [
    "X = np.hstack((np.ones((X.shape[0],1)), X))\n",
    "X"
   ]
  },
  {
   "cell_type": "code",
   "execution_count": 166,
   "metadata": {},
   "outputs": [
    {
     "data": {
      "text/plain": [
       "(506, 14)"
      ]
     },
     "execution_count": 166,
     "metadata": {},
     "output_type": "execute_result"
    }
   ],
   "source": [
    "X.shape"
   ]
  },
  {
   "cell_type": "code",
   "execution_count": 168,
   "metadata": {},
   "outputs": [
    {
     "data": {
      "text/plain": [
       "array([[24. ],\n",
       "       [21.6],\n",
       "       [34.7],\n",
       "       [33.4],\n",
       "       [36.2],\n",
       "       [28.7],\n",
       "       [22.9],\n",
       "       [27.1],\n",
       "       [16.5],\n",
       "       [18.9],\n",
       "       [15. ],\n",
       "       [18.9],\n",
       "       [21.7],\n",
       "       [20.4],\n",
       "       [18.2],\n",
       "       [19.9],\n",
       "       [23.1],\n",
       "       [17.5],\n",
       "       [20.2],\n",
       "       [18.2],\n",
       "       [13.6],\n",
       "       [19.6],\n",
       "       [15.2],\n",
       "       [14.5],\n",
       "       [15.6],\n",
       "       [13.9],\n",
       "       [16.6],\n",
       "       [14.8],\n",
       "       [18.4],\n",
       "       [21. ],\n",
       "       [12.7],\n",
       "       [14.5],\n",
       "       [13.2],\n",
       "       [13.1],\n",
       "       [13.5],\n",
       "       [18.9],\n",
       "       [20. ],\n",
       "       [21. ],\n",
       "       [24.7],\n",
       "       [30.8],\n",
       "       [34.9],\n",
       "       [26.6],\n",
       "       [25.3],\n",
       "       [24.7],\n",
       "       [21.2],\n",
       "       [19.3],\n",
       "       [20. ],\n",
       "       [16.6],\n",
       "       [14.4],\n",
       "       [19.4],\n",
       "       [19.7],\n",
       "       [20.5],\n",
       "       [25. ],\n",
       "       [23.4],\n",
       "       [18.9],\n",
       "       [35.4],\n",
       "       [24.7],\n",
       "       [31.6],\n",
       "       [23.3],\n",
       "       [19.6],\n",
       "       [18.7],\n",
       "       [16. ],\n",
       "       [22.2],\n",
       "       [25. ],\n",
       "       [33. ],\n",
       "       [23.5],\n",
       "       [19.4],\n",
       "       [22. ],\n",
       "       [17.4],\n",
       "       [20.9],\n",
       "       [24.2],\n",
       "       [21.7],\n",
       "       [22.8],\n",
       "       [23.4],\n",
       "       [24.1],\n",
       "       [21.4],\n",
       "       [20. ],\n",
       "       [20.8],\n",
       "       [21.2],\n",
       "       [20.3],\n",
       "       [28. ],\n",
       "       [23.9],\n",
       "       [24.8],\n",
       "       [22.9],\n",
       "       [23.9],\n",
       "       [26.6],\n",
       "       [22.5],\n",
       "       [22.2],\n",
       "       [23.6],\n",
       "       [28.7],\n",
       "       [22.6],\n",
       "       [22. ],\n",
       "       [22.9],\n",
       "       [25. ],\n",
       "       [20.6],\n",
       "       [28.4],\n",
       "       [21.4],\n",
       "       [38.7],\n",
       "       [43.8],\n",
       "       [33.2],\n",
       "       [27.5],\n",
       "       [26.5],\n",
       "       [18.6],\n",
       "       [19.3],\n",
       "       [20.1],\n",
       "       [19.5],\n",
       "       [19.5],\n",
       "       [20.4],\n",
       "       [19.8],\n",
       "       [19.4],\n",
       "       [21.7],\n",
       "       [22.8],\n",
       "       [18.8],\n",
       "       [18.7],\n",
       "       [18.5],\n",
       "       [18.3],\n",
       "       [21.2],\n",
       "       [19.2],\n",
       "       [20.4],\n",
       "       [19.3],\n",
       "       [22. ],\n",
       "       [20.3],\n",
       "       [20.5],\n",
       "       [17.3],\n",
       "       [18.8],\n",
       "       [21.4],\n",
       "       [15.7],\n",
       "       [16.2],\n",
       "       [18. ],\n",
       "       [14.3],\n",
       "       [19.2],\n",
       "       [19.6],\n",
       "       [23. ],\n",
       "       [18.4],\n",
       "       [15.6],\n",
       "       [18.1],\n",
       "       [17.4],\n",
       "       [17.1],\n",
       "       [13.3],\n",
       "       [17.8],\n",
       "       [14. ],\n",
       "       [14.4],\n",
       "       [13.4],\n",
       "       [15.6],\n",
       "       [11.8],\n",
       "       [13.8],\n",
       "       [15.6],\n",
       "       [14.6],\n",
       "       [17.8],\n",
       "       [15.4],\n",
       "       [21.5],\n",
       "       [19.6],\n",
       "       [15.3],\n",
       "       [19.4],\n",
       "       [17. ],\n",
       "       [15.6],\n",
       "       [13.1],\n",
       "       [41.3],\n",
       "       [24.3],\n",
       "       [23.3],\n",
       "       [27. ],\n",
       "       [50. ],\n",
       "       [50. ],\n",
       "       [50. ],\n",
       "       [22.7],\n",
       "       [25. ],\n",
       "       [50. ],\n",
       "       [23.8],\n",
       "       [23.8],\n",
       "       [22.3],\n",
       "       [17.4],\n",
       "       [19.1],\n",
       "       [23.1],\n",
       "       [23.6],\n",
       "       [22.6],\n",
       "       [29.4],\n",
       "       [23.2],\n",
       "       [24.6],\n",
       "       [29.9],\n",
       "       [37.2],\n",
       "       [39.8],\n",
       "       [36.2],\n",
       "       [37.9],\n",
       "       [32.5],\n",
       "       [26.4],\n",
       "       [29.6],\n",
       "       [50. ],\n",
       "       [32. ],\n",
       "       [29.8],\n",
       "       [34.9],\n",
       "       [37. ],\n",
       "       [30.5],\n",
       "       [36.4],\n",
       "       [31.1],\n",
       "       [29.1],\n",
       "       [50. ],\n",
       "       [33.3],\n",
       "       [30.3],\n",
       "       [34.6],\n",
       "       [34.9],\n",
       "       [32.9],\n",
       "       [24.1],\n",
       "       [42.3],\n",
       "       [48.5],\n",
       "       [50. ],\n",
       "       [22.6],\n",
       "       [24.4],\n",
       "       [22.5],\n",
       "       [24.4],\n",
       "       [20. ],\n",
       "       [21.7],\n",
       "       [19.3],\n",
       "       [22.4],\n",
       "       [28.1],\n",
       "       [23.7],\n",
       "       [25. ],\n",
       "       [23.3],\n",
       "       [28.7],\n",
       "       [21.5],\n",
       "       [23. ],\n",
       "       [26.7],\n",
       "       [21.7],\n",
       "       [27.5],\n",
       "       [30.1],\n",
       "       [44.8],\n",
       "       [50. ],\n",
       "       [37.6],\n",
       "       [31.6],\n",
       "       [46.7],\n",
       "       [31.5],\n",
       "       [24.3],\n",
       "       [31.7],\n",
       "       [41.7],\n",
       "       [48.3],\n",
       "       [29. ],\n",
       "       [24. ],\n",
       "       [25.1],\n",
       "       [31.5],\n",
       "       [23.7],\n",
       "       [23.3],\n",
       "       [22. ],\n",
       "       [20.1],\n",
       "       [22.2],\n",
       "       [23.7],\n",
       "       [17.6],\n",
       "       [18.5],\n",
       "       [24.3],\n",
       "       [20.5],\n",
       "       [24.5],\n",
       "       [26.2],\n",
       "       [24.4],\n",
       "       [24.8],\n",
       "       [29.6],\n",
       "       [42.8],\n",
       "       [21.9],\n",
       "       [20.9],\n",
       "       [44. ],\n",
       "       [50. ],\n",
       "       [36. ],\n",
       "       [30.1],\n",
       "       [33.8],\n",
       "       [43.1],\n",
       "       [48.8],\n",
       "       [31. ],\n",
       "       [36.5],\n",
       "       [22.8],\n",
       "       [30.7],\n",
       "       [50. ],\n",
       "       [43.5],\n",
       "       [20.7],\n",
       "       [21.1],\n",
       "       [25.2],\n",
       "       [24.4],\n",
       "       [35.2],\n",
       "       [32.4],\n",
       "       [32. ],\n",
       "       [33.2],\n",
       "       [33.1],\n",
       "       [29.1],\n",
       "       [35.1],\n",
       "       [45.4],\n",
       "       [35.4],\n",
       "       [46. ],\n",
       "       [50. ],\n",
       "       [32.2],\n",
       "       [22. ],\n",
       "       [20.1],\n",
       "       [23.2],\n",
       "       [22.3],\n",
       "       [24.8],\n",
       "       [28.5],\n",
       "       [37.3],\n",
       "       [27.9],\n",
       "       [23.9],\n",
       "       [21.7],\n",
       "       [28.6],\n",
       "       [27.1],\n",
       "       [20.3],\n",
       "       [22.5],\n",
       "       [29. ],\n",
       "       [24.8],\n",
       "       [22. ],\n",
       "       [26.4],\n",
       "       [33.1],\n",
       "       [36.1],\n",
       "       [28.4],\n",
       "       [33.4],\n",
       "       [28.2],\n",
       "       [22.8],\n",
       "       [20.3],\n",
       "       [16.1],\n",
       "       [22.1],\n",
       "       [19.4],\n",
       "       [21.6],\n",
       "       [23.8],\n",
       "       [16.2],\n",
       "       [17.8],\n",
       "       [19.8],\n",
       "       [23.1],\n",
       "       [21. ],\n",
       "       [23.8],\n",
       "       [23.1],\n",
       "       [20.4],\n",
       "       [18.5],\n",
       "       [25. ],\n",
       "       [24.6],\n",
       "       [23. ],\n",
       "       [22.2],\n",
       "       [19.3],\n",
       "       [22.6],\n",
       "       [19.8],\n",
       "       [17.1],\n",
       "       [19.4],\n",
       "       [22.2],\n",
       "       [20.7],\n",
       "       [21.1],\n",
       "       [19.5],\n",
       "       [18.5],\n",
       "       [20.6],\n",
       "       [19. ],\n",
       "       [18.7],\n",
       "       [32.7],\n",
       "       [16.5],\n",
       "       [23.9],\n",
       "       [31.2],\n",
       "       [17.5],\n",
       "       [17.2],\n",
       "       [23.1],\n",
       "       [24.5],\n",
       "       [26.6],\n",
       "       [22.9],\n",
       "       [24.1],\n",
       "       [18.6],\n",
       "       [30.1],\n",
       "       [18.2],\n",
       "       [20.6],\n",
       "       [17.8],\n",
       "       [21.7],\n",
       "       [22.7],\n",
       "       [22.6],\n",
       "       [25. ],\n",
       "       [19.9],\n",
       "       [20.8],\n",
       "       [16.8],\n",
       "       [21.9],\n",
       "       [27.5],\n",
       "       [21.9],\n",
       "       [23.1],\n",
       "       [50. ],\n",
       "       [50. ],\n",
       "       [50. ],\n",
       "       [50. ],\n",
       "       [50. ],\n",
       "       [13.8],\n",
       "       [13.8],\n",
       "       [15. ],\n",
       "       [13.9],\n",
       "       [13.3],\n",
       "       [13.1],\n",
       "       [10.2],\n",
       "       [10.4],\n",
       "       [10.9],\n",
       "       [11.3],\n",
       "       [12.3],\n",
       "       [ 8.8],\n",
       "       [ 7.2],\n",
       "       [10.5],\n",
       "       [ 7.4],\n",
       "       [10.2],\n",
       "       [11.5],\n",
       "       [15.1],\n",
       "       [23.2],\n",
       "       [ 9.7],\n",
       "       [13.8],\n",
       "       [12.7],\n",
       "       [13.1],\n",
       "       [12.5],\n",
       "       [ 8.5],\n",
       "       [ 5. ],\n",
       "       [ 6.3],\n",
       "       [ 5.6],\n",
       "       [ 7.2],\n",
       "       [12.1],\n",
       "       [ 8.3],\n",
       "       [ 8.5],\n",
       "       [ 5. ],\n",
       "       [11.9],\n",
       "       [27.9],\n",
       "       [17.2],\n",
       "       [27.5],\n",
       "       [15. ],\n",
       "       [17.2],\n",
       "       [17.9],\n",
       "       [16.3],\n",
       "       [ 7. ],\n",
       "       [ 7.2],\n",
       "       [ 7.5],\n",
       "       [10.4],\n",
       "       [ 8.8],\n",
       "       [ 8.4],\n",
       "       [16.7],\n",
       "       [14.2],\n",
       "       [20.8],\n",
       "       [13.4],\n",
       "       [11.7],\n",
       "       [ 8.3],\n",
       "       [10.2],\n",
       "       [10.9],\n",
       "       [11. ],\n",
       "       [ 9.5],\n",
       "       [14.5],\n",
       "       [14.1],\n",
       "       [16.1],\n",
       "       [14.3],\n",
       "       [11.7],\n",
       "       [13.4],\n",
       "       [ 9.6],\n",
       "       [ 8.7],\n",
       "       [ 8.4],\n",
       "       [12.8],\n",
       "       [10.5],\n",
       "       [17.1],\n",
       "       [18.4],\n",
       "       [15.4],\n",
       "       [10.8],\n",
       "       [11.8],\n",
       "       [14.9],\n",
       "       [12.6],\n",
       "       [14.1],\n",
       "       [13. ],\n",
       "       [13.4],\n",
       "       [15.2],\n",
       "       [16.1],\n",
       "       [17.8],\n",
       "       [14.9],\n",
       "       [14.1],\n",
       "       [12.7],\n",
       "       [13.5],\n",
       "       [14.9],\n",
       "       [20. ],\n",
       "       [16.4],\n",
       "       [17.7],\n",
       "       [19.5],\n",
       "       [20.2],\n",
       "       [21.4],\n",
       "       [19.9],\n",
       "       [19. ],\n",
       "       [19.1],\n",
       "       [19.1],\n",
       "       [20.1],\n",
       "       [19.9],\n",
       "       [19.6],\n",
       "       [23.2],\n",
       "       [29.8],\n",
       "       [13.8],\n",
       "       [13.3],\n",
       "       [16.7],\n",
       "       [12. ],\n",
       "       [14.6],\n",
       "       [21.4],\n",
       "       [23. ],\n",
       "       [23.7],\n",
       "       [25. ],\n",
       "       [21.8],\n",
       "       [20.6],\n",
       "       [21.2],\n",
       "       [19.1],\n",
       "       [20.6],\n",
       "       [15.2],\n",
       "       [ 7. ],\n",
       "       [ 8.1],\n",
       "       [13.6],\n",
       "       [20.1],\n",
       "       [21.8],\n",
       "       [24.5],\n",
       "       [23.1],\n",
       "       [19.7],\n",
       "       [18.3],\n",
       "       [21.2],\n",
       "       [17.5],\n",
       "       [16.8],\n",
       "       [22.4],\n",
       "       [20.6],\n",
       "       [23.9],\n",
       "       [22. ],\n",
       "       [11.9]])"
      ]
     },
     "execution_count": 168,
     "metadata": {},
     "output_type": "execute_result"
    }
   ],
   "source": [
    "# bad code\n",
    "# Y.reshape(-1, 1)"
   ]
  },
  {
   "cell_type": "code",
   "execution_count": 169,
   "metadata": {},
   "outputs": [
    {
     "data": {
      "text/plain": [
       "(506,)"
      ]
     },
     "execution_count": 169,
     "metadata": {},
     "output_type": "execute_result"
    }
   ],
   "source": [
    "Y.shape"
   ]
  },
  {
   "cell_type": "code",
   "execution_count": 170,
   "metadata": {},
   "outputs": [
    {
     "data": {
      "text/plain": [
       "1609248767.8837235"
      ]
     },
     "execution_count": 170,
     "metadata": {},
     "output_type": "execute_result"
    }
   ],
   "source": [
    "time.time()"
   ]
  },
  {
   "cell_type": "code",
   "execution_count": 178,
   "metadata": {},
   "outputs": [
    {
     "name": "stdout",
     "output_type": "stream",
     "text": [
      "Iteration no. 0 and cost is 592.1469169960474\n",
      "Iteration no. 10 and cost is 29.68173073310732\n",
      "Iteration no. 20 and cost is 22.944630844120084\n",
      "Iteration no. 30 and cost is 22.49319655216589\n",
      "Iteration no. 40 and cost is 22.282575082708895\n",
      "Iteration no. 50 and cost is 22.159041658715385\n",
      "Iteration no. 60 and cost is 22.081879728068994\n",
      "Iteration no. 70 and cost is 22.03107547611092\n",
      "Iteration no. 80 and cost is 21.996103033282758\n",
      "Iteration no. 90 and cost is 21.97116555092656\n",
      "Iteration no. 100 and cost is 21.952910516824208\n",
      "Iteration no. 110 and cost is 21.939295513345325\n",
      "Iteration no. 120 and cost is 21.929010170787794\n",
      "Iteration no. 130 and cost is 21.921173120355405\n",
      "Iteration no. 140 and cost is 21.915167591780364\n",
      "Iteration no. 150 and cost is 21.91054845284741\n",
      "Iteration no. 160 and cost is 21.9069870792849\n",
      "Iteration no. 170 and cost is 21.90423696013323\n",
      "Iteration no. 180 and cost is 21.902111157005134\n",
      "Iteration no. 190 and cost is 21.900466872936217\n",
      "Iteration no. 200 and cost is 21.899194505142837\n",
      "Iteration no. 210 and cost is 21.898209664798195\n",
      "Iteration no. 220 and cost is 21.897447244137705\n",
      "Iteration no. 230 and cost is 21.896856944826464\n",
      "Iteration no. 240 and cost is 21.89639987624035\n",
      "Iteration no. 250 and cost is 21.8960459516135\n",
      "Iteration no. 260 and cost is 21.895771886786044\n",
      "Iteration no. 270 and cost is 21.895559658000206\n",
      "Iteration no. 280 and cost is 21.89539531139274\n",
      "Iteration no. 290 and cost is 21.895268042949972\n",
      "Iteration no. 300 and cost is 21.895169486965674\n",
      "Iteration no. 310 and cost is 21.895093165492487\n",
      "Iteration no. 320 and cost is 21.895034062231478\n",
      "Iteration no. 330 and cost is 21.89498829266914\n",
      "Iteration no. 340 and cost is 21.89495284868983\n",
      "Iteration no. 350 and cost is 21.89492540083252\n",
      "Iteration no. 360 and cost is 21.89490414517288\n",
      "Iteration no. 370 and cost is 21.894887684755805\n",
      "Iteration no. 380 and cost is 21.89487493778024\n",
      "Iteration no. 390 and cost is 21.894865066499207\n",
      "Iteration no. 400 and cost is 21.894857422160726\n",
      "Iteration no. 410 and cost is 21.894851502370457\n",
      "Iteration no. 420 and cost is 21.894846918073483\n",
      "Iteration no. 430 and cost is 21.894843367985015\n",
      "Iteration no. 440 and cost is 21.894840618789587\n",
      "Iteration no. 450 and cost is 21.89483848980728\n",
      "Iteration no. 460 and cost is 21.894836841119215\n",
      "Iteration no. 470 and cost is 21.894835564371938\n",
      "Iteration no. 480 and cost is 21.894834575656347\n",
      "Iteration no. 490 and cost is 21.894833809993052\n",
      "Iteration no. 500 and cost is 21.89483321706189\n",
      "Iteration no. 510 and cost is 21.894832757894836\n",
      "Iteration no. 520 and cost is 21.894832402314968\n",
      "Iteration no. 530 and cost is 21.89483212695322\n",
      "Iteration no. 540 and cost is 21.894831913712537\n",
      "Iteration no. 550 and cost is 21.89483174857854\n",
      "Iteration no. 560 and cost is 21.894831620698444\n",
      "Iteration no. 570 and cost is 21.894831521667843\n",
      "Iteration no. 580 and cost is 21.89483144497835\n",
      "Iteration no. 590 and cost is 21.894831385589868\n",
      "Iteration no. 600 and cost is 21.894831339599296\n",
      "Iteration no. 610 and cost is 21.894831303984116\n",
      "Iteration no. 620 and cost is 21.89483127640365\n",
      "Iteration no. 630 and cost is 21.89483125504528\n",
      "Iteration no. 640 and cost is 21.89483123850532\n",
      "Iteration no. 650 and cost is 21.89483122569674\n",
      "Iteration no. 660 and cost is 21.89483121577775\n",
      "Iteration no. 670 and cost is 21.894831208096466\n",
      "Iteration no. 680 and cost is 21.894831202148062\n",
      "Iteration no. 690 and cost is 21.894831197541606\n",
      "Iteration no. 700 and cost is 21.89483119397436\n",
      "Iteration no. 710 and cost is 21.894831191211875\n",
      "Iteration no. 720 and cost is 21.894831189072605\n",
      "Iteration no. 730 and cost is 21.89483118741595\n",
      "Iteration no. 740 and cost is 21.89483118613303\n",
      "Iteration no. 750 and cost is 21.894831185139534\n",
      "Iteration no. 760 and cost is 21.894831184370172\n",
      "Iteration no. 770 and cost is 21.89483118377437\n",
      "Iteration no. 780 and cost is 21.89483118331299\n",
      "Iteration no. 790 and cost is 21.894831182955688\n",
      "Iteration no. 800 and cost is 21.894831182679\n",
      "Iteration no. 810 and cost is 21.89483118246473\n",
      "Iteration no. 820 and cost is 21.894831182298795\n",
      "Iteration no. 830 and cost is 21.894831182170297\n",
      "Iteration no. 840 and cost is 21.89483118207079\n",
      "Iteration no. 850 and cost is 21.894831181993727\n",
      "Iteration no. 860 and cost is 21.894831181934048\n",
      "Iteration no. 870 and cost is 21.89483118188784\n",
      "Iteration no. 880 and cost is 21.894831181852055\n",
      "Iteration no. 890 and cost is 21.894831181824337\n",
      "Iteration no. 900 and cost is 21.89483118180287\n",
      "Iteration no. 910 and cost is 21.89483118178626\n",
      "Iteration no. 920 and cost is 21.894831181773387\n",
      "Iteration no. 930 and cost is 21.894831181763415\n",
      "Iteration no. 940 and cost is 21.8948311817557\n",
      "Iteration no. 950 and cost is 21.894831181749723\n",
      "Iteration no. 960 and cost is 21.894831181745097\n",
      "Iteration no. 970 and cost is 21.89483118174151\n",
      "Iteration no. 980 and cost is 21.894831181738734\n",
      "Iteration no. 990 and cost is 21.894831181736585\n",
      "0.05402660369873047\n"
     ]
    }
   ],
   "source": [
    "start = time.time()\n",
    "theta, err = gradient_descent(X, Y.reshape(-1,1), max_itr=1000, lr=0.2)\n",
    "end = time.time()\n",
    "print(end - start)"
   ]
  },
  {
   "cell_type": "code",
   "execution_count": 179,
   "metadata": {},
   "outputs": [
    {
     "data": {
      "text/plain": [
       "array([[ 2.25328063e+01],\n",
       "       [-9.28145628e-01],\n",
       "       [ 1.08156786e+00],\n",
       "       [ 1.40897615e-01],\n",
       "       [ 6.81740066e-01],\n",
       "       [-2.05671785e+00],\n",
       "       [ 2.67423060e+00],\n",
       "       [ 1.94657060e-02],\n",
       "       [-3.10404443e+00],\n",
       "       [ 2.66221163e+00],\n",
       "       [-2.07677485e+00],\n",
       "       [-2.06060644e+00],\n",
       "       [ 8.49268375e-01],\n",
       "       [-3.74362689e+00]])"
      ]
     },
     "execution_count": 179,
     "metadata": {},
     "output_type": "execute_result"
    }
   ],
   "source": [
    "theta"
   ]
  },
  {
   "cell_type": "code",
   "execution_count": 180,
   "metadata": {},
   "outputs": [
    {
     "data": {
      "text/plain": [
       "(14, 1)"
      ]
     },
     "execution_count": 180,
     "metadata": {},
     "output_type": "execute_result"
    }
   ],
   "source": [
    "theta.shape"
   ]
  },
  {
   "cell_type": "code",
   "execution_count": 181,
   "metadata": {},
   "outputs": [
    {
     "data": {
      "text/plain": [
       "[<matplotlib.lines.Line2D at 0x12c1326a048>]"
      ]
     },
     "execution_count": 181,
     "metadata": {},
     "output_type": "execute_result"
    },
    {
     "data": {
      "image/png": "[encoded data removed]",
      "text/plain": [
       "<Figure size 432x288 with 1 Axes>"
      ]
     },
     "metadata": {
      "needs_background": "light"
     },
     "output_type": "display_data"
    }
   ],
   "source": [
    "plt.plot(err)"
   ]
  },
  {
   "cell_type": "code",
   "execution_count": 182,
   "metadata": {},
   "outputs": [
    {
     "data": {
      "text/plain": [
       "(14, 1)"
      ]
     },
     "execution_count": 182,
     "metadata": {},
     "output_type": "execute_result"
    }
   ],
   "source": [
    "theta.shape"
   ]
  },
  {
   "cell_type": "code",
   "execution_count": 183,
   "metadata": {},
   "outputs": [
    {
     "data": {
      "text/plain": [
       "array([[ 2.25328063e+01],\n",
       "       [-9.28145628e-01],\n",
       "       [ 1.08156786e+00],\n",
       "       [ 1.40897615e-01],\n",
       "       [ 6.81740066e-01],\n",
       "       [-2.05671785e+00],\n",
       "       [ 2.67423060e+00],\n",
       "       [ 1.94657060e-02],\n",
       "       [-3.10404443e+00],\n",
       "       [ 2.66221163e+00],\n",
       "       [-2.07677485e+00],\n",
       "       [-2.06060644e+00],\n",
       "       [ 8.49268375e-01],\n",
       "       [-3.74362689e+00]])"
      ]
     },
     "execution_count": 183,
     "metadata": {},
     "output_type": "execute_result"
    }
   ],
   "source": [
    "theta"
   ]
  },
  {
   "cell_type": "code",
   "execution_count": 184,
   "metadata": {},
   "outputs": [],
   "source": [
    "def evaluate(Y_actual, Y_pred):\n",
    "    num = ((Y_actual - Y_pred) ** 2).sum()\n",
    "    denom = ((Y_actual - Y_actual.mean()) ** 2).sum()\n",
    "    return (1 - (num / denom)) * 100"
   ]
  },
  {
   "cell_type": "code",
   "execution_count": 192,
   "metadata": {},
   "outputs": [
    {
     "data": {
      "text/plain": [
       "(506, 1)"
      ]
     },
     "execution_count": 192,
     "metadata": {},
     "output_type": "execute_result"
    }
   ],
   "source": [
    "Y_pred = X.dot(theta)\n",
    "Y_pred.shape"
   ]
  },
  {
   "cell_type": "code",
   "execution_count": 195,
   "metadata": {},
   "outputs": [
    {
     "data": {
      "text/plain": [
       "(506, 1)"
      ]
     },
     "execution_count": 195,
     "metadata": {},
     "output_type": "execute_result"
    }
   ],
   "source": [
    "Y = Y.reshape((506, 1))\n",
    "Y.shape"
   ]
  },
  {
   "cell_type": "code",
   "execution_count": 196,
   "metadata": {},
   "outputs": [
    {
     "data": {
      "text/plain": [
       "74.06426641093418"
      ]
     },
     "execution_count": 196,
     "metadata": {},
     "output_type": "execute_result"
    }
   ],
   "source": [
    "evaluate(Y, Y_pred)"
   ]
  },
  {
   "cell_type": "markdown",
   "metadata": {},
   "source": [
    "## Polynomial Regression"
   ]
  },
  {
   "cell_type": "code",
   "execution_count": 207,
   "metadata": {},
   "outputs": [],
   "source": [
    "import pandas as pd\n",
    "import numpy as np\n",
    "import matplotlib.pyplot as plt"
   ]
  },
  {
   "cell_type": "code",
   "execution_count": 208,
   "metadata": {},
   "outputs": [],
   "source": [
    "X = pd.read_csv(\"weightedX.csv\").values\n",
    "Y = pd.read_csv(\"weightedY.csv\").values"
   ]
  },
  {
   "cell_type": "code",
   "execution_count": 209,
   "metadata": {},
   "outputs": [
    {
     "data": {
      "text/plain": [
       "(99, 1)"
      ]
     },
     "execution_count": 209,
     "metadata": {},
     "output_type": "execute_result"
    }
   ],
   "source": [
    "X.shape"
   ]
  },
  {
   "cell_type": "code",
   "execution_count": 210,
   "metadata": {},
   "outputs": [
    {
     "data": {
      "text/plain": [
       "(99, 1)"
      ]
     },
     "execution_count": 210,
     "metadata": {},
     "output_type": "execute_result"
    }
   ],
   "source": [
    "Y.shape"
   ]
  },
  {
   "cell_type": "code",
   "execution_count": 234,
   "metadata": {},
   "outputs": [
    {
     "data": {
      "text/plain": [
       "<matplotlib.collections.PathCollection at 0x12c144e1488>"
      ]
     },
     "execution_count": 234,
     "metadata": {},
     "output_type": "execute_result"
    },
    {
     "data": {
      "image/png": "[encoded data removed]",
      "text/plain": [
       "<Figure size 432x288 with 1 Axes>"
      ]
     },
     "metadata": {
      "needs_background": "light"
     },
     "output_type": "display_data"
    }
   ],
   "source": [
    "plt.scatter(X,Y)\n",
    "plt.plot(X, lr_model.predict(X), color=\"red\")\n",
    "plt.scatter(X, lr2_model.predict(x), color=\"orange\")\n",
    "plt.scatter(X, lr3_model.predict(x3), color=\"pink\")\n",
    "plt.scatter(X, lr4_model.predict(x4), color=\"yellow\")"
   ]
  },
  {
   "cell_type": "code",
   "execution_count": 212,
   "metadata": {},
   "outputs": [
    {
     "data": {
      "text/plain": [
       "LinearRegression()"
      ]
     },
     "execution_count": 212,
     "metadata": {},
     "output_type": "execute_result"
    }
   ],
   "source": [
    "from sklearn.linear_model import LinearRegression\n",
    "lr_model = LinearRegression()\n",
    "lr_model.fit(X, Y)"
   ]
  },
  {
   "cell_type": "code",
   "execution_count": 214,
   "metadata": {},
   "outputs": [],
   "source": [
    "x = np.hstack((X, X**2))"
   ]
  },
  {
   "cell_type": "code",
   "execution_count": 215,
   "metadata": {},
   "outputs": [
    {
     "data": {
      "text/plain": [
       "array([[ 2.33480000e+00,  5.45129104e+00],\n",
       "       [ 1.32640000e-01,  1.75933696e-02],\n",
       "       [ 2.34700000e+00,  5.50840900e+00],\n",
       "       [ 6.73890000e+00,  4.54127732e+01],\n",
       "       [ 3.70890000e+00,  1.37559392e+01],\n",
       "       [ 1.18530000e+01,  1.40493609e+02],\n",
       "       [-1.87080000e+00,  3.49989264e+00],\n",
       "       [ 4.50250000e+00,  2.02725063e+01],\n",
       "       [ 3.27980000e+00,  1.07570880e+01],\n",
       "       [ 1.75730000e+00,  3.08810329e+00],\n",
       "       [ 3.37840000e+00,  1.14135866e+01],\n",
       "       [ 1.14700000e+01,  1.31560900e+02],\n",
       "       [ 9.05950000e+00,  8.20745402e+01],\n",
       "       [-2.81740000e+00,  7.93774276e+00],\n",
       "       [ 9.31840000e+00,  8.68325786e+01],\n",
       "       [ 8.42110000e+00,  7.09149252e+01],\n",
       "       [ 8.62150000e-01,  7.43302622e-01],\n",
       "       [ 7.55440000e+00,  5.70689594e+01],\n",
       "       [-3.98830000e+00,  1.59065369e+01],\n",
       "       [ 4.49700000e+00,  2.02230090e+01],\n",
       "       [ 8.30620000e+00,  6.89929584e+01],\n",
       "       [-2.60700000e+00,  6.79644900e+00],\n",
       "       [ 4.48010000e+00,  2.00712960e+01],\n",
       "       [-1.50740000e+00,  2.27225476e+00],\n",
       "       [ 9.62840000e+00,  9.27060866e+01],\n",
       "       [-6.25000000e-01,  3.90625000e-01],\n",
       "       [-2.80160000e-01,  7.84896256e-02],\n",
       "       [-1.01170000e-01,  1.02353689e-02],\n",
       "       [ 7.49120000e+00,  5.61180774e+01],\n",
       "       [ 3.44920000e+00,  1.18969806e+01],\n",
       "       [-4.07060000e+00,  1.65697844e+01],\n",
       "       [-1.74810000e+00,  3.05585361e+00],\n",
       "       [ 7.31760000e+00,  5.35472698e+01],\n",
       "       [ 1.15520000e+01,  1.33448704e+02],\n",
       "       [ 6.97630000e+00,  4.86687617e+01],\n",
       "       [ 8.62590000e+00,  7.44061508e+01],\n",
       "       [-1.49380000e+00,  2.23143844e+00],\n",
       "       [ 8.13530000e+00,  6.61831061e+01],\n",
       "       [ 9.83590000e+00,  9.67449288e+01],\n",
       "       [ 8.72560000e+00,  7.61360954e+01],\n",
       "       [ 7.86270000e+00,  6.18220513e+01],\n",
       "       [ 1.03780000e+01,  1.07702884e+02],\n",
       "       [ 2.15700000e+00,  4.65264900e+00],\n",
       "       [ 6.19280000e+00,  3.83507718e+01],\n",
       "       [-4.97800000e+00,  2.47804840e+01],\n",
       "       [ 1.16940000e+01,  1.36749636e+02],\n",
       "       [ 2.00930000e+00,  4.03728649e+00],\n",
       "       [ 9.09160000e-01,  8.26571906e-01],\n",
       "       [ 6.35890000e+00,  4.04356092e+01],\n",
       "       [ 2.54250000e+00,  6.46430625e+00],\n",
       "       [ 9.27780000e+00,  8.60775728e+01],\n",
       "       [ 4.00180000e+00,  1.60144032e+01],\n",
       "       [-6.28600000e-01,  3.95137960e-01],\n",
       "       [-2.34290000e+00,  5.48918041e+00],\n",
       "       [ 4.48290000e+00,  2.00963924e+01],\n",
       "       [ 1.13420000e+01,  1.28640964e+02],\n",
       "       [ 1.11720000e+01,  1.24813584e+02],\n",
       "       [ 7.49270000e+00,  5.61405533e+01],\n",
       "       [-1.21660000e+00,  1.48011556e+00],\n",
       "       [ 3.44270000e+00,  1.18521833e+01],\n",
       "       [-4.88060000e+00,  2.38202564e+01],\n",
       "       [ 3.75260000e-01,  1.40820068e-01],\n",
       "       [ 7.55310000e+00,  5.70493196e+01],\n",
       "       [ 8.43570000e+00,  7.11610345e+01],\n",
       "       [ 1.80480000e+00,  3.25730304e+00],\n",
       "       [ 1.79810000e+00,  3.23316361e+00],\n",
       "       [-7.21240000e-01,  5.20187138e-01],\n",
       "       [-3.43750000e+00,  1.18164062e+01],\n",
       "       [ 5.23750000e+00,  2.74314062e+01],\n",
       "       [ 9.15160000e+00,  8.37517826e+01],\n",
       "       [-1.07770000e-02,  1.16143729e-04],\n",
       "       [ 2.91410000e+00,  8.49197881e+00],\n",
       "       [-4.22600000e+00,  1.78590760e+01],\n",
       "       [-3.54270000e+00,  1.25507233e+01],\n",
       "       [ 3.72350000e+00,  1.38644522e+01],\n",
       "       [ 7.16230000e+00,  5.12985413e+01],\n",
       "       [-4.39760000e+00,  1.93388858e+01],\n",
       "       [ 1.16530000e+01,  1.35792409e+02],\n",
       "       [ 3.45660000e+00,  1.19480836e+01],\n",
       "       [ 6.91260000e+00,  4.77840388e+01],\n",
       "       [ 8.65320000e+00,  7.48778702e+01],\n",
       "       [ 3.78350000e+00,  1.43148723e+01],\n",
       "       [ 3.54590000e+00,  1.25734068e+01],\n",
       "       [ 7.83060000e+00,  6.13182964e+01],\n",
       "       [-9.52180000e-01,  9.06646752e-01],\n",
       "       [ 1.10320000e+01,  1.21705024e+02],\n",
       "       [-3.49340000e+00,  1.22038436e+01],\n",
       "       [ 4.23120000e+00,  1.79030534e+01],\n",
       "       [ 1.03590000e+01,  1.07308881e+02],\n",
       "       [ 9.64250000e+00,  9.29778063e+01],\n",
       "       [ 5.73520000e+00,  3.28925190e+01],\n",
       "       [-5.39820000e-01,  2.91405632e-01],\n",
       "       [ 1.44330000e+00,  2.08311489e+00],\n",
       "       [ 7.34500000e-01,  5.39490250e-01],\n",
       "       [ 3.48110000e-01,  1.21180572e-01],\n",
       "       [ 1.11010000e+01,  1.23232201e+02],\n",
       "       [ 4.09790000e+00,  1.67927844e+01],\n",
       "       [ 6.93320000e+00,  4.80692622e+01],\n",
       "       [ 9.87560000e+00,  9.75274754e+01]])"
      ]
     },
     "execution_count": 215,
     "metadata": {},
     "output_type": "execute_result"
    }
   ],
   "source": [
    "x"
   ]
  },
  {
   "cell_type": "code",
   "execution_count": 216,
   "metadata": {},
   "outputs": [
    {
     "data": {
      "text/plain": [
       "(99, 2)"
      ]
     },
     "execution_count": 216,
     "metadata": {},
     "output_type": "execute_result"
    }
   ],
   "source": [
    "x.shape"
   ]
  },
  {
   "cell_type": "code",
   "execution_count": 217,
   "metadata": {},
   "outputs": [
    {
     "data": {
      "text/plain": [
       "LinearRegression()"
      ]
     },
     "execution_count": 217,
     "metadata": {},
     "output_type": "execute_result"
    }
   ],
   "source": [
    "lr2_model = LinearRegression()\n",
    "lr2_model.fit(x, Y)"
   ]
  },
  {
   "cell_type": "code",
   "execution_count": 218,
   "metadata": {},
   "outputs": [
    {
     "data": {
      "text/plain": [
       "0.5141377991406518"
      ]
     },
     "execution_count": 218,
     "metadata": {},
     "output_type": "execute_result"
    }
   ],
   "source": [
    "lr_model.score(X,Y)"
   ]
  },
  {
   "cell_type": "code",
   "execution_count": 219,
   "metadata": {},
   "outputs": [
    {
     "data": {
      "text/plain": [
       "0.8152095679916156"
      ]
     },
     "execution_count": 219,
     "metadata": {},
     "output_type": "execute_result"
    }
   ],
   "source": [
    "lr2_model.score(x,Y)"
   ]
  },
  {
   "cell_type": "code",
   "execution_count": 221,
   "metadata": {},
   "outputs": [],
   "source": [
    "x3 = np.hstack((x, X**3))"
   ]
  },
  {
   "cell_type": "code",
   "execution_count": 222,
   "metadata": {},
   "outputs": [
    {
     "data": {
      "text/plain": [
       "array([[ 2.33480000e+00,  5.45129104e+00,  1.27276743e+01],\n",
       "       [ 1.32640000e-01,  1.75933696e-02,  2.33358454e-03],\n",
       "       [ 2.34700000e+00,  5.50840900e+00,  1.29282359e+01],\n",
       "       [ 6.73890000e+00,  4.54127732e+01,  3.06032137e+02],\n",
       "       [ 3.70890000e+00,  1.37559392e+01,  5.10194029e+01],\n",
       "       [ 1.18530000e+01,  1.40493609e+02,  1.66527075e+03],\n",
       "       [-1.87080000e+00,  3.49989264e+00, -6.54759915e+00],\n",
       "       [ 4.50250000e+00,  2.02725063e+01,  9.12769594e+01],\n",
       "       [ 3.27980000e+00,  1.07570880e+01,  3.52810974e+01],\n",
       "       [ 1.75730000e+00,  3.08810329e+00,  5.42672391e+00],\n",
       "       [ 3.37840000e+00,  1.14135866e+01,  3.85596608e+01],\n",
       "       [ 1.14700000e+01,  1.31560900e+02,  1.50900352e+03],\n",
       "       [ 9.05950000e+00,  8.20745402e+01,  7.43554297e+02],\n",
       "       [-2.81740000e+00,  7.93774276e+00, -2.23637965e+01],\n",
       "       [ 9.31840000e+00,  8.68325786e+01,  8.09140700e+02],\n",
       "       [ 8.42110000e+00,  7.09149252e+01,  5.97181677e+02],\n",
       "       [ 8.62150000e-01,  7.43302622e-01,  6.40838356e-01],\n",
       "       [ 7.55440000e+00,  5.70689594e+01,  4.31121747e+02],\n",
       "       [-3.98830000e+00,  1.59065369e+01, -6.34400411e+01],\n",
       "       [ 4.49700000e+00,  2.02230090e+01,  9.09428715e+01],\n",
       "       [ 8.30620000e+00,  6.89929584e+01,  5.73069311e+02],\n",
       "       [-2.60700000e+00,  6.79644900e+00, -1.77183425e+01],\n",
       "       [ 4.48010000e+00,  2.00712960e+01,  8.99214133e+01],\n",
       "       [-1.50740000e+00,  2.27225476e+00, -3.42519683e+00],\n",
       "       [ 9.62840000e+00,  9.27060866e+01,  8.92611284e+02],\n",
       "       [-6.25000000e-01,  3.90625000e-01, -2.44140625e-01],\n",
       "       [-2.80160000e-01,  7.84896256e-02, -2.19896535e-02],\n",
       "       [-1.01170000e-01,  1.02353689e-02, -1.03551227e-03],\n",
       "       [ 7.49120000e+00,  5.61180774e+01,  4.20391742e+02],\n",
       "       [ 3.44920000e+00,  1.18969806e+01,  4.10350656e+01],\n",
       "       [-4.07060000e+00,  1.65697844e+01, -6.74489642e+01],\n",
       "       [-1.74810000e+00,  3.05585361e+00, -5.34193770e+00],\n",
       "       [ 7.31760000e+00,  5.35472698e+01,  3.91837501e+02],\n",
       "       [ 1.15520000e+01,  1.33448704e+02,  1.54159943e+03],\n",
       "       [ 6.97630000e+00,  4.86687617e+01,  3.39527882e+02],\n",
       "       [ 8.62590000e+00,  7.44061508e+01,  6.41820016e+02],\n",
       "       [-1.49380000e+00,  2.23143844e+00, -3.33332274e+00],\n",
       "       [ 8.13530000e+00,  6.61831061e+01,  5.38419423e+02],\n",
       "       [ 9.83590000e+00,  9.67449288e+01,  9.51573445e+02],\n",
       "       [ 8.72560000e+00,  7.61360954e+01,  6.64333114e+02],\n",
       "       [ 7.86270000e+00,  6.18220513e+01,  4.86088243e+02],\n",
       "       [ 1.03780000e+01,  1.07702884e+02,  1.11774053e+03],\n",
       "       [ 2.15700000e+00,  4.65264900e+00,  1.00357639e+01],\n",
       "       [ 6.19280000e+00,  3.83507718e+01,  2.37498660e+02],\n",
       "       [-4.97800000e+00,  2.47804840e+01, -1.23357249e+02],\n",
       "       [ 1.16940000e+01,  1.36749636e+02,  1.59915024e+03],\n",
       "       [ 2.00930000e+00,  4.03728649e+00,  8.11211974e+00],\n",
       "       [ 9.09160000e-01,  8.26571906e-01,  7.51486114e-01],\n",
       "       [ 6.35890000e+00,  4.04356092e+01,  2.57125995e+02],\n",
       "       [ 2.54250000e+00,  6.46430625e+00,  1.64354986e+01],\n",
       "       [ 9.27780000e+00,  8.60775728e+01,  7.98610505e+02],\n",
       "       [ 4.00180000e+00,  1.60144032e+01,  6.40864389e+01],\n",
       "       [-6.28600000e-01,  3.95137960e-01, -2.48383722e-01],\n",
       "       [-2.34290000e+00,  5.48918041e+00, -1.28606008e+01],\n",
       "       [ 4.48290000e+00,  2.00963924e+01,  9.00901175e+01],\n",
       "       [ 1.13420000e+01,  1.28640964e+02,  1.45904581e+03],\n",
       "       [ 1.11720000e+01,  1.24813584e+02,  1.39441736e+03],\n",
       "       [ 7.49270000e+00,  5.61405533e+01,  4.20644324e+02],\n",
       "       [-1.21660000e+00,  1.48011556e+00, -1.80070859e+00],\n",
       "       [ 3.44270000e+00,  1.18521833e+01,  4.08035114e+01],\n",
       "       [-4.88060000e+00,  2.38202564e+01, -1.16257143e+02],\n",
       "       [ 3.75260000e-01,  1.40820068e-01,  5.28441386e-02],\n",
       "       [ 7.55310000e+00,  5.70493196e+01,  4.30899216e+02],\n",
       "       [ 8.43570000e+00,  7.11610345e+01,  6.00293139e+02],\n",
       "       [ 1.80480000e+00,  3.25730304e+00,  5.87878053e+00],\n",
       "       [ 1.79810000e+00,  3.23316361e+00,  5.81355149e+00],\n",
       "       [-7.21240000e-01,  5.20187138e-01, -3.75179771e-01],\n",
       "       [-3.43750000e+00,  1.18164062e+01, -4.06188965e+01],\n",
       "       [ 5.23750000e+00,  2.74314062e+01,  1.43671990e+02],\n",
       "       [ 9.15160000e+00,  8.37517826e+01,  7.66462813e+02],\n",
       "       [-1.07770000e-02,  1.16143729e-04, -1.25168097e-06],\n",
       "       [ 2.91410000e+00,  8.49197881e+00,  2.47464755e+01],\n",
       "       [-4.22600000e+00,  1.78590760e+01, -7.54724552e+01],\n",
       "       [-3.54270000e+00,  1.25507233e+01, -4.44634474e+01],\n",
       "       [ 3.72350000e+00,  1.38644522e+01,  5.16242880e+01],\n",
       "       [ 7.16230000e+00,  5.12985413e+01,  3.67415542e+02],\n",
       "       [-4.39760000e+00,  1.93388858e+01, -8.50446840e+01],\n",
       "       [ 1.16530000e+01,  1.35792409e+02,  1.58238894e+03],\n",
       "       [ 3.45660000e+00,  1.19480836e+01,  4.12997456e+01],\n",
       "       [ 6.91260000e+00,  4.77840388e+01,  3.30311946e+02],\n",
       "       [ 8.65320000e+00,  7.48778702e+01,  6.47933187e+02],\n",
       "       [ 3.78350000e+00,  1.43148723e+01,  5.41603192e+01],\n",
       "       [ 3.54590000e+00,  1.25734068e+01,  4.45840432e+01],\n",
       "       [ 7.83060000e+00,  6.13182964e+01,  4.80159051e+02],\n",
       "       [-9.52180000e-01,  9.06646752e-01, -8.63290905e-01],\n",
       "       [ 1.10320000e+01,  1.21705024e+02,  1.34264982e+03],\n",
       "       [-3.49340000e+00,  1.22038436e+01, -4.26329071e+01],\n",
       "       [ 4.23120000e+00,  1.79030534e+01,  7.57513997e+01],\n",
       "       [ 1.03590000e+01,  1.07308881e+02,  1.11161270e+03],\n",
       "       [ 9.64250000e+00,  9.29778063e+01,  8.96538497e+02],\n",
       "       [ 5.73520000e+00,  3.28925190e+01,  1.88645175e+02],\n",
       "       [-5.39820000e-01,  2.91405632e-01, -1.57306588e-01],\n",
       "       [ 1.44330000e+00,  2.08311489e+00,  3.00655972e+00],\n",
       "       [ 7.34500000e-01,  5.39490250e-01,  3.96255589e-01],\n",
       "       [ 3.48110000e-01,  1.21180572e-01,  4.21841690e-02],\n",
       "       [ 1.11010000e+01,  1.23232201e+02,  1.36800066e+03],\n",
       "       [ 4.09790000e+00,  1.67927844e+01,  6.88151512e+01],\n",
       "       [ 6.93320000e+00,  4.80692622e+01,  3.33273809e+02],\n",
       "       [ 9.87560000e+00,  9.75274754e+01,  9.63142336e+02]])"
      ]
     },
     "execution_count": 222,
     "metadata": {},
     "output_type": "execute_result"
    }
   ],
   "source": [
    "x3"
   ]
  },
  {
   "cell_type": "code",
   "execution_count": 223,
   "metadata": {},
   "outputs": [
    {
     "data": {
      "text/plain": [
       "(99, 3)"
      ]
     },
     "execution_count": 223,
     "metadata": {},
     "output_type": "execute_result"
    }
   ],
   "source": [
    "x3.shape"
   ]
  },
  {
   "cell_type": "code",
   "execution_count": 224,
   "metadata": {},
   "outputs": [
    {
     "data": {
      "text/plain": [
       "LinearRegression()"
      ]
     },
     "execution_count": 224,
     "metadata": {},
     "output_type": "execute_result"
    }
   ],
   "source": [
    "lr3_model = LinearRegression()\n",
    "lr3_model.fit(x3, Y)"
   ]
  },
  {
   "cell_type": "code",
   "execution_count": 226,
   "metadata": {},
   "outputs": [
    {
     "data": {
      "text/plain": [
       "0.8405207681165574"
      ]
     },
     "execution_count": 226,
     "metadata": {},
     "output_type": "execute_result"
    }
   ],
   "source": [
    "lr3_model.score(x3, Y)"
   ]
  },
  {
   "cell_type": "code",
   "execution_count": 228,
   "metadata": {},
   "outputs": [
    {
     "data": {
      "text/plain": [
       "(99, 4)"
      ]
     },
     "execution_count": 228,
     "metadata": {},
     "output_type": "execute_result"
    }
   ],
   "source": [
    "x4 = np.hstack((x3, X**4))\n",
    "x4.shape"
   ]
  },
  {
   "cell_type": "code",
   "execution_count": 229,
   "metadata": {},
   "outputs": [
    {
     "data": {
      "text/plain": [
       "LinearRegression()"
      ]
     },
     "execution_count": 229,
     "metadata": {},
     "output_type": "execute_result"
    }
   ],
   "source": [
    "lr4_model = LinearRegression()\n",
    "lr4_model.fit(x4, Y)"
   ]
  },
  {
   "cell_type": "code",
   "execution_count": 231,
   "metadata": {},
   "outputs": [
    {
     "data": {
      "text/plain": [
       "0.9787712201032478"
      ]
     },
     "execution_count": 231,
     "metadata": {},
     "output_type": "execute_result"
    }
   ],
   "source": [
    "lr4_model.score(x4, Y)"
   ]
  },
  {
   "cell_type": "code",
   "execution_count": 236,
   "metadata": {},
   "outputs": [
    {
     "data": {
      "text/plain": [
       "(99, 5)"
      ]
     },
     "execution_count": 236,
     "metadata": {},
     "output_type": "execute_result"
    }
   ],
   "source": [
    "x5 = np.hstack((x4, X ** 5))\n",
    "x5.shape"
   ]
  },
  {
   "cell_type": "code",
   "execution_count": 237,
   "metadata": {},
   "outputs": [
    {
     "data": {
      "text/plain": [
       "LinearRegression()"
      ]
     },
     "execution_count": 237,
     "metadata": {},
     "output_type": "execute_result"
    }
   ],
   "source": [
    "lr5_model = LinearRegression()\n",
    "lr5_model.fit(x5, Y)"
   ]
  },
  {
   "cell_type": "code",
   "execution_count": 238,
   "metadata": {},
   "outputs": [
    {
     "data": {
      "text/plain": [
       "0.978956548140068"
      ]
     },
     "execution_count": 238,
     "metadata": {},
     "output_type": "execute_result"
    }
   ],
   "source": [
    "lr5_model.score(x5, Y)"
   ]
  }
 ],
 "metadata": {
  "kernelspec": {
   "display_name": "Python 3",
   "language": "python",
   "name": "python3"
  },
  "language_info": {
   "codemirror_mode": {
    "name": "ipython",
    "version": 3
   },
   "file_extension": ".py",
   "mimetype": "text/x-python",
   "name": "python",
   "nbconvert_exporter": "python",
   "pygments_lexer": "ipython3",
   "version": "3.7.9"
  }
 },
 "nbformat": 4,
 "nbformat_minor": 2
}
