{
 "cells": [
  {
   "cell_type": "markdown",
   "metadata": {},
   "source": [
    "# Linear Regression\n",
    "__~ Anish Sachdeva__"
   ]
  },
  {
   "cell_type": "markdown",
   "metadata": {},
   "source": [
    "$ x_1 x_2 x_3 .. x_m $  --> $y_1 y_2 y_3 ... y_m$\n",
    "\n",
    "\n",
    "x --> y\n",
    "\n"
   ]
  },
  {
   "cell_type": "code",
   "execution_count": 86,
   "metadata": {},
   "outputs": [],
   "source": [
    "import numpy as np\n",
    "import pandas as pd\n",
    "import matplotlib.pyplot as plt"
   ]
  },
  {
   "cell_type": "code",
   "execution_count": 3,
   "metadata": {},
   "outputs": [],
   "source": [
    "X = pd.read_csv(\"Linear_X_Train.csv\").values\n",
    "Y = pd.read_csv(\"Linear_Y_Train.csv\").values"
   ]
  },
  {
   "cell_type": "code",
   "execution_count": 4,
   "metadata": {},
   "outputs": [
    {
     "data": {
      "image/png": "[encoded data removed]",
      "text/plain": [
       "<Figure size 720x504 with 1 Axes>"
      ]
     },
     "metadata": {
      "needs_background": "light"
     },
     "output_type": "display_data"
    }
   ],
   "source": [
    "plt.figure(figsize=(10, 7))\n",
    "plt.scatter(X, Y)\n",
    "plt.show()"
   ]
  },
  {
   "cell_type": "code",
   "execution_count": 5,
   "metadata": {},
   "outputs": [
    {
     "data": {
      "text/plain": [
       "array([[-0.28930742],\n",
       "       [-0.58880963],\n",
       "       [ 1.02750749],\n",
       "       ...,\n",
       "       [-0.30516366],\n",
       "       [ 1.67583291],\n",
       "       [-0.49175724]])"
      ]
     },
     "execution_count": 5,
     "metadata": {},
     "output_type": "execute_result"
    }
   ],
   "source": [
    "X"
   ]
  },
  {
   "cell_type": "code",
   "execution_count": 6,
   "metadata": {},
   "outputs": [
    {
     "data": {
      "text/plain": [
       "(3750, 1)"
      ]
     },
     "execution_count": 6,
     "metadata": {},
     "output_type": "execute_result"
    }
   ],
   "source": [
    "X.shape"
   ]
  },
  {
   "cell_type": "code",
   "execution_count": 7,
   "metadata": {},
   "outputs": [
    {
     "data": {
      "text/plain": [
       "array([[-9.11011171e-02],\n",
       "       [-5.34677208e+01],\n",
       "       [ 7.54570088e+01],\n",
       "       ...,\n",
       "       [-3.49832749e+01],\n",
       "       [ 1.45206092e+02],\n",
       "       [-1.71244939e+01]])"
      ]
     },
     "execution_count": 7,
     "metadata": {},
     "output_type": "execute_result"
    }
   ],
   "source": [
    "Y"
   ]
  },
  {
   "cell_type": "code",
   "execution_count": 8,
   "metadata": {},
   "outputs": [
    {
     "data": {
      "text/plain": [
       "(3750, 1)"
      ]
     },
     "execution_count": 8,
     "metadata": {},
     "output_type": "execute_result"
    }
   ],
   "source": [
    "Y.shape"
   ]
  },
  {
   "cell_type": "markdown",
   "metadata": {},
   "source": [
    "## Cost Function\n",
    "__m__ = No. of points\n",
    "\n",
    "$$\n",
    "f(x_i) = \\theta_0 + \\theta_1 \\cdot x_i\n",
    "$$\n",
    "\n",
    "$$\n",
    "J_{\\theta}(x)  = \\frac{1}{m} \\Sigma (f(x_i) - y_i) ^2\n",
    "$$\n",
    "\n",
    "$$\n",
    "$$"
   ]
  },
  {
   "cell_type": "markdown",
   "metadata": {},
   "source": [
    "# Normalise Data\n",
    "\n",
    "$$\n",
    "\\mu = \\bar{X} \\\\\n",
    "\\sigma = std(X)\n",
    "$$"
   ]
  },
  {
   "cell_type": "code",
   "execution_count": 9,
   "metadata": {},
   "outputs": [
    {
     "data": {
      "text/plain": [
       "array([[-0.25352061],\n",
       "       [-0.55541377],\n",
       "       [ 1.07380656],\n",
       "       ...,\n",
       "       [-0.26950343],\n",
       "       [ 1.72730762],\n",
       "       [-0.4575866 ]])"
      ]
     },
     "execution_count": 9,
     "metadata": {},
     "output_type": "execute_result"
    }
   ],
   "source": [
    "mu = X.mean()\n",
    "sigma = X.std()\n",
    "X = (X - mu) / sigma\n",
    "X"
   ]
  },
  {
   "cell_type": "code",
   "execution_count": 10,
   "metadata": {},
   "outputs": [
    {
     "data": {
      "text/plain": [
       "0.9920801322508517"
      ]
     },
     "execution_count": 10,
     "metadata": {},
     "output_type": "execute_result"
    }
   ],
   "source": [
    "sigma"
   ]
  },
  {
   "cell_type": "markdown",
   "metadata": {},
   "source": [
    "# Linear Regression"
   ]
  },
  {
   "cell_type": "code",
   "execution_count": 11,
   "metadata": {},
   "outputs": [],
   "source": [
    "def hypothesis(theta, x):\n",
    "    return theta[0] + theta[1] * x"
   ]
  },
  {
   "cell_type": "code",
   "execution_count": 12,
   "metadata": {},
   "outputs": [
    {
     "data": {
      "text/plain": [
       "array([2, 4, 6])"
      ]
     },
     "execution_count": 12,
     "metadata": {},
     "output_type": "execute_result"
    }
   ],
   "source": [
    "hypothesis([0, 2], np.array([1, 2, 3]))"
   ]
  },
  {
   "cell_type": "markdown",
   "metadata": {},
   "source": [
    "The cost function is defined as \n",
    "$$\n",
    "J_{\\theta}(x) = \\frac{1}{m} \\Sigma (h_{\\theta}(x_i) - y_i) ^2\n",
    "$$\n",
    "\n",
    "$$\n",
    "J_{\\theta}(x) = \\frac{1}{m} \\Sigma |h_{\\theta}(x_i) - y_i|\n",
    "$$"
   ]
  },
  {
   "cell_type": "code",
   "execution_count": 13,
   "metadata": {},
   "outputs": [
    {
     "data": {
      "text/plain": [
       "array([[-0.25352061],\n",
       "       [-0.55541377],\n",
       "       [ 1.07380656],\n",
       "       ...,\n",
       "       [-0.26950343],\n",
       "       [ 1.72730762],\n",
       "       [-0.4575866 ]])"
      ]
     },
     "execution_count": 13,
     "metadata": {},
     "output_type": "execute_result"
    }
   ],
   "source": [
    "X"
   ]
  },
  {
   "cell_type": "code",
   "execution_count": 14,
   "metadata": {},
   "outputs": [
    {
     "data": {
      "text/plain": [
       "(3750, 1)"
      ]
     },
     "execution_count": 14,
     "metadata": {},
     "output_type": "execute_result"
    }
   ],
   "source": [
    "X.shape"
   ]
  },
  {
   "cell_type": "code",
   "execution_count": 15,
   "metadata": {},
   "outputs": [
    {
     "data": {
      "text/plain": [
       "array([[-9.11011171e-02],\n",
       "       [-5.34677208e+01],\n",
       "       [ 7.54570088e+01],\n",
       "       ...,\n",
       "       [-3.49832749e+01],\n",
       "       [ 1.45206092e+02],\n",
       "       [-1.71244939e+01]])"
      ]
     },
     "execution_count": 15,
     "metadata": {},
     "output_type": "execute_result"
    }
   ],
   "source": [
    "Y"
   ]
  },
  {
   "cell_type": "code",
   "execution_count": 16,
   "metadata": {},
   "outputs": [
    {
     "data": {
      "text/plain": [
       "(3750, 1)"
      ]
     },
     "execution_count": 16,
     "metadata": {},
     "output_type": "execute_result"
    }
   ],
   "source": [
    "Y.shape"
   ]
  },
  {
   "cell_type": "code",
   "execution_count": 17,
   "metadata": {},
   "outputs": [],
   "source": [
    "def error(theta, X, Y):\n",
    "    err = 0\n",
    "    m, _ = X.shape # number of entries\n",
    "    \n",
    "    for i in range(m):\n",
    "        err += (hypothesis(theta, X[i]) - Y[i]) ** 2\n",
    "        \n",
    "    return err / m"
   ]
  },
  {
   "cell_type": "code",
   "execution_count": 39,
   "metadata": {},
   "outputs": [
    {
     "data": {
      "text/plain": [
       "366.69623790640964"
      ]
     },
     "execution_count": 39,
     "metadata": {},
     "output_type": "execute_result"
    }
   ],
   "source": [
    "((hypothesis([0, 200/3], X) - Y) ** 2).sum() / X.shape[0]"
   ]
  },
  {
   "cell_type": "code",
   "execution_count": 18,
   "metadata": {},
   "outputs": [
    {
     "data": {
      "text/plain": [
       "3750"
      ]
     },
     "execution_count": 18,
     "metadata": {},
     "output_type": "execute_result"
    }
   ],
   "source": [
    "X.shape[0]"
   ]
  },
  {
   "cell_type": "code",
   "execution_count": 19,
   "metadata": {},
   "outputs": [],
   "source": [
    "# vectorized\n",
    "def error_advanced(theta, X, Y):\n",
    "    return ((hypothesis(theta, X) - Y) ** 2).mean()"
   ]
  },
  {
   "cell_type": "code",
   "execution_count": 20,
   "metadata": {},
   "outputs": [
    {
     "data": {
      "text/plain": [
       "array([6260.35936676])"
      ]
     },
     "execution_count": 20,
     "metadata": {},
     "output_type": "execute_result"
    }
   ],
   "source": [
    "error([1, 2], X, Y)"
   ]
  },
  {
   "cell_type": "code",
   "execution_count": 21,
   "metadata": {},
   "outputs": [
    {
     "data": {
      "text/plain": [
       "6260.359366755907"
      ]
     },
     "execution_count": 21,
     "metadata": {},
     "output_type": "execute_result"
    }
   ],
   "source": [
    "error_advanced([1, 2], X, Y)"
   ]
  },
  {
   "cell_type": "markdown",
   "metadata": {},
   "source": [
    "The Gradient of the hypothesis is defined as \n",
    "$$\n",
    "\\frac{\\delta J_{\\theta}(x)}{\\delta \\theta_{0}} = \\frac{1}{m} \\Sigma (f_{\\theta}(x_i) - y_i)\n",
    "$$\n",
    "\n",
    "$$\n",
    "\\frac{\\delta J_{\\theta}(x)}{\\delta \\theta_{1}} = \\frac{1}{m} \\Sigma (f_{\\theta}(x_i) - y_i) \\cdot x_i\n",
    "$$"
   ]
  },
  {
   "cell_type": "code",
   "execution_count": 23,
   "metadata": {},
   "outputs": [],
   "source": [
    "# iterative\n",
    "def gradient(theta, X, Y):\n",
    "    m, _ = X.shape\n",
    "    grad = np.zeros((2,))\n",
    "    \n",
    "    for i in range(m):\n",
    "        hx = hypothesis(theta, X[i])\n",
    "        grad[0] += hx -Y[i]\n",
    "        grad[1] += (hx - Y[i]) * X[i]\n",
    "        \n",
    "    # return [dJ/dtheta_0    dJ/ d theta_1]\n",
    "    return grad / m"
   ]
  },
  {
   "cell_type": "code",
   "execution_count": 24,
   "metadata": {},
   "outputs": [
    {
     "data": {
      "text/plain": [
       "array([ -0.68386897, -79.90573694])"
      ]
     },
     "execution_count": 24,
     "metadata": {},
     "output_type": "execute_result"
    }
   ],
   "source": [
    "gradient([0, 0], X, Y)"
   ]
  },
  {
   "cell_type": "code",
   "execution_count": 26,
   "metadata": {},
   "outputs": [
    {
     "data": {
      "text/plain": [
       "-79.9057369424998"
      ]
     },
     "execution_count": 26,
     "metadata": {},
     "output_type": "execute_result"
    }
   ],
   "source": [
    "((hypothesis([0, 0], X) - Y) * X).sum() / 3750"
   ]
  },
  {
   "cell_type": "code",
   "execution_count": 87,
   "metadata": {},
   "outputs": [],
   "source": [
    "# vectorized\n",
    "def gradient_vectorized(theta, X, Y):\n",
    "    f = hypothesis(theta, X)\n",
    "    grad = np.zeros(2,)\n",
    "    grad[0] = (f - Y).mean()\n",
    "    grad[1] = ((f - Y) * X).mean()\n",
    "    return grad"
   ]
  },
  {
   "cell_type": "code",
   "execution_count": 83,
   "metadata": {},
   "outputs": [
    {
     "data": {
      "text/plain": [
       "array([[ 74.6479395 ],\n",
       "       [ 44.45862262],\n",
       "       [207.3806558 ],\n",
       "       ...,\n",
       "       [ 73.04965737],\n",
       "       [272.73076217],\n",
       "       [ 54.24133985]])"
      ]
     },
     "execution_count": 83,
     "metadata": {},
     "output_type": "execute_result"
    }
   ],
   "source": [
    "f = hypothesis([100, 100], X)\n",
    "f"
   ]
  },
  {
   "cell_type": "code",
   "execution_count": 84,
   "metadata": {},
   "outputs": [
    {
     "data": {
      "text/plain": [
       "array([[-9.11011171e-02],\n",
       "       [-5.34677208e+01],\n",
       "       [ 7.54570088e+01],\n",
       "       ...,\n",
       "       [-3.49832749e+01],\n",
       "       [ 1.45206092e+02],\n",
       "       [-1.71244939e+01]])"
      ]
     },
     "execution_count": 84,
     "metadata": {},
     "output_type": "execute_result"
    }
   ],
   "source": [
    "Y"
   ]
  },
  {
   "cell_type": "code",
   "execution_count": 85,
   "metadata": {},
   "outputs": [
    {
     "data": {
      "text/plain": [
       "20.09426305750022"
      ]
     },
     "execution_count": 85,
     "metadata": {},
     "output_type": "execute_result"
    }
   ],
   "source": [
    "((f - Y) * X).sum() / X.shape[0]"
   ]
  },
  {
   "cell_type": "code",
   "execution_count": 28,
   "metadata": {},
   "outputs": [
    {
     "data": {
      "text/plain": [
       "array([  0.31613103, -77.90573694])"
      ]
     },
     "execution_count": 28,
     "metadata": {},
     "output_type": "execute_result"
    }
   ],
   "source": [
    "gradient([1, 2], X, Y)"
   ]
  },
  {
   "cell_type": "code",
   "execution_count": 29,
   "metadata": {},
   "outputs": [
    {
     "data": {
      "text/plain": [
       "array([  0.31613103, -77.90573694])"
      ]
     },
     "execution_count": 29,
     "metadata": {},
     "output_type": "execute_result"
    }
   ],
   "source": [
    "gradient_vectorized([1, 2], X, Y)"
   ]
  },
  {
   "cell_type": "code",
   "execution_count": 43,
   "metadata": {},
   "outputs": [],
   "source": [
    "def gradient_descent(X, Y, lr=0.1, max_itr=100):\n",
    "    m, _ = X.shape\n",
    "    theta = np.zeros((2,))\n",
    "    error_list = []\n",
    "    theta_list = []\n",
    "    \n",
    "    for i in range(max_itr):\n",
    "        err = error_advanced(theta, X, Y) # cost\n",
    "        error_list.append(err)\n",
    "        theta_list.append((theta[0], theta[1]))\n",
    "        # learn\n",
    "        theta -= lr * gradient_vectorized(theta, X, Y)\n",
    "        if i % 200 == 0:\n",
    "            print(f'Iteration no {i}, cost of the parameters are {err}')\n",
    "        \n",
    "    return theta, theta_list, error_list"
   ]
  },
  {
   "cell_type": "code",
   "execution_count": 94,
   "metadata": {},
   "outputs": [
    {
     "name": "stdout",
     "output_type": "stream",
     "text": [
      "Iteration no 0, cost of the parameters are 6576.350052461936\n",
      "Iteration no 200, cost of the parameters are 190.95557937254713\n",
      "Iteration no 400, cost of the parameters are 190.95557937254713\n",
      "Iteration no 600, cost of the parameters are 190.95557937254713\n",
      "Iteration no 800, cost of the parameters are 190.95557937254713\n",
      "Iteration no 1000, cost of the parameters are 190.95557937254713\n",
      "Iteration no 1200, cost of the parameters are 190.95557937254713\n",
      "Iteration no 1400, cost of the parameters are 190.95557937254713\n",
      "Iteration no 1600, cost of the parameters are 190.95557937254713\n",
      "Iteration no 1800, cost of the parameters are 190.95557937254713\n",
      "Iteration no 2000, cost of the parameters are 190.95557937254713\n",
      "Iteration no 2200, cost of the parameters are 190.95557937254713\n",
      "Iteration no 2400, cost of the parameters are 190.95557937254713\n",
      "Iteration no 2600, cost of the parameters are 190.95557937254713\n",
      "Iteration no 2800, cost of the parameters are 190.95557937254713\n",
      "Iteration no 3000, cost of the parameters are 190.95557937254713\n",
      "Iteration no 3200, cost of the parameters are 190.95557937254713\n",
      "Iteration no 3400, cost of the parameters are 190.95557937254713\n",
      "Iteration no 3600, cost of the parameters are 190.95557937254713\n",
      "Iteration no 3800, cost of the parameters are 190.95557937254713\n",
      "Iteration no 4000, cost of the parameters are 190.95557937254713\n",
      "Iteration no 4200, cost of the parameters are 190.95557937254713\n",
      "Iteration no 4400, cost of the parameters are 190.95557937254713\n",
      "Iteration no 4600, cost of the parameters are 190.95557937254713\n",
      "Iteration no 4800, cost of the parameters are 190.95557937254713\n",
      "Iteration no 5000, cost of the parameters are 190.95557937254713\n",
      "Iteration no 5200, cost of the parameters are 190.95557937254713\n",
      "Iteration no 5400, cost of the parameters are 190.95557937254713\n",
      "Iteration no 5600, cost of the parameters are 190.95557937254713\n",
      "Iteration no 5800, cost of the parameters are 190.95557937254713\n",
      "Iteration no 6000, cost of the parameters are 190.95557937254713\n",
      "Iteration no 6200, cost of the parameters are 190.95557937254713\n",
      "Iteration no 6400, cost of the parameters are 190.95557937254713\n",
      "Iteration no 6600, cost of the parameters are 190.95557937254713\n",
      "Iteration no 6800, cost of the parameters are 190.95557937254713\n",
      "Iteration no 7000, cost of the parameters are 190.95557937254713\n",
      "Iteration no 7200, cost of the parameters are 190.95557937254713\n",
      "Iteration no 7400, cost of the parameters are 190.95557937254713\n",
      "Iteration no 7600, cost of the parameters are 190.95557937254713\n",
      "Iteration no 7800, cost of the parameters are 190.95557937254713\n",
      "Iteration no 8000, cost of the parameters are 190.95557937254713\n",
      "Iteration no 8200, cost of the parameters are 190.95557937254713\n",
      "Iteration no 8400, cost of the parameters are 190.95557937254713\n",
      "Iteration no 8600, cost of the parameters are 190.95557937254713\n",
      "Iteration no 8800, cost of the parameters are 190.95557937254713\n",
      "Iteration no 9000, cost of the parameters are 190.95557937254713\n",
      "Iteration no 9200, cost of the parameters are 190.95557937254713\n",
      "Iteration no 9400, cost of the parameters are 190.95557937254713\n",
      "Iteration no 9600, cost of the parameters are 190.95557937254713\n",
      "Iteration no 9800, cost of the parameters are 190.95557937254713\n"
     ]
    }
   ],
   "source": [
    "# training our parameters on our data\n",
    "theta, theta_list, error_list = gradient_descent(X, Y, lr=.8, max_itr=10_000)"
   ]
  },
  {
   "cell_type": "code",
   "execution_count": 95,
   "metadata": {},
   "outputs": [
    {
     "data": {
      "text/plain": [
       "array([ 0.68386897, 79.90573694])"
      ]
     },
     "execution_count": 95,
     "metadata": {},
     "output_type": "execute_result"
    }
   ],
   "source": [
    "theta"
   ]
  },
  {
   "cell_type": "code",
   "execution_count": 96,
   "metadata": {},
   "outputs": [
    {
     "data": {
      "text/plain": [
       "[<matplotlib.lines.Line2D at 0x1ed501dffc8>]"
      ]
     },
     "execution_count": 96,
     "metadata": {},
     "output_type": "execute_result"
    },
    {
     "data": {
      "image/png": "[encoded data removed]",
      "text/plain": [
       "<Figure size 432x288 with 1 Axes>"
      ]
     },
     "metadata": {
      "needs_background": "light"
     },
     "output_type": "display_data"
    }
   ],
   "source": [
    "plt.plot(error_list)"
   ]
  },
  {
   "cell_type": "code",
   "execution_count": 53,
   "metadata": {},
   "outputs": [
    {
     "data": {
      "text/plain": [
       "array([[-19.57388181],\n",
       "       [-43.69687794],\n",
       "       [ 86.48717332],\n",
       "       ...,\n",
       "       [-20.85100092],\n",
       "       [138.7056574 ],\n",
       "       [-35.87992564]])"
      ]
     },
     "execution_count": 53,
     "metadata": {},
     "output_type": "execute_result"
    }
   ],
   "source": [
    "Y_pred = hypothesis(theta, X)\n",
    "Y_pred"
   ]
  },
  {
   "cell_type": "code",
   "execution_count": 54,
   "metadata": {},
   "outputs": [
    {
     "data": {
      "image/png": "[encoded data removed]",
      "text/plain": [
       "<Figure size 432x288 with 1 Axes>"
      ]
     },
     "metadata": {
      "needs_background": "light"
     },
     "output_type": "display_data"
    }
   ],
   "source": [
    "plt.scatter(X, Y)\n",
    "plt.plot(X, Y_pred, color='red')\n",
    "plt.show()"
   ]
  },
  {
   "cell_type": "code",
   "execution_count": 55,
   "metadata": {},
   "outputs": [
    {
     "data": {
      "text/plain": [
       "7991.257563217994"
      ]
     },
     "execution_count": 55,
     "metadata": {},
     "output_type": "execute_result"
    }
   ],
   "source": [
    "hypothesis(theta, 100)"
   ]
  },
  {
   "cell_type": "markdown",
   "metadata": {},
   "source": [
    "# Predict for New Datafor X_test"
   ]
  },
  {
   "cell_type": "code",
   "execution_count": 56,
   "metadata": {},
   "outputs": [],
   "source": [
    "X_test = pd.read_csv(\"Linear_X_test.csv\").values"
   ]
  },
  {
   "cell_type": "code",
   "execution_count": 57,
   "metadata": {},
   "outputs": [],
   "source": [
    "# normalizing the data\n",
    "X_test = (X_test - mu) / sigma"
   ]
  },
  {
   "cell_type": "code",
   "execution_count": 58,
   "metadata": {},
   "outputs": [
    {
     "data": {
      "text/plain": [
       "array([[-1.85483984],\n",
       "       [-0.8378731 ],\n",
       "       [-2.51228473],\n",
       "       ...,\n",
       "       [ 0.1671261 ],\n",
       "       [-0.24216081],\n",
       "       [-0.64776095]])"
      ]
     },
     "execution_count": 58,
     "metadata": {},
     "output_type": "execute_result"
    }
   ],
   "source": [
    "X_test"
   ]
  },
  {
   "cell_type": "code",
   "execution_count": 59,
   "metadata": {},
   "outputs": [],
   "source": [
    "Y_pred = hypothesis(theta, X_test)"
   ]
  },
  {
   "cell_type": "code",
   "execution_count": 60,
   "metadata": {},
   "outputs": [
    {
     "data": {
      "text/plain": [
       "array([[-147.52847525],\n",
       "       [ -66.26699842],\n",
       "       [-200.06209345],\n",
       "       ...,\n",
       "       [  14.0382031 ],\n",
       "       [ -18.66616899],\n",
       "       [ -51.07594693]])"
      ]
     },
     "execution_count": 60,
     "metadata": {},
     "output_type": "execute_result"
    }
   ],
   "source": [
    "Y_pred"
   ]
  },
  {
   "cell_type": "code",
   "execution_count": 45,
   "metadata": {},
   "outputs": [],
   "source": [
    "df = pd.DataFrame(data=Y_pred, columns=['y'])\n",
    "df.to_csv(\"ans.csv\", index=False)"
   ]
  },
  {
   "cell_type": "markdown",
   "metadata": {},
   "source": [
    "# Evaluation"
   ]
  },
  {
   "cell_type": "code",
   "execution_count": 61,
   "metadata": {},
   "outputs": [],
   "source": [
    "def evaluate(Y_actual, Y_pred):\n",
    "    num = ((Y_actual - Y_pred) ** 2).sum()\n",
    "    denom = ((Y_actual - Y_actual.mean()) ** 2).sum()\n",
    "    \n",
    "    return (1 - (num / denom)) * 100"
   ]
  },
  {
   "cell_type": "code",
   "execution_count": 62,
   "metadata": {},
   "outputs": [
    {
     "data": {
      "text/plain": [
       "97.00927535328225"
      ]
     },
     "execution_count": 62,
     "metadata": {},
     "output_type": "execute_result"
    }
   ],
   "source": [
    "evaluate(hypothesis(theta, X), Y)"
   ]
  },
  {
   "cell_type": "markdown",
   "metadata": {},
   "source": [
    "## Scikit -Learn Linear Regression"
   ]
  },
  {
   "cell_type": "code",
   "execution_count": 63,
   "metadata": {},
   "outputs": [],
   "source": [
    "from sklearn.linear_model import LinearRegression"
   ]
  },
  {
   "cell_type": "code",
   "execution_count": 64,
   "metadata": {},
   "outputs": [],
   "source": [
    "model = LinearRegression()"
   ]
  },
  {
   "cell_type": "code",
   "execution_count": 65,
   "metadata": {},
   "outputs": [
    {
     "data": {
      "text/plain": [
       "LinearRegression()"
      ]
     },
     "execution_count": 65,
     "metadata": {},
     "output_type": "execute_result"
    }
   ],
   "source": [
    "model.fit(X, Y)"
   ]
  },
  {
   "cell_type": "code",
   "execution_count": 66,
   "metadata": {},
   "outputs": [
    {
     "data": {
      "text/plain": [
       "array([[-19.57388181],\n",
       "       [-43.69687794],\n",
       "       [ 86.48717332],\n",
       "       ...,\n",
       "       [-20.85100092],\n",
       "       [138.7056574 ],\n",
       "       [-35.87992564]])"
      ]
     },
     "execution_count": 66,
     "metadata": {},
     "output_type": "execute_result"
    }
   ],
   "source": [
    "Y_pred = model.predict(X)\n",
    "Y_pred"
   ]
  },
  {
   "cell_type": "code",
   "execution_count": 67,
   "metadata": {},
   "outputs": [
    {
     "data": {
      "text/plain": [
       "0.9709612233822353"
      ]
     },
     "execution_count": 67,
     "metadata": {},
     "output_type": "execute_result"
    }
   ],
   "source": [
    "model.score(X, Y)"
   ]
  }
 ],
 "metadata": {
  "kernelspec": {
   "display_name": "Python 3",
   "language": "python",
   "name": "python3"
  },
  "language_info": {
   "codemirror_mode": {
    "name": "ipython",
    "version": 3
   },
   "file_extension": ".py",
   "mimetype": "text/x-python",
   "name": "python",
   "nbconvert_exporter": "python",
   "pygments_lexer": "ipython3",
   "version": "3.7.9"
  }
 },
 "nbformat": 4,
 "nbformat_minor": 2
}
