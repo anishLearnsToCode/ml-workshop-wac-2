{
 "cells": [
  {
   "cell_type": "markdown",
   "metadata": {},
   "source": [
    "# Logistic Regression\n",
    "__~ Anish Sachdeva__"
   ]
  },
  {
   "cell_type": "code",
   "execution_count": 146,
   "metadata": {},
   "outputs": [],
   "source": [
    "import numpy as np\n",
    "import matplotlib.pyplot as plt\n",
    "import pandas as pd"
   ]
  },
  {
   "cell_type": "markdown",
   "metadata": {},
   "source": [
    "## Sigmoid Function\n",
    "$$\n",
    "g(z) = \\frac{1}{1 + e^{-z}}\n",
    "$$"
   ]
  },
  {
   "cell_type": "code",
   "execution_count": 147,
   "metadata": {},
   "outputs": [],
   "source": [
    "def sigmoid(z):\n",
    "    return 1.0 / (1.0 + np.exp(-z))"
   ]
  },
  {
   "cell_type": "code",
   "execution_count": 148,
   "metadata": {},
   "outputs": [
    {
     "data": {
      "image/png": "[encoded data removed]",
      "text/plain": [
       "<Figure size 720x504 with 1 Axes>"
      ]
     },
     "metadata": {
      "needs_background": "light"
     },
     "output_type": "display_data"
    }
   ],
   "source": [
    "x = np.arange(-10, 10, 0.1)\n",
    "plt.figure(figsize=(10, 7))\n",
    "plt.plot(x, sigmoid(x))\n",
    "plt.show()"
   ]
  },
  {
   "cell_type": "markdown",
   "metadata": {},
   "source": [
    "## Loading Breast Cancer Data"
   ]
  },
  {
   "cell_type": "code",
   "execution_count": 149,
   "metadata": {},
   "outputs": [],
   "source": [
    "from sklearn.datasets import load_breast_cancer\n",
    "cancer = load_breast_cancer()\n",
    "X = cancer.data\n",
    "Y = cancer.target"
   ]
  },
  {
   "cell_type": "code",
   "execution_count": 150,
   "metadata": {},
   "outputs": [
    {
     "data": {
      "text/plain": [
       "array([[1.799e+01, 1.038e+01, 1.228e+02, ..., 2.654e-01, 4.601e-01,\n",
       "        1.189e-01],\n",
       "       [2.057e+01, 1.777e+01, 1.329e+02, ..., 1.860e-01, 2.750e-01,\n",
       "        8.902e-02],\n",
       "       [1.969e+01, 2.125e+01, 1.300e+02, ..., 2.430e-01, 3.613e-01,\n",
       "        8.758e-02],\n",
       "       ...,\n",
       "       [1.660e+01, 2.808e+01, 1.083e+02, ..., 1.418e-01, 2.218e-01,\n",
       "        7.820e-02],\n",
       "       [2.060e+01, 2.933e+01, 1.401e+02, ..., 2.650e-01, 4.087e-01,\n",
       "        1.240e-01],\n",
       "       [7.760e+00, 2.454e+01, 4.792e+01, ..., 0.000e+00, 2.871e-01,\n",
       "        7.039e-02]])"
      ]
     },
     "execution_count": 150,
     "metadata": {},
     "output_type": "execute_result"
    }
   ],
   "source": [
    "X"
   ]
  },
  {
   "cell_type": "code",
   "execution_count": 151,
   "metadata": {},
   "outputs": [
    {
     "data": {
      "text/plain": [
       "(569, 30)"
      ]
     },
     "execution_count": 151,
     "metadata": {},
     "output_type": "execute_result"
    }
   ],
   "source": [
    "X.shape"
   ]
  },
  {
   "cell_type": "code",
   "execution_count": 152,
   "metadata": {},
   "outputs": [
    {
     "data": {
      "text/plain": [
       "array([0, 0, 0, 0, 0, 0, 0, 0, 0, 0, 0, 0, 0, 0, 0, 0, 0, 0, 0, 1, 1, 1,\n",
       "       0, 0, 0, 0, 0, 0, 0, 0, 0, 0, 0, 0, 0, 0, 0, 1, 0, 0, 0, 0, 0, 0,\n",
       "       0, 0, 1, 0, 1, 1, 1, 1, 1, 0, 0, 1, 0, 0, 1, 1, 1, 1, 0, 1, 0, 0,\n",
       "       1, 1, 1, 1, 0, 1, 0, 0, 1, 0, 1, 0, 0, 1, 1, 1, 0, 0, 1, 0, 0, 0,\n",
       "       1, 1, 1, 0, 1, 1, 0, 0, 1, 1, 1, 0, 0, 1, 1, 1, 1, 0, 1, 1, 0, 1,\n",
       "       1, 1, 1, 1, 1, 1, 1, 0, 0, 0, 1, 0, 0, 1, 1, 1, 0, 0, 1, 0, 1, 0,\n",
       "       0, 1, 0, 0, 1, 1, 0, 1, 1, 0, 1, 1, 1, 1, 0, 1, 1, 1, 1, 1, 1, 1,\n",
       "       1, 1, 0, 1, 1, 1, 1, 0, 0, 1, 0, 1, 1, 0, 0, 1, 1, 0, 0, 1, 1, 1,\n",
       "       1, 0, 1, 1, 0, 0, 0, 1, 0, 1, 0, 1, 1, 1, 0, 1, 1, 0, 0, 1, 0, 0,\n",
       "       0, 0, 1, 0, 0, 0, 1, 0, 1, 0, 1, 1, 0, 1, 0, 0, 0, 0, 1, 1, 0, 0,\n",
       "       1, 1, 1, 0, 1, 1, 1, 1, 1, 0, 0, 1, 1, 0, 1, 1, 0, 0, 1, 0, 1, 1,\n",
       "       1, 1, 0, 1, 1, 1, 1, 1, 0, 1, 0, 0, 0, 0, 0, 0, 0, 0, 0, 0, 0, 0,\n",
       "       0, 0, 1, 1, 1, 1, 1, 1, 0, 1, 0, 1, 1, 0, 1, 1, 0, 1, 0, 0, 1, 1,\n",
       "       1, 1, 1, 1, 1, 1, 1, 1, 1, 1, 1, 0, 1, 1, 0, 1, 0, 1, 1, 1, 1, 1,\n",
       "       1, 1, 1, 1, 1, 1, 1, 1, 1, 0, 1, 1, 1, 0, 1, 0, 1, 1, 1, 1, 0, 0,\n",
       "       0, 1, 1, 1, 1, 0, 1, 0, 1, 0, 1, 1, 1, 0, 1, 1, 1, 1, 1, 1, 1, 0,\n",
       "       0, 0, 1, 1, 1, 1, 1, 1, 1, 1, 1, 1, 1, 0, 0, 1, 0, 0, 0, 1, 0, 0,\n",
       "       1, 1, 1, 1, 1, 0, 1, 1, 1, 1, 1, 0, 1, 1, 1, 0, 1, 1, 0, 0, 1, 1,\n",
       "       1, 1, 1, 1, 0, 1, 1, 1, 1, 1, 1, 1, 0, 1, 1, 1, 1, 1, 0, 1, 1, 0,\n",
       "       1, 1, 1, 1, 1, 1, 1, 1, 1, 1, 1, 1, 0, 1, 0, 0, 1, 0, 1, 1, 1, 1,\n",
       "       1, 0, 1, 1, 0, 1, 0, 1, 1, 0, 1, 0, 1, 1, 1, 1, 1, 1, 1, 1, 0, 0,\n",
       "       1, 1, 1, 1, 1, 1, 0, 1, 1, 1, 1, 1, 1, 1, 1, 1, 1, 0, 1, 1, 1, 1,\n",
       "       1, 1, 1, 0, 1, 0, 1, 1, 0, 1, 1, 1, 1, 1, 0, 0, 1, 0, 1, 0, 1, 1,\n",
       "       1, 1, 1, 0, 1, 1, 0, 1, 0, 1, 0, 0, 1, 1, 1, 0, 1, 1, 1, 1, 1, 1,\n",
       "       1, 1, 1, 1, 1, 0, 1, 0, 0, 1, 1, 1, 1, 1, 1, 1, 1, 1, 1, 1, 1, 1,\n",
       "       1, 1, 1, 1, 1, 1, 1, 1, 1, 1, 1, 1, 0, 0, 0, 0, 0, 0, 1])"
      ]
     },
     "execution_count": 152,
     "metadata": {},
     "output_type": "execute_result"
    }
   ],
   "source": [
    "Y"
   ]
  },
  {
   "cell_type": "code",
   "execution_count": 153,
   "metadata": {},
   "outputs": [
    {
     "data": {
      "text/plain": [
       "(569,)"
      ]
     },
     "execution_count": 153,
     "metadata": {},
     "output_type": "execute_result"
    }
   ],
   "source": [
    "Y.shape"
   ]
  },
  {
   "cell_type": "markdown",
   "metadata": {},
   "source": [
    "## Normalizing the Data"
   ]
  },
  {
   "cell_type": "code",
   "execution_count": 154,
   "metadata": {},
   "outputs": [
    {
     "data": {
      "text/plain": [
       "array([3.52095076e+00, 4.29725464e+00, 2.42776193e+01, 3.51604754e+02,\n",
       "       1.40517641e-02, 5.27663291e-02, 7.96497253e-02, 3.87687325e-02,\n",
       "       2.73901809e-02, 7.05415588e-03, 2.77068942e-01, 5.51163427e-01,\n",
       "       2.02007710e+00, 4.54510134e+01, 2.99987837e-03, 1.78924359e-02,\n",
       "       3.01595231e-02, 6.16486075e-03, 8.25910439e-03, 2.64374475e-03,\n",
       "       4.82899258e+00, 6.14085432e+00, 3.35730016e+01, 5.68856459e+02,\n",
       "       2.28123569e-02, 1.57198171e-01, 2.08440875e-01, 6.56745545e-02,\n",
       "       6.18130785e-02, 1.80453893e-02])"
      ]
     },
     "execution_count": 154,
     "metadata": {},
     "output_type": "execute_result"
    }
   ],
   "source": [
    "X.std(axis=0)"
   ]
  },
  {
   "cell_type": "code",
   "execution_count": 155,
   "metadata": {},
   "outputs": [],
   "source": [
    "mu = X.mean(axis=0)\n",
    "sigma = X.std(axis=0)\n",
    "X = (X - mu) / sigma"
   ]
  },
  {
   "cell_type": "code",
   "execution_count": 156,
   "metadata": {},
   "outputs": [
    {
     "data": {
      "text/plain": [
       "(569, 30)"
      ]
     },
     "execution_count": 156,
     "metadata": {},
     "output_type": "execute_result"
    }
   ],
   "source": [
    "X.shape"
   ]
  },
  {
   "cell_type": "code",
   "execution_count": 157,
   "metadata": {},
   "outputs": [
    {
     "data": {
      "text/plain": [
       "array([[ 1.09706398, -2.07333501,  1.26993369, ...,  2.29607613,\n",
       "         2.75062224,  1.93701461],\n",
       "       [ 1.82982061, -0.35363241,  1.68595471, ...,  1.0870843 ,\n",
       "        -0.24388967,  0.28118999],\n",
       "       [ 1.57988811,  0.45618695,  1.56650313, ...,  1.95500035,\n",
       "         1.152255  ,  0.20139121],\n",
       "       ...,\n",
       "       [ 0.70228425,  2.0455738 ,  0.67267578, ...,  0.41406869,\n",
       "        -1.10454895, -0.31840916],\n",
       "       [ 1.83834103,  2.33645719,  1.98252415, ...,  2.28998549,\n",
       "         1.91908301,  2.21963528],\n",
       "       [-1.80840125,  1.22179204, -1.81438851, ..., -1.74506282,\n",
       "        -0.04813821, -0.75120669]])"
      ]
     },
     "execution_count": 157,
     "metadata": {},
     "output_type": "execute_result"
    }
   ],
   "source": [
    "X"
   ]
  },
  {
   "cell_type": "code",
   "execution_count": 158,
   "metadata": {},
   "outputs": [],
   "source": [
    "mu = Y.mean()\n",
    "sigma = Y.std()\n",
    "Y = (Y - mu) / sigma"
   ]
  },
  {
   "cell_type": "code",
   "execution_count": 159,
   "metadata": {},
   "outputs": [
    {
     "data": {
      "text/plain": [
       "(569,)"
      ]
     },
     "execution_count": 159,
     "metadata": {},
     "output_type": "execute_result"
    }
   ],
   "source": [
    "Y.shape"
   ]
  },
  {
   "cell_type": "code",
   "execution_count": 160,
   "metadata": {},
   "outputs": [
    {
     "data": {
      "text/plain": [
       "array([-1.29767572, -1.29767572, -1.29767572, -1.29767572, -1.29767572,\n",
       "       -1.29767572, -1.29767572, -1.29767572, -1.29767572, -1.29767572,\n",
       "       -1.29767572, -1.29767572, -1.29767572, -1.29767572, -1.29767572,\n",
       "       -1.29767572, -1.29767572, -1.29767572, -1.29767572,  0.77060855,\n",
       "        0.77060855,  0.77060855, -1.29767572, -1.29767572, -1.29767572,\n",
       "       -1.29767572, -1.29767572, -1.29767572, -1.29767572, -1.29767572,\n",
       "       -1.29767572, -1.29767572, -1.29767572, -1.29767572, -1.29767572,\n",
       "       -1.29767572, -1.29767572,  0.77060855, -1.29767572, -1.29767572,\n",
       "       -1.29767572, -1.29767572, -1.29767572, -1.29767572, -1.29767572,\n",
       "       -1.29767572,  0.77060855, -1.29767572,  0.77060855,  0.77060855,\n",
       "        0.77060855,  0.77060855,  0.77060855, -1.29767572, -1.29767572,\n",
       "        0.77060855, -1.29767572, -1.29767572,  0.77060855,  0.77060855,\n",
       "        0.77060855,  0.77060855, -1.29767572,  0.77060855, -1.29767572,\n",
       "       -1.29767572,  0.77060855,  0.77060855,  0.77060855,  0.77060855,\n",
       "       -1.29767572,  0.77060855, -1.29767572, -1.29767572,  0.77060855,\n",
       "       -1.29767572,  0.77060855, -1.29767572, -1.29767572,  0.77060855,\n",
       "        0.77060855,  0.77060855, -1.29767572, -1.29767572,  0.77060855,\n",
       "       -1.29767572, -1.29767572, -1.29767572,  0.77060855,  0.77060855,\n",
       "        0.77060855, -1.29767572,  0.77060855,  0.77060855, -1.29767572,\n",
       "       -1.29767572,  0.77060855,  0.77060855,  0.77060855, -1.29767572,\n",
       "       -1.29767572,  0.77060855,  0.77060855,  0.77060855,  0.77060855,\n",
       "       -1.29767572,  0.77060855,  0.77060855, -1.29767572,  0.77060855,\n",
       "        0.77060855,  0.77060855,  0.77060855,  0.77060855,  0.77060855,\n",
       "        0.77060855,  0.77060855, -1.29767572, -1.29767572, -1.29767572,\n",
       "        0.77060855, -1.29767572, -1.29767572,  0.77060855,  0.77060855,\n",
       "        0.77060855, -1.29767572, -1.29767572,  0.77060855, -1.29767572,\n",
       "        0.77060855, -1.29767572, -1.29767572,  0.77060855, -1.29767572,\n",
       "       -1.29767572,  0.77060855,  0.77060855, -1.29767572,  0.77060855,\n",
       "        0.77060855, -1.29767572,  0.77060855,  0.77060855,  0.77060855,\n",
       "        0.77060855, -1.29767572,  0.77060855,  0.77060855,  0.77060855,\n",
       "        0.77060855,  0.77060855,  0.77060855,  0.77060855,  0.77060855,\n",
       "        0.77060855, -1.29767572,  0.77060855,  0.77060855,  0.77060855,\n",
       "        0.77060855, -1.29767572, -1.29767572,  0.77060855, -1.29767572,\n",
       "        0.77060855,  0.77060855, -1.29767572, -1.29767572,  0.77060855,\n",
       "        0.77060855, -1.29767572, -1.29767572,  0.77060855,  0.77060855,\n",
       "        0.77060855,  0.77060855, -1.29767572,  0.77060855,  0.77060855,\n",
       "       -1.29767572, -1.29767572, -1.29767572,  0.77060855, -1.29767572,\n",
       "        0.77060855, -1.29767572,  0.77060855,  0.77060855,  0.77060855,\n",
       "       -1.29767572,  0.77060855,  0.77060855, -1.29767572, -1.29767572,\n",
       "        0.77060855, -1.29767572, -1.29767572, -1.29767572, -1.29767572,\n",
       "        0.77060855, -1.29767572, -1.29767572, -1.29767572,  0.77060855,\n",
       "       -1.29767572,  0.77060855, -1.29767572,  0.77060855,  0.77060855,\n",
       "       -1.29767572,  0.77060855, -1.29767572, -1.29767572, -1.29767572,\n",
       "       -1.29767572,  0.77060855,  0.77060855, -1.29767572, -1.29767572,\n",
       "        0.77060855,  0.77060855,  0.77060855, -1.29767572,  0.77060855,\n",
       "        0.77060855,  0.77060855,  0.77060855,  0.77060855, -1.29767572,\n",
       "       -1.29767572,  0.77060855,  0.77060855, -1.29767572,  0.77060855,\n",
       "        0.77060855, -1.29767572, -1.29767572,  0.77060855, -1.29767572,\n",
       "        0.77060855,  0.77060855,  0.77060855,  0.77060855, -1.29767572,\n",
       "        0.77060855,  0.77060855,  0.77060855,  0.77060855,  0.77060855,\n",
       "       -1.29767572,  0.77060855, -1.29767572, -1.29767572, -1.29767572,\n",
       "       -1.29767572, -1.29767572, -1.29767572, -1.29767572, -1.29767572,\n",
       "       -1.29767572, -1.29767572, -1.29767572, -1.29767572, -1.29767572,\n",
       "       -1.29767572,  0.77060855,  0.77060855,  0.77060855,  0.77060855,\n",
       "        0.77060855,  0.77060855, -1.29767572,  0.77060855, -1.29767572,\n",
       "        0.77060855,  0.77060855, -1.29767572,  0.77060855,  0.77060855,\n",
       "       -1.29767572,  0.77060855, -1.29767572, -1.29767572,  0.77060855,\n",
       "        0.77060855,  0.77060855,  0.77060855,  0.77060855,  0.77060855,\n",
       "        0.77060855,  0.77060855,  0.77060855,  0.77060855,  0.77060855,\n",
       "        0.77060855,  0.77060855, -1.29767572,  0.77060855,  0.77060855,\n",
       "       -1.29767572,  0.77060855, -1.29767572,  0.77060855,  0.77060855,\n",
       "        0.77060855,  0.77060855,  0.77060855,  0.77060855,  0.77060855,\n",
       "        0.77060855,  0.77060855,  0.77060855,  0.77060855,  0.77060855,\n",
       "        0.77060855,  0.77060855, -1.29767572,  0.77060855,  0.77060855,\n",
       "        0.77060855, -1.29767572,  0.77060855, -1.29767572,  0.77060855,\n",
       "        0.77060855,  0.77060855,  0.77060855, -1.29767572, -1.29767572,\n",
       "       -1.29767572,  0.77060855,  0.77060855,  0.77060855,  0.77060855,\n",
       "       -1.29767572,  0.77060855, -1.29767572,  0.77060855, -1.29767572,\n",
       "        0.77060855,  0.77060855,  0.77060855, -1.29767572,  0.77060855,\n",
       "        0.77060855,  0.77060855,  0.77060855,  0.77060855,  0.77060855,\n",
       "        0.77060855, -1.29767572, -1.29767572, -1.29767572,  0.77060855,\n",
       "        0.77060855,  0.77060855,  0.77060855,  0.77060855,  0.77060855,\n",
       "        0.77060855,  0.77060855,  0.77060855,  0.77060855,  0.77060855,\n",
       "       -1.29767572, -1.29767572,  0.77060855, -1.29767572, -1.29767572,\n",
       "       -1.29767572,  0.77060855, -1.29767572, -1.29767572,  0.77060855,\n",
       "        0.77060855,  0.77060855,  0.77060855,  0.77060855, -1.29767572,\n",
       "        0.77060855,  0.77060855,  0.77060855,  0.77060855,  0.77060855,\n",
       "       -1.29767572,  0.77060855,  0.77060855,  0.77060855, -1.29767572,\n",
       "        0.77060855,  0.77060855, -1.29767572, -1.29767572,  0.77060855,\n",
       "        0.77060855,  0.77060855,  0.77060855,  0.77060855,  0.77060855,\n",
       "       -1.29767572,  0.77060855,  0.77060855,  0.77060855,  0.77060855,\n",
       "        0.77060855,  0.77060855,  0.77060855, -1.29767572,  0.77060855,\n",
       "        0.77060855,  0.77060855,  0.77060855,  0.77060855, -1.29767572,\n",
       "        0.77060855,  0.77060855, -1.29767572,  0.77060855,  0.77060855,\n",
       "        0.77060855,  0.77060855,  0.77060855,  0.77060855,  0.77060855,\n",
       "        0.77060855,  0.77060855,  0.77060855,  0.77060855,  0.77060855,\n",
       "       -1.29767572,  0.77060855, -1.29767572, -1.29767572,  0.77060855,\n",
       "       -1.29767572,  0.77060855,  0.77060855,  0.77060855,  0.77060855,\n",
       "        0.77060855, -1.29767572,  0.77060855,  0.77060855, -1.29767572,\n",
       "        0.77060855, -1.29767572,  0.77060855,  0.77060855, -1.29767572,\n",
       "        0.77060855, -1.29767572,  0.77060855,  0.77060855,  0.77060855,\n",
       "        0.77060855,  0.77060855,  0.77060855,  0.77060855,  0.77060855,\n",
       "       -1.29767572, -1.29767572,  0.77060855,  0.77060855,  0.77060855,\n",
       "        0.77060855,  0.77060855,  0.77060855, -1.29767572,  0.77060855,\n",
       "        0.77060855,  0.77060855,  0.77060855,  0.77060855,  0.77060855,\n",
       "        0.77060855,  0.77060855,  0.77060855,  0.77060855, -1.29767572,\n",
       "        0.77060855,  0.77060855,  0.77060855,  0.77060855,  0.77060855,\n",
       "        0.77060855,  0.77060855, -1.29767572,  0.77060855, -1.29767572,\n",
       "        0.77060855,  0.77060855, -1.29767572,  0.77060855,  0.77060855,\n",
       "        0.77060855,  0.77060855,  0.77060855, -1.29767572, -1.29767572,\n",
       "        0.77060855, -1.29767572,  0.77060855, -1.29767572,  0.77060855,\n",
       "        0.77060855,  0.77060855,  0.77060855,  0.77060855, -1.29767572,\n",
       "        0.77060855,  0.77060855, -1.29767572,  0.77060855, -1.29767572,\n",
       "        0.77060855, -1.29767572, -1.29767572,  0.77060855,  0.77060855,\n",
       "        0.77060855, -1.29767572,  0.77060855,  0.77060855,  0.77060855,\n",
       "        0.77060855,  0.77060855,  0.77060855,  0.77060855,  0.77060855,\n",
       "        0.77060855,  0.77060855,  0.77060855, -1.29767572,  0.77060855,\n",
       "       -1.29767572, -1.29767572,  0.77060855,  0.77060855,  0.77060855,\n",
       "        0.77060855,  0.77060855,  0.77060855,  0.77060855,  0.77060855,\n",
       "        0.77060855,  0.77060855,  0.77060855,  0.77060855,  0.77060855,\n",
       "        0.77060855,  0.77060855,  0.77060855,  0.77060855,  0.77060855,\n",
       "        0.77060855,  0.77060855,  0.77060855,  0.77060855,  0.77060855,\n",
       "        0.77060855,  0.77060855, -1.29767572, -1.29767572, -1.29767572,\n",
       "       -1.29767572, -1.29767572, -1.29767572,  0.77060855])"
      ]
     },
     "execution_count": 160,
     "metadata": {},
     "output_type": "execute_result"
    }
   ],
   "source": [
    "Y"
   ]
  },
  {
   "cell_type": "markdown",
   "metadata": {},
   "source": [
    "## Splitting The Data into Training and Validation Data"
   ]
  },
  {
   "cell_type": "code",
   "execution_count": 161,
   "metadata": {},
   "outputs": [],
   "source": [
    "from sklearn.model_selection import train_test_split"
   ]
  },
  {
   "cell_type": "code",
   "execution_count": 162,
   "metadata": {},
   "outputs": [
    {
     "data": {
      "text/plain": [
       "(455, 30)"
      ]
     },
     "execution_count": 162,
     "metadata": {},
     "output_type": "execute_result"
    }
   ],
   "source": [
    "X_train, X_test, Y_train, Y_test = train_test_split(X, Y, test_size=.2)\n",
    "X_train.shape"
   ]
  },
  {
   "cell_type": "code",
   "execution_count": 163,
   "metadata": {},
   "outputs": [
    {
     "data": {
      "text/plain": [
       "(455,)"
      ]
     },
     "execution_count": 163,
     "metadata": {},
     "output_type": "execute_result"
    }
   ],
   "source": [
    "Y_train.shape"
   ]
  },
  {
   "cell_type": "code",
   "execution_count": 164,
   "metadata": {},
   "outputs": [
    {
     "data": {
      "text/plain": [
       "(114, 30)"
      ]
     },
     "execution_count": 164,
     "metadata": {},
     "output_type": "execute_result"
    }
   ],
   "source": [
    "X_test.shape"
   ]
  },
  {
   "cell_type": "code",
   "execution_count": 165,
   "metadata": {},
   "outputs": [
    {
     "data": {
      "text/plain": [
       "(114,)"
      ]
     },
     "execution_count": 165,
     "metadata": {},
     "output_type": "execute_result"
    }
   ],
   "source": [
    "Y_test.shape"
   ]
  },
  {
   "cell_type": "markdown",
   "metadata": {},
   "source": [
    "## Hypothesis Function\n",
    "$$\n",
    "h_{\\theta}(x) = g(\\theta^{T}x) \\\\\n",
    "g(z) = \\frac{1}{1 + e^{-z}}\n",
    "$$"
   ]
  },
  {
   "cell_type": "code",
   "execution_count": 183,
   "metadata": {},
   "outputs": [],
   "source": [
    "def hypothesis(x, theta):\n",
    "    return sigmoid(x.dot(theta))"
   ]
  },
  {
   "cell_type": "code",
   "execution_count": 184,
   "metadata": {},
   "outputs": [
    {
     "data": {
      "text/plain": [
       "0.9820137900379085"
      ]
     },
     "execution_count": 184,
     "metadata": {},
     "output_type": "execute_result"
    }
   ],
   "source": [
    "hypothesis(np.array([1, 3]), [1, 1])"
   ]
  },
  {
   "cell_type": "markdown",
   "metadata": {},
   "source": [
    "## Cost Function (J)\n",
    "\n",
    "$$\n",
    "\\text{cost($x, \\theta$)} = \\begin{cases}\n",
    "    -\\log{h_{\\theta}(x)} \\hspace{.4cm} \\text{if y = 1}\\\\\n",
    "    - \\log{(1 - h_{\\theta}(x))} \\hspace{.4cm} \\text{if y = 0}\n",
    "\\end{cases}\n",
    "$$\n",
    "\n",
    "$$\n",
    "y \\in {0, 1}\n",
    "$$\n",
    "\n",
    "$$\n",
    "J_{\\theta}(x) = \\frac{1}{m} \\Sigma \\hspace{.2cm} \\text{cost($x_i, \\theta$)} \\\\\n",
    "J_{\\theta}(x) = - \\frac{1}{m} \\Sigma \\hspace{.2cm} y^{(i)} \\log{h_{\\theta}(x^{(i)})} + (1 - y^{(i)}) \\log{(1 - h_{\\theta}(x))}\n",
    "$$"
   ]
  },
  {
   "cell_type": "code",
   "execution_count": 168,
   "metadata": {},
   "outputs": [
    {
     "name": "stderr",
     "output_type": "stream",
     "text": [
      "c:\\users\\anish\\appdata\\local\\programs\\python\\python37\\lib\\site-packages\\ipykernel_launcher.py:4: RuntimeWarning: divide by zero encountered in log\n",
      "  after removing the cwd from sys.path.\n"
     ]
    },
    {
     "data": {
      "image/png": "[encoded data removed]",
      "text/plain": [
       "<Figure size 720x504 with 1 Axes>"
      ]
     },
     "metadata": {
      "needs_background": "light"
     },
     "output_type": "display_data"
    }
   ],
   "source": [
    "## Case where y = 1\n",
    "plt.figure(figsize=(10, 7))\n",
    "x = np.arange(0 , 1, 0.01)\n",
    "plt.plot(x, -np.log(x))\n",
    "plt.xlabel('Hypothesis (h(x))')\n",
    "plt.ylabel('Cost')\n",
    "plt.title('Cost of Hypothesis Prediction when y = 1')\n",
    "plt.show()"
   ]
  },
  {
   "cell_type": "code",
   "execution_count": 169,
   "metadata": {},
   "outputs": [
    {
     "data": {
      "image/png": "[encoded data removed]",
      "text/plain": [
       "<Figure size 720x504 with 1 Axes>"
      ]
     },
     "metadata": {
      "needs_background": "light"
     },
     "output_type": "display_data"
    }
   ],
   "source": [
    "plt.figure(figsize=(10, 7))\n",
    "plt.plot(x, -np.log(1 - x))\n",
    "plt.xlabel('Hypothesis (h(x))')\n",
    "plt.ylabel('Cost')\n",
    "plt.title('Cost of Given Hypothesis When y = 0')\n",
    "plt.show()"
   ]
  },
  {
   "cell_type": "code",
   "execution_count": 170,
   "metadata": {},
   "outputs": [],
   "source": [
    "# creating the cost function\n",
    "def J(x, y, theta):\n",
    "    hx = hypothesis(x, theta)\n",
    "    return - (y * np.log(hx) + (1 - y) * np.log(1 - hx)).mean()"
   ]
  },
  {
   "cell_type": "code",
   "execution_count": 171,
   "metadata": {},
   "outputs": [
    {
     "data": {
      "text/plain": [
       "(569, 30)"
      ]
     },
     "execution_count": 171,
     "metadata": {},
     "output_type": "execute_result"
    }
   ],
   "source": [
    "m, n = X.shape\n",
    "m, n"
   ]
  },
  {
   "cell_type": "code",
   "execution_count": 200,
   "metadata": {},
   "outputs": [
    {
     "data": {
      "text/plain": [
       "array([[0.96682943],\n",
       "       [0.20573191],\n",
       "       [0.12860493],\n",
       "       [0.03695873],\n",
       "       [0.12189853],\n",
       "       [0.73329293],\n",
       "       [0.69231323],\n",
       "       [0.04817956],\n",
       "       [0.91512769],\n",
       "       [0.63922731],\n",
       "       [0.29299379],\n",
       "       [0.33807853],\n",
       "       [0.75200934],\n",
       "       [0.21119736],\n",
       "       [0.15484679],\n",
       "       [0.9510161 ],\n",
       "       [0.68443627],\n",
       "       [0.08650858],\n",
       "       [0.37131414],\n",
       "       [0.21365608],\n",
       "       [0.77351629],\n",
       "       [0.82018863],\n",
       "       [0.76907055],\n",
       "       [0.67138437],\n",
       "       [0.61118893],\n",
       "       [0.71089348],\n",
       "       [0.7158348 ],\n",
       "       [0.07237103],\n",
       "       [0.2568339 ],\n",
       "       [0.01273312]])"
      ]
     },
     "execution_count": 200,
     "metadata": {},
     "output_type": "execute_result"
    }
   ],
   "source": [
    "# creating random theta \n",
    "theta = np.random.rand(n, 1)\n",
    "theta"
   ]
  },
  {
   "cell_type": "code",
   "execution_count": 201,
   "metadata": {},
   "outputs": [
    {
     "data": {
      "text/plain": [
       "(30, 1)"
      ]
     },
     "execution_count": 201,
     "metadata": {},
     "output_type": "execute_result"
    }
   ],
   "source": [
    "theta.shape"
   ]
  },
  {
   "cell_type": "code",
   "execution_count": 186,
   "metadata": {},
   "outputs": [],
   "source": [
    "def sigmoid(z):\n",
    "    return 1 / (1 + np.exp(-z))"
   ]
  },
  {
   "cell_type": "code",
   "execution_count": 217,
   "metadata": {},
   "outputs": [],
   "source": [
    "def hypothesis(x, theta):\n",
    "    return sigmoid(x.dot(theta))"
   ]
  },
  {
   "cell_type": "code",
   "execution_count": 208,
   "metadata": {},
   "outputs": [
    {
     "name": "stdout",
     "output_type": "stream",
     "text": [
      "h\n"
     ]
    },
    {
     "data": {
      "text/plain": [
       "array([[1.00000000e+00],\n",
       "       [9.40322495e-01],\n",
       "       [9.99992915e-01],\n",
       "       [1.00000000e+00],\n",
       "       [9.98879429e-01],\n",
       "       [9.98728602e-01],\n",
       "       [9.75826089e-01],\n",
       "       [9.98178648e-01],\n",
       "       [9.99915460e-01],\n",
       "       [9.99999996e-01],\n",
       "       [5.12282120e-02],\n",
       "       [9.98197798e-01],\n",
       "       [1.00000000e+00],\n",
       "       [6.65231585e-01],\n",
       "       [9.99997225e-01],\n",
       "       [9.99996653e-01],\n",
       "       [3.44059314e-01],\n",
       "       [9.99989513e-01],\n",
       "       [9.99942416e-01],\n",
       "       [1.35677180e-02],\n",
       "       [2.81395809e-02],\n",
       "       [9.58682282e-05],\n",
       "       [9.99997088e-01],\n",
       "       [9.99811220e-01],\n",
       "       [9.99993556e-01],\n",
       "       [9.99999974e-01],\n",
       "       [9.99858983e-01],\n",
       "       [9.98525518e-01],\n",
       "       [9.99984442e-01],\n",
       "       [9.17288121e-01],\n",
       "       [9.99999790e-01],\n",
       "       [9.99937951e-01],\n",
       "       [9.99994000e-01],\n",
       "       [9.99995068e-01],\n",
       "       [9.98988851e-01],\n",
       "       [9.98882214e-01],\n",
       "       [9.78904729e-01],\n",
       "       [3.61371425e-05],\n",
       "       [1.01489167e-02],\n",
       "       [6.37345993e-01],\n",
       "       [3.18072379e-03],\n",
       "       [7.46673803e-01],\n",
       "       [1.00000000e+00],\n",
       "       [9.37406915e-01],\n",
       "       [1.81352851e-01],\n",
       "       [9.99994084e-01],\n",
       "       [3.86148555e-05],\n",
       "       [9.83325901e-01],\n",
       "       [3.24089356e-03],\n",
       "       [1.63301493e-02],\n",
       "       [1.11688443e-04],\n",
       "       [7.82674385e-05],\n",
       "       [1.31423941e-04],\n",
       "       [9.99350759e-01],\n",
       "       [5.70621362e-02],\n",
       "       [8.99557776e-04],\n",
       "       [9.99967013e-01],\n",
       "       [9.93405961e-01],\n",
       "       [1.05244710e-04],\n",
       "       [5.33744520e-05],\n",
       "       [3.23319861e-02],\n",
       "       [3.43455968e-02],\n",
       "       [9.99999251e-01],\n",
       "       [7.17997263e-02],\n",
       "       [9.93221029e-01],\n",
       "       [9.91664669e-01],\n",
       "       [6.59771846e-03],\n",
       "       [8.62414796e-05],\n",
       "       [9.99999925e-01],\n",
       "       [7.85182475e-05],\n",
       "       [9.78911843e-01],\n",
       "       [9.36911679e-01],\n",
       "       [9.99999596e-01],\n",
       "       [9.00115256e-02],\n",
       "       [8.23684059e-04],\n",
       "       [8.90479019e-01],\n",
       "       [1.47558688e-01],\n",
       "       [9.99999349e-01],\n",
       "       [1.00000000e+00],\n",
       "       [5.43363206e-03],\n",
       "       [1.57665455e-01],\n",
       "       [9.62519679e-01],\n",
       "       [1.00000000e+00],\n",
       "       [9.99996306e-01],\n",
       "       [1.32963417e-02],\n",
       "       [9.99360057e-01],\n",
       "       [9.47944843e-01],\n",
       "       [9.99406481e-01],\n",
       "       [1.95159719e-01],\n",
       "       [9.31064587e-01],\n",
       "       [1.50078351e-02],\n",
       "       [4.05294825e-01],\n",
       "       [9.78799246e-05],\n",
       "       [5.69329750e-03],\n",
       "       [9.97899912e-01],\n",
       "       [9.99982506e-01],\n",
       "       [1.00590765e-03],\n",
       "       [1.12132743e-04],\n",
       "       [3.29723537e-04],\n",
       "       [8.89279389e-01],\n",
       "       [2.27905882e-01],\n",
       "       [1.37126849e-04],\n",
       "       [2.52761110e-04],\n",
       "       [1.49697857e-02],\n",
       "       [1.10518484e-02],\n",
       "       [9.99212372e-01],\n",
       "       [2.51753262e-01],\n",
       "       [2.71405527e-04],\n",
       "       [1.00000000e+00],\n",
       "       [9.69895965e-03],\n",
       "       [9.48309282e-03],\n",
       "       [6.20320597e-01],\n",
       "       [9.99984951e-01],\n",
       "       [2.24916365e-01],\n",
       "       [2.31756866e-03],\n",
       "       [8.77093032e-03],\n",
       "       [2.51577394e-02],\n",
       "       [9.99645084e-01],\n",
       "       [9.99998473e-01],\n",
       "       [8.79575591e-01],\n",
       "       [2.09967508e-04],\n",
       "       [9.99199488e-01],\n",
       "       [1.00000000e+00],\n",
       "       [2.37478800e-02],\n",
       "       [2.78589310e-03],\n",
       "       [2.15148034e-04],\n",
       "       [2.98629414e-01],\n",
       "       [9.79455635e-01],\n",
       "       [9.24262316e-01],\n",
       "       [9.99990886e-01],\n",
       "       [9.15624753e-03],\n",
       "       [9.07320944e-01],\n",
       "       [9.83115534e-01],\n",
       "       [1.92361594e-02],\n",
       "       [9.89270060e-01],\n",
       "       [1.03977688e-02],\n",
       "       [7.17256244e-04],\n",
       "       [1.31794739e-04],\n",
       "       [9.99868150e-01],\n",
       "       [2.17374312e-03],\n",
       "       [3.82010095e-06],\n",
       "       [9.45978551e-01],\n",
       "       [4.97454586e-03],\n",
       "       [8.13259896e-03],\n",
       "       [1.35650736e-05],\n",
       "       [4.54400955e-01],\n",
       "       [9.99856211e-01],\n",
       "       [9.19977223e-01],\n",
       "       [5.85170907e-02],\n",
       "       [1.48283773e-04],\n",
       "       [1.06262162e-01],\n",
       "       [9.95245158e-01],\n",
       "       [1.00000000e+00],\n",
       "       [5.65571647e-05],\n",
       "       [9.23648081e-02],\n",
       "       [3.83908378e-03],\n",
       "       [9.99941887e-01],\n",
       "       [1.64390891e-01],\n",
       "       [2.44438843e-05],\n",
       "       [2.20785960e-06],\n",
       "       [5.57957540e-01],\n",
       "       [9.90115075e-01],\n",
       "       [9.99998393e-01],\n",
       "       [1.03370277e-01],\n",
       "       [9.99971750e-01],\n",
       "       [1.79614380e-04],\n",
       "       [3.21619183e-06],\n",
       "       [8.60118264e-01],\n",
       "       [9.99987207e-01],\n",
       "       [2.42877382e-03],\n",
       "       [5.70016633e-04],\n",
       "       [5.43224914e-02],\n",
       "       [9.94632592e-01],\n",
       "       [1.64785332e-04],\n",
       "       [5.15802301e-05],\n",
       "       [2.87352858e-06],\n",
       "       [9.98989028e-01],\n",
       "       [9.99018094e-01],\n",
       "       [2.39984955e-06],\n",
       "       [7.20756554e-06],\n",
       "       [9.99999998e-01],\n",
       "       [1.00000000e+00],\n",
       "       [7.67684870e-01],\n",
       "       [4.47531096e-04],\n",
       "       [1.70727083e-01],\n",
       "       [2.03728665e-04],\n",
       "       [1.99787102e-01],\n",
       "       [1.58097853e-04],\n",
       "       [7.40797813e-04],\n",
       "       [1.88946018e-04],\n",
       "       [1.00000000e+00],\n",
       "       [1.00241061e-02],\n",
       "       [1.32892549e-05],\n",
       "       [9.99265662e-01],\n",
       "       [9.99063332e-01],\n",
       "       [5.85643311e-04],\n",
       "       [9.99582026e-01],\n",
       "       [9.49742036e-01],\n",
       "       [9.99762105e-01],\n",
       "       [9.53284160e-01],\n",
       "       [3.09076903e-02],\n",
       "       [8.64553169e-01],\n",
       "       [1.00000000e+00],\n",
       "       [9.99999504e-01],\n",
       "       [1.57181878e-01],\n",
       "       [1.10631956e-01],\n",
       "       [3.65012997e-04],\n",
       "       [4.69207720e-01],\n",
       "       [8.82529142e-01],\n",
       "       [3.85312542e-04],\n",
       "       [9.99954850e-01],\n",
       "       [4.49464953e-04],\n",
       "       [1.00000000e+00],\n",
       "       [9.99891782e-01],\n",
       "       [9.99882936e-01],\n",
       "       [9.86400166e-01],\n",
       "       [7.31819681e-01],\n",
       "       [9.06283530e-03],\n",
       "       [9.99986222e-01],\n",
       "       [9.99976958e-01],\n",
       "       [4.14690970e-04],\n",
       "       [5.73696398e-02],\n",
       "       [1.48673493e-03],\n",
       "       [9.90278721e-01],\n",
       "       [5.36964219e-04],\n",
       "       [3.76352417e-02],\n",
       "       [4.24370208e-05],\n",
       "       [1.48773035e-01],\n",
       "       [2.53401287e-02],\n",
       "       [9.99755808e-01],\n",
       "       [9.98226782e-01],\n",
       "       [1.83510854e-04],\n",
       "       [6.52307370e-04],\n",
       "       [9.98616469e-01],\n",
       "       [2.60230487e-05],\n",
       "       [1.98715913e-03],\n",
       "       [9.99999995e-01],\n",
       "       [9.87345699e-01],\n",
       "       [3.78533020e-01],\n",
       "       [9.99640904e-01],\n",
       "       [7.70248292e-04],\n",
       "       [4.17095790e-06],\n",
       "       [9.99087371e-01],\n",
       "       [1.08632626e-02],\n",
       "       [9.99942546e-01],\n",
       "       [2.32426637e-02],\n",
       "       [5.72944500e-04],\n",
       "       [9.21395193e-01],\n",
       "       [1.03942908e-02],\n",
       "       [1.30313716e-03],\n",
       "       [9.99999926e-01],\n",
       "       [3.73207958e-04],\n",
       "       [9.99999914e-01],\n",
       "       [7.03666430e-01],\n",
       "       [9.98609021e-01],\n",
       "       [6.73506080e-01],\n",
       "       [9.99999874e-01],\n",
       "       [9.99997436e-01],\n",
       "       [1.00000000e+00],\n",
       "       [9.99987410e-01],\n",
       "       [9.99482337e-01],\n",
       "       [5.81784860e-02],\n",
       "       [9.99762465e-01],\n",
       "       [4.13104928e-03],\n",
       "       [9.25771822e-01],\n",
       "       [9.99999914e-01],\n",
       "       [1.06601467e-01],\n",
       "       [1.68842347e-02],\n",
       "       [1.06702815e-02],\n",
       "       [4.55029229e-01],\n",
       "       [3.05493375e-06],\n",
       "       [1.00587667e-04],\n",
       "       [9.99999989e-01],\n",
       "       [2.94502628e-04],\n",
       "       [4.82556949e-01],\n",
       "       [1.47103075e-02],\n",
       "       [4.34010621e-05],\n",
       "       [6.39594425e-02],\n",
       "       [8.78611483e-05],\n",
       "       [5.60503818e-03],\n",
       "       [9.99995379e-01],\n",
       "       [1.51862293e-03],\n",
       "       [9.99601753e-01],\n",
       "       [9.97306192e-01],\n",
       "       [2.23342930e-02],\n",
       "       [5.33827436e-05],\n",
       "       [2.59639672e-01],\n",
       "       [2.81174650e-06],\n",
       "       [9.84771819e-01],\n",
       "       [2.06545066e-03],\n",
       "       [9.99945173e-01],\n",
       "       [1.21714747e-01],\n",
       "       [1.51072715e-02],\n",
       "       [1.13534354e-03],\n",
       "       [7.12881790e-05],\n",
       "       [5.51511859e-05],\n",
       "       [1.75372351e-06],\n",
       "       [9.00515369e-04],\n",
       "       [4.20296801e-04],\n",
       "       [4.05175913e-04],\n",
       "       [9.99999606e-01],\n",
       "       [4.37980975e-02],\n",
       "       [9.99999992e-01],\n",
       "       [1.17587796e-04],\n",
       "       [3.93620420e-04],\n",
       "       [4.04505167e-03],\n",
       "       [2.56342972e-05],\n",
       "       [3.77744010e-06],\n",
       "       [1.16288845e-06],\n",
       "       [5.81211912e-06],\n",
       "       [6.27174940e-04],\n",
       "       [6.38610009e-05],\n",
       "       [1.69427308e-03],\n",
       "       [1.85550217e-05],\n",
       "       [1.20714942e-02],\n",
       "       [8.10950950e-07],\n",
       "       [2.90822976e-06],\n",
       "       [9.20885768e-01],\n",
       "       [9.99811201e-01],\n",
       "       [2.68648758e-05],\n",
       "       [8.37320761e-02],\n",
       "       [8.85787907e-01],\n",
       "       [3.55399478e-03],\n",
       "       [9.99999974e-01],\n",
       "       [2.66548209e-04],\n",
       "       [5.42301831e-04],\n",
       "       [5.79192946e-05],\n",
       "       [3.63495712e-06],\n",
       "       [9.94722223e-01],\n",
       "       [9.97878766e-01],\n",
       "       [9.55757519e-01],\n",
       "       [3.21896275e-01],\n",
       "       [3.84641488e-03],\n",
       "       [2.43449783e-05],\n",
       "       [1.11842343e-04],\n",
       "       [9.99235534e-01],\n",
       "       [1.61561525e-03],\n",
       "       [9.99995470e-01],\n",
       "       [1.94968995e-03],\n",
       "       [9.99999670e-01],\n",
       "       [6.31665385e-01],\n",
       "       [6.13967202e-02],\n",
       "       [5.05501034e-03],\n",
       "       [9.99996216e-01],\n",
       "       [2.57557749e-03],\n",
       "       [2.93173229e-02],\n",
       "       [2.72328574e-04],\n",
       "       [5.18959693e-03],\n",
       "       [1.51086191e-04],\n",
       "       [3.17851874e-02],\n",
       "       [1.56133983e-05],\n",
       "       [9.99999984e-01],\n",
       "       [1.00000000e+00],\n",
       "       [9.95244987e-01],\n",
       "       [5.52876860e-04],\n",
       "       [9.96102285e-02],\n",
       "       [8.68537168e-01],\n",
       "       [1.45033692e-04],\n",
       "       [1.32687715e-03],\n",
       "       [4.84487738e-04],\n",
       "       [3.76997054e-06],\n",
       "       [5.05128505e-03],\n",
       "       [3.26816955e-03],\n",
       "       [4.70100672e-02],\n",
       "       [1.66209659e-04],\n",
       "       [9.86207436e-01],\n",
       "       [9.99999690e-01],\n",
       "       [3.56234949e-03],\n",
       "       [9.99930151e-01],\n",
       "       [9.99999506e-01],\n",
       "       [9.99985349e-01],\n",
       "       [3.49844730e-04],\n",
       "       [9.98548510e-01],\n",
       "       [9.96708393e-01],\n",
       "       [7.55981704e-04],\n",
       "       [1.87164355e-01],\n",
       "       [9.99750546e-01],\n",
       "       [6.05962946e-04],\n",
       "       [1.00193346e-02],\n",
       "       [9.99996201e-01],\n",
       "       [6.72924722e-02],\n",
       "       [5.45630766e-04],\n",
       "       [2.50633244e-02],\n",
       "       [4.04763414e-01],\n",
       "       [8.53995733e-04],\n",
       "       [1.06831241e-01],\n",
       "       [3.38107453e-03],\n",
       "       [6.33811953e-05],\n",
       "       [5.72633341e-01],\n",
       "       [9.99988302e-01],\n",
       "       [6.30771092e-05],\n",
       "       [2.36458604e-03],\n",
       "       [9.99965995e-01],\n",
       "       [9.99999984e-01],\n",
       "       [2.19347211e-02],\n",
       "       [4.18344719e-04],\n",
       "       [1.46330111e-01],\n",
       "       [4.07558529e-03],\n",
       "       [4.02064477e-05],\n",
       "       [1.93000947e-03],\n",
       "       [9.99999928e-01],\n",
       "       [8.23835143e-05],\n",
       "       [2.33626780e-02],\n",
       "       [1.14683476e-03],\n",
       "       [3.06460243e-05],\n",
       "       [4.14016837e-03],\n",
       "       [9.51442770e-03],\n",
       "       [9.91735454e-02],\n",
       "       [9.95590839e-01],\n",
       "       [2.11676084e-02],\n",
       "       [1.63138234e-03],\n",
       "       [6.55861084e-04],\n",
       "       [1.26916305e-04],\n",
       "       [6.88578981e-01],\n",
       "       [2.57951705e-01],\n",
       "       [4.51955044e-02],\n",
       "       [4.12882596e-02],\n",
       "       [9.99999368e-01],\n",
       "       [1.25955178e-04],\n",
       "       [5.30287622e-04],\n",
       "       [4.11288451e-02],\n",
       "       [9.98963920e-01],\n",
       "       [7.80493425e-03],\n",
       "       [1.99857735e-01],\n",
       "       [1.44207717e-01],\n",
       "       [1.42311816e-05],\n",
       "       [1.53595858e-01],\n",
       "       [2.04187560e-02],\n",
       "       [3.59483392e-06],\n",
       "       [2.02610129e-05],\n",
       "       [9.99998136e-01],\n",
       "       [3.77258893e-01],\n",
       "       [9.99879230e-01],\n",
       "       [9.99985106e-01],\n",
       "       [9.67715965e-04],\n",
       "       [7.08523821e-01],\n",
       "       [4.57358749e-03],\n",
       "       [2.49693691e-03],\n",
       "       [1.13853800e-03],\n",
       "       [3.44470718e-05],\n",
       "       [5.09996857e-01],\n",
       "       [9.98044928e-01],\n",
       "       [3.10696427e-05],\n",
       "       [4.18842243e-04],\n",
       "       [5.95773303e-01],\n",
       "       [4.89101208e-02],\n",
       "       [9.99427950e-01],\n",
       "       [1.58476517e-02],\n",
       "       [3.23022544e-02],\n",
       "       [9.99644227e-01],\n",
       "       [2.31835129e-01],\n",
       "       [9.93492566e-01],\n",
       "       [2.03189920e-02],\n",
       "       [4.84297124e-03],\n",
       "       [3.33261340e-04],\n",
       "       [1.23570322e-02],\n",
       "       [5.10642548e-01],\n",
       "       [1.23207066e-03],\n",
       "       [3.61331165e-04],\n",
       "       [1.36217323e-04],\n",
       "       [9.99770275e-01],\n",
       "       [1.00000000e+00],\n",
       "       [2.37077911e-03],\n",
       "       [3.99983334e-04],\n",
       "       [2.68634566e-04],\n",
       "       [9.90420916e-01],\n",
       "       [2.64230476e-01],\n",
       "       [3.24155330e-04],\n",
       "       [9.99999434e-01],\n",
       "       [9.57521456e-01],\n",
       "       [6.23062568e-03],\n",
       "       [1.83582061e-02],\n",
       "       [4.64419423e-03],\n",
       "       [4.18340223e-03],\n",
       "       [1.05238381e-02],\n",
       "       [3.10752227e-03],\n",
       "       [1.34678835e-01],\n",
       "       [1.80793306e-04],\n",
       "       [6.40122867e-03],\n",
       "       [9.99969894e-01],\n",
       "       [7.72323297e-04],\n",
       "       [6.65459583e-04],\n",
       "       [7.73766624e-03],\n",
       "       [1.21664446e-03],\n",
       "       [1.22381919e-01],\n",
       "       [9.99772618e-01],\n",
       "       [9.87702263e-04],\n",
       "       [9.99976779e-01],\n",
       "       [1.03683595e-02],\n",
       "       [8.52596664e-02],\n",
       "       [1.06620259e-03],\n",
       "       [6.14758172e-04],\n",
       "       [9.99401917e-01],\n",
       "       [2.70308571e-05],\n",
       "       [3.06110163e-03],\n",
       "       [9.32202373e-03],\n",
       "       [2.08665301e-01],\n",
       "       [7.29171053e-04],\n",
       "       [9.99588105e-01],\n",
       "       [9.99983690e-01],\n",
       "       [4.30958794e-02],\n",
       "       [9.99882491e-01],\n",
       "       [5.56753584e-02],\n",
       "       [9.99999217e-01],\n",
       "       [9.95481646e-01],\n",
       "       [9.97656677e-01],\n",
       "       [1.30314342e-01],\n",
       "       [7.30750509e-02],\n",
       "       [3.71052599e-03],\n",
       "       [9.99992303e-01],\n",
       "       [4.14637538e-03],\n",
       "       [1.46248132e-04],\n",
       "       [9.96799381e-01],\n",
       "       [1.16330739e-02],\n",
       "       [7.29887478e-02],\n",
       "       [5.05274278e-03],\n",
       "       [9.94035253e-01],\n",
       "       [9.98539695e-01],\n",
       "       [3.26232503e-01],\n",
       "       [8.15507574e-02],\n",
       "       [2.71264502e-01],\n",
       "       [9.99999992e-01],\n",
       "       [1.73811358e-05],\n",
       "       [1.60715672e-01],\n",
       "       [3.26851304e-04],\n",
       "       [2.16318320e-04],\n",
       "       [5.84571337e-02],\n",
       "       [7.35844850e-05],\n",
       "       [4.89363340e-01],\n",
       "       [8.30589219e-04],\n",
       "       [2.18338567e-02],\n",
       "       [3.43655721e-02],\n",
       "       [2.93541328e-04],\n",
       "       [9.99876699e-01],\n",
       "       [1.13825662e-02],\n",
       "       [9.99981172e-01],\n",
       "       [9.03715237e-01],\n",
       "       [9.56006456e-01],\n",
       "       [5.03185136e-04],\n",
       "       [9.38184153e-01],\n",
       "       [6.73222602e-02],\n",
       "       [9.85425127e-01],\n",
       "       [3.11984237e-02],\n",
       "       [4.04444426e-03],\n",
       "       [1.77517920e-02],\n",
       "       [9.95260699e-03],\n",
       "       [3.75147607e-05],\n",
       "       [2.54124115e-03],\n",
       "       [9.63539769e-05],\n",
       "       [2.39866173e-02],\n",
       "       [3.08337699e-05],\n",
       "       [3.84208878e-02],\n",
       "       [1.26104537e-03],\n",
       "       [8.33509106e-04],\n",
       "       [1.49788731e-02],\n",
       "       [2.35729972e-02],\n",
       "       [3.60591573e-04],\n",
       "       [9.42331337e-04],\n",
       "       [4.71460357e-01],\n",
       "       [3.14658136e-01],\n",
       "       [1.91045126e-01],\n",
       "       [3.37101340e-05],\n",
       "       [9.99999964e-01],\n",
       "       [9.99999999e-01],\n",
       "       [9.99991909e-01],\n",
       "       [9.99810738e-01],\n",
       "       [9.36397570e-01],\n",
       "       [1.00000000e+00],\n",
       "       [4.98103666e-06]])"
      ]
     },
     "execution_count": 208,
     "metadata": {},
     "output_type": "execute_result"
    }
   ],
   "source": [
    "hypothesis(X, theta)"
   ]
  },
  {
   "cell_type": "markdown",
   "metadata": {},
   "source": [
    "## Computing The Gradient"
   ]
  },
  {
   "cell_type": "code",
   "execution_count": 209,
   "metadata": {},
   "outputs": [],
   "source": [
    "def gradient(X, Y, theta):\n",
    "    m, _ = X.shape\n",
    "    hx = hypothesis(X, theta)\n",
    "    return np.dot(X.T, (hx - Y)) / m"
   ]
  },
  {
   "cell_type": "markdown",
   "metadata": {},
   "source": [
    "## Gradient Descent"
   ]
  },
  {
   "cell_type": "code",
   "execution_count": 221,
   "metadata": {},
   "outputs": [],
   "source": [
    "def gradient_descent(X, Y, lr=0.005, max_itr=1000):\n",
    "    err_list = []\n",
    "    m, n = X.shape\n",
    "    theta = np.random.rand(n, 1)\n",
    "    for i in range(max_itr):\n",
    "        err = J(X, Y, theta)\n",
    "        err_list.append(err)\n",
    "        grad = gradient(X, Y, theta)\n",
    "        theta -= lr * grad\n",
    "        if i % 100 == 0:\n",
    "            print(f'Iteration no {i} and cost {err}')\n",
    "    return theta, err_list"
   ]
  },
  {
   "cell_type": "markdown",
   "metadata": {},
   "source": [
    "## Adding a Feature Column with (1)'s"
   ]
  },
  {
   "cell_type": "code",
   "execution_count": 211,
   "metadata": {},
   "outputs": [
    {
     "data": {
      "text/plain": [
       "array([[ 1.        ,  1.        , -0.47353452, ..., -1.33699001,\n",
       "        -1.00424655, -0.75730243],\n",
       "       [ 1.        ,  1.        , -0.42809225, ...,  0.05167567,\n",
       "        -0.12093834,  0.65968002],\n",
       "       [ 1.        ,  1.        ,  0.4551919 , ...,  0.46583912,\n",
       "        -0.55612133, -0.11835806],\n",
       "       ...,\n",
       "       [ 1.        ,  1.        , -0.64678318, ..., -0.35335182,\n",
       "         0.32395133, -0.76893975],\n",
       "       [ 1.        ,  1.        , -0.18384004, ...,  1.69310287,\n",
       "        -0.15167617,  1.28310797],\n",
       "       [ 1.        ,  1.        , -1.33608564, ..., -1.74506282,\n",
       "        -0.68877934, -0.78999777]])"
      ]
     },
     "execution_count": 211,
     "metadata": {},
     "output_type": "execute_result"
    }
   ],
   "source": [
    "X_train = np.hstack((np.ones((X_train.shape[0],1)), X_train))\n",
    "X_train"
   ]
  },
  {
   "cell_type": "code",
   "execution_count": 212,
   "metadata": {},
   "outputs": [
    {
     "data": {
      "text/plain": [
       "(455, 32)"
      ]
     },
     "execution_count": 212,
     "metadata": {},
     "output_type": "execute_result"
    }
   ],
   "source": [
    "X_train.shape"
   ]
  },
  {
   "cell_type": "code",
   "execution_count": 213,
   "metadata": {},
   "outputs": [
    {
     "data": {
      "text/plain": [
       "(455, 1)"
      ]
     },
     "execution_count": 213,
     "metadata": {},
     "output_type": "execute_result"
    }
   ],
   "source": [
    "Y_train = Y_train.reshape((-1, 1))\n",
    "Y_train.shape"
   ]
  },
  {
   "cell_type": "code",
   "execution_count": 214,
   "metadata": {},
   "outputs": [
    {
     "data": {
      "text/plain": [
       "(114, 30)"
      ]
     },
     "execution_count": 214,
     "metadata": {},
     "output_type": "execute_result"
    }
   ],
   "source": [
    "X_test.shape"
   ]
  },
  {
   "cell_type": "code",
   "execution_count": 215,
   "metadata": {},
   "outputs": [
    {
     "data": {
      "text/plain": [
       "(114, 1)"
      ]
     },
     "execution_count": 215,
     "metadata": {},
     "output_type": "execute_result"
    }
   ],
   "source": [
    "Y_test = Y_test.reshape((-1, 1))\n",
    "Y_test.shape"
   ]
  },
  {
   "cell_type": "code",
   "execution_count": 222,
   "metadata": {},
   "outputs": [
    {
     "name": "stderr",
     "output_type": "stream",
     "text": [
      "c:\\users\\anish\\appdata\\local\\programs\\python\\python37\\lib\\site-packages\\ipykernel_launcher.py:4: RuntimeWarning: divide by zero encountered in log\n",
      "  after removing the cwd from sys.path.\n"
     ]
    },
    {
     "name": "stdout",
     "output_type": "stream",
     "text": [
      "Iteration no 0 and cost inf\n",
      "Iteration no 100 and cost 2.456502261868214\n",
      "Iteration no 200 and cost -1.308148758851749\n",
      "Iteration no 300 and cost -3.3615641772827507\n",
      "Iteration no 400 and cost -5.115034942704401\n",
      "Iteration no 500 and cost -6.7944734023797455\n",
      "Iteration no 600 and cost -8.44077282940038\n",
      "Iteration no 700 and cost -10.070615997102584\n",
      "Iteration no 800 and cost -11.694302364288303\n",
      "Iteration no 900 and cost inf\n"
     ]
    }
   ],
   "source": [
    "## Applying Gradient Descent and Training the Model\n",
    "theta, err_list = gradient_descent(X_train, Y_train)"
   ]
  }
 ],
 "metadata": {
  "kernelspec": {
   "display_name": "Python 3",
   "language": "python",
   "name": "python3"
  },
  "language_info": {
   "codemirror_mode": {
    "name": "ipython",
    "version": 3
   },
   "file_extension": ".py",
   "mimetype": "text/x-python",
   "name": "python",
   "nbconvert_exporter": "python",
   "pygments_lexer": "ipython3",
   "version": "3.7.9"
  }
 },
 "nbformat": 4,
 "nbformat_minor": 4
}
