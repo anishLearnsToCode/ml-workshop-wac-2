{
 "cells": [
  {
   "cell_type": "markdown",
   "metadata": {},
   "source": [
    "## Logistic Regression"
   ]
  },
  {
   "cell_type": "markdown",
   "metadata": {},
   "source": [
    "<h6>How to generate dataset</h6>"
   ]
  },
  {
   "cell_type": "code",
   "execution_count": 1,
   "metadata": {},
   "outputs": [],
   "source": [
    "import numpy as np\n",
    "import pandas as pd\n",
    "import matplotlib.pyplot as plt"
   ]
  },
  {
   "cell_type": "code",
   "execution_count": 2,
   "metadata": {},
   "outputs": [],
   "source": [
    "mu1 = np.array([1, 2])\n",
    "mu2 = np.array([6, 8])"
   ]
  },
  {
   "cell_type": "code",
   "execution_count": 3,
   "metadata": {},
   "outputs": [],
   "source": [
    "cov1 = np.array([[.4, .1], [.1, .8]])\n",
    "cov2 = np.array([[1, .4], [.4, 1]])"
   ]
  },
  {
   "cell_type": "code",
   "execution_count": 4,
   "metadata": {},
   "outputs": [
    {
     "data": {
      "text/plain": [
       "array([[0.4, 0.1],\n",
       "       [0.1, 0.8]])"
      ]
     },
     "execution_count": 4,
     "metadata": {},
     "output_type": "execute_result"
    }
   ],
   "source": [
    "cov1"
   ]
  },
  {
   "cell_type": "code",
   "execution_count": 5,
   "metadata": {},
   "outputs": [
    {
     "data": {
      "text/plain": [
       "array([[1. , 0.4],\n",
       "       [0.4, 1. ]])"
      ]
     },
     "execution_count": 5,
     "metadata": {},
     "output_type": "execute_result"
    }
   ],
   "source": [
    "cov2"
   ]
  },
  {
   "cell_type": "code",
   "execution_count": 6,
   "metadata": {},
   "outputs": [],
   "source": [
    "X1 = np.random.multivariate_normal(mu1, cov1, 100)\n",
    "X2 = np.random.multivariate_normal(mu2, cov2, 100)"
   ]
  },
  {
   "cell_type": "code",
   "execution_count": 7,
   "metadata": {},
   "outputs": [
    {
     "data": {
      "text/plain": [
       "array([[ 0.35023218,  1.3617044 ],\n",
       "       [ 0.92297672,  3.48304189],\n",
       "       [ 1.80346275,  3.26698325],\n",
       "       [ 1.47081673,  1.58657654],\n",
       "       [ 0.74155299,  1.05964876],\n",
       "       [ 1.37791945,  2.57685912],\n",
       "       [ 1.08184678,  2.36766491],\n",
       "       [ 0.80760371,  1.69595276],\n",
       "       [ 0.58573456,  2.41236601],\n",
       "       [ 1.11683303,  1.06458344],\n",
       "       [ 0.95545318,  1.63704601],\n",
       "       [ 0.21125929,  2.23511073],\n",
       "       [ 1.27052952,  1.13528789],\n",
       "       [ 0.99985802,  2.0246997 ],\n",
       "       [ 1.93329492,  2.71150354],\n",
       "       [ 0.76519465,  2.5922154 ],\n",
       "       [ 1.5946674 ,  2.83465499],\n",
       "       [ 0.49088005,  2.30316289],\n",
       "       [ 0.38513706,  1.19990089],\n",
       "       [ 0.68941673,  2.37788317],\n",
       "       [ 1.54642682,  2.42654251],\n",
       "       [ 1.37964905,  0.83996983],\n",
       "       [ 2.46231151,  1.73186916],\n",
       "       [ 1.12818973,  1.91264284],\n",
       "       [ 1.23441082,  0.52762463],\n",
       "       [ 1.6311402 ,  1.2460173 ],\n",
       "       [ 1.7262998 ,  2.75766262],\n",
       "       [ 1.94721358,  2.39753464],\n",
       "       [ 0.55365555,  3.842681  ],\n",
       "       [-0.17952992,  0.51603163],\n",
       "       [ 0.36424645,  2.58333329],\n",
       "       [ 0.95779959,  1.57406552],\n",
       "       [ 1.96908745,  1.79502921],\n",
       "       [ 1.40628553,  0.81665298],\n",
       "       [ 1.18302061,  1.98266768],\n",
       "       [ 0.83583862,  3.46298629],\n",
       "       [ 0.77358436,  2.90631344],\n",
       "       [ 1.73336864,  1.16938531],\n",
       "       [ 1.31129855,  0.81103418],\n",
       "       [ 1.1398201 ,  3.12999027],\n",
       "       [ 1.66318056,  3.17683278],\n",
       "       [-0.36736483,  4.09762048],\n",
       "       [ 0.34664292,  2.29676535],\n",
       "       [ 1.3979776 ,  2.77786078],\n",
       "       [ 1.97981873,  3.2172558 ],\n",
       "       [ 1.4782505 ,  2.13947497],\n",
       "       [ 0.23368786,  0.63349786],\n",
       "       [ 1.08387525,  1.62078961],\n",
       "       [ 1.93844296,  3.19041405],\n",
       "       [ 1.32947793,  1.23464853],\n",
       "       [ 1.47657886,  3.96162603],\n",
       "       [ 1.71082958,  3.68817156],\n",
       "       [ 0.22024756,  1.4944127 ],\n",
       "       [ 0.77597692,  1.58868144],\n",
       "       [ 1.7238783 ,  2.38069697],\n",
       "       [ 0.07591733,  0.60025306],\n",
       "       [ 1.60864728,  4.01288317],\n",
       "       [ 0.55495785,  0.60110349],\n",
       "       [-0.36412693,  1.98257699],\n",
       "       [ 0.69237617,  1.01477782],\n",
       "       [ 0.30646635,  1.81831287],\n",
       "       [ 1.26086456,  2.76352388],\n",
       "       [ 0.9546835 ,  2.12479239],\n",
       "       [ 0.78693745,  3.17259549],\n",
       "       [ 1.22034377,  0.66110385],\n",
       "       [ 2.09323662,  3.0959858 ],\n",
       "       [ 1.32970685,  2.10503997],\n",
       "       [ 1.72284288,  0.7824417 ],\n",
       "       [ 0.35038082,  2.42141551],\n",
       "       [ 0.30730615,  0.89198312],\n",
       "       [ 1.11725564,  2.25986672],\n",
       "       [ 1.9643599 ,  1.89556028],\n",
       "       [ 0.65308605,  3.22883031],\n",
       "       [ 0.67319897,  2.05120015],\n",
       "       [ 1.44828567,  2.31552082],\n",
       "       [ 0.22725992,  1.12106027],\n",
       "       [ 2.20329632,  1.96128293],\n",
       "       [ 1.19080783,  2.48837155],\n",
       "       [ 1.57062558,  0.90444891],\n",
       "       [ 0.41341631,  1.98091028],\n",
       "       [ 0.40315989,  0.21142785],\n",
       "       [ 0.8052356 ,  2.86369595],\n",
       "       [ 0.62403271,  2.63738407],\n",
       "       [ 0.62495881,  2.35880962],\n",
       "       [ 1.33620217,  3.175814  ],\n",
       "       [ 1.45765136,  3.51257183],\n",
       "       [ 0.93290559,  1.80422103],\n",
       "       [ 1.07436169,  1.4216063 ],\n",
       "       [ 0.70434047,  1.95462637],\n",
       "       [ 1.61065687,  2.75314345],\n",
       "       [-0.08237483,  1.9616713 ],\n",
       "       [ 0.91723962,  1.36471978],\n",
       "       [ 2.09194464,  1.91211542],\n",
       "       [ 1.08602651,  0.63978567],\n",
       "       [ 0.89983804,  3.10330525],\n",
       "       [ 0.89704289,  2.09884211],\n",
       "       [ 0.78252354,  2.58496561],\n",
       "       [ 0.53863199,  1.13967087],\n",
       "       [ 0.53932063,  2.29710007],\n",
       "       [ 0.88090226,  1.98285977]])"
      ]
     },
     "execution_count": 7,
     "metadata": {},
     "output_type": "execute_result"
    }
   ],
   "source": [
    "X1"
   ]
  },
  {
   "cell_type": "code",
   "execution_count": 8,
   "metadata": {},
   "outputs": [
    {
     "data": {
      "text/plain": [
       "(100, 2)"
      ]
     },
     "execution_count": 8,
     "metadata": {},
     "output_type": "execute_result"
    }
   ],
   "source": [
    "X1.shape"
   ]
  },
  {
   "cell_type": "code",
   "execution_count": 9,
   "metadata": {},
   "outputs": [
    {
     "data": {
      "text/plain": [
       "array([[ 6.84034919,  8.31107208],\n",
       "       [ 7.36040336, 10.05824982],\n",
       "       [ 6.54743148,  8.84547994],\n",
       "       [ 5.26973474,  5.93977247],\n",
       "       [ 4.71477011,  7.75263748],\n",
       "       [ 4.17056678,  6.57712509],\n",
       "       [ 7.39555858,  8.40339291],\n",
       "       [ 6.03446492,  8.06388111],\n",
       "       [ 3.14515532,  6.42220818],\n",
       "       [ 6.23860884,  9.3868171 ],\n",
       "       [ 6.05308114,  7.97975729],\n",
       "       [ 7.64592736,  9.50923427],\n",
       "       [ 7.42203286,  7.73874553],\n",
       "       [ 5.7326613 ,  7.91487723],\n",
       "       [ 6.89570296,  8.57260399],\n",
       "       [ 7.67258192,  6.06761543],\n",
       "       [ 6.06191246,  7.91759519],\n",
       "       [ 5.20844282,  8.46347828],\n",
       "       [ 7.02720665,  6.08009622],\n",
       "       [ 5.63030552,  7.04261335],\n",
       "       [ 4.83485407,  7.28604026],\n",
       "       [ 4.34516007,  7.84417409],\n",
       "       [ 5.78810831,  7.87634044],\n",
       "       [ 3.72606194,  6.33746431],\n",
       "       [ 6.16192814,  7.64839169],\n",
       "       [ 6.18445402,  8.04153042],\n",
       "       [ 8.02600533,  8.47247313],\n",
       "       [ 6.82126998,  7.41845495],\n",
       "       [ 5.99115373,  8.02336529],\n",
       "       [ 5.04253412,  8.9940984 ],\n",
       "       [ 5.29272639,  8.45997341],\n",
       "       [ 5.77949532,  8.14892446],\n",
       "       [ 6.07883518,  9.18088631],\n",
       "       [ 6.47606719,  8.68740578],\n",
       "       [ 6.54345961,  7.63038208],\n",
       "       [ 8.31159548,  9.77472725],\n",
       "       [ 6.9335477 ,  8.61071196],\n",
       "       [ 4.93314863,  6.85799678],\n",
       "       [ 6.20497115,  7.51714831],\n",
       "       [ 4.68987055,  7.77459609],\n",
       "       [ 6.65796204,  6.73497675],\n",
       "       [ 7.14902512, 10.57778824],\n",
       "       [ 6.93048301,  8.61150373],\n",
       "       [ 3.7180244 ,  7.65490484],\n",
       "       [ 6.61102226,  7.30999302],\n",
       "       [ 6.04019187,  8.7951967 ],\n",
       "       [ 5.58092853,  7.93181486],\n",
       "       [ 5.36305488,  8.42148853],\n",
       "       [ 6.75733841,  7.92689132],\n",
       "       [ 3.77502643,  7.14710818],\n",
       "       [ 6.99290299,  7.40840514],\n",
       "       [ 4.24097013,  5.91588185],\n",
       "       [ 4.94478703,  7.63246498],\n",
       "       [ 6.52709515,  8.71687166],\n",
       "       [ 6.38350996,  7.53485165],\n",
       "       [ 6.15413351,  7.34724023],\n",
       "       [ 5.31962399,  8.41290211],\n",
       "       [ 5.17724625,  6.4736356 ],\n",
       "       [ 5.17482086,  7.499143  ],\n",
       "       [ 6.60567214,  7.93220264],\n",
       "       [ 6.56323212,  8.81056219],\n",
       "       [ 6.04007078,  8.39452196],\n",
       "       [ 5.36249505,  7.14101374],\n",
       "       [ 5.62432277,  7.79964581],\n",
       "       [ 8.30802583,  8.79958017],\n",
       "       [ 6.33476142,  9.73858449],\n",
       "       [ 7.23139373,  8.8314108 ],\n",
       "       [ 4.73394522,  9.94061293],\n",
       "       [ 6.44551137,  8.21589058],\n",
       "       [ 6.74708769,  8.19106662],\n",
       "       [ 7.60596271,  9.02419953],\n",
       "       [ 7.09487085, 10.29511372],\n",
       "       [ 5.52802295,  8.32732377],\n",
       "       [ 5.03127742,  7.93079218],\n",
       "       [ 5.95165563,  6.27465484],\n",
       "       [ 5.39760398,  8.07128594],\n",
       "       [ 6.3288391 ,  7.2531557 ],\n",
       "       [ 5.17311584,  6.94483615],\n",
       "       [ 6.03595757,  9.13291587],\n",
       "       [ 7.00707595,  7.51139883],\n",
       "       [ 5.40557082,  7.80355254],\n",
       "       [ 4.27346101,  6.97297081],\n",
       "       [ 6.30769056,  8.02244765],\n",
       "       [ 5.61033669,  8.70314625],\n",
       "       [ 7.30066702,  8.62141273],\n",
       "       [ 6.45202905, 11.19562369],\n",
       "       [ 5.40564479,  8.00049931],\n",
       "       [ 6.61520511,  7.16455571],\n",
       "       [ 5.49968699,  7.6198536 ],\n",
       "       [ 6.14849654,  7.18163472],\n",
       "       [ 5.44789197,  7.29638648],\n",
       "       [ 5.83687538,  7.76701174],\n",
       "       [ 4.5957465 ,  6.71749571],\n",
       "       [ 6.83429292,  8.12629156],\n",
       "       [ 6.07824712,  8.10725074],\n",
       "       [ 6.08566933,  9.04333651],\n",
       "       [ 6.11649038,  7.5834912 ],\n",
       "       [ 5.66798215,  7.24819981],\n",
       "       [ 7.30181633,  8.52065125],\n",
       "       [ 4.40973927,  8.37901104]])"
      ]
     },
     "execution_count": 9,
     "metadata": {},
     "output_type": "execute_result"
    }
   ],
   "source": [
    "X2"
   ]
  },
  {
   "cell_type": "code",
   "execution_count": 10,
   "metadata": {},
   "outputs": [
    {
     "data": {
      "text/plain": [
       "(100, 2)"
      ]
     },
     "execution_count": 10,
     "metadata": {},
     "output_type": "execute_result"
    }
   ],
   "source": [
    "X2.shape"
   ]
  },
  {
   "cell_type": "code",
   "execution_count": 11,
   "metadata": {},
   "outputs": [
    {
     "data": {
      "text/plain": [
       "<matplotlib.collections.PathCollection at 0x14c3db90e08>"
      ]
     },
     "execution_count": 11,
     "metadata": {},
     "output_type": "execute_result"
    },
    {
     "data": {
      "image/png": "[encoded data removed]",
      "text/plain": [
       "<Figure size 432x288 with 1 Axes>"
      ]
     },
     "metadata": {
      "needs_background": "light"
     },
     "output_type": "display_data"
    }
   ],
   "source": [
    "plt.scatter(X1[:,0], X1[:,1])\n",
    "plt.scatter(X2[:,0], X2[:,1])"
   ]
  },
  {
   "cell_type": "code",
   "execution_count": 12,
   "metadata": {},
   "outputs": [],
   "source": [
    "y1 = np.ones((100,))\n",
    "y2 = np.zeros((100,))"
   ]
  },
  {
   "cell_type": "code",
   "execution_count": 13,
   "metadata": {},
   "outputs": [
    {
     "data": {
      "text/plain": [
       "array([1., 1., 1., 1., 1., 1., 1., 1., 1., 1., 1., 1., 1., 1., 1., 1., 1.,\n",
       "       1., 1., 1., 1., 1., 1., 1., 1., 1., 1., 1., 1., 1., 1., 1., 1., 1.,\n",
       "       1., 1., 1., 1., 1., 1., 1., 1., 1., 1., 1., 1., 1., 1., 1., 1., 1.,\n",
       "       1., 1., 1., 1., 1., 1., 1., 1., 1., 1., 1., 1., 1., 1., 1., 1., 1.,\n",
       "       1., 1., 1., 1., 1., 1., 1., 1., 1., 1., 1., 1., 1., 1., 1., 1., 1.,\n",
       "       1., 1., 1., 1., 1., 1., 1., 1., 1., 1., 1., 1., 1., 1., 1.])"
      ]
     },
     "execution_count": 13,
     "metadata": {},
     "output_type": "execute_result"
    }
   ],
   "source": [
    "y1"
   ]
  },
  {
   "cell_type": "code",
   "execution_count": 14,
   "metadata": {},
   "outputs": [
    {
     "data": {
      "text/plain": [
       "array([0., 0., 0., 0., 0., 0., 0., 0., 0., 0., 0., 0., 0., 0., 0., 0., 0.,\n",
       "       0., 0., 0., 0., 0., 0., 0., 0., 0., 0., 0., 0., 0., 0., 0., 0., 0.,\n",
       "       0., 0., 0., 0., 0., 0., 0., 0., 0., 0., 0., 0., 0., 0., 0., 0., 0.,\n",
       "       0., 0., 0., 0., 0., 0., 0., 0., 0., 0., 0., 0., 0., 0., 0., 0., 0.,\n",
       "       0., 0., 0., 0., 0., 0., 0., 0., 0., 0., 0., 0., 0., 0., 0., 0., 0.,\n",
       "       0., 0., 0., 0., 0., 0., 0., 0., 0., 0., 0., 0., 0., 0., 0.])"
      ]
     },
     "execution_count": 14,
     "metadata": {},
     "output_type": "execute_result"
    }
   ],
   "source": [
    "y2"
   ]
  },
  {
   "cell_type": "code",
   "execution_count": 15,
   "metadata": {},
   "outputs": [
    {
     "data": {
      "text/plain": [
       "(100,)"
      ]
     },
     "execution_count": 15,
     "metadata": {},
     "output_type": "execute_result"
    }
   ],
   "source": [
    "y1.shape"
   ]
  },
  {
   "cell_type": "code",
   "execution_count": 16,
   "metadata": {},
   "outputs": [
    {
     "data": {
      "text/plain": [
       "(100,)"
      ]
     },
     "execution_count": 16,
     "metadata": {},
     "output_type": "execute_result"
    }
   ],
   "source": [
    "y2.shape"
   ]
  },
  {
   "cell_type": "code",
   "execution_count": 17,
   "metadata": {},
   "outputs": [],
   "source": [
    "data = np.zeros((200, 3))"
   ]
  },
  {
   "cell_type": "code",
   "execution_count": 18,
   "metadata": {},
   "outputs": [
    {
     "data": {
      "text/plain": [
       "(100,)"
      ]
     },
     "execution_count": 18,
     "metadata": {},
     "output_type": "execute_result"
    }
   ],
   "source": [
    "data[:100,2].shape"
   ]
  },
  {
   "cell_type": "code",
   "execution_count": 19,
   "metadata": {},
   "outputs": [
    {
     "data": {
      "text/plain": [
       "(200, 3)"
      ]
     },
     "execution_count": 19,
     "metadata": {},
     "output_type": "execute_result"
    }
   ],
   "source": [
    "data.shape"
   ]
  },
  {
   "cell_type": "code",
   "execution_count": 20,
   "metadata": {},
   "outputs": [
    {
     "data": {
      "text/plain": [
       "array([[0., 0., 0.],\n",
       "       [0., 0., 0.],\n",
       "       [0., 0., 0.],\n",
       "       [0., 0., 0.],\n",
       "       [0., 0., 0.],\n",
       "       [0., 0., 0.],\n",
       "       [0., 0., 0.],\n",
       "       [0., 0., 0.],\n",
       "       [0., 0., 0.],\n",
       "       [0., 0., 0.],\n",
       "       [0., 0., 0.],\n",
       "       [0., 0., 0.],\n",
       "       [0., 0., 0.],\n",
       "       [0., 0., 0.],\n",
       "       [0., 0., 0.],\n",
       "       [0., 0., 0.],\n",
       "       [0., 0., 0.],\n",
       "       [0., 0., 0.],\n",
       "       [0., 0., 0.],\n",
       "       [0., 0., 0.],\n",
       "       [0., 0., 0.],\n",
       "       [0., 0., 0.],\n",
       "       [0., 0., 0.],\n",
       "       [0., 0., 0.],\n",
       "       [0., 0., 0.],\n",
       "       [0., 0., 0.],\n",
       "       [0., 0., 0.],\n",
       "       [0., 0., 0.],\n",
       "       [0., 0., 0.],\n",
       "       [0., 0., 0.],\n",
       "       [0., 0., 0.],\n",
       "       [0., 0., 0.],\n",
       "       [0., 0., 0.],\n",
       "       [0., 0., 0.],\n",
       "       [0., 0., 0.],\n",
       "       [0., 0., 0.],\n",
       "       [0., 0., 0.],\n",
       "       [0., 0., 0.],\n",
       "       [0., 0., 0.],\n",
       "       [0., 0., 0.],\n",
       "       [0., 0., 0.],\n",
       "       [0., 0., 0.],\n",
       "       [0., 0., 0.],\n",
       "       [0., 0., 0.],\n",
       "       [0., 0., 0.],\n",
       "       [0., 0., 0.],\n",
       "       [0., 0., 0.],\n",
       "       [0., 0., 0.],\n",
       "       [0., 0., 0.],\n",
       "       [0., 0., 0.],\n",
       "       [0., 0., 0.],\n",
       "       [0., 0., 0.],\n",
       "       [0., 0., 0.],\n",
       "       [0., 0., 0.],\n",
       "       [0., 0., 0.],\n",
       "       [0., 0., 0.],\n",
       "       [0., 0., 0.],\n",
       "       [0., 0., 0.],\n",
       "       [0., 0., 0.],\n",
       "       [0., 0., 0.],\n",
       "       [0., 0., 0.],\n",
       "       [0., 0., 0.],\n",
       "       [0., 0., 0.],\n",
       "       [0., 0., 0.],\n",
       "       [0., 0., 0.],\n",
       "       [0., 0., 0.],\n",
       "       [0., 0., 0.],\n",
       "       [0., 0., 0.],\n",
       "       [0., 0., 0.],\n",
       "       [0., 0., 0.],\n",
       "       [0., 0., 0.],\n",
       "       [0., 0., 0.],\n",
       "       [0., 0., 0.],\n",
       "       [0., 0., 0.],\n",
       "       [0., 0., 0.],\n",
       "       [0., 0., 0.],\n",
       "       [0., 0., 0.],\n",
       "       [0., 0., 0.],\n",
       "       [0., 0., 0.],\n",
       "       [0., 0., 0.],\n",
       "       [0., 0., 0.],\n",
       "       [0., 0., 0.],\n",
       "       [0., 0., 0.],\n",
       "       [0., 0., 0.],\n",
       "       [0., 0., 0.],\n",
       "       [0., 0., 0.],\n",
       "       [0., 0., 0.],\n",
       "       [0., 0., 0.],\n",
       "       [0., 0., 0.],\n",
       "       [0., 0., 0.],\n",
       "       [0., 0., 0.],\n",
       "       [0., 0., 0.],\n",
       "       [0., 0., 0.],\n",
       "       [0., 0., 0.],\n",
       "       [0., 0., 0.],\n",
       "       [0., 0., 0.],\n",
       "       [0., 0., 0.],\n",
       "       [0., 0., 0.],\n",
       "       [0., 0., 0.],\n",
       "       [0., 0., 0.],\n",
       "       [0., 0., 0.],\n",
       "       [0., 0., 0.],\n",
       "       [0., 0., 0.],\n",
       "       [0., 0., 0.],\n",
       "       [0., 0., 0.],\n",
       "       [0., 0., 0.],\n",
       "       [0., 0., 0.],\n",
       "       [0., 0., 0.],\n",
       "       [0., 0., 0.],\n",
       "       [0., 0., 0.],\n",
       "       [0., 0., 0.],\n",
       "       [0., 0., 0.],\n",
       "       [0., 0., 0.],\n",
       "       [0., 0., 0.],\n",
       "       [0., 0., 0.],\n",
       "       [0., 0., 0.],\n",
       "       [0., 0., 0.],\n",
       "       [0., 0., 0.],\n",
       "       [0., 0., 0.],\n",
       "       [0., 0., 0.],\n",
       "       [0., 0., 0.],\n",
       "       [0., 0., 0.],\n",
       "       [0., 0., 0.],\n",
       "       [0., 0., 0.],\n",
       "       [0., 0., 0.],\n",
       "       [0., 0., 0.],\n",
       "       [0., 0., 0.],\n",
       "       [0., 0., 0.],\n",
       "       [0., 0., 0.],\n",
       "       [0., 0., 0.],\n",
       "       [0., 0., 0.],\n",
       "       [0., 0., 0.],\n",
       "       [0., 0., 0.],\n",
       "       [0., 0., 0.],\n",
       "       [0., 0., 0.],\n",
       "       [0., 0., 0.],\n",
       "       [0., 0., 0.],\n",
       "       [0., 0., 0.],\n",
       "       [0., 0., 0.],\n",
       "       [0., 0., 0.],\n",
       "       [0., 0., 0.],\n",
       "       [0., 0., 0.],\n",
       "       [0., 0., 0.],\n",
       "       [0., 0., 0.],\n",
       "       [0., 0., 0.],\n",
       "       [0., 0., 0.],\n",
       "       [0., 0., 0.],\n",
       "       [0., 0., 0.],\n",
       "       [0., 0., 0.],\n",
       "       [0., 0., 0.],\n",
       "       [0., 0., 0.],\n",
       "       [0., 0., 0.],\n",
       "       [0., 0., 0.],\n",
       "       [0., 0., 0.],\n",
       "       [0., 0., 0.],\n",
       "       [0., 0., 0.],\n",
       "       [0., 0., 0.],\n",
       "       [0., 0., 0.],\n",
       "       [0., 0., 0.],\n",
       "       [0., 0., 0.],\n",
       "       [0., 0., 0.],\n",
       "       [0., 0., 0.],\n",
       "       [0., 0., 0.],\n",
       "       [0., 0., 0.],\n",
       "       [0., 0., 0.],\n",
       "       [0., 0., 0.],\n",
       "       [0., 0., 0.],\n",
       "       [0., 0., 0.],\n",
       "       [0., 0., 0.],\n",
       "       [0., 0., 0.],\n",
       "       [0., 0., 0.],\n",
       "       [0., 0., 0.],\n",
       "       [0., 0., 0.],\n",
       "       [0., 0., 0.],\n",
       "       [0., 0., 0.],\n",
       "       [0., 0., 0.],\n",
       "       [0., 0., 0.],\n",
       "       [0., 0., 0.],\n",
       "       [0., 0., 0.],\n",
       "       [0., 0., 0.],\n",
       "       [0., 0., 0.],\n",
       "       [0., 0., 0.],\n",
       "       [0., 0., 0.],\n",
       "       [0., 0., 0.],\n",
       "       [0., 0., 0.],\n",
       "       [0., 0., 0.],\n",
       "       [0., 0., 0.],\n",
       "       [0., 0., 0.],\n",
       "       [0., 0., 0.],\n",
       "       [0., 0., 0.],\n",
       "       [0., 0., 0.],\n",
       "       [0., 0., 0.],\n",
       "       [0., 0., 0.],\n",
       "       [0., 0., 0.],\n",
       "       [0., 0., 0.],\n",
       "       [0., 0., 0.],\n",
       "       [0., 0., 0.],\n",
       "       [0., 0., 0.],\n",
       "       [0., 0., 0.],\n",
       "       [0., 0., 0.]])"
      ]
     },
     "execution_count": 20,
     "metadata": {},
     "output_type": "execute_result"
    }
   ],
   "source": [
    "data"
   ]
  },
  {
   "cell_type": "code",
   "execution_count": 21,
   "metadata": {},
   "outputs": [],
   "source": [
    "data[:100, :-1] = X1\n",
    "data[100:, :-1] = X2\n",
    "data[:100, 2] = y1"
   ]
  },
  {
   "cell_type": "code",
   "execution_count": 22,
   "metadata": {},
   "outputs": [
    {
     "data": {
      "text/plain": [
       "array([[ 0.35023218,  1.3617044 ,  1.        ],\n",
       "       [ 0.92297672,  3.48304189,  1.        ],\n",
       "       [ 1.80346275,  3.26698325,  1.        ],\n",
       "       [ 1.47081673,  1.58657654,  1.        ],\n",
       "       [ 0.74155299,  1.05964876,  1.        ],\n",
       "       [ 1.37791945,  2.57685912,  1.        ],\n",
       "       [ 1.08184678,  2.36766491,  1.        ],\n",
       "       [ 0.80760371,  1.69595276,  1.        ],\n",
       "       [ 0.58573456,  2.41236601,  1.        ],\n",
       "       [ 1.11683303,  1.06458344,  1.        ],\n",
       "       [ 0.95545318,  1.63704601,  1.        ],\n",
       "       [ 0.21125929,  2.23511073,  1.        ],\n",
       "       [ 1.27052952,  1.13528789,  1.        ],\n",
       "       [ 0.99985802,  2.0246997 ,  1.        ],\n",
       "       [ 1.93329492,  2.71150354,  1.        ],\n",
       "       [ 0.76519465,  2.5922154 ,  1.        ],\n",
       "       [ 1.5946674 ,  2.83465499,  1.        ],\n",
       "       [ 0.49088005,  2.30316289,  1.        ],\n",
       "       [ 0.38513706,  1.19990089,  1.        ],\n",
       "       [ 0.68941673,  2.37788317,  1.        ],\n",
       "       [ 1.54642682,  2.42654251,  1.        ],\n",
       "       [ 1.37964905,  0.83996983,  1.        ],\n",
       "       [ 2.46231151,  1.73186916,  1.        ],\n",
       "       [ 1.12818973,  1.91264284,  1.        ],\n",
       "       [ 1.23441082,  0.52762463,  1.        ],\n",
       "       [ 1.6311402 ,  1.2460173 ,  1.        ],\n",
       "       [ 1.7262998 ,  2.75766262,  1.        ],\n",
       "       [ 1.94721358,  2.39753464,  1.        ],\n",
       "       [ 0.55365555,  3.842681  ,  1.        ],\n",
       "       [-0.17952992,  0.51603163,  1.        ],\n",
       "       [ 0.36424645,  2.58333329,  1.        ],\n",
       "       [ 0.95779959,  1.57406552,  1.        ],\n",
       "       [ 1.96908745,  1.79502921,  1.        ],\n",
       "       [ 1.40628553,  0.81665298,  1.        ],\n",
       "       [ 1.18302061,  1.98266768,  1.        ],\n",
       "       [ 0.83583862,  3.46298629,  1.        ],\n",
       "       [ 0.77358436,  2.90631344,  1.        ],\n",
       "       [ 1.73336864,  1.16938531,  1.        ],\n",
       "       [ 1.31129855,  0.81103418,  1.        ],\n",
       "       [ 1.1398201 ,  3.12999027,  1.        ],\n",
       "       [ 1.66318056,  3.17683278,  1.        ],\n",
       "       [-0.36736483,  4.09762048,  1.        ],\n",
       "       [ 0.34664292,  2.29676535,  1.        ],\n",
       "       [ 1.3979776 ,  2.77786078,  1.        ],\n",
       "       [ 1.97981873,  3.2172558 ,  1.        ],\n",
       "       [ 1.4782505 ,  2.13947497,  1.        ],\n",
       "       [ 0.23368786,  0.63349786,  1.        ],\n",
       "       [ 1.08387525,  1.62078961,  1.        ],\n",
       "       [ 1.93844296,  3.19041405,  1.        ],\n",
       "       [ 1.32947793,  1.23464853,  1.        ],\n",
       "       [ 1.47657886,  3.96162603,  1.        ],\n",
       "       [ 1.71082958,  3.68817156,  1.        ],\n",
       "       [ 0.22024756,  1.4944127 ,  1.        ],\n",
       "       [ 0.77597692,  1.58868144,  1.        ],\n",
       "       [ 1.7238783 ,  2.38069697,  1.        ],\n",
       "       [ 0.07591733,  0.60025306,  1.        ],\n",
       "       [ 1.60864728,  4.01288317,  1.        ],\n",
       "       [ 0.55495785,  0.60110349,  1.        ],\n",
       "       [-0.36412693,  1.98257699,  1.        ],\n",
       "       [ 0.69237617,  1.01477782,  1.        ],\n",
       "       [ 0.30646635,  1.81831287,  1.        ],\n",
       "       [ 1.26086456,  2.76352388,  1.        ],\n",
       "       [ 0.9546835 ,  2.12479239,  1.        ],\n",
       "       [ 0.78693745,  3.17259549,  1.        ],\n",
       "       [ 1.22034377,  0.66110385,  1.        ],\n",
       "       [ 2.09323662,  3.0959858 ,  1.        ],\n",
       "       [ 1.32970685,  2.10503997,  1.        ],\n",
       "       [ 1.72284288,  0.7824417 ,  1.        ],\n",
       "       [ 0.35038082,  2.42141551,  1.        ],\n",
       "       [ 0.30730615,  0.89198312,  1.        ],\n",
       "       [ 1.11725564,  2.25986672,  1.        ],\n",
       "       [ 1.9643599 ,  1.89556028,  1.        ],\n",
       "       [ 0.65308605,  3.22883031,  1.        ],\n",
       "       [ 0.67319897,  2.05120015,  1.        ],\n",
       "       [ 1.44828567,  2.31552082,  1.        ],\n",
       "       [ 0.22725992,  1.12106027,  1.        ],\n",
       "       [ 2.20329632,  1.96128293,  1.        ],\n",
       "       [ 1.19080783,  2.48837155,  1.        ],\n",
       "       [ 1.57062558,  0.90444891,  1.        ],\n",
       "       [ 0.41341631,  1.98091028,  1.        ],\n",
       "       [ 0.40315989,  0.21142785,  1.        ],\n",
       "       [ 0.8052356 ,  2.86369595,  1.        ],\n",
       "       [ 0.62403271,  2.63738407,  1.        ],\n",
       "       [ 0.62495881,  2.35880962,  1.        ],\n",
       "       [ 1.33620217,  3.175814  ,  1.        ],\n",
       "       [ 1.45765136,  3.51257183,  1.        ],\n",
       "       [ 0.93290559,  1.80422103,  1.        ],\n",
       "       [ 1.07436169,  1.4216063 ,  1.        ],\n",
       "       [ 0.70434047,  1.95462637,  1.        ],\n",
       "       [ 1.61065687,  2.75314345,  1.        ],\n",
       "       [-0.08237483,  1.9616713 ,  1.        ],\n",
       "       [ 0.91723962,  1.36471978,  1.        ],\n",
       "       [ 2.09194464,  1.91211542,  1.        ],\n",
       "       [ 1.08602651,  0.63978567,  1.        ],\n",
       "       [ 0.89983804,  3.10330525,  1.        ],\n",
       "       [ 0.89704289,  2.09884211,  1.        ],\n",
       "       [ 0.78252354,  2.58496561,  1.        ],\n",
       "       [ 0.53863199,  1.13967087,  1.        ],\n",
       "       [ 0.53932063,  2.29710007,  1.        ],\n",
       "       [ 0.88090226,  1.98285977,  1.        ],\n",
       "       [ 6.84034919,  8.31107208,  0.        ],\n",
       "       [ 7.36040336, 10.05824982,  0.        ],\n",
       "       [ 6.54743148,  8.84547994,  0.        ],\n",
       "       [ 5.26973474,  5.93977247,  0.        ],\n",
       "       [ 4.71477011,  7.75263748,  0.        ],\n",
       "       [ 4.17056678,  6.57712509,  0.        ],\n",
       "       [ 7.39555858,  8.40339291,  0.        ],\n",
       "       [ 6.03446492,  8.06388111,  0.        ],\n",
       "       [ 3.14515532,  6.42220818,  0.        ],\n",
       "       [ 6.23860884,  9.3868171 ,  0.        ],\n",
       "       [ 6.05308114,  7.97975729,  0.        ],\n",
       "       [ 7.64592736,  9.50923427,  0.        ],\n",
       "       [ 7.42203286,  7.73874553,  0.        ],\n",
       "       [ 5.7326613 ,  7.91487723,  0.        ],\n",
       "       [ 6.89570296,  8.57260399,  0.        ],\n",
       "       [ 7.67258192,  6.06761543,  0.        ],\n",
       "       [ 6.06191246,  7.91759519,  0.        ],\n",
       "       [ 5.20844282,  8.46347828,  0.        ],\n",
       "       [ 7.02720665,  6.08009622,  0.        ],\n",
       "       [ 5.63030552,  7.04261335,  0.        ],\n",
       "       [ 4.83485407,  7.28604026,  0.        ],\n",
       "       [ 4.34516007,  7.84417409,  0.        ],\n",
       "       [ 5.78810831,  7.87634044,  0.        ],\n",
       "       [ 3.72606194,  6.33746431,  0.        ],\n",
       "       [ 6.16192814,  7.64839169,  0.        ],\n",
       "       [ 6.18445402,  8.04153042,  0.        ],\n",
       "       [ 8.02600533,  8.47247313,  0.        ],\n",
       "       [ 6.82126998,  7.41845495,  0.        ],\n",
       "       [ 5.99115373,  8.02336529,  0.        ],\n",
       "       [ 5.04253412,  8.9940984 ,  0.        ],\n",
       "       [ 5.29272639,  8.45997341,  0.        ],\n",
       "       [ 5.77949532,  8.14892446,  0.        ],\n",
       "       [ 6.07883518,  9.18088631,  0.        ],\n",
       "       [ 6.47606719,  8.68740578,  0.        ],\n",
       "       [ 6.54345961,  7.63038208,  0.        ],\n",
       "       [ 8.31159548,  9.77472725,  0.        ],\n",
       "       [ 6.9335477 ,  8.61071196,  0.        ],\n",
       "       [ 4.93314863,  6.85799678,  0.        ],\n",
       "       [ 6.20497115,  7.51714831,  0.        ],\n",
       "       [ 4.68987055,  7.77459609,  0.        ],\n",
       "       [ 6.65796204,  6.73497675,  0.        ],\n",
       "       [ 7.14902512, 10.57778824,  0.        ],\n",
       "       [ 6.93048301,  8.61150373,  0.        ],\n",
       "       [ 3.7180244 ,  7.65490484,  0.        ],\n",
       "       [ 6.61102226,  7.30999302,  0.        ],\n",
       "       [ 6.04019187,  8.7951967 ,  0.        ],\n",
       "       [ 5.58092853,  7.93181486,  0.        ],\n",
       "       [ 5.36305488,  8.42148853,  0.        ],\n",
       "       [ 6.75733841,  7.92689132,  0.        ],\n",
       "       [ 3.77502643,  7.14710818,  0.        ],\n",
       "       [ 6.99290299,  7.40840514,  0.        ],\n",
       "       [ 4.24097013,  5.91588185,  0.        ],\n",
       "       [ 4.94478703,  7.63246498,  0.        ],\n",
       "       [ 6.52709515,  8.71687166,  0.        ],\n",
       "       [ 6.38350996,  7.53485165,  0.        ],\n",
       "       [ 6.15413351,  7.34724023,  0.        ],\n",
       "       [ 5.31962399,  8.41290211,  0.        ],\n",
       "       [ 5.17724625,  6.4736356 ,  0.        ],\n",
       "       [ 5.17482086,  7.499143  ,  0.        ],\n",
       "       [ 6.60567214,  7.93220264,  0.        ],\n",
       "       [ 6.56323212,  8.81056219,  0.        ],\n",
       "       [ 6.04007078,  8.39452196,  0.        ],\n",
       "       [ 5.36249505,  7.14101374,  0.        ],\n",
       "       [ 5.62432277,  7.79964581,  0.        ],\n",
       "       [ 8.30802583,  8.79958017,  0.        ],\n",
       "       [ 6.33476142,  9.73858449,  0.        ],\n",
       "       [ 7.23139373,  8.8314108 ,  0.        ],\n",
       "       [ 4.73394522,  9.94061293,  0.        ],\n",
       "       [ 6.44551137,  8.21589058,  0.        ],\n",
       "       [ 6.74708769,  8.19106662,  0.        ],\n",
       "       [ 7.60596271,  9.02419953,  0.        ],\n",
       "       [ 7.09487085, 10.29511372,  0.        ],\n",
       "       [ 5.52802295,  8.32732377,  0.        ],\n",
       "       [ 5.03127742,  7.93079218,  0.        ],\n",
       "       [ 5.95165563,  6.27465484,  0.        ],\n",
       "       [ 5.39760398,  8.07128594,  0.        ],\n",
       "       [ 6.3288391 ,  7.2531557 ,  0.        ],\n",
       "       [ 5.17311584,  6.94483615,  0.        ],\n",
       "       [ 6.03595757,  9.13291587,  0.        ],\n",
       "       [ 7.00707595,  7.51139883,  0.        ],\n",
       "       [ 5.40557082,  7.80355254,  0.        ],\n",
       "       [ 4.27346101,  6.97297081,  0.        ],\n",
       "       [ 6.30769056,  8.02244765,  0.        ],\n",
       "       [ 5.61033669,  8.70314625,  0.        ],\n",
       "       [ 7.30066702,  8.62141273,  0.        ],\n",
       "       [ 6.45202905, 11.19562369,  0.        ],\n",
       "       [ 5.40564479,  8.00049931,  0.        ],\n",
       "       [ 6.61520511,  7.16455571,  0.        ],\n",
       "       [ 5.49968699,  7.6198536 ,  0.        ],\n",
       "       [ 6.14849654,  7.18163472,  0.        ],\n",
       "       [ 5.44789197,  7.29638648,  0.        ],\n",
       "       [ 5.83687538,  7.76701174,  0.        ],\n",
       "       [ 4.5957465 ,  6.71749571,  0.        ],\n",
       "       [ 6.83429292,  8.12629156,  0.        ],\n",
       "       [ 6.07824712,  8.10725074,  0.        ],\n",
       "       [ 6.08566933,  9.04333651,  0.        ],\n",
       "       [ 6.11649038,  7.5834912 ,  0.        ],\n",
       "       [ 5.66798215,  7.24819981,  0.        ],\n",
       "       [ 7.30181633,  8.52065125,  0.        ],\n",
       "       [ 4.40973927,  8.37901104,  0.        ]])"
      ]
     },
     "execution_count": 22,
     "metadata": {},
     "output_type": "execute_result"
    }
   ],
   "source": [
    "data"
   ]
  },
  {
   "cell_type": "code",
   "execution_count": 23,
   "metadata": {},
   "outputs": [
    {
     "data": {
      "text/plain": [
       "(200, 3)"
      ]
     },
     "execution_count": 23,
     "metadata": {},
     "output_type": "execute_result"
    }
   ],
   "source": [
    "data.shape"
   ]
  },
  {
   "cell_type": "code",
   "execution_count": 24,
   "metadata": {},
   "outputs": [],
   "source": [
    "np.random.shuffle(data)"
   ]
  },
  {
   "cell_type": "code",
   "execution_count": 25,
   "metadata": {},
   "outputs": [
    {
     "data": {
      "text/plain": [
       "array([[ 5.29272639,  8.45997341,  0.        ],\n",
       "       [ 6.74708769,  8.19106662,  0.        ],\n",
       "       [ 0.07591733,  0.60025306,  1.        ],\n",
       "       [ 0.91723962,  1.36471978,  1.        ],\n",
       "       [ 7.64592736,  9.50923427,  0.        ],\n",
       "       [ 6.23860884,  9.3868171 ,  0.        ],\n",
       "       [ 0.95545318,  1.63704601,  1.        ],\n",
       "       [ 6.08566933,  9.04333651,  0.        ],\n",
       "       [ 0.68941673,  2.37788317,  1.        ],\n",
       "       [ 3.77502643,  7.14710818,  0.        ],\n",
       "       [ 6.83429292,  8.12629156,  0.        ],\n",
       "       [ 1.27052952,  1.13528789,  1.        ],\n",
       "       [ 5.63030552,  7.04261335,  0.        ],\n",
       "       [ 6.65796204,  6.73497675,  0.        ],\n",
       "       [-0.36412693,  1.98257699,  1.        ],\n",
       "       [ 6.54345961,  7.63038208,  0.        ],\n",
       "       [ 5.66798215,  7.24819981,  0.        ],\n",
       "       [ 5.99115373,  8.02336529,  0.        ],\n",
       "       [ 7.14902512, 10.57778824,  0.        ],\n",
       "       [ 0.35038082,  2.42141551,  1.        ],\n",
       "       [ 0.38513706,  1.19990089,  1.        ],\n",
       "       [ 6.18445402,  8.04153042,  0.        ],\n",
       "       [ 0.77358436,  2.90631344,  1.        ],\n",
       "       [ 0.55365555,  3.842681  ,  1.        ],\n",
       "       [ 1.11725564,  2.25986672,  1.        ],\n",
       "       [ 5.44789197,  7.29638648,  0.        ],\n",
       "       [ 0.36424645,  2.58333329,  1.        ],\n",
       "       [ 4.5957465 ,  6.71749571,  0.        ],\n",
       "       [ 6.07883518,  9.18088631,  0.        ],\n",
       "       [ 0.93290559,  1.80422103,  1.        ],\n",
       "       [ 1.7262998 ,  2.75766262,  1.        ],\n",
       "       [ 0.76519465,  2.5922154 ,  1.        ],\n",
       "       [ 5.31962399,  8.41290211,  0.        ],\n",
       "       [ 1.33620217,  3.175814  ,  1.        ],\n",
       "       [ 7.67258192,  6.06761543,  0.        ],\n",
       "       [ 5.61033669,  8.70314625,  0.        ],\n",
       "       [ 1.37964905,  0.83996983,  1.        ],\n",
       "       [ 3.72606194,  6.33746431,  0.        ],\n",
       "       [ 6.61520511,  7.16455571,  0.        ],\n",
       "       [ 0.35023218,  1.3617044 ,  1.        ],\n",
       "       [ 1.54642682,  2.42654251,  1.        ],\n",
       "       [ 1.3979776 ,  2.77786078,  1.        ],\n",
       "       [ 1.72284288,  0.7824417 ,  1.        ],\n",
       "       [ 5.17482086,  7.499143  ,  0.        ],\n",
       "       [ 5.17311584,  6.94483615,  0.        ],\n",
       "       [ 0.40315989,  0.21142785,  1.        ],\n",
       "       [ 7.02720665,  6.08009622,  0.        ],\n",
       "       [ 0.49088005,  2.30316289,  1.        ],\n",
       "       [ 6.89570296,  8.57260399,  0.        ],\n",
       "       [ 1.94721358,  2.39753464,  1.        ],\n",
       "       [ 5.78810831,  7.87634044,  0.        ],\n",
       "       [ 5.36249505,  7.14101374,  0.        ],\n",
       "       [ 1.26086456,  2.76352388,  1.        ],\n",
       "       [ 0.9546835 ,  2.12479239,  1.        ],\n",
       "       [-0.08237483,  1.9616713 ,  1.        ],\n",
       "       [ 1.93329492,  2.71150354,  1.        ],\n",
       "       [ 7.60596271,  9.02419953,  0.        ],\n",
       "       [ 4.17056678,  6.57712509,  0.        ],\n",
       "       [ 2.20329632,  1.96128293,  1.        ],\n",
       "       [ 1.32970685,  2.10503997,  1.        ],\n",
       "       [ 1.57062558,  0.90444891,  1.        ],\n",
       "       [ 6.20497115,  7.51714831,  0.        ],\n",
       "       [ 1.5946674 ,  2.83465499,  1.        ],\n",
       "       [ 6.56323212,  8.81056219,  0.        ],\n",
       "       [ 2.46231151,  1.73186916,  1.        ],\n",
       "       [ 0.55495785,  0.60110349,  1.        ],\n",
       "       [ 5.04253412,  8.9940984 ,  0.        ],\n",
       "       [ 0.80760371,  1.69595276,  1.        ],\n",
       "       [ 6.03595757,  9.13291587,  0.        ],\n",
       "       [ 6.54743148,  8.84547994,  0.        ],\n",
       "       [ 5.62432277,  7.79964581,  0.        ],\n",
       "       [ 0.77597692,  1.58868144,  1.        ],\n",
       "       [ 0.99985802,  2.0246997 ,  1.        ],\n",
       "       [ 1.4782505 ,  2.13947497,  1.        ],\n",
       "       [ 3.14515532,  6.42220818,  0.        ],\n",
       "       [ 1.47081673,  1.58657654,  1.        ],\n",
       "       [ 0.67319897,  2.05120015,  1.        ],\n",
       "       [ 1.66318056,  3.17683278,  1.        ],\n",
       "       [ 5.40564479,  8.00049931,  0.        ],\n",
       "       [ 6.75733841,  7.92689132,  0.        ],\n",
       "       [ 6.11649038,  7.5834912 ,  0.        ],\n",
       "       [ 3.7180244 ,  7.65490484,  0.        ],\n",
       "       [ 1.08602651,  0.63978567,  1.        ],\n",
       "       [ 6.61102226,  7.30999302,  0.        ],\n",
       "       [ 0.88090226,  1.98285977,  1.        ],\n",
       "       [ 1.93844296,  3.19041405,  1.        ],\n",
       "       [ 0.95779959,  1.57406552,  1.        ],\n",
       "       [ 7.09487085, 10.29511372,  0.        ],\n",
       "       [ 5.52802295,  8.32732377,  0.        ],\n",
       "       [-0.17952992,  0.51603163,  1.        ],\n",
       "       [ 6.33476142,  9.73858449,  0.        ],\n",
       "       [ 6.04007078,  8.39452196,  0.        ],\n",
       "       [ 0.62495881,  2.35880962,  1.        ],\n",
       "       [ 0.70434047,  1.95462637,  1.        ],\n",
       "       [ 6.3288391 ,  7.2531557 ,  0.        ],\n",
       "       [ 6.99290299,  7.40840514,  0.        ],\n",
       "       [ 1.11683303,  1.06458344,  1.        ],\n",
       "       [ 5.58092853,  7.93181486,  0.        ],\n",
       "       [ 0.89983804,  3.10330525,  1.        ],\n",
       "       [ 4.40973927,  8.37901104,  0.        ],\n",
       "       [ 1.71082958,  3.68817156,  1.        ],\n",
       "       [ 0.21125929,  2.23511073,  1.        ],\n",
       "       [ 7.23139373,  8.8314108 ,  0.        ],\n",
       "       [ 5.49968699,  7.6198536 ,  0.        ],\n",
       "       [ 6.38350996,  7.53485165,  0.        ],\n",
       "       [ 2.09323662,  3.0959858 ,  1.        ],\n",
       "       [ 4.83485407,  7.28604026,  0.        ],\n",
       "       [ 7.30066702,  8.62141273,  0.        ],\n",
       "       [ 6.44551137,  8.21589058,  0.        ],\n",
       "       [ 0.41341631,  1.98091028,  1.        ],\n",
       "       [ 0.34664292,  2.29676535,  1.        ],\n",
       "       [ 5.77949532,  8.14892446,  0.        ],\n",
       "       [ 1.7238783 ,  2.38069697,  1.        ],\n",
       "       [ 4.93314863,  6.85799678,  0.        ],\n",
       "       [ 5.17724625,  6.4736356 ,  0.        ],\n",
       "       [ 0.8052356 ,  2.86369595,  1.        ],\n",
       "       [ 0.62403271,  2.63738407,  1.        ],\n",
       "       [ 5.03127742,  7.93079218,  0.        ],\n",
       "       [ 1.45765136,  3.51257183,  1.        ],\n",
       "       [ 6.06191246,  7.91759519,  0.        ],\n",
       "       [ 6.93048301,  8.61150373,  0.        ],\n",
       "       [ 1.9643599 ,  1.89556028,  1.        ],\n",
       "       [ 8.30802583,  8.79958017,  0.        ],\n",
       "       [ 1.08184678,  2.36766491,  1.        ],\n",
       "       [ 1.07436169,  1.4216063 ,  1.        ],\n",
       "       [ 0.22024756,  1.4944127 ,  1.        ],\n",
       "       [ 0.53863199,  1.13967087,  1.        ],\n",
       "       [ 6.05308114,  7.97975729,  0.        ],\n",
       "       [ 6.14849654,  7.18163472,  0.        ],\n",
       "       [ 0.30646635,  1.81831287,  1.        ],\n",
       "       [ 0.53932063,  2.29710007,  1.        ],\n",
       "       [ 6.45202905, 11.19562369,  0.        ],\n",
       "       [ 0.22725992,  1.12106027,  1.        ],\n",
       "       [ 6.07824712,  8.10725074,  0.        ],\n",
       "       [ 0.58573456,  2.41236601,  1.        ],\n",
       "       [ 1.19080783,  2.48837155,  1.        ],\n",
       "       [ 0.78693745,  3.17259549,  1.        ],\n",
       "       [ 0.83583862,  3.46298629,  1.        ],\n",
       "       [ 4.27346101,  6.97297081,  0.        ],\n",
       "       [ 4.34516007,  7.84417409,  0.        ],\n",
       "       [ 0.69237617,  1.01477782,  1.        ],\n",
       "       [ 7.30181633,  8.52065125,  0.        ],\n",
       "       [ 5.20844282,  8.46347828,  0.        ],\n",
       "       [ 6.47606719,  8.68740578,  0.        ],\n",
       "       [ 0.30730615,  0.89198312,  1.        ],\n",
       "       [ 1.31129855,  0.81103418,  1.        ],\n",
       "       [ 0.78252354,  2.58496561,  1.        ],\n",
       "       [ 6.15413351,  7.34724023,  0.        ],\n",
       "       [ 5.95165563,  6.27465484,  0.        ],\n",
       "       [ 7.39555858,  8.40339291,  0.        ],\n",
       "       [ 1.23441082,  0.52762463,  1.        ],\n",
       "       [ 1.47657886,  3.96162603,  1.        ],\n",
       "       [ 7.42203286,  7.73874553,  0.        ],\n",
       "       [ 1.32947793,  1.23464853,  1.        ],\n",
       "       [ 1.6311402 ,  1.2460173 ,  1.        ],\n",
       "       [ 4.71477011,  7.75263748,  0.        ],\n",
       "       [ 5.36305488,  8.42148853,  0.        ],\n",
       "       [ 8.31159548,  9.77472725,  0.        ],\n",
       "       [ 1.40628553,  0.81665298,  1.        ],\n",
       "       [ 4.68987055,  7.77459609,  0.        ],\n",
       "       [ 6.52709515,  8.71687166,  0.        ],\n",
       "       [ 0.74155299,  1.05964876,  1.        ],\n",
       "       [ 1.61065687,  2.75314345,  1.        ],\n",
       "       [ 8.02600533,  8.47247313,  0.        ],\n",
       "       [ 0.65308605,  3.22883031,  1.        ],\n",
       "       [ 5.7326613 ,  7.91487723,  0.        ],\n",
       "       [ 6.16192814,  7.64839169,  0.        ],\n",
       "       [ 0.89704289,  2.09884211,  1.        ],\n",
       "       [ 2.09194464,  1.91211542,  1.        ],\n",
       "       [ 6.04019187,  8.7951967 ,  0.        ],\n",
       "       [ 1.18302061,  1.98266768,  1.        ],\n",
       "       [ 1.37791945,  2.57685912,  1.        ],\n",
       "       [ 1.12818973,  1.91264284,  1.        ],\n",
       "       [-0.36736483,  4.09762048,  1.        ],\n",
       "       [ 1.08387525,  1.62078961,  1.        ],\n",
       "       [ 1.73336864,  1.16938531,  1.        ],\n",
       "       [ 6.03446492,  8.06388111,  0.        ],\n",
       "       [ 7.00707595,  7.51139883,  0.        ],\n",
       "       [ 1.60864728,  4.01288317,  1.        ],\n",
       "       [ 1.44828567,  2.31552082,  1.        ],\n",
       "       [ 4.73394522,  9.94061293,  0.        ],\n",
       "       [ 1.22034377,  0.66110385,  1.        ],\n",
       "       [ 1.96908745,  1.79502921,  1.        ],\n",
       "       [ 6.60567214,  7.93220264,  0.        ],\n",
       "       [ 6.30769056,  8.02244765,  0.        ],\n",
       "       [ 6.9335477 ,  8.61071196,  0.        ],\n",
       "       [ 5.39760398,  8.07128594,  0.        ],\n",
       "       [ 5.26973474,  5.93977247,  0.        ],\n",
       "       [ 1.1398201 ,  3.12999027,  1.        ],\n",
       "       [ 5.40557082,  7.80355254,  0.        ],\n",
       "       [ 0.23368786,  0.63349786,  1.        ],\n",
       "       [ 1.97981873,  3.2172558 ,  1.        ],\n",
       "       [ 0.92297672,  3.48304189,  1.        ],\n",
       "       [ 4.24097013,  5.91588185,  0.        ],\n",
       "       [ 1.80346275,  3.26698325,  1.        ],\n",
       "       [ 6.84034919,  8.31107208,  0.        ],\n",
       "       [ 5.83687538,  7.76701174,  0.        ],\n",
       "       [ 4.94478703,  7.63246498,  0.        ],\n",
       "       [ 7.36040336, 10.05824982,  0.        ],\n",
       "       [ 6.82126998,  7.41845495,  0.        ]])"
      ]
     },
     "execution_count": 25,
     "metadata": {},
     "output_type": "execute_result"
    }
   ],
   "source": [
    "data"
   ]
  },
  {
   "cell_type": "code",
   "execution_count": 26,
   "metadata": {},
   "outputs": [],
   "source": [
    "X = data[:,:-1]\n",
    "Y = data[:,-1]"
   ]
  },
  {
   "cell_type": "code",
   "execution_count": 27,
   "metadata": {},
   "outputs": [
    {
     "data": {
      "text/plain": [
       "array([[ 5.29272639,  8.45997341],\n",
       "       [ 6.74708769,  8.19106662],\n",
       "       [ 0.07591733,  0.60025306],\n",
       "       [ 0.91723962,  1.36471978],\n",
       "       [ 7.64592736,  9.50923427],\n",
       "       [ 6.23860884,  9.3868171 ],\n",
       "       [ 0.95545318,  1.63704601],\n",
       "       [ 6.08566933,  9.04333651],\n",
       "       [ 0.68941673,  2.37788317],\n",
       "       [ 3.77502643,  7.14710818],\n",
       "       [ 6.83429292,  8.12629156],\n",
       "       [ 1.27052952,  1.13528789],\n",
       "       [ 5.63030552,  7.04261335],\n",
       "       [ 6.65796204,  6.73497675],\n",
       "       [-0.36412693,  1.98257699],\n",
       "       [ 6.54345961,  7.63038208],\n",
       "       [ 5.66798215,  7.24819981],\n",
       "       [ 5.99115373,  8.02336529],\n",
       "       [ 7.14902512, 10.57778824],\n",
       "       [ 0.35038082,  2.42141551],\n",
       "       [ 0.38513706,  1.19990089],\n",
       "       [ 6.18445402,  8.04153042],\n",
       "       [ 0.77358436,  2.90631344],\n",
       "       [ 0.55365555,  3.842681  ],\n",
       "       [ 1.11725564,  2.25986672],\n",
       "       [ 5.44789197,  7.29638648],\n",
       "       [ 0.36424645,  2.58333329],\n",
       "       [ 4.5957465 ,  6.71749571],\n",
       "       [ 6.07883518,  9.18088631],\n",
       "       [ 0.93290559,  1.80422103],\n",
       "       [ 1.7262998 ,  2.75766262],\n",
       "       [ 0.76519465,  2.5922154 ],\n",
       "       [ 5.31962399,  8.41290211],\n",
       "       [ 1.33620217,  3.175814  ],\n",
       "       [ 7.67258192,  6.06761543],\n",
       "       [ 5.61033669,  8.70314625],\n",
       "       [ 1.37964905,  0.83996983],\n",
       "       [ 3.72606194,  6.33746431],\n",
       "       [ 6.61520511,  7.16455571],\n",
       "       [ 0.35023218,  1.3617044 ],\n",
       "       [ 1.54642682,  2.42654251],\n",
       "       [ 1.3979776 ,  2.77786078],\n",
       "       [ 1.72284288,  0.7824417 ],\n",
       "       [ 5.17482086,  7.499143  ],\n",
       "       [ 5.17311584,  6.94483615],\n",
       "       [ 0.40315989,  0.21142785],\n",
       "       [ 7.02720665,  6.08009622],\n",
       "       [ 0.49088005,  2.30316289],\n",
       "       [ 6.89570296,  8.57260399],\n",
       "       [ 1.94721358,  2.39753464],\n",
       "       [ 5.78810831,  7.87634044],\n",
       "       [ 5.36249505,  7.14101374],\n",
       "       [ 1.26086456,  2.76352388],\n",
       "       [ 0.9546835 ,  2.12479239],\n",
       "       [-0.08237483,  1.9616713 ],\n",
       "       [ 1.93329492,  2.71150354],\n",
       "       [ 7.60596271,  9.02419953],\n",
       "       [ 4.17056678,  6.57712509],\n",
       "       [ 2.20329632,  1.96128293],\n",
       "       [ 1.32970685,  2.10503997],\n",
       "       [ 1.57062558,  0.90444891],\n",
       "       [ 6.20497115,  7.51714831],\n",
       "       [ 1.5946674 ,  2.83465499],\n",
       "       [ 6.56323212,  8.81056219],\n",
       "       [ 2.46231151,  1.73186916],\n",
       "       [ 0.55495785,  0.60110349],\n",
       "       [ 5.04253412,  8.9940984 ],\n",
       "       [ 0.80760371,  1.69595276],\n",
       "       [ 6.03595757,  9.13291587],\n",
       "       [ 6.54743148,  8.84547994],\n",
       "       [ 5.62432277,  7.79964581],\n",
       "       [ 0.77597692,  1.58868144],\n",
       "       [ 0.99985802,  2.0246997 ],\n",
       "       [ 1.4782505 ,  2.13947497],\n",
       "       [ 3.14515532,  6.42220818],\n",
       "       [ 1.47081673,  1.58657654],\n",
       "       [ 0.67319897,  2.05120015],\n",
       "       [ 1.66318056,  3.17683278],\n",
       "       [ 5.40564479,  8.00049931],\n",
       "       [ 6.75733841,  7.92689132],\n",
       "       [ 6.11649038,  7.5834912 ],\n",
       "       [ 3.7180244 ,  7.65490484],\n",
       "       [ 1.08602651,  0.63978567],\n",
       "       [ 6.61102226,  7.30999302],\n",
       "       [ 0.88090226,  1.98285977],\n",
       "       [ 1.93844296,  3.19041405],\n",
       "       [ 0.95779959,  1.57406552],\n",
       "       [ 7.09487085, 10.29511372],\n",
       "       [ 5.52802295,  8.32732377],\n",
       "       [-0.17952992,  0.51603163],\n",
       "       [ 6.33476142,  9.73858449],\n",
       "       [ 6.04007078,  8.39452196],\n",
       "       [ 0.62495881,  2.35880962],\n",
       "       [ 0.70434047,  1.95462637],\n",
       "       [ 6.3288391 ,  7.2531557 ],\n",
       "       [ 6.99290299,  7.40840514],\n",
       "       [ 1.11683303,  1.06458344],\n",
       "       [ 5.58092853,  7.93181486],\n",
       "       [ 0.89983804,  3.10330525],\n",
       "       [ 4.40973927,  8.37901104],\n",
       "       [ 1.71082958,  3.68817156],\n",
       "       [ 0.21125929,  2.23511073],\n",
       "       [ 7.23139373,  8.8314108 ],\n",
       "       [ 5.49968699,  7.6198536 ],\n",
       "       [ 6.38350996,  7.53485165],\n",
       "       [ 2.09323662,  3.0959858 ],\n",
       "       [ 4.83485407,  7.28604026],\n",
       "       [ 7.30066702,  8.62141273],\n",
       "       [ 6.44551137,  8.21589058],\n",
       "       [ 0.41341631,  1.98091028],\n",
       "       [ 0.34664292,  2.29676535],\n",
       "       [ 5.77949532,  8.14892446],\n",
       "       [ 1.7238783 ,  2.38069697],\n",
       "       [ 4.93314863,  6.85799678],\n",
       "       [ 5.17724625,  6.4736356 ],\n",
       "       [ 0.8052356 ,  2.86369595],\n",
       "       [ 0.62403271,  2.63738407],\n",
       "       [ 5.03127742,  7.93079218],\n",
       "       [ 1.45765136,  3.51257183],\n",
       "       [ 6.06191246,  7.91759519],\n",
       "       [ 6.93048301,  8.61150373],\n",
       "       [ 1.9643599 ,  1.89556028],\n",
       "       [ 8.30802583,  8.79958017],\n",
       "       [ 1.08184678,  2.36766491],\n",
       "       [ 1.07436169,  1.4216063 ],\n",
       "       [ 0.22024756,  1.4944127 ],\n",
       "       [ 0.53863199,  1.13967087],\n",
       "       [ 6.05308114,  7.97975729],\n",
       "       [ 6.14849654,  7.18163472],\n",
       "       [ 0.30646635,  1.81831287],\n",
       "       [ 0.53932063,  2.29710007],\n",
       "       [ 6.45202905, 11.19562369],\n",
       "       [ 0.22725992,  1.12106027],\n",
       "       [ 6.07824712,  8.10725074],\n",
       "       [ 0.58573456,  2.41236601],\n",
       "       [ 1.19080783,  2.48837155],\n",
       "       [ 0.78693745,  3.17259549],\n",
       "       [ 0.83583862,  3.46298629],\n",
       "       [ 4.27346101,  6.97297081],\n",
       "       [ 4.34516007,  7.84417409],\n",
       "       [ 0.69237617,  1.01477782],\n",
       "       [ 7.30181633,  8.52065125],\n",
       "       [ 5.20844282,  8.46347828],\n",
       "       [ 6.47606719,  8.68740578],\n",
       "       [ 0.30730615,  0.89198312],\n",
       "       [ 1.31129855,  0.81103418],\n",
       "       [ 0.78252354,  2.58496561],\n",
       "       [ 6.15413351,  7.34724023],\n",
       "       [ 5.95165563,  6.27465484],\n",
       "       [ 7.39555858,  8.40339291],\n",
       "       [ 1.23441082,  0.52762463],\n",
       "       [ 1.47657886,  3.96162603],\n",
       "       [ 7.42203286,  7.73874553],\n",
       "       [ 1.32947793,  1.23464853],\n",
       "       [ 1.6311402 ,  1.2460173 ],\n",
       "       [ 4.71477011,  7.75263748],\n",
       "       [ 5.36305488,  8.42148853],\n",
       "       [ 8.31159548,  9.77472725],\n",
       "       [ 1.40628553,  0.81665298],\n",
       "       [ 4.68987055,  7.77459609],\n",
       "       [ 6.52709515,  8.71687166],\n",
       "       [ 0.74155299,  1.05964876],\n",
       "       [ 1.61065687,  2.75314345],\n",
       "       [ 8.02600533,  8.47247313],\n",
       "       [ 0.65308605,  3.22883031],\n",
       "       [ 5.7326613 ,  7.91487723],\n",
       "       [ 6.16192814,  7.64839169],\n",
       "       [ 0.89704289,  2.09884211],\n",
       "       [ 2.09194464,  1.91211542],\n",
       "       [ 6.04019187,  8.7951967 ],\n",
       "       [ 1.18302061,  1.98266768],\n",
       "       [ 1.37791945,  2.57685912],\n",
       "       [ 1.12818973,  1.91264284],\n",
       "       [-0.36736483,  4.09762048],\n",
       "       [ 1.08387525,  1.62078961],\n",
       "       [ 1.73336864,  1.16938531],\n",
       "       [ 6.03446492,  8.06388111],\n",
       "       [ 7.00707595,  7.51139883],\n",
       "       [ 1.60864728,  4.01288317],\n",
       "       [ 1.44828567,  2.31552082],\n",
       "       [ 4.73394522,  9.94061293],\n",
       "       [ 1.22034377,  0.66110385],\n",
       "       [ 1.96908745,  1.79502921],\n",
       "       [ 6.60567214,  7.93220264],\n",
       "       [ 6.30769056,  8.02244765],\n",
       "       [ 6.9335477 ,  8.61071196],\n",
       "       [ 5.39760398,  8.07128594],\n",
       "       [ 5.26973474,  5.93977247],\n",
       "       [ 1.1398201 ,  3.12999027],\n",
       "       [ 5.40557082,  7.80355254],\n",
       "       [ 0.23368786,  0.63349786],\n",
       "       [ 1.97981873,  3.2172558 ],\n",
       "       [ 0.92297672,  3.48304189],\n",
       "       [ 4.24097013,  5.91588185],\n",
       "       [ 1.80346275,  3.26698325],\n",
       "       [ 6.84034919,  8.31107208],\n",
       "       [ 5.83687538,  7.76701174],\n",
       "       [ 4.94478703,  7.63246498],\n",
       "       [ 7.36040336, 10.05824982],\n",
       "       [ 6.82126998,  7.41845495]])"
      ]
     },
     "execution_count": 27,
     "metadata": {},
     "output_type": "execute_result"
    }
   ],
   "source": [
    "X"
   ]
  },
  {
   "cell_type": "code",
   "execution_count": 28,
   "metadata": {},
   "outputs": [
    {
     "data": {
      "text/plain": [
       "(200, 2)"
      ]
     },
     "execution_count": 28,
     "metadata": {},
     "output_type": "execute_result"
    }
   ],
   "source": [
    "X.shape"
   ]
  },
  {
   "cell_type": "code",
   "execution_count": 29,
   "metadata": {},
   "outputs": [
    {
     "data": {
      "text/plain": [
       "array([0., 0., 1., 1., 0., 0., 1., 0., 1., 0., 0., 1., 0., 0., 1., 0., 0.,\n",
       "       0., 0., 1., 1., 0., 1., 1., 1., 0., 1., 0., 0., 1., 1., 1., 0., 1.,\n",
       "       0., 0., 1., 0., 0., 1., 1., 1., 1., 0., 0., 1., 0., 1., 0., 1., 0.,\n",
       "       0., 1., 1., 1., 1., 0., 0., 1., 1., 1., 0., 1., 0., 1., 1., 0., 1.,\n",
       "       0., 0., 0., 1., 1., 1., 0., 1., 1., 1., 0., 0., 0., 0., 1., 0., 1.,\n",
       "       1., 1., 0., 0., 1., 0., 0., 1., 1., 0., 0., 1., 0., 1., 0., 1., 1.,\n",
       "       0., 0., 0., 1., 0., 0., 0., 1., 1., 0., 1., 0., 0., 1., 1., 0., 1.,\n",
       "       0., 0., 1., 0., 1., 1., 1., 1., 0., 0., 1., 1., 0., 1., 0., 1., 1.,\n",
       "       1., 1., 0., 0., 1., 0., 0., 0., 1., 1., 1., 0., 0., 0., 1., 1., 0.,\n",
       "       1., 1., 0., 0., 0., 1., 0., 0., 1., 1., 0., 1., 0., 0., 1., 1., 0.,\n",
       "       1., 1., 1., 1., 1., 1., 0., 0., 1., 1., 0., 1., 1., 0., 0., 0., 0.,\n",
       "       0., 1., 0., 1., 1., 1., 0., 1., 0., 0., 0., 0., 0.])"
      ]
     },
     "execution_count": 29,
     "metadata": {},
     "output_type": "execute_result"
    }
   ],
   "source": [
    "Y"
   ]
  },
  {
   "cell_type": "code",
   "execution_count": 30,
   "metadata": {},
   "outputs": [
    {
     "data": {
      "text/plain": [
       "(200,)"
      ]
     },
     "execution_count": 30,
     "metadata": {},
     "output_type": "execute_result"
    }
   ],
   "source": [
    "Y.shape"
   ]
  },
  {
   "cell_type": "code",
   "execution_count": 31,
   "metadata": {},
   "outputs": [
    {
     "data": {
      "text/plain": [
       "((200, 2), (200,))"
      ]
     },
     "execution_count": 31,
     "metadata": {},
     "output_type": "execute_result"
    }
   ],
   "source": [
    "X.shape, Y.shape"
   ]
  },
  {
   "cell_type": "code",
   "execution_count": 192,
   "metadata": {},
   "outputs": [
    {
     "data": {
      "text/plain": [
       "array([[1.44937611, 2.74551131, 1.        ],\n",
       "       [5.09657487, 6.74545889, 0.        ],\n",
       "       [6.38209561, 8.87258627, 0.        ],\n",
       "       [5.01423238, 6.39315731, 0.        ],\n",
       "       [5.50060271, 8.90163505, 0.        ]])"
      ]
     },
     "execution_count": 192,
     "metadata": {},
     "output_type": "execute_result"
    }
   ],
   "source": [
    "data[:5]"
   ]
  },
  {
   "cell_type": "markdown",
   "metadata": {},
   "source": [
    "<h4> Logistic Regression </h4>"
   ]
  },
  {
   "cell_type": "code",
   "execution_count": 32,
   "metadata": {},
   "outputs": [],
   "source": [
    "def Sigmoid(z):\n",
    "    return 1 / (1 + np.exp(-z))"
   ]
  },
  {
   "cell_type": "code",
   "execution_count": 35,
   "metadata": {},
   "outputs": [],
   "source": [
    "def Hypothesis(X, theta):\n",
    "    return Sigmoid(X.dot(theta))"
   ]
  },
  {
   "cell_type": "code",
   "execution_count": 33,
   "metadata": {},
   "outputs": [
    {
     "data": {
      "text/plain": [
       "array([[ 5.29272639,  8.45997341],\n",
       "       [ 6.74708769,  8.19106662],\n",
       "       [ 0.07591733,  0.60025306],\n",
       "       [ 0.91723962,  1.36471978],\n",
       "       [ 7.64592736,  9.50923427],\n",
       "       [ 6.23860884,  9.3868171 ],\n",
       "       [ 0.95545318,  1.63704601],\n",
       "       [ 6.08566933,  9.04333651],\n",
       "       [ 0.68941673,  2.37788317],\n",
       "       [ 3.77502643,  7.14710818],\n",
       "       [ 6.83429292,  8.12629156],\n",
       "       [ 1.27052952,  1.13528789],\n",
       "       [ 5.63030552,  7.04261335],\n",
       "       [ 6.65796204,  6.73497675],\n",
       "       [-0.36412693,  1.98257699],\n",
       "       [ 6.54345961,  7.63038208],\n",
       "       [ 5.66798215,  7.24819981],\n",
       "       [ 5.99115373,  8.02336529],\n",
       "       [ 7.14902512, 10.57778824],\n",
       "       [ 0.35038082,  2.42141551],\n",
       "       [ 0.38513706,  1.19990089],\n",
       "       [ 6.18445402,  8.04153042],\n",
       "       [ 0.77358436,  2.90631344],\n",
       "       [ 0.55365555,  3.842681  ],\n",
       "       [ 1.11725564,  2.25986672],\n",
       "       [ 5.44789197,  7.29638648],\n",
       "       [ 0.36424645,  2.58333329],\n",
       "       [ 4.5957465 ,  6.71749571],\n",
       "       [ 6.07883518,  9.18088631],\n",
       "       [ 0.93290559,  1.80422103],\n",
       "       [ 1.7262998 ,  2.75766262],\n",
       "       [ 0.76519465,  2.5922154 ],\n",
       "       [ 5.31962399,  8.41290211],\n",
       "       [ 1.33620217,  3.175814  ],\n",
       "       [ 7.67258192,  6.06761543],\n",
       "       [ 5.61033669,  8.70314625],\n",
       "       [ 1.37964905,  0.83996983],\n",
       "       [ 3.72606194,  6.33746431],\n",
       "       [ 6.61520511,  7.16455571],\n",
       "       [ 0.35023218,  1.3617044 ],\n",
       "       [ 1.54642682,  2.42654251],\n",
       "       [ 1.3979776 ,  2.77786078],\n",
       "       [ 1.72284288,  0.7824417 ],\n",
       "       [ 5.17482086,  7.499143  ],\n",
       "       [ 5.17311584,  6.94483615],\n",
       "       [ 0.40315989,  0.21142785],\n",
       "       [ 7.02720665,  6.08009622],\n",
       "       [ 0.49088005,  2.30316289],\n",
       "       [ 6.89570296,  8.57260399],\n",
       "       [ 1.94721358,  2.39753464],\n",
       "       [ 5.78810831,  7.87634044],\n",
       "       [ 5.36249505,  7.14101374],\n",
       "       [ 1.26086456,  2.76352388],\n",
       "       [ 0.9546835 ,  2.12479239],\n",
       "       [-0.08237483,  1.9616713 ],\n",
       "       [ 1.93329492,  2.71150354],\n",
       "       [ 7.60596271,  9.02419953],\n",
       "       [ 4.17056678,  6.57712509],\n",
       "       [ 2.20329632,  1.96128293],\n",
       "       [ 1.32970685,  2.10503997],\n",
       "       [ 1.57062558,  0.90444891],\n",
       "       [ 6.20497115,  7.51714831],\n",
       "       [ 1.5946674 ,  2.83465499],\n",
       "       [ 6.56323212,  8.81056219],\n",
       "       [ 2.46231151,  1.73186916],\n",
       "       [ 0.55495785,  0.60110349],\n",
       "       [ 5.04253412,  8.9940984 ],\n",
       "       [ 0.80760371,  1.69595276],\n",
       "       [ 6.03595757,  9.13291587],\n",
       "       [ 6.54743148,  8.84547994],\n",
       "       [ 5.62432277,  7.79964581],\n",
       "       [ 0.77597692,  1.58868144],\n",
       "       [ 0.99985802,  2.0246997 ],\n",
       "       [ 1.4782505 ,  2.13947497],\n",
       "       [ 3.14515532,  6.42220818],\n",
       "       [ 1.47081673,  1.58657654],\n",
       "       [ 0.67319897,  2.05120015],\n",
       "       [ 1.66318056,  3.17683278],\n",
       "       [ 5.40564479,  8.00049931],\n",
       "       [ 6.75733841,  7.92689132],\n",
       "       [ 6.11649038,  7.5834912 ],\n",
       "       [ 3.7180244 ,  7.65490484],\n",
       "       [ 1.08602651,  0.63978567],\n",
       "       [ 6.61102226,  7.30999302],\n",
       "       [ 0.88090226,  1.98285977],\n",
       "       [ 1.93844296,  3.19041405],\n",
       "       [ 0.95779959,  1.57406552],\n",
       "       [ 7.09487085, 10.29511372],\n",
       "       [ 5.52802295,  8.32732377],\n",
       "       [-0.17952992,  0.51603163],\n",
       "       [ 6.33476142,  9.73858449],\n",
       "       [ 6.04007078,  8.39452196],\n",
       "       [ 0.62495881,  2.35880962],\n",
       "       [ 0.70434047,  1.95462637],\n",
       "       [ 6.3288391 ,  7.2531557 ],\n",
       "       [ 6.99290299,  7.40840514],\n",
       "       [ 1.11683303,  1.06458344],\n",
       "       [ 5.58092853,  7.93181486],\n",
       "       [ 0.89983804,  3.10330525],\n",
       "       [ 4.40973927,  8.37901104],\n",
       "       [ 1.71082958,  3.68817156],\n",
       "       [ 0.21125929,  2.23511073],\n",
       "       [ 7.23139373,  8.8314108 ],\n",
       "       [ 5.49968699,  7.6198536 ],\n",
       "       [ 6.38350996,  7.53485165],\n",
       "       [ 2.09323662,  3.0959858 ],\n",
       "       [ 4.83485407,  7.28604026],\n",
       "       [ 7.30066702,  8.62141273],\n",
       "       [ 6.44551137,  8.21589058],\n",
       "       [ 0.41341631,  1.98091028],\n",
       "       [ 0.34664292,  2.29676535],\n",
       "       [ 5.77949532,  8.14892446],\n",
       "       [ 1.7238783 ,  2.38069697],\n",
       "       [ 4.93314863,  6.85799678],\n",
       "       [ 5.17724625,  6.4736356 ],\n",
       "       [ 0.8052356 ,  2.86369595],\n",
       "       [ 0.62403271,  2.63738407],\n",
       "       [ 5.03127742,  7.93079218],\n",
       "       [ 1.45765136,  3.51257183],\n",
       "       [ 6.06191246,  7.91759519],\n",
       "       [ 6.93048301,  8.61150373],\n",
       "       [ 1.9643599 ,  1.89556028],\n",
       "       [ 8.30802583,  8.79958017],\n",
       "       [ 1.08184678,  2.36766491],\n",
       "       [ 1.07436169,  1.4216063 ],\n",
       "       [ 0.22024756,  1.4944127 ],\n",
       "       [ 0.53863199,  1.13967087],\n",
       "       [ 6.05308114,  7.97975729],\n",
       "       [ 6.14849654,  7.18163472],\n",
       "       [ 0.30646635,  1.81831287],\n",
       "       [ 0.53932063,  2.29710007],\n",
       "       [ 6.45202905, 11.19562369],\n",
       "       [ 0.22725992,  1.12106027],\n",
       "       [ 6.07824712,  8.10725074],\n",
       "       [ 0.58573456,  2.41236601],\n",
       "       [ 1.19080783,  2.48837155],\n",
       "       [ 0.78693745,  3.17259549],\n",
       "       [ 0.83583862,  3.46298629],\n",
       "       [ 4.27346101,  6.97297081],\n",
       "       [ 4.34516007,  7.84417409],\n",
       "       [ 0.69237617,  1.01477782],\n",
       "       [ 7.30181633,  8.52065125],\n",
       "       [ 5.20844282,  8.46347828],\n",
       "       [ 6.47606719,  8.68740578],\n",
       "       [ 0.30730615,  0.89198312],\n",
       "       [ 1.31129855,  0.81103418],\n",
       "       [ 0.78252354,  2.58496561],\n",
       "       [ 6.15413351,  7.34724023],\n",
       "       [ 5.95165563,  6.27465484],\n",
       "       [ 7.39555858,  8.40339291],\n",
       "       [ 1.23441082,  0.52762463],\n",
       "       [ 1.47657886,  3.96162603],\n",
       "       [ 7.42203286,  7.73874553],\n",
       "       [ 1.32947793,  1.23464853],\n",
       "       [ 1.6311402 ,  1.2460173 ],\n",
       "       [ 4.71477011,  7.75263748],\n",
       "       [ 5.36305488,  8.42148853],\n",
       "       [ 8.31159548,  9.77472725],\n",
       "       [ 1.40628553,  0.81665298],\n",
       "       [ 4.68987055,  7.77459609],\n",
       "       [ 6.52709515,  8.71687166],\n",
       "       [ 0.74155299,  1.05964876],\n",
       "       [ 1.61065687,  2.75314345],\n",
       "       [ 8.02600533,  8.47247313],\n",
       "       [ 0.65308605,  3.22883031],\n",
       "       [ 5.7326613 ,  7.91487723],\n",
       "       [ 6.16192814,  7.64839169],\n",
       "       [ 0.89704289,  2.09884211],\n",
       "       [ 2.09194464,  1.91211542],\n",
       "       [ 6.04019187,  8.7951967 ],\n",
       "       [ 1.18302061,  1.98266768],\n",
       "       [ 1.37791945,  2.57685912],\n",
       "       [ 1.12818973,  1.91264284],\n",
       "       [-0.36736483,  4.09762048],\n",
       "       [ 1.08387525,  1.62078961],\n",
       "       [ 1.73336864,  1.16938531],\n",
       "       [ 6.03446492,  8.06388111],\n",
       "       [ 7.00707595,  7.51139883],\n",
       "       [ 1.60864728,  4.01288317],\n",
       "       [ 1.44828567,  2.31552082],\n",
       "       [ 4.73394522,  9.94061293],\n",
       "       [ 1.22034377,  0.66110385],\n",
       "       [ 1.96908745,  1.79502921],\n",
       "       [ 6.60567214,  7.93220264],\n",
       "       [ 6.30769056,  8.02244765],\n",
       "       [ 6.9335477 ,  8.61071196],\n",
       "       [ 5.39760398,  8.07128594],\n",
       "       [ 5.26973474,  5.93977247],\n",
       "       [ 1.1398201 ,  3.12999027],\n",
       "       [ 5.40557082,  7.80355254],\n",
       "       [ 0.23368786,  0.63349786],\n",
       "       [ 1.97981873,  3.2172558 ],\n",
       "       [ 0.92297672,  3.48304189],\n",
       "       [ 4.24097013,  5.91588185],\n",
       "       [ 1.80346275,  3.26698325],\n",
       "       [ 6.84034919,  8.31107208],\n",
       "       [ 5.83687538,  7.76701174],\n",
       "       [ 4.94478703,  7.63246498],\n",
       "       [ 7.36040336, 10.05824982],\n",
       "       [ 6.82126998,  7.41845495]])"
      ]
     },
     "execution_count": 33,
     "metadata": {},
     "output_type": "execute_result"
    }
   ],
   "source": [
    "X"
   ]
  },
  {
   "cell_type": "code",
   "execution_count": 36,
   "metadata": {},
   "outputs": [
    {
     "data": {
      "text/plain": [
       "array([[0.99599739],\n",
       "       [0.99772753],\n",
       "       [0.56321047],\n",
       "       [0.7148383 ],\n",
       "       [0.99906886],\n",
       "       [0.99814654],\n",
       "       [0.73808808],\n",
       "       [0.99774699],\n",
       "       [0.765851  ],\n",
       "       [0.98715327],\n",
       "       [0.9977641 ],\n",
       "       [0.7304564 ],\n",
       "       [0.9942528 ],\n",
       "       [0.9959762 ],\n",
       "       [0.63598584],\n",
       "       [0.99694032],\n",
       "       [0.99475744],\n",
       "       [0.99658814],\n",
       "       [0.99920883],\n",
       "       [0.73994081],\n",
       "       [0.64908922],\n",
       "       [0.99689692],\n",
       "       [0.80482917],\n",
       "       [0.84001325],\n",
       "       [0.79213504],\n",
       "       [0.99430526],\n",
       "       [0.75235329],\n",
       "       [0.98965226],\n",
       "       [0.99785054],\n",
       "       [0.74778638],\n",
       "       [0.8579991 ],\n",
       "       [0.78551325],\n",
       "       [0.99597786],\n",
       "       [0.85482549],\n",
       "       [0.99677066],\n",
       "       [0.99683099],\n",
       "       [0.71888952],\n",
       "       [0.98242131],\n",
       "       [0.99649115],\n",
       "       [0.65885611],\n",
       "       [0.83136607],\n",
       "       [0.83967037],\n",
       "       [0.74556881],\n",
       "       [0.99400938],\n",
       "       [0.99266791],\n",
       "       [0.56511384],\n",
       "       [0.99568449],\n",
       "       [0.74398456],\n",
       "       [0.99815265],\n",
       "       [0.85424629],\n",
       "       [0.99605099],\n",
       "       [0.99373561],\n",
       "       [0.83029746],\n",
       "       [0.77100678],\n",
       "       [0.66360194],\n",
       "       [0.86723186],\n",
       "       [0.9988679 ],\n",
       "       [0.98680368],\n",
       "       [0.84891452],\n",
       "       [0.79875796],\n",
       "       [0.74077507],\n",
       "       [0.99627871],\n",
       "       [0.85403757],\n",
       "       [0.99802827],\n",
       "       [0.8533198 ],\n",
       "       [0.61631107],\n",
       "       [0.99630644],\n",
       "       [0.72906265],\n",
       "       [0.99776931],\n",
       "       [0.99803912],\n",
       "       [0.99562421],\n",
       "       [0.71832579],\n",
       "       [0.76818751],\n",
       "       [0.81140612],\n",
       "       [0.97786582],\n",
       "       [0.77793077],\n",
       "       [0.74234231],\n",
       "       [0.87248302],\n",
       "       [0.99550618],\n",
       "       [0.99750939],\n",
       "       [0.99621789],\n",
       "       [0.98902674],\n",
       "       [0.6750898 ],\n",
       "       [0.99666587],\n",
       "       [0.75552995],\n",
       "       [0.8863645 ],\n",
       "       [0.73382297],\n",
       "       [0.99910076],\n",
       "       [0.99622689],\n",
       "       [0.52657878],\n",
       "       [0.99843995],\n",
       "       [0.99708558],\n",
       "       [0.75924319],\n",
       "       [0.73829738],\n",
       "       [0.9961283 ],\n",
       "       [0.99729808],\n",
       "       [0.71109279],\n",
       "       [0.99574638],\n",
       "       [0.82442122],\n",
       "       [0.9938356 ],\n",
       "       [0.89395999],\n",
       "       [0.71378431],\n",
       "       [0.99855834],\n",
       "       [0.99505525],\n",
       "       [0.99659195],\n",
       "       [0.8899774 ],\n",
       "       [0.99244483],\n",
       "       [0.99849202],\n",
       "       [0.99741531],\n",
       "       [0.71371568],\n",
       "       [0.73074021],\n",
       "       [0.99641011],\n",
       "       [0.84021861],\n",
       "       [0.99156155],\n",
       "       [0.99131792],\n",
       "       [0.80465904],\n",
       "       [0.77729075],\n",
       "       [0.99453332],\n",
       "       [0.87563109],\n",
       "       [0.99656679],\n",
       "       [0.99820742],\n",
       "       [0.83098873],\n",
       "       [0.99910875],\n",
       "       [0.79592748],\n",
       "       [0.73336436],\n",
       "       [0.65637459],\n",
       "       [0.66000645],\n",
       "       [0.99663012],\n",
       "       [0.99568545],\n",
       "       [0.69105903],\n",
       "       [0.74776973],\n",
       "       [0.99913146],\n",
       "       [0.62572194],\n",
       "       [0.99681983],\n",
       "       [0.75953792],\n",
       "       [0.8107766 ],\n",
       "       [0.82056996],\n",
       "       [0.83872442],\n",
       "       [0.98908203],\n",
       "       [0.99229145],\n",
       "       [0.66554044],\n",
       "       [0.99843635],\n",
       "       [0.99584582],\n",
       "       [0.99785384],\n",
       "       [0.61463248],\n",
       "       [0.71034839],\n",
       "       [0.7864026 ],\n",
       "       [0.9959483 ],\n",
       "       [0.993437  ],\n",
       "       [0.99843646],\n",
       "       [0.68097515],\n",
       "       [0.89326362],\n",
       "       [0.99803127],\n",
       "       [0.74274045],\n",
       "       [0.76898387],\n",
       "       [0.99326387],\n",
       "       [0.99606907],\n",
       "       [0.99937685],\n",
       "       [0.71963181],\n",
       "       [0.99324123],\n",
       "       [0.99792573],\n",
       "       [0.67414885],\n",
       "       [0.85121363],\n",
       "       [0.99885733],\n",
       "       [0.81449184],\n",
       "       [0.99600627],\n",
       "       [0.99638204],\n",
       "       [0.76460927],\n",
       "       [0.83985348],\n",
       "       [0.99748181],\n",
       "       [0.78016541],\n",
       "       [0.82822675],\n",
       "       [0.77134452],\n",
       "       [0.79078835],\n",
       "       [0.74818039],\n",
       "       [0.77230816],\n",
       "       [0.99670394],\n",
       "       [0.99741445],\n",
       "       [0.90058544],\n",
       "       [0.81903223],\n",
       "       [0.99698801],\n",
       "       [0.69010476],\n",
       "       [0.82607561],\n",
       "       [0.99733587],\n",
       "       [0.99704625],\n",
       "       [0.99820941],\n",
       "       [0.99560439],\n",
       "       [0.98989905],\n",
       "       [0.84107705],\n",
       "       [0.99517217],\n",
       "       [0.5838543 ],\n",
       "       [0.88922954],\n",
       "       [0.84501284],\n",
       "       [0.98377833],\n",
       "       [0.88291208],\n",
       "       [0.99791562],\n",
       "       [0.99598104],\n",
       "       [0.99366261],\n",
       "       [0.99913169],\n",
       "       [0.99708844]])"
      ]
     },
     "execution_count": 36,
     "metadata": {},
     "output_type": "execute_result"
    }
   ],
   "source": [
    "Hypothesis(X, theta=np.random.rand(X.shape[1], 1))"
   ]
  },
  {
   "cell_type": "markdown",
   "metadata": {},
   "source": [
    "$$\n",
    "J_{\\theta}(x) = - \\frac{1}{m} \\Sigma y^{(i)} log(h(x^{(i)})) + (1 - y^{(i)}) log(1 - h(x^{(i)}))\n",
    "$$"
   ]
  },
  {
   "cell_type": "code",
   "execution_count": 37,
   "metadata": {},
   "outputs": [],
   "source": [
    "def Error(X, theta, Y):\n",
    "    hx = Hypothesis(X, theta)\n",
    "    err = (Y * np.log(hx) + (1 - Y) * np.log(1 - hx)).mean()\n",
    "    return -err"
   ]
  },
  {
   "cell_type": "code",
   "execution_count": 41,
   "metadata": {},
   "outputs": [
    {
     "data": {
      "text/plain": [
       "11.013760487031389"
      ]
     },
     "execution_count": 41,
     "metadata": {},
     "output_type": "execute_result"
    }
   ],
   "source": [
    "Error(X, [1, 2], Y)"
   ]
  },
  {
   "cell_type": "code",
   "execution_count": 42,
   "metadata": {},
   "outputs": [],
   "source": [
    "def gradient(X, Y, hx, m):\n",
    "    return np.dot(X.T, (hx - Y)) / m"
   ]
  },
  {
   "cell_type": "code",
   "execution_count": 43,
   "metadata": {},
   "outputs": [],
   "source": [
    "def gradient_descent(X, Y, lr=0.5, max_itr=1000):\n",
    "    err_list = []\n",
    "    m, n = X.shape\n",
    "    theta = np.zeros((n, 1))\n",
    "    \n",
    "    for i in range(max_itr):\n",
    "        err = Error(X, theta, Y)\n",
    "        err_list.append(err)\n",
    "        hx = Hypothesis(X, theta)\n",
    "        grad = gradient(X, Y, hx, m)\n",
    "        theta -= lr * grad\n",
    "        if i % 400 == 0:\n",
    "            print(f'Iteration no {i} and cost {err}')\n",
    "    return theta, err_list        "
   ]
  },
  {
   "cell_type": "code",
   "execution_count": 44,
   "metadata": {},
   "outputs": [
    {
     "data": {
      "text/plain": [
       "array([[ 1.        ,  5.29272639,  8.45997341],\n",
       "       [ 1.        ,  6.74708769,  8.19106662],\n",
       "       [ 1.        ,  0.07591733,  0.60025306],\n",
       "       [ 1.        ,  0.91723962,  1.36471978],\n",
       "       [ 1.        ,  7.64592736,  9.50923427],\n",
       "       [ 1.        ,  6.23860884,  9.3868171 ],\n",
       "       [ 1.        ,  0.95545318,  1.63704601],\n",
       "       [ 1.        ,  6.08566933,  9.04333651],\n",
       "       [ 1.        ,  0.68941673,  2.37788317],\n",
       "       [ 1.        ,  3.77502643,  7.14710818],\n",
       "       [ 1.        ,  6.83429292,  8.12629156],\n",
       "       [ 1.        ,  1.27052952,  1.13528789],\n",
       "       [ 1.        ,  5.63030552,  7.04261335],\n",
       "       [ 1.        ,  6.65796204,  6.73497675],\n",
       "       [ 1.        , -0.36412693,  1.98257699],\n",
       "       [ 1.        ,  6.54345961,  7.63038208],\n",
       "       [ 1.        ,  5.66798215,  7.24819981],\n",
       "       [ 1.        ,  5.99115373,  8.02336529],\n",
       "       [ 1.        ,  7.14902512, 10.57778824],\n",
       "       [ 1.        ,  0.35038082,  2.42141551],\n",
       "       [ 1.        ,  0.38513706,  1.19990089],\n",
       "       [ 1.        ,  6.18445402,  8.04153042],\n",
       "       [ 1.        ,  0.77358436,  2.90631344],\n",
       "       [ 1.        ,  0.55365555,  3.842681  ],\n",
       "       [ 1.        ,  1.11725564,  2.25986672],\n",
       "       [ 1.        ,  5.44789197,  7.29638648],\n",
       "       [ 1.        ,  0.36424645,  2.58333329],\n",
       "       [ 1.        ,  4.5957465 ,  6.71749571],\n",
       "       [ 1.        ,  6.07883518,  9.18088631],\n",
       "       [ 1.        ,  0.93290559,  1.80422103],\n",
       "       [ 1.        ,  1.7262998 ,  2.75766262],\n",
       "       [ 1.        ,  0.76519465,  2.5922154 ],\n",
       "       [ 1.        ,  5.31962399,  8.41290211],\n",
       "       [ 1.        ,  1.33620217,  3.175814  ],\n",
       "       [ 1.        ,  7.67258192,  6.06761543],\n",
       "       [ 1.        ,  5.61033669,  8.70314625],\n",
       "       [ 1.        ,  1.37964905,  0.83996983],\n",
       "       [ 1.        ,  3.72606194,  6.33746431],\n",
       "       [ 1.        ,  6.61520511,  7.16455571],\n",
       "       [ 1.        ,  0.35023218,  1.3617044 ],\n",
       "       [ 1.        ,  1.54642682,  2.42654251],\n",
       "       [ 1.        ,  1.3979776 ,  2.77786078],\n",
       "       [ 1.        ,  1.72284288,  0.7824417 ],\n",
       "       [ 1.        ,  5.17482086,  7.499143  ],\n",
       "       [ 1.        ,  5.17311584,  6.94483615],\n",
       "       [ 1.        ,  0.40315989,  0.21142785],\n",
       "       [ 1.        ,  7.02720665,  6.08009622],\n",
       "       [ 1.        ,  0.49088005,  2.30316289],\n",
       "       [ 1.        ,  6.89570296,  8.57260399],\n",
       "       [ 1.        ,  1.94721358,  2.39753464],\n",
       "       [ 1.        ,  5.78810831,  7.87634044],\n",
       "       [ 1.        ,  5.36249505,  7.14101374],\n",
       "       [ 1.        ,  1.26086456,  2.76352388],\n",
       "       [ 1.        ,  0.9546835 ,  2.12479239],\n",
       "       [ 1.        , -0.08237483,  1.9616713 ],\n",
       "       [ 1.        ,  1.93329492,  2.71150354],\n",
       "       [ 1.        ,  7.60596271,  9.02419953],\n",
       "       [ 1.        ,  4.17056678,  6.57712509],\n",
       "       [ 1.        ,  2.20329632,  1.96128293],\n",
       "       [ 1.        ,  1.32970685,  2.10503997],\n",
       "       [ 1.        ,  1.57062558,  0.90444891],\n",
       "       [ 1.        ,  6.20497115,  7.51714831],\n",
       "       [ 1.        ,  1.5946674 ,  2.83465499],\n",
       "       [ 1.        ,  6.56323212,  8.81056219],\n",
       "       [ 1.        ,  2.46231151,  1.73186916],\n",
       "       [ 1.        ,  0.55495785,  0.60110349],\n",
       "       [ 1.        ,  5.04253412,  8.9940984 ],\n",
       "       [ 1.        ,  0.80760371,  1.69595276],\n",
       "       [ 1.        ,  6.03595757,  9.13291587],\n",
       "       [ 1.        ,  6.54743148,  8.84547994],\n",
       "       [ 1.        ,  5.62432277,  7.79964581],\n",
       "       [ 1.        ,  0.77597692,  1.58868144],\n",
       "       [ 1.        ,  0.99985802,  2.0246997 ],\n",
       "       [ 1.        ,  1.4782505 ,  2.13947497],\n",
       "       [ 1.        ,  3.14515532,  6.42220818],\n",
       "       [ 1.        ,  1.47081673,  1.58657654],\n",
       "       [ 1.        ,  0.67319897,  2.05120015],\n",
       "       [ 1.        ,  1.66318056,  3.17683278],\n",
       "       [ 1.        ,  5.40564479,  8.00049931],\n",
       "       [ 1.        ,  6.75733841,  7.92689132],\n",
       "       [ 1.        ,  6.11649038,  7.5834912 ],\n",
       "       [ 1.        ,  3.7180244 ,  7.65490484],\n",
       "       [ 1.        ,  1.08602651,  0.63978567],\n",
       "       [ 1.        ,  6.61102226,  7.30999302],\n",
       "       [ 1.        ,  0.88090226,  1.98285977],\n",
       "       [ 1.        ,  1.93844296,  3.19041405],\n",
       "       [ 1.        ,  0.95779959,  1.57406552],\n",
       "       [ 1.        ,  7.09487085, 10.29511372],\n",
       "       [ 1.        ,  5.52802295,  8.32732377],\n",
       "       [ 1.        , -0.17952992,  0.51603163],\n",
       "       [ 1.        ,  6.33476142,  9.73858449],\n",
       "       [ 1.        ,  6.04007078,  8.39452196],\n",
       "       [ 1.        ,  0.62495881,  2.35880962],\n",
       "       [ 1.        ,  0.70434047,  1.95462637],\n",
       "       [ 1.        ,  6.3288391 ,  7.2531557 ],\n",
       "       [ 1.        ,  6.99290299,  7.40840514],\n",
       "       [ 1.        ,  1.11683303,  1.06458344],\n",
       "       [ 1.        ,  5.58092853,  7.93181486],\n",
       "       [ 1.        ,  0.89983804,  3.10330525],\n",
       "       [ 1.        ,  4.40973927,  8.37901104],\n",
       "       [ 1.        ,  1.71082958,  3.68817156],\n",
       "       [ 1.        ,  0.21125929,  2.23511073],\n",
       "       [ 1.        ,  7.23139373,  8.8314108 ],\n",
       "       [ 1.        ,  5.49968699,  7.6198536 ],\n",
       "       [ 1.        ,  6.38350996,  7.53485165],\n",
       "       [ 1.        ,  2.09323662,  3.0959858 ],\n",
       "       [ 1.        ,  4.83485407,  7.28604026],\n",
       "       [ 1.        ,  7.30066702,  8.62141273],\n",
       "       [ 1.        ,  6.44551137,  8.21589058],\n",
       "       [ 1.        ,  0.41341631,  1.98091028],\n",
       "       [ 1.        ,  0.34664292,  2.29676535],\n",
       "       [ 1.        ,  5.77949532,  8.14892446],\n",
       "       [ 1.        ,  1.7238783 ,  2.38069697],\n",
       "       [ 1.        ,  4.93314863,  6.85799678],\n",
       "       [ 1.        ,  5.17724625,  6.4736356 ],\n",
       "       [ 1.        ,  0.8052356 ,  2.86369595],\n",
       "       [ 1.        ,  0.62403271,  2.63738407],\n",
       "       [ 1.        ,  5.03127742,  7.93079218],\n",
       "       [ 1.        ,  1.45765136,  3.51257183],\n",
       "       [ 1.        ,  6.06191246,  7.91759519],\n",
       "       [ 1.        ,  6.93048301,  8.61150373],\n",
       "       [ 1.        ,  1.9643599 ,  1.89556028],\n",
       "       [ 1.        ,  8.30802583,  8.79958017],\n",
       "       [ 1.        ,  1.08184678,  2.36766491],\n",
       "       [ 1.        ,  1.07436169,  1.4216063 ],\n",
       "       [ 1.        ,  0.22024756,  1.4944127 ],\n",
       "       [ 1.        ,  0.53863199,  1.13967087],\n",
       "       [ 1.        ,  6.05308114,  7.97975729],\n",
       "       [ 1.        ,  6.14849654,  7.18163472],\n",
       "       [ 1.        ,  0.30646635,  1.81831287],\n",
       "       [ 1.        ,  0.53932063,  2.29710007],\n",
       "       [ 1.        ,  6.45202905, 11.19562369],\n",
       "       [ 1.        ,  0.22725992,  1.12106027],\n",
       "       [ 1.        ,  6.07824712,  8.10725074],\n",
       "       [ 1.        ,  0.58573456,  2.41236601],\n",
       "       [ 1.        ,  1.19080783,  2.48837155],\n",
       "       [ 1.        ,  0.78693745,  3.17259549],\n",
       "       [ 1.        ,  0.83583862,  3.46298629],\n",
       "       [ 1.        ,  4.27346101,  6.97297081],\n",
       "       [ 1.        ,  4.34516007,  7.84417409],\n",
       "       [ 1.        ,  0.69237617,  1.01477782],\n",
       "       [ 1.        ,  7.30181633,  8.52065125],\n",
       "       [ 1.        ,  5.20844282,  8.46347828],\n",
       "       [ 1.        ,  6.47606719,  8.68740578],\n",
       "       [ 1.        ,  0.30730615,  0.89198312],\n",
       "       [ 1.        ,  1.31129855,  0.81103418],\n",
       "       [ 1.        ,  0.78252354,  2.58496561],\n",
       "       [ 1.        ,  6.15413351,  7.34724023],\n",
       "       [ 1.        ,  5.95165563,  6.27465484],\n",
       "       [ 1.        ,  7.39555858,  8.40339291],\n",
       "       [ 1.        ,  1.23441082,  0.52762463],\n",
       "       [ 1.        ,  1.47657886,  3.96162603],\n",
       "       [ 1.        ,  7.42203286,  7.73874553],\n",
       "       [ 1.        ,  1.32947793,  1.23464853],\n",
       "       [ 1.        ,  1.6311402 ,  1.2460173 ],\n",
       "       [ 1.        ,  4.71477011,  7.75263748],\n",
       "       [ 1.        ,  5.36305488,  8.42148853],\n",
       "       [ 1.        ,  8.31159548,  9.77472725],\n",
       "       [ 1.        ,  1.40628553,  0.81665298],\n",
       "       [ 1.        ,  4.68987055,  7.77459609],\n",
       "       [ 1.        ,  6.52709515,  8.71687166],\n",
       "       [ 1.        ,  0.74155299,  1.05964876],\n",
       "       [ 1.        ,  1.61065687,  2.75314345],\n",
       "       [ 1.        ,  8.02600533,  8.47247313],\n",
       "       [ 1.        ,  0.65308605,  3.22883031],\n",
       "       [ 1.        ,  5.7326613 ,  7.91487723],\n",
       "       [ 1.        ,  6.16192814,  7.64839169],\n",
       "       [ 1.        ,  0.89704289,  2.09884211],\n",
       "       [ 1.        ,  2.09194464,  1.91211542],\n",
       "       [ 1.        ,  6.04019187,  8.7951967 ],\n",
       "       [ 1.        ,  1.18302061,  1.98266768],\n",
       "       [ 1.        ,  1.37791945,  2.57685912],\n",
       "       [ 1.        ,  1.12818973,  1.91264284],\n",
       "       [ 1.        , -0.36736483,  4.09762048],\n",
       "       [ 1.        ,  1.08387525,  1.62078961],\n",
       "       [ 1.        ,  1.73336864,  1.16938531],\n",
       "       [ 1.        ,  6.03446492,  8.06388111],\n",
       "       [ 1.        ,  7.00707595,  7.51139883],\n",
       "       [ 1.        ,  1.60864728,  4.01288317],\n",
       "       [ 1.        ,  1.44828567,  2.31552082],\n",
       "       [ 1.        ,  4.73394522,  9.94061293],\n",
       "       [ 1.        ,  1.22034377,  0.66110385],\n",
       "       [ 1.        ,  1.96908745,  1.79502921],\n",
       "       [ 1.        ,  6.60567214,  7.93220264],\n",
       "       [ 1.        ,  6.30769056,  8.02244765],\n",
       "       [ 1.        ,  6.9335477 ,  8.61071196],\n",
       "       [ 1.        ,  5.39760398,  8.07128594],\n",
       "       [ 1.        ,  5.26973474,  5.93977247],\n",
       "       [ 1.        ,  1.1398201 ,  3.12999027],\n",
       "       [ 1.        ,  5.40557082,  7.80355254],\n",
       "       [ 1.        ,  0.23368786,  0.63349786],\n",
       "       [ 1.        ,  1.97981873,  3.2172558 ],\n",
       "       [ 1.        ,  0.92297672,  3.48304189],\n",
       "       [ 1.        ,  4.24097013,  5.91588185],\n",
       "       [ 1.        ,  1.80346275,  3.26698325],\n",
       "       [ 1.        ,  6.84034919,  8.31107208],\n",
       "       [ 1.        ,  5.83687538,  7.76701174],\n",
       "       [ 1.        ,  4.94478703,  7.63246498],\n",
       "       [ 1.        ,  7.36040336, 10.05824982],\n",
       "       [ 1.        ,  6.82126998,  7.41845495]])"
      ]
     },
     "execution_count": 44,
     "metadata": {},
     "output_type": "execute_result"
    }
   ],
   "source": [
    "X = np.hstack((np.ones((X.shape[0],1)), X))\n",
    "X"
   ]
  },
  {
   "cell_type": "code",
   "execution_count": 45,
   "metadata": {},
   "outputs": [
    {
     "data": {
      "text/plain": [
       "(200, 3)"
      ]
     },
     "execution_count": 45,
     "metadata": {},
     "output_type": "execute_result"
    }
   ],
   "source": [
    "X.shape"
   ]
  },
  {
   "cell_type": "code",
   "execution_count": 54,
   "metadata": {},
   "outputs": [
    {
     "name": "stdout",
     "output_type": "stream",
     "text": [
      "Iteration no 0 and cost 0.6931471805599452\n",
      "Iteration no 400 and cost 0.00026206700607085676\n",
      "Iteration no 800 and cost 0.0001363786536388046\n",
      "Iteration no 1200 and cost 9.679313381891448e-05\n",
      "Iteration no 1600 and cost 7.721702588843578e-05\n",
      "Iteration no 2000 and cost 6.543912072678077e-05\n",
      "Iteration no 2400 and cost 5.75172556369333e-05\n",
      "Iteration no 2800 and cost 5.178994531779002e-05\n",
      "Iteration no 3200 and cost 4.743417978996902e-05\n",
      "Iteration no 3600 and cost 4.399505394532163e-05\n",
      "Iteration no 4000 and cost 4.120026681704806e-05\n",
      "Iteration no 4400 and cost 3.8876617284246794e-05\n",
      "Iteration no 4800 and cost 3.690853464115244e-05\n"
     ]
    },
    {
     "name": "stderr",
     "output_type": "stream",
     "text": [
      "c:\\users\\anish\\appdata\\local\\programs\\python\\python37\\lib\\site-packages\\ipykernel_launcher.py:3: RuntimeWarning: divide by zero encountered in log\n",
      "  This is separate from the ipykernel package so we can avoid doing imports until\n",
      "c:\\users\\anish\\appdata\\local\\programs\\python\\python37\\lib\\site-packages\\ipykernel_launcher.py:3: RuntimeWarning: invalid value encountered in multiply\n",
      "  This is separate from the ipykernel package so we can avoid doing imports until\n"
     ]
    },
    {
     "name": "stdout",
     "output_type": "stream",
     "text": [
      "Iteration no 5200 and cost 3.52158550137585e-05\n",
      "Iteration no 5600 and cost 3.374116366640027e-05\n",
      "Iteration no 6000 and cost 3.244221660762443e-05\n",
      "Iteration no 6400 and cost 3.1287210006694875e-05\n",
      "Iteration no 6800 and cost 3.025172086965387e-05\n",
      "Iteration no 7200 and cost 2.93166673982306e-05\n",
      "Iteration no 7600 and cost 2.8466912710449443e-05\n",
      "Iteration no 8000 and cost 2.7690286534852995e-05\n",
      "Iteration no 8400 and cost 2.697688553033128e-05\n",
      "Iteration no 8800 and cost 2.6318563630299864e-05\n",
      "Iteration no 9200 and cost 2.5708554655208585e-05\n",
      "Iteration no 9600 and cost 2.5141188694934486e-05\n",
      "Iteration no 10000 and cost 2.4611676078850295e-05\n",
      "Iteration no 10400 and cost 2.4115940800955998e-05\n",
      "Iteration no 10800 and cost 2.365049063207148e-05\n",
      "Iteration no 11200 and cost 2.321231479251385e-05\n",
      "Iteration no 11600 and cost 2.279880256977412e-05\n",
      "Iteration no 12000 and cost 2.2407678024670928e-05\n",
      "Iteration no 12400 and cost 2.2036947178231884e-05\n",
      "Iteration no 12800 and cost 2.1684854969723248e-05\n",
      "Iteration no 13200 and cost 2.134984993046613e-05\n",
      "Iteration no 13600 and cost 2.1030554998645373e-05\n",
      "Iteration no 14000 and cost 2.072574325874385e-05\n",
      "Iteration no 14400 and cost 2.0434317657838647e-05\n",
      "Iteration no 14800 and cost 2.0155293954072956e-05\n",
      "Iteration no 15200 and cost 1.9887786309063235e-05\n",
      "Iteration no 15600 and cost 1.9630995055075368e-05\n",
      "Iteration no 16000 and cost 1.9384196261276686e-05\n",
      "Iteration no 16400 and cost 1.914673279579751e-05\n",
      "Iteration no 16800 and cost 1.891800663789898e-05\n",
      "Iteration no 17200 and cost 1.869747223954079e-05\n",
      "Iteration no 17600 and cost 1.8484630771705506e-05\n",
      "Iteration no 18000 and cost 1.8279025120354326e-05\n",
      "Iteration no 18400 and cost 1.8080235519333697e-05\n",
      "Iteration no 18800 and cost 1.788787572722866e-05\n",
      "Iteration no 19200 and cost 1.7701589670011823e-05\n",
      "Iteration no 19600 and cost 1.752104848419936e-05\n"
     ]
    }
   ],
   "source": [
    "theta, err_list = gradient_descent(X, Y.reshape((-1,1)), max_itr=20_000, lr=10)"
   ]
  },
  {
   "cell_type": "code",
   "execution_count": 55,
   "metadata": {},
   "outputs": [
    {
     "data": {
      "text/plain": [
       "array([[27.70722571],\n",
       "       [-5.96988552],\n",
       "       [-2.44610651]])"
      ]
     },
     "execution_count": 55,
     "metadata": {},
     "output_type": "execute_result"
    }
   ],
   "source": [
    "theta"
   ]
  },
  {
   "cell_type": "code",
   "execution_count": 56,
   "metadata": {},
   "outputs": [
    {
     "data": {
      "text/plain": [
       "[<matplotlib.lines.Line2D at 0x14c23ed66c8>]"
      ]
     },
     "execution_count": 56,
     "metadata": {},
     "output_type": "execute_result"
    },
    {
     "data": {
      "image/png": "[encoded data removed]",
      "text/plain": [
       "<Figure size 432x288 with 1 Axes>"
      ]
     },
     "metadata": {
      "needs_background": "light"
     },
     "output_type": "display_data"
    }
   ],
   "source": [
    "plt.plot(err_list)"
   ]
  },
  {
   "cell_type": "code",
   "execution_count": 57,
   "metadata": {},
   "outputs": [],
   "source": [
    "x_test = np.arange(10)\n",
    "x2 = -(theta[0] + theta[1] * x_test) / theta[2]"
   ]
  },
  {
   "cell_type": "code",
   "execution_count": 58,
   "metadata": {},
   "outputs": [
    {
     "data": {
      "text/plain": [
       "array([ 11.32707247,   8.88650601,   6.44593954,   4.00537308,\n",
       "         1.56480661,  -0.87575985,  -3.31632632,  -5.75689279,\n",
       "        -8.19745925, -10.63802572])"
      ]
     },
     "execution_count": 58,
     "metadata": {},
     "output_type": "execute_result"
    }
   ],
   "source": [
    "x2"
   ]
  },
  {
   "cell_type": "code",
   "execution_count": 59,
   "metadata": {},
   "outputs": [
    {
     "data": {
      "text/plain": [
       "array([0, 1, 2, 3, 4, 5, 6, 7, 8, 9])"
      ]
     },
     "execution_count": 59,
     "metadata": {},
     "output_type": "execute_result"
    }
   ],
   "source": [
    "x_test"
   ]
  },
  {
   "cell_type": "code",
   "execution_count": 60,
   "metadata": {},
   "outputs": [
    {
     "data": {
      "text/plain": [
       "<matplotlib.collections.PathCollection at 0x14c400b18c8>"
      ]
     },
     "execution_count": 60,
     "metadata": {},
     "output_type": "execute_result"
    },
    {
     "data": {
      "image/png": "[encoded data removed]",
      "text/plain": [
       "<Figure size 432x288 with 1 Axes>"
      ]
     },
     "metadata": {
      "needs_background": "light"
     },
     "output_type": "display_data"
    }
   ],
   "source": [
    "plt.ylim((-1,13))\n",
    "plt.plot(x_test, x2)\n",
    "plt.scatter(X1[:,0],X1[:,1])\n",
    "plt.scatter(X2[:,0],X2[:,1])"
   ]
  },
  {
   "cell_type": "code",
   "execution_count": 70,
   "metadata": {},
   "outputs": [
    {
     "data": {
      "text/plain": [
       "array([0.50363212])"
      ]
     },
     "execution_count": 70,
     "metadata": {},
     "output_type": "execute_result"
    }
   ],
   "source": [
    "Hypothesis(np.array([1, 2, 6.44]), theta)"
   ]
  },
  {
   "cell_type": "code",
   "execution_count": 76,
   "metadata": {},
   "outputs": [
    {
     "data": {
      "text/plain": [
       "array([ True])"
      ]
     },
     "execution_count": 76,
     "metadata": {},
     "output_type": "execute_result"
    }
   ],
   "source": [
    "Hypothesis(np.array([1, 1, 4]), theta) > 0.5"
   ]
  },
  {
   "cell_type": "code",
   "execution_count": 79,
   "metadata": {},
   "outputs": [
    {
     "data": {
      "text/plain": [
       "100"
      ]
     },
     "execution_count": 79,
     "metadata": {},
     "output_type": "execute_result"
    }
   ],
   "source": [
    "(Hypothesis(X, theta) > 0.5).sum()"
   ]
  },
  {
   "cell_type": "code",
   "execution_count": 80,
   "metadata": {},
   "outputs": [
    {
     "data": {
      "text/plain": [
       "array([0, 0, 1, 1, 0, 0, 1, 0, 1, 0, 0, 1, 0, 0, 1, 0, 0, 0, 0, 1, 1, 0,\n",
       "       1, 1, 1, 0, 1, 0, 0, 1, 1, 1, 0, 1, 0, 0, 1, 0, 0, 1, 1, 1, 1, 0,\n",
       "       0, 1, 0, 1, 0, 1, 0, 0, 1, 1, 1, 1, 0, 0, 1, 1, 1, 0, 1, 0, 1, 1,\n",
       "       0, 1, 0, 0, 0, 1, 1, 1, 0, 1, 1, 1, 0, 0, 0, 0, 1, 0, 1, 1, 1, 0,\n",
       "       0, 1, 0, 0, 1, 1, 0, 0, 1, 0, 1, 0, 1, 1, 0, 0, 0, 1, 0, 0, 0, 1,\n",
       "       1, 0, 1, 0, 0, 1, 1, 0, 1, 0, 0, 1, 0, 1, 1, 1, 1, 0, 0, 1, 1, 0,\n",
       "       1, 0, 1, 1, 1, 1, 0, 0, 1, 0, 0, 0, 1, 1, 1, 0, 0, 0, 1, 1, 0, 1,\n",
       "       1, 0, 0, 0, 1, 0, 0, 1, 1, 0, 1, 0, 0, 1, 1, 0, 1, 1, 1, 1, 1, 1,\n",
       "       0, 0, 1, 1, 0, 1, 1, 0, 0, 0, 0, 0, 1, 0, 1, 1, 1, 0, 1, 0, 0, 0,\n",
       "       0, 0])"
      ]
     },
     "execution_count": 80,
     "metadata": {},
     "output_type": "execute_result"
    }
   ],
   "source": [
    "y_pred = Hypothesis(X, theta) > 0.9\n",
    "y_pred = np.array(y_pred, dtype=np.int).ravel()\n",
    "y_pred"
   ]
  },
  {
   "cell_type": "code",
   "execution_count": 81,
   "metadata": {},
   "outputs": [
    {
     "data": {
      "text/plain": [
       "array([0, 0, 1, 1, 0, 0, 1, 0, 1, 0, 0, 1, 0, 0, 1, 0, 0, 0, 0, 1, 1, 0,\n",
       "       1, 1, 1, 0, 1, 0, 0, 1, 1, 1, 0, 1, 0, 0, 1, 0, 0, 1, 1, 1, 1, 0,\n",
       "       0, 1, 0, 1, 0, 1, 0, 0, 1, 1, 1, 1, 0, 0, 1, 1, 1, 0, 1, 0, 1, 1,\n",
       "       0, 1, 0, 0, 0, 1, 1, 1, 0, 1, 1, 1, 0, 0, 0, 0, 1, 0, 1, 1, 1, 0,\n",
       "       0, 1, 0, 0, 1, 1, 0, 0, 1, 0, 1, 0, 1, 1, 0, 0, 0, 1, 0, 0, 0, 1,\n",
       "       1, 0, 1, 0, 0, 1, 1, 0, 1, 0, 0, 1, 0, 1, 1, 1, 1, 0, 0, 1, 1, 0,\n",
       "       1, 0, 1, 1, 1, 1, 0, 0, 1, 0, 0, 0, 1, 1, 1, 0, 0, 0, 1, 1, 0, 1,\n",
       "       1, 0, 0, 0, 1, 0, 0, 1, 1, 0, 1, 0, 0, 1, 1, 0, 1, 1, 1, 1, 1, 1,\n",
       "       0, 0, 1, 1, 0, 1, 1, 0, 0, 0, 0, 0, 1, 0, 1, 1, 1, 0, 1, 0, 0, 0,\n",
       "       0, 0])"
      ]
     },
     "execution_count": 81,
     "metadata": {},
     "output_type": "execute_result"
    }
   ],
   "source": [
    "Y = np.array(Y, dtype=np.int)\n",
    "Y"
   ]
  },
  {
   "cell_type": "code",
   "execution_count": 82,
   "metadata": {},
   "outputs": [
    {
     "data": {
      "text/plain": [
       "array([ True,  True,  True,  True,  True,  True,  True,  True,  True,\n",
       "        True,  True,  True,  True,  True,  True,  True,  True,  True,\n",
       "        True,  True,  True,  True,  True,  True,  True,  True,  True,\n",
       "        True,  True,  True,  True,  True,  True,  True,  True,  True,\n",
       "        True,  True,  True,  True,  True,  True,  True,  True,  True,\n",
       "        True,  True,  True,  True,  True,  True,  True,  True,  True,\n",
       "        True,  True,  True,  True,  True,  True,  True,  True,  True,\n",
       "        True,  True,  True,  True,  True,  True,  True,  True,  True,\n",
       "        True,  True,  True,  True,  True,  True,  True,  True,  True,\n",
       "        True,  True,  True,  True,  True,  True,  True,  True,  True,\n",
       "        True,  True,  True,  True,  True,  True,  True,  True,  True,\n",
       "        True,  True,  True,  True,  True,  True,  True,  True,  True,\n",
       "        True,  True,  True,  True,  True,  True,  True,  True,  True,\n",
       "        True,  True,  True,  True,  True,  True,  True,  True,  True,\n",
       "        True,  True,  True,  True,  True,  True,  True,  True,  True,\n",
       "        True,  True,  True,  True,  True,  True,  True,  True,  True,\n",
       "        True,  True,  True,  True,  True,  True,  True,  True,  True,\n",
       "        True,  True,  True,  True,  True,  True,  True,  True,  True,\n",
       "        True,  True,  True,  True,  True,  True,  True,  True,  True,\n",
       "        True,  True,  True,  True,  True,  True,  True,  True,  True,\n",
       "        True,  True,  True,  True,  True,  True,  True,  True,  True,\n",
       "        True,  True,  True,  True,  True,  True,  True,  True,  True,\n",
       "        True,  True])"
      ]
     },
     "execution_count": 82,
     "metadata": {},
     "output_type": "execute_result"
    }
   ],
   "source": [
    "y_pred == Y"
   ]
  },
  {
   "cell_type": "code",
   "execution_count": 83,
   "metadata": {},
   "outputs": [
    {
     "data": {
      "text/plain": [
       "200"
      ]
     },
     "execution_count": 83,
     "metadata": {},
     "output_type": "execute_result"
    }
   ],
   "source": [
    "(y_pred == Y).sum()"
   ]
  },
  {
   "cell_type": "code",
   "execution_count": 84,
   "metadata": {},
   "outputs": [
    {
     "data": {
      "text/plain": [
       "array([False, False,  True,  True, False, False,  True, False,  True,\n",
       "       False, False,  True, False, False,  True, False, False, False,\n",
       "       False,  True,  True, False,  True,  True,  True, False,  True,\n",
       "       False, False,  True,  True,  True, False,  True, False, False,\n",
       "        True, False, False,  True,  True,  True,  True, False, False,\n",
       "        True, False,  True, False,  True, False, False,  True,  True,\n",
       "        True,  True, False, False,  True,  True,  True, False,  True,\n",
       "       False,  True,  True, False,  True, False, False, False,  True,\n",
       "        True,  True, False,  True,  True,  True, False, False, False,\n",
       "       False,  True, False,  True,  True,  True, False, False,  True,\n",
       "       False, False,  True,  True, False, False,  True, False,  True,\n",
       "       False,  True,  True, False, False, False,  True, False, False,\n",
       "       False,  True,  True, False,  True, False, False,  True,  True,\n",
       "       False,  True, False, False,  True, False,  True,  True,  True,\n",
       "        True, False, False,  True,  True, False,  True, False,  True,\n",
       "        True,  True,  True, False, False,  True, False, False, False,\n",
       "        True,  True,  True, False, False, False,  True,  True, False,\n",
       "        True,  True, False, False, False,  True, False, False,  True,\n",
       "        True, False,  True, False, False,  True,  True, False,  True,\n",
       "        True,  True,  True,  True,  True, False, False,  True,  True,\n",
       "       False,  True,  True, False, False, False, False, False,  True,\n",
       "       False,  True,  True,  True, False,  True, False, False, False,\n",
       "       False, False])"
      ]
     },
     "execution_count": 84,
     "metadata": {},
     "output_type": "execute_result"
    }
   ],
   "source": [
    "y_actual = Y == 1\n",
    "y_actual"
   ]
  },
  {
   "cell_type": "code",
   "execution_count": 85,
   "metadata": {},
   "outputs": [
    {
     "data": {
      "text/plain": [
       "200"
      ]
     },
     "execution_count": 85,
     "metadata": {},
     "output_type": "execute_result"
    }
   ],
   "source": [
    "correct = (y_pred.ravel() == y_actual).sum()\n",
    "correct"
   ]
  },
  {
   "cell_type": "code",
   "execution_count": 86,
   "metadata": {},
   "outputs": [
    {
     "data": {
      "text/plain": [
       "(200, 3)"
      ]
     },
     "execution_count": 86,
     "metadata": {},
     "output_type": "execute_result"
    }
   ],
   "source": [
    "X.shape"
   ]
  },
  {
   "cell_type": "code",
   "execution_count": 87,
   "metadata": {},
   "outputs": [
    {
     "data": {
      "text/plain": [
       "100.0"
      ]
     },
     "execution_count": 87,
     "metadata": {},
     "output_type": "execute_result"
    }
   ],
   "source": [
    "accuracy = 100 * correct / Y.shape[0]\n",
    "accuracy"
   ]
  },
  {
   "cell_type": "markdown",
   "metadata": {},
   "source": [
    "# Using SkLearn"
   ]
  },
  {
   "cell_type": "code",
   "execution_count": 88,
   "metadata": {},
   "outputs": [],
   "source": [
    "from sklearn.datasets import load_breast_cancer"
   ]
  },
  {
   "cell_type": "code",
   "execution_count": 89,
   "metadata": {},
   "outputs": [],
   "source": [
    "cancer = load_breast_cancer()\n",
    "X = cancer.data\n",
    "Y = cancer.target"
   ]
  },
  {
   "cell_type": "code",
   "execution_count": 90,
   "metadata": {},
   "outputs": [
    {
     "data": {
      "text/plain": [
       "{'data': array([[1.799e+01, 1.038e+01, 1.228e+02, ..., 2.654e-01, 4.601e-01,\n",
       "         1.189e-01],\n",
       "        [2.057e+01, 1.777e+01, 1.329e+02, ..., 1.860e-01, 2.750e-01,\n",
       "         8.902e-02],\n",
       "        [1.969e+01, 2.125e+01, 1.300e+02, ..., 2.430e-01, 3.613e-01,\n",
       "         8.758e-02],\n",
       "        ...,\n",
       "        [1.660e+01, 2.808e+01, 1.083e+02, ..., 1.418e-01, 2.218e-01,\n",
       "         7.820e-02],\n",
       "        [2.060e+01, 2.933e+01, 1.401e+02, ..., 2.650e-01, 4.087e-01,\n",
       "         1.240e-01],\n",
       "        [7.760e+00, 2.454e+01, 4.792e+01, ..., 0.000e+00, 2.871e-01,\n",
       "         7.039e-02]]),\n",
       " 'target': array([0, 0, 0, 0, 0, 0, 0, 0, 0, 0, 0, 0, 0, 0, 0, 0, 0, 0, 0, 1, 1, 1,\n",
       "        0, 0, 0, 0, 0, 0, 0, 0, 0, 0, 0, 0, 0, 0, 0, 1, 0, 0, 0, 0, 0, 0,\n",
       "        0, 0, 1, 0, 1, 1, 1, 1, 1, 0, 0, 1, 0, 0, 1, 1, 1, 1, 0, 1, 0, 0,\n",
       "        1, 1, 1, 1, 0, 1, 0, 0, 1, 0, 1, 0, 0, 1, 1, 1, 0, 0, 1, 0, 0, 0,\n",
       "        1, 1, 1, 0, 1, 1, 0, 0, 1, 1, 1, 0, 0, 1, 1, 1, 1, 0, 1, 1, 0, 1,\n",
       "        1, 1, 1, 1, 1, 1, 1, 0, 0, 0, 1, 0, 0, 1, 1, 1, 0, 0, 1, 0, 1, 0,\n",
       "        0, 1, 0, 0, 1, 1, 0, 1, 1, 0, 1, 1, 1, 1, 0, 1, 1, 1, 1, 1, 1, 1,\n",
       "        1, 1, 0, 1, 1, 1, 1, 0, 0, 1, 0, 1, 1, 0, 0, 1, 1, 0, 0, 1, 1, 1,\n",
       "        1, 0, 1, 1, 0, 0, 0, 1, 0, 1, 0, 1, 1, 1, 0, 1, 1, 0, 0, 1, 0, 0,\n",
       "        0, 0, 1, 0, 0, 0, 1, 0, 1, 0, 1, 1, 0, 1, 0, 0, 0, 0, 1, 1, 0, 0,\n",
       "        1, 1, 1, 0, 1, 1, 1, 1, 1, 0, 0, 1, 1, 0, 1, 1, 0, 0, 1, 0, 1, 1,\n",
       "        1, 1, 0, 1, 1, 1, 1, 1, 0, 1, 0, 0, 0, 0, 0, 0, 0, 0, 0, 0, 0, 0,\n",
       "        0, 0, 1, 1, 1, 1, 1, 1, 0, 1, 0, 1, 1, 0, 1, 1, 0, 1, 0, 0, 1, 1,\n",
       "        1, 1, 1, 1, 1, 1, 1, 1, 1, 1, 1, 0, 1, 1, 0, 1, 0, 1, 1, 1, 1, 1,\n",
       "        1, 1, 1, 1, 1, 1, 1, 1, 1, 0, 1, 1, 1, 0, 1, 0, 1, 1, 1, 1, 0, 0,\n",
       "        0, 1, 1, 1, 1, 0, 1, 0, 1, 0, 1, 1, 1, 0, 1, 1, 1, 1, 1, 1, 1, 0,\n",
       "        0, 0, 1, 1, 1, 1, 1, 1, 1, 1, 1, 1, 1, 0, 0, 1, 0, 0, 0, 1, 0, 0,\n",
       "        1, 1, 1, 1, 1, 0, 1, 1, 1, 1, 1, 0, 1, 1, 1, 0, 1, 1, 0, 0, 1, 1,\n",
       "        1, 1, 1, 1, 0, 1, 1, 1, 1, 1, 1, 1, 0, 1, 1, 1, 1, 1, 0, 1, 1, 0,\n",
       "        1, 1, 1, 1, 1, 1, 1, 1, 1, 1, 1, 1, 0, 1, 0, 0, 1, 0, 1, 1, 1, 1,\n",
       "        1, 0, 1, 1, 0, 1, 0, 1, 1, 0, 1, 0, 1, 1, 1, 1, 1, 1, 1, 1, 0, 0,\n",
       "        1, 1, 1, 1, 1, 1, 0, 1, 1, 1, 1, 1, 1, 1, 1, 1, 1, 0, 1, 1, 1, 1,\n",
       "        1, 1, 1, 0, 1, 0, 1, 1, 0, 1, 1, 1, 1, 1, 0, 0, 1, 0, 1, 0, 1, 1,\n",
       "        1, 1, 1, 0, 1, 1, 0, 1, 0, 1, 0, 0, 1, 1, 1, 0, 1, 1, 1, 1, 1, 1,\n",
       "        1, 1, 1, 1, 1, 0, 1, 0, 0, 1, 1, 1, 1, 1, 1, 1, 1, 1, 1, 1, 1, 1,\n",
       "        1, 1, 1, 1, 1, 1, 1, 1, 1, 1, 1, 1, 0, 0, 0, 0, 0, 0, 1]),\n",
       " 'frame': None,\n",
       " 'target_names': array(['malignant', 'benign'], dtype='<U9'),\n",
       " 'DESCR': '.. _breast_cancer_dataset:\\n\\nBreast cancer wisconsin (diagnostic) dataset\\n--------------------------------------------\\n\\n**Data Set Characteristics:**\\n\\n    :Number of Instances: 569\\n\\n    :Number of Attributes: 30 numeric, predictive attributes and the class\\n\\n    :Attribute Information:\\n        - radius (mean of distances from center to points on the perimeter)\\n        - texture (standard deviation of gray-scale values)\\n        - perimeter\\n        - area\\n        - smoothness (local variation in radius lengths)\\n        - compactness (perimeter^2 / area - 1.0)\\n        - concavity (severity of concave portions of the contour)\\n        - concave points (number of concave portions of the contour)\\n        - symmetry\\n        - fractal dimension (\"coastline approximation\" - 1)\\n\\n        The mean, standard error, and \"worst\" or largest (mean of the three\\n        worst/largest values) of these features were computed for each image,\\n        resulting in 30 features.  For instance, field 0 is Mean Radius, field\\n        10 is Radius SE, field 20 is Worst Radius.\\n\\n        - class:\\n                - WDBC-Malignant\\n                - WDBC-Benign\\n\\n    :Summary Statistics:\\n\\n    ===================================== ====== ======\\n                                           Min    Max\\n    ===================================== ====== ======\\n    radius (mean):                        6.981  28.11\\n    texture (mean):                       9.71   39.28\\n    perimeter (mean):                     43.79  188.5\\n    area (mean):                          143.5  2501.0\\n    smoothness (mean):                    0.053  0.163\\n    compactness (mean):                   0.019  0.345\\n    concavity (mean):                     0.0    0.427\\n    concave points (mean):                0.0    0.201\\n    symmetry (mean):                      0.106  0.304\\n    fractal dimension (mean):             0.05   0.097\\n    radius (standard error):              0.112  2.873\\n    texture (standard error):             0.36   4.885\\n    perimeter (standard error):           0.757  21.98\\n    area (standard error):                6.802  542.2\\n    smoothness (standard error):          0.002  0.031\\n    compactness (standard error):         0.002  0.135\\n    concavity (standard error):           0.0    0.396\\n    concave points (standard error):      0.0    0.053\\n    symmetry (standard error):            0.008  0.079\\n    fractal dimension (standard error):   0.001  0.03\\n    radius (worst):                       7.93   36.04\\n    texture (worst):                      12.02  49.54\\n    perimeter (worst):                    50.41  251.2\\n    area (worst):                         185.2  4254.0\\n    smoothness (worst):                   0.071  0.223\\n    compactness (worst):                  0.027  1.058\\n    concavity (worst):                    0.0    1.252\\n    concave points (worst):               0.0    0.291\\n    symmetry (worst):                     0.156  0.664\\n    fractal dimension (worst):            0.055  0.208\\n    ===================================== ====== ======\\n\\n    :Missing Attribute Values: None\\n\\n    :Class Distribution: 212 - Malignant, 357 - Benign\\n\\n    :Creator:  Dr. William H. Wolberg, W. Nick Street, Olvi L. Mangasarian\\n\\n    :Donor: Nick Street\\n\\n    :Date: November, 1995\\n\\nThis is a copy of UCI ML Breast Cancer Wisconsin (Diagnostic) datasets.\\nhttps://goo.gl/U2Uwz2\\n\\nFeatures are computed from a digitized image of a fine needle\\naspirate (FNA) of a breast mass.  They describe\\ncharacteristics of the cell nuclei present in the image.\\n\\nSeparating plane described above was obtained using\\nMultisurface Method-Tree (MSM-T) [K. P. Bennett, \"Decision Tree\\nConstruction Via Linear Programming.\" Proceedings of the 4th\\nMidwest Artificial Intelligence and Cognitive Science Society,\\npp. 97-101, 1992], a classification method which uses linear\\nprogramming to construct a decision tree.  Relevant features\\nwere selected using an exhaustive search in the space of 1-4\\nfeatures and 1-3 separating planes.\\n\\nThe actual linear program used to obtain the separating plane\\nin the 3-dimensional space is that described in:\\n[K. P. Bennett and O. L. Mangasarian: \"Robust Linear\\nProgramming Discrimination of Two Linearly Inseparable Sets\",\\nOptimization Methods and Software 1, 1992, 23-34].\\n\\nThis database is also available through the UW CS ftp server:\\n\\nftp ftp.cs.wisc.edu\\ncd math-prog/cpo-dataset/machine-learn/WDBC/\\n\\n.. topic:: References\\n\\n   - W.N. Street, W.H. Wolberg and O.L. Mangasarian. Nuclear feature extraction \\n     for breast tumor diagnosis. IS&T/SPIE 1993 International Symposium on \\n     Electronic Imaging: Science and Technology, volume 1905, pages 861-870,\\n     San Jose, CA, 1993.\\n   - O.L. Mangasarian, W.N. Street and W.H. Wolberg. Breast cancer diagnosis and \\n     prognosis via linear programming. Operations Research, 43(4), pages 570-577, \\n     July-August 1995.\\n   - W.H. Wolberg, W.N. Street, and O.L. Mangasarian. Machine learning techniques\\n     to diagnose breast cancer from fine-needle aspirates. Cancer Letters 77 (1994) \\n     163-171.',\n",
       " 'feature_names': array(['mean radius', 'mean texture', 'mean perimeter', 'mean area',\n",
       "        'mean smoothness', 'mean compactness', 'mean concavity',\n",
       "        'mean concave points', 'mean symmetry', 'mean fractal dimension',\n",
       "        'radius error', 'texture error', 'perimeter error', 'area error',\n",
       "        'smoothness error', 'compactness error', 'concavity error',\n",
       "        'concave points error', 'symmetry error',\n",
       "        'fractal dimension error', 'worst radius', 'worst texture',\n",
       "        'worst perimeter', 'worst area', 'worst smoothness',\n",
       "        'worst compactness', 'worst concavity', 'worst concave points',\n",
       "        'worst symmetry', 'worst fractal dimension'], dtype='<U23'),\n",
       " 'filename': 'c:\\\\users\\\\anish\\\\appdata\\\\local\\\\programs\\\\python\\\\python37\\\\lib\\\\site-packages\\\\sklearn\\\\datasets\\\\data\\\\breast_cancer.csv'}"
      ]
     },
     "execution_count": 90,
     "metadata": {},
     "output_type": "execute_result"
    }
   ],
   "source": [
    "cancer"
   ]
  },
  {
   "cell_type": "code",
   "execution_count": 91,
   "metadata": {},
   "outputs": [
    {
     "data": {
      "text/plain": [
       "array(['mean radius', 'mean texture', 'mean perimeter', 'mean area',\n",
       "       'mean smoothness', 'mean compactness', 'mean concavity',\n",
       "       'mean concave points', 'mean symmetry', 'mean fractal dimension',\n",
       "       'radius error', 'texture error', 'perimeter error', 'area error',\n",
       "       'smoothness error', 'compactness error', 'concavity error',\n",
       "       'concave points error', 'symmetry error',\n",
       "       'fractal dimension error', 'worst radius', 'worst texture',\n",
       "       'worst perimeter', 'worst area', 'worst smoothness',\n",
       "       'worst compactness', 'worst concavity', 'worst concave points',\n",
       "       'worst symmetry', 'worst fractal dimension'], dtype='<U23')"
      ]
     },
     "execution_count": 91,
     "metadata": {},
     "output_type": "execute_result"
    }
   ],
   "source": [
    "cancer.feature_names"
   ]
  },
  {
   "cell_type": "code",
   "execution_count": 94,
   "metadata": {},
   "outputs": [
    {
     "data": {
      "text/plain": [
       "(569, 30)"
      ]
     },
     "execution_count": 94,
     "metadata": {},
     "output_type": "execute_result"
    }
   ],
   "source": [
    "X.shape"
   ]
  },
  {
   "cell_type": "code",
   "execution_count": 92,
   "metadata": {},
   "outputs": [],
   "source": [
    "from sklearn.linear_model import LogisticRegression\n",
    "from sklearn.model_selection import train_test_split"
   ]
  },
  {
   "cell_type": "code",
   "execution_count": 95,
   "metadata": {},
   "outputs": [],
   "source": [
    "X_train, X_test, Y_train, Y_test = train_test_split(X, Y, test_size=.2)"
   ]
  },
  {
   "cell_type": "code",
   "execution_count": 96,
   "metadata": {},
   "outputs": [
    {
     "data": {
      "text/plain": [
       "(455, 30)"
      ]
     },
     "execution_count": 96,
     "metadata": {},
     "output_type": "execute_result"
    }
   ],
   "source": [
    "X_train.shape"
   ]
  },
  {
   "cell_type": "code",
   "execution_count": 97,
   "metadata": {},
   "outputs": [
    {
     "data": {
      "text/plain": [
       "(455,)"
      ]
     },
     "execution_count": 97,
     "metadata": {},
     "output_type": "execute_result"
    }
   ],
   "source": [
    "Y_train.shape"
   ]
  },
  {
   "cell_type": "code",
   "execution_count": 98,
   "metadata": {},
   "outputs": [
    {
     "data": {
      "text/plain": [
       "(114, 30)"
      ]
     },
     "execution_count": 98,
     "metadata": {},
     "output_type": "execute_result"
    }
   ],
   "source": [
    "X_test.shape"
   ]
  },
  {
   "cell_type": "code",
   "execution_count": 99,
   "metadata": {},
   "outputs": [
    {
     "data": {
      "text/plain": [
       "(114,)"
      ]
     },
     "execution_count": 99,
     "metadata": {},
     "output_type": "execute_result"
    }
   ],
   "source": [
    "Y_test.shape"
   ]
  },
  {
   "cell_type": "code",
   "execution_count": 100,
   "metadata": {},
   "outputs": [],
   "source": [
    "lr = LogisticRegression()"
   ]
  },
  {
   "cell_type": "code",
   "execution_count": 101,
   "metadata": {},
   "outputs": [
    {
     "name": "stderr",
     "output_type": "stream",
     "text": [
      "c:\\users\\anish\\appdata\\local\\programs\\python\\python37\\lib\\site-packages\\sklearn\\linear_model\\_logistic.py:765: ConvergenceWarning: lbfgs failed to converge (status=1):\n",
      "STOP: TOTAL NO. of ITERATIONS REACHED LIMIT.\n",
      "\n",
      "Increase the number of iterations (max_iter) or scale the data as shown in:\n",
      "    https://scikit-learn.org/stable/modules/preprocessing.html\n",
      "Please also refer to the documentation for alternative solver options:\n",
      "    https://scikit-learn.org/stable/modules/linear_model.html#logistic-regression\n",
      "  extra_warning_msg=_LOGISTIC_SOLVER_CONVERGENCE_MSG)\n"
     ]
    },
    {
     "data": {
      "text/plain": [
       "LogisticRegression()"
      ]
     },
     "execution_count": 101,
     "metadata": {},
     "output_type": "execute_result"
    }
   ],
   "source": [
    "lr.fit(X_train, Y_train)"
   ]
  },
  {
   "cell_type": "code",
   "execution_count": 102,
   "metadata": {},
   "outputs": [
    {
     "data": {
      "text/plain": [
       "0.9472527472527472"
      ]
     },
     "execution_count": 102,
     "metadata": {},
     "output_type": "execute_result"
    }
   ],
   "source": [
    "lr.score(X_train, Y_train)"
   ]
  },
  {
   "cell_type": "code",
   "execution_count": 103,
   "metadata": {},
   "outputs": [
    {
     "data": {
      "text/plain": [
       "0.9210526315789473"
      ]
     },
     "execution_count": 103,
     "metadata": {},
     "output_type": "execute_result"
    }
   ],
   "source": [
    "lr.score(X_test, Y_test)"
   ]
  },
  {
   "cell_type": "code",
   "execution_count": 104,
   "metadata": {},
   "outputs": [
    {
     "data": {
      "text/plain": [
       "0.9210526315789473"
      ]
     },
     "execution_count": 104,
     "metadata": {},
     "output_type": "execute_result"
    }
   ],
   "source": [
    "Y_pred = lr.predict(X_test)\n",
    "(Y_pred == Y_test).mean()"
   ]
  },
  {
   "cell_type": "code",
   "execution_count": 105,
   "metadata": {},
   "outputs": [
    {
     "data": {
      "text/plain": [
       "105"
      ]
     },
     "execution_count": 105,
     "metadata": {},
     "output_type": "execute_result"
    }
   ],
   "source": [
    "(Y_pred == Y_test).sum()"
   ]
  },
  {
   "cell_type": "code",
   "execution_count": 106,
   "metadata": {},
   "outputs": [
    {
     "data": {
      "text/plain": [
       "(114,)"
      ]
     },
     "execution_count": 106,
     "metadata": {},
     "output_type": "execute_result"
    }
   ],
   "source": [
    "Y_pred.shape"
   ]
  },
  {
   "cell_type": "code",
   "execution_count": 107,
   "metadata": {},
   "outputs": [
    {
     "data": {
      "text/plain": [
       "array([[False,  True],\n",
       "       [False,  True],\n",
       "       [False,  True],\n",
       "       [False,  True],\n",
       "       [False,  True],\n",
       "       [ True, False],\n",
       "       [ True, False],\n",
       "       [ True, False],\n",
       "       [False,  True],\n",
       "       [False,  True],\n",
       "       [ True, False],\n",
       "       [ True, False],\n",
       "       [ True, False],\n",
       "       [ True, False],\n",
       "       [False,  True],\n",
       "       [ True, False],\n",
       "       [False,  True],\n",
       "       [False,  True],\n",
       "       [False,  True],\n",
       "       [ True, False],\n",
       "       [ True, False],\n",
       "       [ True, False],\n",
       "       [False,  True],\n",
       "       [ True, False],\n",
       "       [False,  True],\n",
       "       [False,  True],\n",
       "       [ True, False],\n",
       "       [ True, False],\n",
       "       [False,  True],\n",
       "       [False,  True],\n",
       "       [False,  True],\n",
       "       [False,  True],\n",
       "       [False,  True],\n",
       "       [False,  True],\n",
       "       [False,  True],\n",
       "       [False,  True],\n",
       "       [False,  True],\n",
       "       [ True, False],\n",
       "       [ True, False],\n",
       "       [False,  True],\n",
       "       [ True, False],\n",
       "       [False,  True],\n",
       "       [False,  True],\n",
       "       [ True, False],\n",
       "       [False,  True],\n",
       "       [False,  True],\n",
       "       [ True, False],\n",
       "       [False,  True],\n",
       "       [False,  True],\n",
       "       [False,  True],\n",
       "       [False,  True],\n",
       "       [False,  True],\n",
       "       [False, False],\n",
       "       [False,  True],\n",
       "       [False,  True],\n",
       "       [False,  True],\n",
       "       [ True, False],\n",
       "       [False,  True],\n",
       "       [False,  True],\n",
       "       [False,  True],\n",
       "       [ True, False],\n",
       "       [False,  True],\n",
       "       [False,  True],\n",
       "       [False,  True],\n",
       "       [False,  True],\n",
       "       [False,  True],\n",
       "       [False,  True],\n",
       "       [False, False],\n",
       "       [ True, False],\n",
       "       [ True, False],\n",
       "       [ True, False],\n",
       "       [False,  True],\n",
       "       [ True, False],\n",
       "       [False,  True],\n",
       "       [ True, False],\n",
       "       [False,  True],\n",
       "       [False,  True],\n",
       "       [False,  True],\n",
       "       [False,  True],\n",
       "       [False,  True],\n",
       "       [False,  True],\n",
       "       [ True, False],\n",
       "       [False,  True],\n",
       "       [False,  True],\n",
       "       [ True, False],\n",
       "       [False,  True],\n",
       "       [False,  True],\n",
       "       [False,  True],\n",
       "       [False,  True],\n",
       "       [False,  True],\n",
       "       [False,  True],\n",
       "       [False,  True],\n",
       "       [ True, False],\n",
       "       [False,  True],\n",
       "       [ True, False],\n",
       "       [False, False],\n",
       "       [False,  True],\n",
       "       [False,  True],\n",
       "       [ True, False],\n",
       "       [False,  True],\n",
       "       [False,  True],\n",
       "       [False,  True],\n",
       "       [False,  True],\n",
       "       [ True, False],\n",
       "       [False,  True],\n",
       "       [False,  True],\n",
       "       [False,  True],\n",
       "       [False,  True],\n",
       "       [ True, False],\n",
       "       [False,  True],\n",
       "       [ True, False],\n",
       "       [ True, False],\n",
       "       [ True, False],\n",
       "       [ True, False]])"
      ]
     },
     "execution_count": 107,
     "metadata": {},
     "output_type": "execute_result"
    }
   ],
   "source": [
    "lr.predict_proba(X_test) > 0.6"
   ]
  },
  {
   "cell_type": "code",
   "execution_count": 108,
   "metadata": {},
   "outputs": [],
   "source": [
    "from sklearn.metrics import confusion_matrix"
   ]
  },
  {
   "cell_type": "code",
   "execution_count": 109,
   "metadata": {},
   "outputs": [
    {
     "data": {
      "text/plain": [
       "array([[35,  5],\n",
       "       [ 4, 70]], dtype=int64)"
      ]
     },
     "execution_count": 109,
     "metadata": {},
     "output_type": "execute_result"
    }
   ],
   "source": [
    "matrix = confusion_matrix(Y_test,Y_pred)\n",
    "matrix"
   ]
  },
  {
   "cell_type": "code",
   "execution_count": 159,
   "metadata": {},
   "outputs": [],
   "source": [
    "people_without_cacer_and_we_dont_predict_cancer = matrix[0][0]\n",
    "people_without_cacer_and_we_predict_cancer = matrix[0][1]\n",
    "people_with_cacer_and_we_predict_no_cancer = matrix[1][0]\n",
    "people_with_cacer_and_we_predict_no_cancer = matrix[1][1]"
   ]
  }
 ],
 "metadata": {
  "kernelspec": {
   "display_name": "Python 3",
   "language": "python",
   "name": "python3"
  },
  "language_info": {
   "codemirror_mode": {
    "name": "ipython",
    "version": 3
   },
   "file_extension": ".py",
   "mimetype": "text/x-python",
   "name": "python",
   "nbconvert_exporter": "python",
   "pygments_lexer": "ipython3",
   "version": "3.7.9"
  }
 },
 "nbformat": 4,
 "nbformat_minor": 2
}
