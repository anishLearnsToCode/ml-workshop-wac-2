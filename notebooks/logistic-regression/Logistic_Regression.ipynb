{
 "cells": [
  {
   "cell_type": "markdown",
   "metadata": {},
   "source": [
    "## Logistic Regression"
   ]
  },
  {
   "cell_type": "markdown",
   "metadata": {},
   "source": [
    "<h6>How to generate dataset</h6>"
   ]
  },
  {
   "cell_type": "code",
   "execution_count": 160,
   "metadata": {},
   "outputs": [],
   "source": [
    "import numpy as np\n",
    "import pandas as pd\n",
    "import matplotlib.pyplot as plt"
   ]
  },
  {
   "cell_type": "code",
   "execution_count": 161,
   "metadata": {},
   "outputs": [],
   "source": [
    "mu1 = np.array([1, 2])\n",
    "mu2 = np.array([6, 8])"
   ]
  },
  {
   "cell_type": "code",
   "execution_count": 162,
   "metadata": {},
   "outputs": [],
   "source": [
    "cov1 = np.array([[.4, .1], [.1, .8]])\n",
    "cov2 = np.array([[1, .4], [.4, 1]])"
   ]
  },
  {
   "cell_type": "code",
   "execution_count": 163,
   "metadata": {},
   "outputs": [
    {
     "data": {
      "text/plain": [
       "array([[0.4, 0.1],\n",
       "       [0.1, 0.8]])"
      ]
     },
     "execution_count": 163,
     "metadata": {},
     "output_type": "execute_result"
    }
   ],
   "source": [
    "cov1"
   ]
  },
  {
   "cell_type": "code",
   "execution_count": 164,
   "metadata": {},
   "outputs": [
    {
     "data": {
      "text/plain": [
       "array([[1. , 0.4],\n",
       "       [0.4, 1. ]])"
      ]
     },
     "execution_count": 164,
     "metadata": {},
     "output_type": "execute_result"
    }
   ],
   "source": [
    "cov2"
   ]
  },
  {
   "cell_type": "code",
   "execution_count": 165,
   "metadata": {},
   "outputs": [],
   "source": [
    "X1 = np.random.multivariate_normal(mu1, cov1, 100)\n",
    "X2 = np.random.multivariate_normal(mu2, cov2, 100)"
   ]
  },
  {
   "cell_type": "code",
   "execution_count": 166,
   "metadata": {},
   "outputs": [
    {
     "data": {
      "text/plain": [
       "array([[ 1.48609572,  3.45454571],\n",
       "       [ 0.63044913,  0.58811809],\n",
       "       [ 1.57931881,  2.64400748],\n",
       "       [ 1.43489232,  2.37736741],\n",
       "       [ 0.76928112,  1.78241086],\n",
       "       [ 0.72656843, -0.5856983 ],\n",
       "       [ 2.0238513 ,  0.82176449],\n",
       "       [ 0.46282719,  1.93094468],\n",
       "       [ 1.30188196,  1.58265021],\n",
       "       [ 1.20238382,  2.76172879],\n",
       "       [ 0.08482632,  1.39383177],\n",
       "       [ 0.77217724,  1.02360006],\n",
       "       [ 1.23098694,  3.07536099],\n",
       "       [ 0.9918279 ,  1.85870569],\n",
       "       [ 0.93299456,  2.09461098],\n",
       "       [ 1.40319782,  0.9973711 ],\n",
       "       [ 0.07943555,  1.9831677 ],\n",
       "       [ 0.56689013,  1.3742609 ],\n",
       "       [ 1.21418426,  2.02949319],\n",
       "       [ 1.3701341 , -0.14030649],\n",
       "       [ 1.189828  ,  0.77927526],\n",
       "       [ 2.06510475,  1.92357789],\n",
       "       [ 0.45310254,  1.41021698],\n",
       "       [ 0.95198281,  2.53138178],\n",
       "       [ 1.12759237,  1.71678211],\n",
       "       [ 0.97022141,  2.14138544],\n",
       "       [-0.53463461,  1.98343613],\n",
       "       [ 1.26658216,  1.09049421],\n",
       "       [ 2.06993518,  3.58162043],\n",
       "       [ 0.27458105,  2.12173974],\n",
       "       [ 0.54168082,  2.46767026],\n",
       "       [ 0.89500395,  3.10405107],\n",
       "       [ 1.68885937,  1.90198277],\n",
       "       [-0.35313963,  2.65973512],\n",
       "       [ 1.44937611,  2.74551131],\n",
       "       [ 0.77762405,  1.12588098],\n",
       "       [ 0.4238975 ,  0.86666579],\n",
       "       [ 1.42243534,  2.19327114],\n",
       "       [ 1.10558016,  1.78281777],\n",
       "       [ 0.76895525,  2.89580816],\n",
       "       [ 0.94066551,  4.03893562],\n",
       "       [ 1.68678514,  2.69197464],\n",
       "       [ 0.85071922,  1.98476649],\n",
       "       [ 1.32865379,  3.47179298],\n",
       "       [ 0.47124002,  3.69101858],\n",
       "       [ 0.56228555,  2.01188241],\n",
       "       [ 0.09960935,  1.7352508 ],\n",
       "       [-0.2134193 ,  0.75215602],\n",
       "       [ 1.10081654,  1.39431132],\n",
       "       [ 1.96007097,  1.89314477],\n",
       "       [-0.6435543 ,  1.35747857],\n",
       "       [ 0.93779352,  2.49225094],\n",
       "       [ 2.07687544,  2.16827104],\n",
       "       [ 0.25710039,  1.6667695 ],\n",
       "       [ 1.56523088,  2.98238232],\n",
       "       [ 1.84532287,  0.48682569],\n",
       "       [ 1.24325911,  2.03457647],\n",
       "       [ 0.80218957,  2.1746316 ],\n",
       "       [ 2.22668844,  3.63926856],\n",
       "       [ 2.16563009,  1.62390062],\n",
       "       [ 0.9449027 ,  0.93235349],\n",
       "       [ 1.26286235,  2.79226409],\n",
       "       [ 0.78302087,  2.54537962],\n",
       "       [ 1.5728662 ,  4.04279154],\n",
       "       [ 1.6088388 ,  3.61377591],\n",
       "       [ 0.43076448,  2.05317035],\n",
       "       [ 0.02567479,  2.40991141],\n",
       "       [-0.07589925,  2.78513581],\n",
       "       [ 0.64740966,  3.26812062],\n",
       "       [ 0.97724101,  1.5960899 ],\n",
       "       [ 0.45235467,  1.93554675],\n",
       "       [ 0.55866514,  2.00607714],\n",
       "       [ 1.20694413,  2.83333061],\n",
       "       [ 1.64112396,  1.99299446],\n",
       "       [ 1.19271908,  1.23624076],\n",
       "       [ 0.58389861,  0.23957733],\n",
       "       [ 0.06052317,  1.44037791],\n",
       "       [ 1.38488791,  2.01955002],\n",
       "       [ 0.81762677,  3.2682762 ],\n",
       "       [ 0.17595568,  1.5504269 ],\n",
       "       [ 1.22030617,  2.41182541],\n",
       "       [ 0.79894072,  1.59883108],\n",
       "       [ 0.78397155,  1.53696724],\n",
       "       [ 1.54904465,  2.16923448],\n",
       "       [ 1.30060932,  2.21894825],\n",
       "       [ 1.52077801,  1.62603498],\n",
       "       [ 1.39970054,  1.39647239],\n",
       "       [ 0.52975891,  1.91550772],\n",
       "       [ 0.41888892,  2.16857858],\n",
       "       [ 0.30320764,  2.61509658],\n",
       "       [ 0.97890125,  2.36881647],\n",
       "       [ 1.09646009,  1.89772618],\n",
       "       [ 1.07635746,  3.22099567],\n",
       "       [ 1.28362084,  1.10667446],\n",
       "       [ 0.95685909,  2.50506981],\n",
       "       [ 1.07284137,  2.26944312],\n",
       "       [ 0.47459126,  0.80989056],\n",
       "       [ 1.02625949,  2.62501151],\n",
       "       [ 1.98223393,  2.49708035],\n",
       "       [ 0.8260099 ,  1.40760895]])"
      ]
     },
     "execution_count": 166,
     "metadata": {},
     "output_type": "execute_result"
    }
   ],
   "source": [
    "X1"
   ]
  },
  {
   "cell_type": "code",
   "execution_count": 167,
   "metadata": {},
   "outputs": [
    {
     "data": {
      "text/plain": [
       "(100, 2)"
      ]
     },
     "execution_count": 167,
     "metadata": {},
     "output_type": "execute_result"
    }
   ],
   "source": [
    "X1.shape"
   ]
  },
  {
   "cell_type": "code",
   "execution_count": 168,
   "metadata": {},
   "outputs": [
    {
     "data": {
      "text/plain": [
       "array([[ 5.19636349,  7.76971898],\n",
       "       [ 6.12019336,  8.19598377],\n",
       "       [ 6.15450082,  8.57891557],\n",
       "       [ 7.16607155,  9.85349101],\n",
       "       [ 4.75489328,  7.63372462],\n",
       "       [ 7.37941038,  8.01998037],\n",
       "       [ 5.09657487,  6.74545889],\n",
       "       [ 5.7192321 ,  9.87150741],\n",
       "       [ 5.75268113,  9.57891345],\n",
       "       [ 8.47378135,  9.54945039],\n",
       "       [ 4.89409464,  8.56370684],\n",
       "       [ 6.42450925,  7.9017003 ],\n",
       "       [ 5.26836676,  8.35361605],\n",
       "       [ 5.36351556,  7.32998097],\n",
       "       [ 6.21128379,  8.82276695],\n",
       "       [ 4.63567568,  6.75750156],\n",
       "       [ 6.11622402,  8.31413902],\n",
       "       [ 5.38074168,  8.39686243],\n",
       "       [ 6.05921894,  6.81937217],\n",
       "       [ 6.96922976,  7.13395459],\n",
       "       [ 5.45138868,  7.48966771],\n",
       "       [ 6.21662348,  8.25107654],\n",
       "       [ 6.5536464 ,  9.75742922],\n",
       "       [ 5.6103101 ,  6.90677661],\n",
       "       [ 4.4645288 ,  8.19230921],\n",
       "       [ 5.07891609,  7.80742199],\n",
       "       [ 4.28717704,  7.11950782],\n",
       "       [ 6.10541472,  8.82333211],\n",
       "       [ 7.27334792,  8.81552966],\n",
       "       [ 7.27642052,  8.67445736],\n",
       "       [ 5.87118886,  8.57559686],\n",
       "       [ 6.51195391,  9.06237863],\n",
       "       [ 4.9472852 ,  8.38727351],\n",
       "       [ 6.85822648,  7.9677492 ],\n",
       "       [ 5.81684369,  9.06656812],\n",
       "       [ 6.12892138,  9.42464379],\n",
       "       [ 4.86998568,  8.33667404],\n",
       "       [ 8.3722973 ,  9.53198214],\n",
       "       [ 6.03816662,  7.8912306 ],\n",
       "       [ 6.72324591, 10.73369811],\n",
       "       [ 6.77403722,  8.83071436],\n",
       "       [ 5.27388162,  8.14652186],\n",
       "       [ 6.69563924,  7.30868836],\n",
       "       [ 5.50869662,  8.46473865],\n",
       "       [ 6.52876402,  9.14852946],\n",
       "       [ 7.39256751,  9.15212205],\n",
       "       [ 8.1967082 ,  8.59789486],\n",
       "       [ 5.15317129,  7.15961527],\n",
       "       [ 3.04488835,  6.33742037],\n",
       "       [ 5.57629602,  9.11769512],\n",
       "       [ 5.39849845,  7.91853045],\n",
       "       [ 5.84466668,  8.16013976],\n",
       "       [ 5.95429788,  8.8043181 ],\n",
       "       [ 6.12023936,  8.14406784],\n",
       "       [ 6.40621385,  8.59195492],\n",
       "       [ 6.97943707,  8.83254866],\n",
       "       [ 5.48009144,  8.46945344],\n",
       "       [ 6.38209561,  8.87258627],\n",
       "       [ 7.3737596 ,  8.81896985],\n",
       "       [ 5.77368452,  8.79957352],\n",
       "       [ 5.36783922,  7.96173808],\n",
       "       [ 6.95258932,  8.55788838],\n",
       "       [ 6.43839991,  7.52399387],\n",
       "       [ 5.46747085,  7.50015918],\n",
       "       [ 6.51831662,  9.30465967],\n",
       "       [ 5.46652201,  9.61307073],\n",
       "       [ 6.55801611,  8.81202365],\n",
       "       [ 7.27600034,  9.00864019],\n",
       "       [ 5.40566155,  5.81606847],\n",
       "       [ 5.73191341,  8.1738509 ],\n",
       "       [ 4.82574529,  7.50205398],\n",
       "       [ 6.64667112,  7.91128057],\n",
       "       [ 5.01423238,  6.39315731],\n",
       "       [ 7.08810969, 10.21764287],\n",
       "       [ 5.32524413,  8.95766847],\n",
       "       [ 4.43989844,  8.25912698],\n",
       "       [ 5.89795445,  9.65509339],\n",
       "       [ 5.50060271,  8.90163505],\n",
       "       [ 7.75519538,  8.31878611],\n",
       "       [ 4.69741066,  6.56392912],\n",
       "       [ 6.29083232,  9.01808968],\n",
       "       [ 6.34917204,  8.4036327 ],\n",
       "       [ 5.46034699,  6.42332384],\n",
       "       [ 4.95050232,  8.6309311 ],\n",
       "       [ 5.69769873,  6.71236693],\n",
       "       [ 5.01439484,  6.60975614],\n",
       "       [ 6.7314094 ,  7.40190508],\n",
       "       [ 6.93220707,  8.32141922],\n",
       "       [ 3.94548903,  6.59353162],\n",
       "       [ 6.31688643,  7.95794806],\n",
       "       [ 6.23584179,  7.88022611],\n",
       "       [ 5.96418288,  7.27532375],\n",
       "       [ 7.62007357,  9.51246133],\n",
       "       [ 4.72167467,  9.2246573 ],\n",
       "       [ 6.69174361,  8.32167572],\n",
       "       [ 4.8097668 ,  6.27852562],\n",
       "       [ 6.92402594,  8.19546865],\n",
       "       [ 5.09447381,  8.08938516],\n",
       "       [ 6.76359025,  8.99175888],\n",
       "       [ 6.10196284,  7.75169293]])"
      ]
     },
     "execution_count": 168,
     "metadata": {},
     "output_type": "execute_result"
    }
   ],
   "source": [
    "X2"
   ]
  },
  {
   "cell_type": "code",
   "execution_count": 169,
   "metadata": {},
   "outputs": [
    {
     "data": {
      "text/plain": [
       "(100, 2)"
      ]
     },
     "execution_count": 169,
     "metadata": {},
     "output_type": "execute_result"
    }
   ],
   "source": [
    "X2.shape"
   ]
  },
  {
   "cell_type": "code",
   "execution_count": 170,
   "metadata": {},
   "outputs": [
    {
     "data": {
      "text/plain": [
       "<matplotlib.collections.PathCollection at 0x1be2e79a208>"
      ]
     },
     "execution_count": 170,
     "metadata": {},
     "output_type": "execute_result"
    },
    {
     "data": {
      "image/png": "[encoded data removed]",
      "text/plain": [
       "<Figure size 432x288 with 1 Axes>"
      ]
     },
     "metadata": {
      "needs_background": "light"
     },
     "output_type": "display_data"
    }
   ],
   "source": [
    "plt.scatter(X1[:,0], X1[:,1])\n",
    "plt.scatter(X2[:,0], X2[:,1])"
   ]
  },
  {
   "cell_type": "code",
   "execution_count": 171,
   "metadata": {},
   "outputs": [],
   "source": [
    "y1 = np.ones((100,))\n",
    "y2 = np.zeros((100,))"
   ]
  },
  {
   "cell_type": "code",
   "execution_count": 172,
   "metadata": {},
   "outputs": [
    {
     "data": {
      "text/plain": [
       "array([1., 1., 1., 1., 1., 1., 1., 1., 1., 1., 1., 1., 1., 1., 1., 1., 1.,\n",
       "       1., 1., 1., 1., 1., 1., 1., 1., 1., 1., 1., 1., 1., 1., 1., 1., 1.,\n",
       "       1., 1., 1., 1., 1., 1., 1., 1., 1., 1., 1., 1., 1., 1., 1., 1., 1.,\n",
       "       1., 1., 1., 1., 1., 1., 1., 1., 1., 1., 1., 1., 1., 1., 1., 1., 1.,\n",
       "       1., 1., 1., 1., 1., 1., 1., 1., 1., 1., 1., 1., 1., 1., 1., 1., 1.,\n",
       "       1., 1., 1., 1., 1., 1., 1., 1., 1., 1., 1., 1., 1., 1., 1.])"
      ]
     },
     "execution_count": 172,
     "metadata": {},
     "output_type": "execute_result"
    }
   ],
   "source": [
    "y1"
   ]
  },
  {
   "cell_type": "code",
   "execution_count": 173,
   "metadata": {},
   "outputs": [
    {
     "data": {
      "text/plain": [
       "array([0., 0., 0., 0., 0., 0., 0., 0., 0., 0., 0., 0., 0., 0., 0., 0., 0.,\n",
       "       0., 0., 0., 0., 0., 0., 0., 0., 0., 0., 0., 0., 0., 0., 0., 0., 0.,\n",
       "       0., 0., 0., 0., 0., 0., 0., 0., 0., 0., 0., 0., 0., 0., 0., 0., 0.,\n",
       "       0., 0., 0., 0., 0., 0., 0., 0., 0., 0., 0., 0., 0., 0., 0., 0., 0.,\n",
       "       0., 0., 0., 0., 0., 0., 0., 0., 0., 0., 0., 0., 0., 0., 0., 0., 0.,\n",
       "       0., 0., 0., 0., 0., 0., 0., 0., 0., 0., 0., 0., 0., 0., 0.])"
      ]
     },
     "execution_count": 173,
     "metadata": {},
     "output_type": "execute_result"
    }
   ],
   "source": [
    "y2"
   ]
  },
  {
   "cell_type": "code",
   "execution_count": 174,
   "metadata": {},
   "outputs": [
    {
     "data": {
      "text/plain": [
       "(100,)"
      ]
     },
     "execution_count": 174,
     "metadata": {},
     "output_type": "execute_result"
    }
   ],
   "source": [
    "y1.shape"
   ]
  },
  {
   "cell_type": "code",
   "execution_count": 175,
   "metadata": {},
   "outputs": [
    {
     "data": {
      "text/plain": [
       "(100,)"
      ]
     },
     "execution_count": 175,
     "metadata": {},
     "output_type": "execute_result"
    }
   ],
   "source": [
    "y2.shape"
   ]
  },
  {
   "cell_type": "code",
   "execution_count": 177,
   "metadata": {},
   "outputs": [],
   "source": [
    "data = np.zeros((200, 3))"
   ]
  },
  {
   "cell_type": "code",
   "execution_count": 178,
   "metadata": {},
   "outputs": [
    {
     "data": {
      "text/plain": [
       "(100,)"
      ]
     },
     "execution_count": 178,
     "metadata": {},
     "output_type": "execute_result"
    }
   ],
   "source": [
    "data[:100,2].shape"
   ]
  },
  {
   "cell_type": "code",
   "execution_count": 179,
   "metadata": {},
   "outputs": [
    {
     "data": {
      "text/plain": [
       "(200, 3)"
      ]
     },
     "execution_count": 179,
     "metadata": {},
     "output_type": "execute_result"
    }
   ],
   "source": [
    "data.shape"
   ]
  },
  {
   "cell_type": "code",
   "execution_count": 180,
   "metadata": {},
   "outputs": [
    {
     "data": {
      "text/plain": [
       "array([[0., 0., 0.],\n",
       "       [0., 0., 0.],\n",
       "       [0., 0., 0.],\n",
       "       [0., 0., 0.],\n",
       "       [0., 0., 0.],\n",
       "       [0., 0., 0.],\n",
       "       [0., 0., 0.],\n",
       "       [0., 0., 0.],\n",
       "       [0., 0., 0.],\n",
       "       [0., 0., 0.],\n",
       "       [0., 0., 0.],\n",
       "       [0., 0., 0.],\n",
       "       [0., 0., 0.],\n",
       "       [0., 0., 0.],\n",
       "       [0., 0., 0.],\n",
       "       [0., 0., 0.],\n",
       "       [0., 0., 0.],\n",
       "       [0., 0., 0.],\n",
       "       [0., 0., 0.],\n",
       "       [0., 0., 0.],\n",
       "       [0., 0., 0.],\n",
       "       [0., 0., 0.],\n",
       "       [0., 0., 0.],\n",
       "       [0., 0., 0.],\n",
       "       [0., 0., 0.],\n",
       "       [0., 0., 0.],\n",
       "       [0., 0., 0.],\n",
       "       [0., 0., 0.],\n",
       "       [0., 0., 0.],\n",
       "       [0., 0., 0.],\n",
       "       [0., 0., 0.],\n",
       "       [0., 0., 0.],\n",
       "       [0., 0., 0.],\n",
       "       [0., 0., 0.],\n",
       "       [0., 0., 0.],\n",
       "       [0., 0., 0.],\n",
       "       [0., 0., 0.],\n",
       "       [0., 0., 0.],\n",
       "       [0., 0., 0.],\n",
       "       [0., 0., 0.],\n",
       "       [0., 0., 0.],\n",
       "       [0., 0., 0.],\n",
       "       [0., 0., 0.],\n",
       "       [0., 0., 0.],\n",
       "       [0., 0., 0.],\n",
       "       [0., 0., 0.],\n",
       "       [0., 0., 0.],\n",
       "       [0., 0., 0.],\n",
       "       [0., 0., 0.],\n",
       "       [0., 0., 0.],\n",
       "       [0., 0., 0.],\n",
       "       [0., 0., 0.],\n",
       "       [0., 0., 0.],\n",
       "       [0., 0., 0.],\n",
       "       [0., 0., 0.],\n",
       "       [0., 0., 0.],\n",
       "       [0., 0., 0.],\n",
       "       [0., 0., 0.],\n",
       "       [0., 0., 0.],\n",
       "       [0., 0., 0.],\n",
       "       [0., 0., 0.],\n",
       "       [0., 0., 0.],\n",
       "       [0., 0., 0.],\n",
       "       [0., 0., 0.],\n",
       "       [0., 0., 0.],\n",
       "       [0., 0., 0.],\n",
       "       [0., 0., 0.],\n",
       "       [0., 0., 0.],\n",
       "       [0., 0., 0.],\n",
       "       [0., 0., 0.],\n",
       "       [0., 0., 0.],\n",
       "       [0., 0., 0.],\n",
       "       [0., 0., 0.],\n",
       "       [0., 0., 0.],\n",
       "       [0., 0., 0.],\n",
       "       [0., 0., 0.],\n",
       "       [0., 0., 0.],\n",
       "       [0., 0., 0.],\n",
       "       [0., 0., 0.],\n",
       "       [0., 0., 0.],\n",
       "       [0., 0., 0.],\n",
       "       [0., 0., 0.],\n",
       "       [0., 0., 0.],\n",
       "       [0., 0., 0.],\n",
       "       [0., 0., 0.],\n",
       "       [0., 0., 0.],\n",
       "       [0., 0., 0.],\n",
       "       [0., 0., 0.],\n",
       "       [0., 0., 0.],\n",
       "       [0., 0., 0.],\n",
       "       [0., 0., 0.],\n",
       "       [0., 0., 0.],\n",
       "       [0., 0., 0.],\n",
       "       [0., 0., 0.],\n",
       "       [0., 0., 0.],\n",
       "       [0., 0., 0.],\n",
       "       [0., 0., 0.],\n",
       "       [0., 0., 0.],\n",
       "       [0., 0., 0.],\n",
       "       [0., 0., 0.],\n",
       "       [0., 0., 0.],\n",
       "       [0., 0., 0.],\n",
       "       [0., 0., 0.],\n",
       "       [0., 0., 0.],\n",
       "       [0., 0., 0.],\n",
       "       [0., 0., 0.],\n",
       "       [0., 0., 0.],\n",
       "       [0., 0., 0.],\n",
       "       [0., 0., 0.],\n",
       "       [0., 0., 0.],\n",
       "       [0., 0., 0.],\n",
       "       [0., 0., 0.],\n",
       "       [0., 0., 0.],\n",
       "       [0., 0., 0.],\n",
       "       [0., 0., 0.],\n",
       "       [0., 0., 0.],\n",
       "       [0., 0., 0.],\n",
       "       [0., 0., 0.],\n",
       "       [0., 0., 0.],\n",
       "       [0., 0., 0.],\n",
       "       [0., 0., 0.],\n",
       "       [0., 0., 0.],\n",
       "       [0., 0., 0.],\n",
       "       [0., 0., 0.],\n",
       "       [0., 0., 0.],\n",
       "       [0., 0., 0.],\n",
       "       [0., 0., 0.],\n",
       "       [0., 0., 0.],\n",
       "       [0., 0., 0.],\n",
       "       [0., 0., 0.],\n",
       "       [0., 0., 0.],\n",
       "       [0., 0., 0.],\n",
       "       [0., 0., 0.],\n",
       "       [0., 0., 0.],\n",
       "       [0., 0., 0.],\n",
       "       [0., 0., 0.],\n",
       "       [0., 0., 0.],\n",
       "       [0., 0., 0.],\n",
       "       [0., 0., 0.],\n",
       "       [0., 0., 0.],\n",
       "       [0., 0., 0.],\n",
       "       [0., 0., 0.],\n",
       "       [0., 0., 0.],\n",
       "       [0., 0., 0.],\n",
       "       [0., 0., 0.],\n",
       "       [0., 0., 0.],\n",
       "       [0., 0., 0.],\n",
       "       [0., 0., 0.],\n",
       "       [0., 0., 0.],\n",
       "       [0., 0., 0.],\n",
       "       [0., 0., 0.],\n",
       "       [0., 0., 0.],\n",
       "       [0., 0., 0.],\n",
       "       [0., 0., 0.],\n",
       "       [0., 0., 0.],\n",
       "       [0., 0., 0.],\n",
       "       [0., 0., 0.],\n",
       "       [0., 0., 0.],\n",
       "       [0., 0., 0.],\n",
       "       [0., 0., 0.],\n",
       "       [0., 0., 0.],\n",
       "       [0., 0., 0.],\n",
       "       [0., 0., 0.],\n",
       "       [0., 0., 0.],\n",
       "       [0., 0., 0.],\n",
       "       [0., 0., 0.],\n",
       "       [0., 0., 0.],\n",
       "       [0., 0., 0.],\n",
       "       [0., 0., 0.],\n",
       "       [0., 0., 0.],\n",
       "       [0., 0., 0.],\n",
       "       [0., 0., 0.],\n",
       "       [0., 0., 0.],\n",
       "       [0., 0., 0.],\n",
       "       [0., 0., 0.],\n",
       "       [0., 0., 0.],\n",
       "       [0., 0., 0.],\n",
       "       [0., 0., 0.],\n",
       "       [0., 0., 0.],\n",
       "       [0., 0., 0.],\n",
       "       [0., 0., 0.],\n",
       "       [0., 0., 0.],\n",
       "       [0., 0., 0.],\n",
       "       [0., 0., 0.],\n",
       "       [0., 0., 0.],\n",
       "       [0., 0., 0.],\n",
       "       [0., 0., 0.],\n",
       "       [0., 0., 0.],\n",
       "       [0., 0., 0.],\n",
       "       [0., 0., 0.],\n",
       "       [0., 0., 0.],\n",
       "       [0., 0., 0.],\n",
       "       [0., 0., 0.],\n",
       "       [0., 0., 0.],\n",
       "       [0., 0., 0.],\n",
       "       [0., 0., 0.],\n",
       "       [0., 0., 0.],\n",
       "       [0., 0., 0.],\n",
       "       [0., 0., 0.],\n",
       "       [0., 0., 0.]])"
      ]
     },
     "execution_count": 180,
     "metadata": {},
     "output_type": "execute_result"
    }
   ],
   "source": [
    "data"
   ]
  },
  {
   "cell_type": "code",
   "execution_count": 181,
   "metadata": {},
   "outputs": [],
   "source": [
    "data[:100, :-1] = X1\n",
    "data[100:, :-1] = X2\n",
    "data[:100, 2] = y1"
   ]
  },
  {
   "cell_type": "code",
   "execution_count": 182,
   "metadata": {},
   "outputs": [
    {
     "data": {
      "text/plain": [
       "array([[ 1.48609572,  3.45454571,  1.        ],\n",
       "       [ 0.63044913,  0.58811809,  1.        ],\n",
       "       [ 1.57931881,  2.64400748,  1.        ],\n",
       "       [ 1.43489232,  2.37736741,  1.        ],\n",
       "       [ 0.76928112,  1.78241086,  1.        ],\n",
       "       [ 0.72656843, -0.5856983 ,  1.        ],\n",
       "       [ 2.0238513 ,  0.82176449,  1.        ],\n",
       "       [ 0.46282719,  1.93094468,  1.        ],\n",
       "       [ 1.30188196,  1.58265021,  1.        ],\n",
       "       [ 1.20238382,  2.76172879,  1.        ],\n",
       "       [ 0.08482632,  1.39383177,  1.        ],\n",
       "       [ 0.77217724,  1.02360006,  1.        ],\n",
       "       [ 1.23098694,  3.07536099,  1.        ],\n",
       "       [ 0.9918279 ,  1.85870569,  1.        ],\n",
       "       [ 0.93299456,  2.09461098,  1.        ],\n",
       "       [ 1.40319782,  0.9973711 ,  1.        ],\n",
       "       [ 0.07943555,  1.9831677 ,  1.        ],\n",
       "       [ 0.56689013,  1.3742609 ,  1.        ],\n",
       "       [ 1.21418426,  2.02949319,  1.        ],\n",
       "       [ 1.3701341 , -0.14030649,  1.        ],\n",
       "       [ 1.189828  ,  0.77927526,  1.        ],\n",
       "       [ 2.06510475,  1.92357789,  1.        ],\n",
       "       [ 0.45310254,  1.41021698,  1.        ],\n",
       "       [ 0.95198281,  2.53138178,  1.        ],\n",
       "       [ 1.12759237,  1.71678211,  1.        ],\n",
       "       [ 0.97022141,  2.14138544,  1.        ],\n",
       "       [-0.53463461,  1.98343613,  1.        ],\n",
       "       [ 1.26658216,  1.09049421,  1.        ],\n",
       "       [ 2.06993518,  3.58162043,  1.        ],\n",
       "       [ 0.27458105,  2.12173974,  1.        ],\n",
       "       [ 0.54168082,  2.46767026,  1.        ],\n",
       "       [ 0.89500395,  3.10405107,  1.        ],\n",
       "       [ 1.68885937,  1.90198277,  1.        ],\n",
       "       [-0.35313963,  2.65973512,  1.        ],\n",
       "       [ 1.44937611,  2.74551131,  1.        ],\n",
       "       [ 0.77762405,  1.12588098,  1.        ],\n",
       "       [ 0.4238975 ,  0.86666579,  1.        ],\n",
       "       [ 1.42243534,  2.19327114,  1.        ],\n",
       "       [ 1.10558016,  1.78281777,  1.        ],\n",
       "       [ 0.76895525,  2.89580816,  1.        ],\n",
       "       [ 0.94066551,  4.03893562,  1.        ],\n",
       "       [ 1.68678514,  2.69197464,  1.        ],\n",
       "       [ 0.85071922,  1.98476649,  1.        ],\n",
       "       [ 1.32865379,  3.47179298,  1.        ],\n",
       "       [ 0.47124002,  3.69101858,  1.        ],\n",
       "       [ 0.56228555,  2.01188241,  1.        ],\n",
       "       [ 0.09960935,  1.7352508 ,  1.        ],\n",
       "       [-0.2134193 ,  0.75215602,  1.        ],\n",
       "       [ 1.10081654,  1.39431132,  1.        ],\n",
       "       [ 1.96007097,  1.89314477,  1.        ],\n",
       "       [-0.6435543 ,  1.35747857,  1.        ],\n",
       "       [ 0.93779352,  2.49225094,  1.        ],\n",
       "       [ 2.07687544,  2.16827104,  1.        ],\n",
       "       [ 0.25710039,  1.6667695 ,  1.        ],\n",
       "       [ 1.56523088,  2.98238232,  1.        ],\n",
       "       [ 1.84532287,  0.48682569,  1.        ],\n",
       "       [ 1.24325911,  2.03457647,  1.        ],\n",
       "       [ 0.80218957,  2.1746316 ,  1.        ],\n",
       "       [ 2.22668844,  3.63926856,  1.        ],\n",
       "       [ 2.16563009,  1.62390062,  1.        ],\n",
       "       [ 0.9449027 ,  0.93235349,  1.        ],\n",
       "       [ 1.26286235,  2.79226409,  1.        ],\n",
       "       [ 0.78302087,  2.54537962,  1.        ],\n",
       "       [ 1.5728662 ,  4.04279154,  1.        ],\n",
       "       [ 1.6088388 ,  3.61377591,  1.        ],\n",
       "       [ 0.43076448,  2.05317035,  1.        ],\n",
       "       [ 0.02567479,  2.40991141,  1.        ],\n",
       "       [-0.07589925,  2.78513581,  1.        ],\n",
       "       [ 0.64740966,  3.26812062,  1.        ],\n",
       "       [ 0.97724101,  1.5960899 ,  1.        ],\n",
       "       [ 0.45235467,  1.93554675,  1.        ],\n",
       "       [ 0.55866514,  2.00607714,  1.        ],\n",
       "       [ 1.20694413,  2.83333061,  1.        ],\n",
       "       [ 1.64112396,  1.99299446,  1.        ],\n",
       "       [ 1.19271908,  1.23624076,  1.        ],\n",
       "       [ 0.58389861,  0.23957733,  1.        ],\n",
       "       [ 0.06052317,  1.44037791,  1.        ],\n",
       "       [ 1.38488791,  2.01955002,  1.        ],\n",
       "       [ 0.81762677,  3.2682762 ,  1.        ],\n",
       "       [ 0.17595568,  1.5504269 ,  1.        ],\n",
       "       [ 1.22030617,  2.41182541,  1.        ],\n",
       "       [ 0.79894072,  1.59883108,  1.        ],\n",
       "       [ 0.78397155,  1.53696724,  1.        ],\n",
       "       [ 1.54904465,  2.16923448,  1.        ],\n",
       "       [ 1.30060932,  2.21894825,  1.        ],\n",
       "       [ 1.52077801,  1.62603498,  1.        ],\n",
       "       [ 1.39970054,  1.39647239,  1.        ],\n",
       "       [ 0.52975891,  1.91550772,  1.        ],\n",
       "       [ 0.41888892,  2.16857858,  1.        ],\n",
       "       [ 0.30320764,  2.61509658,  1.        ],\n",
       "       [ 0.97890125,  2.36881647,  1.        ],\n",
       "       [ 1.09646009,  1.89772618,  1.        ],\n",
       "       [ 1.07635746,  3.22099567,  1.        ],\n",
       "       [ 1.28362084,  1.10667446,  1.        ],\n",
       "       [ 0.95685909,  2.50506981,  1.        ],\n",
       "       [ 1.07284137,  2.26944312,  1.        ],\n",
       "       [ 0.47459126,  0.80989056,  1.        ],\n",
       "       [ 1.02625949,  2.62501151,  1.        ],\n",
       "       [ 1.98223393,  2.49708035,  1.        ],\n",
       "       [ 0.8260099 ,  1.40760895,  1.        ],\n",
       "       [ 5.19636349,  7.76971898,  0.        ],\n",
       "       [ 6.12019336,  8.19598377,  0.        ],\n",
       "       [ 6.15450082,  8.57891557,  0.        ],\n",
       "       [ 7.16607155,  9.85349101,  0.        ],\n",
       "       [ 4.75489328,  7.63372462,  0.        ],\n",
       "       [ 7.37941038,  8.01998037,  0.        ],\n",
       "       [ 5.09657487,  6.74545889,  0.        ],\n",
       "       [ 5.7192321 ,  9.87150741,  0.        ],\n",
       "       [ 5.75268113,  9.57891345,  0.        ],\n",
       "       [ 8.47378135,  9.54945039,  0.        ],\n",
       "       [ 4.89409464,  8.56370684,  0.        ],\n",
       "       [ 6.42450925,  7.9017003 ,  0.        ],\n",
       "       [ 5.26836676,  8.35361605,  0.        ],\n",
       "       [ 5.36351556,  7.32998097,  0.        ],\n",
       "       [ 6.21128379,  8.82276695,  0.        ],\n",
       "       [ 4.63567568,  6.75750156,  0.        ],\n",
       "       [ 6.11622402,  8.31413902,  0.        ],\n",
       "       [ 5.38074168,  8.39686243,  0.        ],\n",
       "       [ 6.05921894,  6.81937217,  0.        ],\n",
       "       [ 6.96922976,  7.13395459,  0.        ],\n",
       "       [ 5.45138868,  7.48966771,  0.        ],\n",
       "       [ 6.21662348,  8.25107654,  0.        ],\n",
       "       [ 6.5536464 ,  9.75742922,  0.        ],\n",
       "       [ 5.6103101 ,  6.90677661,  0.        ],\n",
       "       [ 4.4645288 ,  8.19230921,  0.        ],\n",
       "       [ 5.07891609,  7.80742199,  0.        ],\n",
       "       [ 4.28717704,  7.11950782,  0.        ],\n",
       "       [ 6.10541472,  8.82333211,  0.        ],\n",
       "       [ 7.27334792,  8.81552966,  0.        ],\n",
       "       [ 7.27642052,  8.67445736,  0.        ],\n",
       "       [ 5.87118886,  8.57559686,  0.        ],\n",
       "       [ 6.51195391,  9.06237863,  0.        ],\n",
       "       [ 4.9472852 ,  8.38727351,  0.        ],\n",
       "       [ 6.85822648,  7.9677492 ,  0.        ],\n",
       "       [ 5.81684369,  9.06656812,  0.        ],\n",
       "       [ 6.12892138,  9.42464379,  0.        ],\n",
       "       [ 4.86998568,  8.33667404,  0.        ],\n",
       "       [ 8.3722973 ,  9.53198214,  0.        ],\n",
       "       [ 6.03816662,  7.8912306 ,  0.        ],\n",
       "       [ 6.72324591, 10.73369811,  0.        ],\n",
       "       [ 6.77403722,  8.83071436,  0.        ],\n",
       "       [ 5.27388162,  8.14652186,  0.        ],\n",
       "       [ 6.69563924,  7.30868836,  0.        ],\n",
       "       [ 5.50869662,  8.46473865,  0.        ],\n",
       "       [ 6.52876402,  9.14852946,  0.        ],\n",
       "       [ 7.39256751,  9.15212205,  0.        ],\n",
       "       [ 8.1967082 ,  8.59789486,  0.        ],\n",
       "       [ 5.15317129,  7.15961527,  0.        ],\n",
       "       [ 3.04488835,  6.33742037,  0.        ],\n",
       "       [ 5.57629602,  9.11769512,  0.        ],\n",
       "       [ 5.39849845,  7.91853045,  0.        ],\n",
       "       [ 5.84466668,  8.16013976,  0.        ],\n",
       "       [ 5.95429788,  8.8043181 ,  0.        ],\n",
       "       [ 6.12023936,  8.14406784,  0.        ],\n",
       "       [ 6.40621385,  8.59195492,  0.        ],\n",
       "       [ 6.97943707,  8.83254866,  0.        ],\n",
       "       [ 5.48009144,  8.46945344,  0.        ],\n",
       "       [ 6.38209561,  8.87258627,  0.        ],\n",
       "       [ 7.3737596 ,  8.81896985,  0.        ],\n",
       "       [ 5.77368452,  8.79957352,  0.        ],\n",
       "       [ 5.36783922,  7.96173808,  0.        ],\n",
       "       [ 6.95258932,  8.55788838,  0.        ],\n",
       "       [ 6.43839991,  7.52399387,  0.        ],\n",
       "       [ 5.46747085,  7.50015918,  0.        ],\n",
       "       [ 6.51831662,  9.30465967,  0.        ],\n",
       "       [ 5.46652201,  9.61307073,  0.        ],\n",
       "       [ 6.55801611,  8.81202365,  0.        ],\n",
       "       [ 7.27600034,  9.00864019,  0.        ],\n",
       "       [ 5.40566155,  5.81606847,  0.        ],\n",
       "       [ 5.73191341,  8.1738509 ,  0.        ],\n",
       "       [ 4.82574529,  7.50205398,  0.        ],\n",
       "       [ 6.64667112,  7.91128057,  0.        ],\n",
       "       [ 5.01423238,  6.39315731,  0.        ],\n",
       "       [ 7.08810969, 10.21764287,  0.        ],\n",
       "       [ 5.32524413,  8.95766847,  0.        ],\n",
       "       [ 4.43989844,  8.25912698,  0.        ],\n",
       "       [ 5.89795445,  9.65509339,  0.        ],\n",
       "       [ 5.50060271,  8.90163505,  0.        ],\n",
       "       [ 7.75519538,  8.31878611,  0.        ],\n",
       "       [ 4.69741066,  6.56392912,  0.        ],\n",
       "       [ 6.29083232,  9.01808968,  0.        ],\n",
       "       [ 6.34917204,  8.4036327 ,  0.        ],\n",
       "       [ 5.46034699,  6.42332384,  0.        ],\n",
       "       [ 4.95050232,  8.6309311 ,  0.        ],\n",
       "       [ 5.69769873,  6.71236693,  0.        ],\n",
       "       [ 5.01439484,  6.60975614,  0.        ],\n",
       "       [ 6.7314094 ,  7.40190508,  0.        ],\n",
       "       [ 6.93220707,  8.32141922,  0.        ],\n",
       "       [ 3.94548903,  6.59353162,  0.        ],\n",
       "       [ 6.31688643,  7.95794806,  0.        ],\n",
       "       [ 6.23584179,  7.88022611,  0.        ],\n",
       "       [ 5.96418288,  7.27532375,  0.        ],\n",
       "       [ 7.62007357,  9.51246133,  0.        ],\n",
       "       [ 4.72167467,  9.2246573 ,  0.        ],\n",
       "       [ 6.69174361,  8.32167572,  0.        ],\n",
       "       [ 4.8097668 ,  6.27852562,  0.        ],\n",
       "       [ 6.92402594,  8.19546865,  0.        ],\n",
       "       [ 5.09447381,  8.08938516,  0.        ],\n",
       "       [ 6.76359025,  8.99175888,  0.        ],\n",
       "       [ 6.10196284,  7.75169293,  0.        ]])"
      ]
     },
     "execution_count": 182,
     "metadata": {},
     "output_type": "execute_result"
    }
   ],
   "source": [
    "data"
   ]
  },
  {
   "cell_type": "code",
   "execution_count": 183,
   "metadata": {},
   "outputs": [
    {
     "data": {
      "text/plain": [
       "(200, 3)"
      ]
     },
     "execution_count": 183,
     "metadata": {},
     "output_type": "execute_result"
    }
   ],
   "source": [
    "data.shape"
   ]
  },
  {
   "cell_type": "code",
   "execution_count": 184,
   "metadata": {},
   "outputs": [],
   "source": [
    "np.random.shuffle(data)"
   ]
  },
  {
   "cell_type": "code",
   "execution_count": 185,
   "metadata": {},
   "outputs": [
    {
     "data": {
      "text/plain": [
       "array([[ 1.44937611,  2.74551131,  1.        ],\n",
       "       [ 5.09657487,  6.74545889,  0.        ],\n",
       "       [ 6.38209561,  8.87258627,  0.        ],\n",
       "       [ 5.01423238,  6.39315731,  0.        ],\n",
       "       [ 5.50060271,  8.90163505,  0.        ],\n",
       "       [ 6.29083232,  9.01808968,  0.        ],\n",
       "       [ 1.12759237,  1.71678211,  1.        ],\n",
       "       [ 1.40319782,  0.9973711 ,  1.        ],\n",
       "       [ 4.82574529,  7.50205398,  0.        ],\n",
       "       [ 1.98223393,  2.49708035,  1.        ],\n",
       "       [ 6.76359025,  8.99175888,  0.        ],\n",
       "       [ 5.81684369,  9.06656812,  0.        ],\n",
       "       [ 6.92402594,  8.19546865,  0.        ],\n",
       "       [ 1.96007097,  1.89314477,  1.        ],\n",
       "       [ 7.62007357,  9.51246133,  0.        ],\n",
       "       [ 5.15317129,  7.15961527,  0.        ],\n",
       "       [ 5.7192321 ,  9.87150741,  0.        ],\n",
       "       [ 0.02567479,  2.40991141,  1.        ],\n",
       "       [ 6.93220707,  8.32141922,  0.        ],\n",
       "       [ 4.95050232,  8.6309311 ,  0.        ],\n",
       "       [ 0.47124002,  3.69101858,  1.        ],\n",
       "       [ 1.20238382,  2.76172879,  1.        ],\n",
       "       [ 4.72167467,  9.2246573 ,  0.        ],\n",
       "       [ 5.19636349,  7.76971898,  0.        ],\n",
       "       [ 4.8097668 ,  6.27852562,  0.        ],\n",
       "       [ 0.79894072,  1.59883108,  1.        ],\n",
       "       [ 0.08482632,  1.39383177,  1.        ],\n",
       "       [ 1.42243534,  2.19327114,  1.        ],\n",
       "       [ 0.54168082,  2.46767026,  1.        ],\n",
       "       [ 7.75519538,  8.31878611,  0.        ],\n",
       "       [ 6.52876402,  9.14852946,  0.        ],\n",
       "       [ 1.24325911,  2.03457647,  1.        ],\n",
       "       [ 0.63044913,  0.58811809,  1.        ],\n",
       "       [ 5.36351556,  7.32998097,  0.        ],\n",
       "       [ 0.27458105,  2.12173974,  1.        ],\n",
       "       [ 0.95198281,  2.53138178,  1.        ],\n",
       "       [ 0.09960935,  1.7352508 ,  1.        ],\n",
       "       [ 5.36783922,  7.96173808,  0.        ],\n",
       "       [ 1.57931881,  2.64400748,  1.        ],\n",
       "       [ 1.48609572,  3.45454571,  1.        ],\n",
       "       [ 0.55866514,  2.00607714,  1.        ],\n",
       "       [ 0.45235467,  1.93554675,  1.        ],\n",
       "       [ 8.3722973 ,  9.53198214,  0.        ],\n",
       "       [ 2.06993518,  3.58162043,  1.        ],\n",
       "       [ 2.22668844,  3.63926856,  1.        ],\n",
       "       [ 0.78302087,  2.54537962,  1.        ],\n",
       "       [ 4.4645288 ,  8.19230921,  0.        ],\n",
       "       [ 2.0238513 ,  0.82176449,  1.        ],\n",
       "       [ 6.97943707,  8.83254866,  0.        ],\n",
       "       [ 5.87118886,  8.57559686,  0.        ],\n",
       "       [ 0.64740966,  3.26812062,  1.        ],\n",
       "       [ 5.40566155,  5.81606847,  0.        ],\n",
       "       [ 6.96922976,  7.13395459,  0.        ],\n",
       "       [ 1.84532287,  0.48682569,  1.        ],\n",
       "       [ 6.10196284,  7.75169293,  0.        ],\n",
       "       [ 7.08810969, 10.21764287,  0.        ],\n",
       "       [ 4.9472852 ,  8.38727351,  0.        ],\n",
       "       [ 5.84466668,  8.16013976,  0.        ],\n",
       "       [ 5.95429788,  8.8043181 ,  0.        ],\n",
       "       [ 6.12023936,  8.14406784,  0.        ],\n",
       "       [ 1.68885937,  1.90198277,  1.        ],\n",
       "       [ 6.7314094 ,  7.40190508,  0.        ],\n",
       "       [ 5.38074168,  8.39686243,  0.        ],\n",
       "       [ 0.52975891,  1.91550772,  1.        ],\n",
       "       [ 1.22030617,  2.41182541,  1.        ],\n",
       "       [ 5.45138868,  7.48966771,  0.        ],\n",
       "       [ 6.72324591, 10.73369811,  0.        ],\n",
       "       [ 4.63567568,  6.75750156,  0.        ],\n",
       "       [ 5.89795445,  9.65509339,  0.        ],\n",
       "       [ 6.55801611,  8.81202365,  0.        ],\n",
       "       [ 5.69769873,  6.71236693,  0.        ],\n",
       "       [ 5.96418288,  7.27532375,  0.        ],\n",
       "       [ 6.51195391,  9.06237863,  0.        ],\n",
       "       [ 0.9449027 ,  0.93235349,  1.        ],\n",
       "       [ 6.64667112,  7.91128057,  0.        ],\n",
       "       [ 4.28717704,  7.11950782,  0.        ],\n",
       "       [ 1.30060932,  2.21894825,  1.        ],\n",
       "       [ 0.80218957,  2.1746316 ,  1.        ],\n",
       "       [ 1.19271908,  1.23624076,  1.        ],\n",
       "       [ 0.77762405,  1.12588098,  1.        ],\n",
       "       [ 1.07635746,  3.22099567,  1.        ],\n",
       "       [ 0.43076448,  2.05317035,  1.        ],\n",
       "       [-0.6435543 ,  1.35747857,  1.        ],\n",
       "       [ 1.32865379,  3.47179298,  1.        ],\n",
       "       [ 1.30188196,  1.58265021,  1.        ],\n",
       "       [ 1.64112396,  1.99299446,  1.        ],\n",
       "       [ 1.02625949,  2.62501151,  1.        ],\n",
       "       [ 1.10081654,  1.39431132,  1.        ],\n",
       "       [ 1.20694413,  2.83333061,  1.        ],\n",
       "       [ 5.6103101 ,  6.90677661,  0.        ],\n",
       "       [ 5.09447381,  8.08938516,  0.        ],\n",
       "       [ 4.69741066,  6.56392912,  0.        ],\n",
       "       [ 6.11622402,  8.31413902,  0.        ],\n",
       "       [ 0.30320764,  2.61509658,  1.        ],\n",
       "       [ 8.47378135,  9.54945039,  0.        ],\n",
       "       [ 5.07891609,  7.80742199,  0.        ],\n",
       "       [ 1.26658216,  1.09049421,  1.        ],\n",
       "       [ 1.07284137,  2.26944312,  1.        ],\n",
       "       [ 6.43839991,  7.52399387,  0.        ],\n",
       "       [ 6.12019336,  8.19598377,  0.        ],\n",
       "       [ 1.10558016,  1.78281777,  1.        ],\n",
       "       [ 1.23098694,  3.07536099,  1.        ],\n",
       "       [ 6.69563924,  7.30868836,  0.        ],\n",
       "       [ 1.26286235,  2.79226409,  1.        ],\n",
       "       [ 0.85071922,  1.98476649,  1.        ],\n",
       "       [ 1.56523088,  2.98238232,  1.        ],\n",
       "       [ 0.94066551,  4.03893562,  1.        ],\n",
       "       [ 7.27600034,  9.00864019,  0.        ],\n",
       "       [ 0.76895525,  2.89580816,  1.        ],\n",
       "       [ 5.26836676,  8.35361605,  0.        ],\n",
       "       [ 1.5728662 ,  4.04279154,  1.        ],\n",
       "       [ 6.15450082,  8.57891557,  0.        ],\n",
       "       [ 1.43489232,  2.37736741,  1.        ],\n",
       "       [ 6.42450925,  7.9017003 ,  0.        ],\n",
       "       [ 0.25710039,  1.6667695 ,  1.        ],\n",
       "       [ 0.56228555,  2.01188241,  1.        ],\n",
       "       [ 5.46652201,  9.61307073,  0.        ],\n",
       "       [ 7.37941038,  8.01998037,  0.        ],\n",
       "       [ 0.97890125,  2.36881647,  1.        ],\n",
       "       [ 0.81762677,  3.2682762 ,  1.        ],\n",
       "       [ 5.39849845,  7.91853045,  0.        ],\n",
       "       [ 2.06510475,  1.92357789,  1.        ],\n",
       "       [ 7.27334792,  8.81552966,  0.        ],\n",
       "       [ 6.95258932,  8.55788838,  0.        ],\n",
       "       [ 1.68678514,  2.69197464,  1.        ],\n",
       "       [ 1.52077801,  1.62603498,  1.        ],\n",
       "       [ 6.12892138,  9.42464379,  0.        ],\n",
       "       [ 0.89500395,  3.10405107,  1.        ],\n",
       "       [ 1.3701341 , -0.14030649,  1.        ],\n",
       "       [ 6.31688643,  7.95794806,  0.        ],\n",
       "       [ 6.10541472,  8.82333211,  0.        ],\n",
       "       [ 5.75268113,  9.57891345,  0.        ],\n",
       "       [ 0.77217724,  1.02360006,  1.        ],\n",
       "       [ 5.27388162,  8.14652186,  0.        ],\n",
       "       [ 6.77403722,  8.83071436,  0.        ],\n",
       "       [ 0.17595568,  1.5504269 ,  1.        ],\n",
       "       [ 0.78397155,  1.53696724,  1.        ],\n",
       "       [ 6.69174361,  8.32167572,  0.        ],\n",
       "       [ 0.41888892,  2.16857858,  1.        ],\n",
       "       [ 1.6088388 ,  3.61377591,  1.        ],\n",
       "       [ 2.16563009,  1.62390062,  1.        ],\n",
       "       [ 0.93299456,  2.09461098,  1.        ],\n",
       "       [ 0.56689013,  1.3742609 ,  1.        ],\n",
       "       [ 4.43989844,  8.25912698,  0.        ],\n",
       "       [ 4.75489328,  7.63372462,  0.        ],\n",
       "       [ 0.46282719,  1.93094468,  1.        ],\n",
       "       [ 1.189828  ,  0.77927526,  1.        ],\n",
       "       [ 1.54904465,  2.16923448,  1.        ],\n",
       "       [ 1.28362084,  1.10667446,  1.        ],\n",
       "       [ 5.48009144,  8.46945344,  0.        ],\n",
       "       [ 6.21662348,  8.25107654,  0.        ],\n",
       "       [ 0.4238975 ,  0.86666579,  1.        ],\n",
       "       [ 0.07943555,  1.9831677 ,  1.        ],\n",
       "       [ 7.16607155,  9.85349101,  0.        ],\n",
       "       [ 5.57629602,  9.11769512,  0.        ],\n",
       "       [ 7.3737596 ,  8.81896985,  0.        ],\n",
       "       [ 4.89409464,  8.56370684,  0.        ],\n",
       "       [ 7.39256751,  9.15212205,  0.        ],\n",
       "       [ 0.06052317,  1.44037791,  1.        ],\n",
       "       [ 0.47459126,  0.80989056,  1.        ],\n",
       "       [ 5.77368452,  8.79957352,  0.        ],\n",
       "       [ 1.09646009,  1.89772618,  1.        ],\n",
       "       [-0.35313963,  2.65973512,  1.        ],\n",
       "       [ 6.51831662,  9.30465967,  0.        ],\n",
       "       [ 2.07687544,  2.16827104,  1.        ],\n",
       "       [ 5.32524413,  8.95766847,  0.        ],\n",
       "       [ 0.95685909,  2.50506981,  1.        ],\n",
       "       [ 0.8260099 ,  1.40760895,  1.        ],\n",
       "       [-0.2134193 ,  0.75215602,  1.        ],\n",
       "       [ 0.58389861,  0.23957733,  1.        ],\n",
       "       [ 6.85822648,  7.9677492 ,  0.        ],\n",
       "       [ 8.1967082 ,  8.59789486,  0.        ],\n",
       "       [ 6.23584179,  7.88022611,  0.        ],\n",
       "       [ 0.72656843, -0.5856983 ,  1.        ],\n",
       "       [ 6.40621385,  8.59195492,  0.        ],\n",
       "       [ 5.73191341,  8.1738509 ,  0.        ],\n",
       "       [ 1.38488791,  2.01955002,  1.        ],\n",
       "       [-0.07589925,  2.78513581,  1.        ],\n",
       "       [ 3.94548903,  6.59353162,  0.        ],\n",
       "       [ 6.34917204,  8.4036327 ,  0.        ],\n",
       "       [ 5.01439484,  6.60975614,  0.        ],\n",
       "       [ 6.05921894,  6.81937217,  0.        ],\n",
       "       [ 1.21418426,  2.02949319,  1.        ],\n",
       "       [ 1.39970054,  1.39647239,  1.        ],\n",
       "       [ 0.9918279 ,  1.85870569,  1.        ],\n",
       "       [ 5.50869662,  8.46473865,  0.        ],\n",
       "       [ 3.04488835,  6.33742037,  0.        ],\n",
       "       [ 4.86998568,  8.33667404,  0.        ],\n",
       "       [ 0.97022141,  2.14138544,  1.        ],\n",
       "       [ 0.93779352,  2.49225094,  1.        ],\n",
       "       [ 7.27642052,  8.67445736,  0.        ],\n",
       "       [ 6.5536464 ,  9.75742922,  0.        ],\n",
       "       [ 0.97724101,  1.5960899 ,  1.        ],\n",
       "       [ 0.45310254,  1.41021698,  1.        ],\n",
       "       [-0.53463461,  1.98343613,  1.        ],\n",
       "       [ 5.46034699,  6.42332384,  0.        ],\n",
       "       [ 5.46747085,  7.50015918,  0.        ],\n",
       "       [ 6.03816662,  7.8912306 ,  0.        ],\n",
       "       [ 0.76928112,  1.78241086,  1.        ],\n",
       "       [ 6.21128379,  8.82276695,  0.        ]])"
      ]
     },
     "execution_count": 185,
     "metadata": {},
     "output_type": "execute_result"
    }
   ],
   "source": [
    "data"
   ]
  },
  {
   "cell_type": "code",
   "execution_count": 186,
   "metadata": {},
   "outputs": [],
   "source": [
    "X = data[:,:-1]\n",
    "Y = data[:,-1]"
   ]
  },
  {
   "cell_type": "code",
   "execution_count": 187,
   "metadata": {},
   "outputs": [
    {
     "data": {
      "text/plain": [
       "array([[ 1.44937611,  2.74551131],\n",
       "       [ 5.09657487,  6.74545889],\n",
       "       [ 6.38209561,  8.87258627],\n",
       "       [ 5.01423238,  6.39315731],\n",
       "       [ 5.50060271,  8.90163505],\n",
       "       [ 6.29083232,  9.01808968],\n",
       "       [ 1.12759237,  1.71678211],\n",
       "       [ 1.40319782,  0.9973711 ],\n",
       "       [ 4.82574529,  7.50205398],\n",
       "       [ 1.98223393,  2.49708035],\n",
       "       [ 6.76359025,  8.99175888],\n",
       "       [ 5.81684369,  9.06656812],\n",
       "       [ 6.92402594,  8.19546865],\n",
       "       [ 1.96007097,  1.89314477],\n",
       "       [ 7.62007357,  9.51246133],\n",
       "       [ 5.15317129,  7.15961527],\n",
       "       [ 5.7192321 ,  9.87150741],\n",
       "       [ 0.02567479,  2.40991141],\n",
       "       [ 6.93220707,  8.32141922],\n",
       "       [ 4.95050232,  8.6309311 ],\n",
       "       [ 0.47124002,  3.69101858],\n",
       "       [ 1.20238382,  2.76172879],\n",
       "       [ 4.72167467,  9.2246573 ],\n",
       "       [ 5.19636349,  7.76971898],\n",
       "       [ 4.8097668 ,  6.27852562],\n",
       "       [ 0.79894072,  1.59883108],\n",
       "       [ 0.08482632,  1.39383177],\n",
       "       [ 1.42243534,  2.19327114],\n",
       "       [ 0.54168082,  2.46767026],\n",
       "       [ 7.75519538,  8.31878611],\n",
       "       [ 6.52876402,  9.14852946],\n",
       "       [ 1.24325911,  2.03457647],\n",
       "       [ 0.63044913,  0.58811809],\n",
       "       [ 5.36351556,  7.32998097],\n",
       "       [ 0.27458105,  2.12173974],\n",
       "       [ 0.95198281,  2.53138178],\n",
       "       [ 0.09960935,  1.7352508 ],\n",
       "       [ 5.36783922,  7.96173808],\n",
       "       [ 1.57931881,  2.64400748],\n",
       "       [ 1.48609572,  3.45454571],\n",
       "       [ 0.55866514,  2.00607714],\n",
       "       [ 0.45235467,  1.93554675],\n",
       "       [ 8.3722973 ,  9.53198214],\n",
       "       [ 2.06993518,  3.58162043],\n",
       "       [ 2.22668844,  3.63926856],\n",
       "       [ 0.78302087,  2.54537962],\n",
       "       [ 4.4645288 ,  8.19230921],\n",
       "       [ 2.0238513 ,  0.82176449],\n",
       "       [ 6.97943707,  8.83254866],\n",
       "       [ 5.87118886,  8.57559686],\n",
       "       [ 0.64740966,  3.26812062],\n",
       "       [ 5.40566155,  5.81606847],\n",
       "       [ 6.96922976,  7.13395459],\n",
       "       [ 1.84532287,  0.48682569],\n",
       "       [ 6.10196284,  7.75169293],\n",
       "       [ 7.08810969, 10.21764287],\n",
       "       [ 4.9472852 ,  8.38727351],\n",
       "       [ 5.84466668,  8.16013976],\n",
       "       [ 5.95429788,  8.8043181 ],\n",
       "       [ 6.12023936,  8.14406784],\n",
       "       [ 1.68885937,  1.90198277],\n",
       "       [ 6.7314094 ,  7.40190508],\n",
       "       [ 5.38074168,  8.39686243],\n",
       "       [ 0.52975891,  1.91550772],\n",
       "       [ 1.22030617,  2.41182541],\n",
       "       [ 5.45138868,  7.48966771],\n",
       "       [ 6.72324591, 10.73369811],\n",
       "       [ 4.63567568,  6.75750156],\n",
       "       [ 5.89795445,  9.65509339],\n",
       "       [ 6.55801611,  8.81202365],\n",
       "       [ 5.69769873,  6.71236693],\n",
       "       [ 5.96418288,  7.27532375],\n",
       "       [ 6.51195391,  9.06237863],\n",
       "       [ 0.9449027 ,  0.93235349],\n",
       "       [ 6.64667112,  7.91128057],\n",
       "       [ 4.28717704,  7.11950782],\n",
       "       [ 1.30060932,  2.21894825],\n",
       "       [ 0.80218957,  2.1746316 ],\n",
       "       [ 1.19271908,  1.23624076],\n",
       "       [ 0.77762405,  1.12588098],\n",
       "       [ 1.07635746,  3.22099567],\n",
       "       [ 0.43076448,  2.05317035],\n",
       "       [-0.6435543 ,  1.35747857],\n",
       "       [ 1.32865379,  3.47179298],\n",
       "       [ 1.30188196,  1.58265021],\n",
       "       [ 1.64112396,  1.99299446],\n",
       "       [ 1.02625949,  2.62501151],\n",
       "       [ 1.10081654,  1.39431132],\n",
       "       [ 1.20694413,  2.83333061],\n",
       "       [ 5.6103101 ,  6.90677661],\n",
       "       [ 5.09447381,  8.08938516],\n",
       "       [ 4.69741066,  6.56392912],\n",
       "       [ 6.11622402,  8.31413902],\n",
       "       [ 0.30320764,  2.61509658],\n",
       "       [ 8.47378135,  9.54945039],\n",
       "       [ 5.07891609,  7.80742199],\n",
       "       [ 1.26658216,  1.09049421],\n",
       "       [ 1.07284137,  2.26944312],\n",
       "       [ 6.43839991,  7.52399387],\n",
       "       [ 6.12019336,  8.19598377],\n",
       "       [ 1.10558016,  1.78281777],\n",
       "       [ 1.23098694,  3.07536099],\n",
       "       [ 6.69563924,  7.30868836],\n",
       "       [ 1.26286235,  2.79226409],\n",
       "       [ 0.85071922,  1.98476649],\n",
       "       [ 1.56523088,  2.98238232],\n",
       "       [ 0.94066551,  4.03893562],\n",
       "       [ 7.27600034,  9.00864019],\n",
       "       [ 0.76895525,  2.89580816],\n",
       "       [ 5.26836676,  8.35361605],\n",
       "       [ 1.5728662 ,  4.04279154],\n",
       "       [ 6.15450082,  8.57891557],\n",
       "       [ 1.43489232,  2.37736741],\n",
       "       [ 6.42450925,  7.9017003 ],\n",
       "       [ 0.25710039,  1.6667695 ],\n",
       "       [ 0.56228555,  2.01188241],\n",
       "       [ 5.46652201,  9.61307073],\n",
       "       [ 7.37941038,  8.01998037],\n",
       "       [ 0.97890125,  2.36881647],\n",
       "       [ 0.81762677,  3.2682762 ],\n",
       "       [ 5.39849845,  7.91853045],\n",
       "       [ 2.06510475,  1.92357789],\n",
       "       [ 7.27334792,  8.81552966],\n",
       "       [ 6.95258932,  8.55788838],\n",
       "       [ 1.68678514,  2.69197464],\n",
       "       [ 1.52077801,  1.62603498],\n",
       "       [ 6.12892138,  9.42464379],\n",
       "       [ 0.89500395,  3.10405107],\n",
       "       [ 1.3701341 , -0.14030649],\n",
       "       [ 6.31688643,  7.95794806],\n",
       "       [ 6.10541472,  8.82333211],\n",
       "       [ 5.75268113,  9.57891345],\n",
       "       [ 0.77217724,  1.02360006],\n",
       "       [ 5.27388162,  8.14652186],\n",
       "       [ 6.77403722,  8.83071436],\n",
       "       [ 0.17595568,  1.5504269 ],\n",
       "       [ 0.78397155,  1.53696724],\n",
       "       [ 6.69174361,  8.32167572],\n",
       "       [ 0.41888892,  2.16857858],\n",
       "       [ 1.6088388 ,  3.61377591],\n",
       "       [ 2.16563009,  1.62390062],\n",
       "       [ 0.93299456,  2.09461098],\n",
       "       [ 0.56689013,  1.3742609 ],\n",
       "       [ 4.43989844,  8.25912698],\n",
       "       [ 4.75489328,  7.63372462],\n",
       "       [ 0.46282719,  1.93094468],\n",
       "       [ 1.189828  ,  0.77927526],\n",
       "       [ 1.54904465,  2.16923448],\n",
       "       [ 1.28362084,  1.10667446],\n",
       "       [ 5.48009144,  8.46945344],\n",
       "       [ 6.21662348,  8.25107654],\n",
       "       [ 0.4238975 ,  0.86666579],\n",
       "       [ 0.07943555,  1.9831677 ],\n",
       "       [ 7.16607155,  9.85349101],\n",
       "       [ 5.57629602,  9.11769512],\n",
       "       [ 7.3737596 ,  8.81896985],\n",
       "       [ 4.89409464,  8.56370684],\n",
       "       [ 7.39256751,  9.15212205],\n",
       "       [ 0.06052317,  1.44037791],\n",
       "       [ 0.47459126,  0.80989056],\n",
       "       [ 5.77368452,  8.79957352],\n",
       "       [ 1.09646009,  1.89772618],\n",
       "       [-0.35313963,  2.65973512],\n",
       "       [ 6.51831662,  9.30465967],\n",
       "       [ 2.07687544,  2.16827104],\n",
       "       [ 5.32524413,  8.95766847],\n",
       "       [ 0.95685909,  2.50506981],\n",
       "       [ 0.8260099 ,  1.40760895],\n",
       "       [-0.2134193 ,  0.75215602],\n",
       "       [ 0.58389861,  0.23957733],\n",
       "       [ 6.85822648,  7.9677492 ],\n",
       "       [ 8.1967082 ,  8.59789486],\n",
       "       [ 6.23584179,  7.88022611],\n",
       "       [ 0.72656843, -0.5856983 ],\n",
       "       [ 6.40621385,  8.59195492],\n",
       "       [ 5.73191341,  8.1738509 ],\n",
       "       [ 1.38488791,  2.01955002],\n",
       "       [-0.07589925,  2.78513581],\n",
       "       [ 3.94548903,  6.59353162],\n",
       "       [ 6.34917204,  8.4036327 ],\n",
       "       [ 5.01439484,  6.60975614],\n",
       "       [ 6.05921894,  6.81937217],\n",
       "       [ 1.21418426,  2.02949319],\n",
       "       [ 1.39970054,  1.39647239],\n",
       "       [ 0.9918279 ,  1.85870569],\n",
       "       [ 5.50869662,  8.46473865],\n",
       "       [ 3.04488835,  6.33742037],\n",
       "       [ 4.86998568,  8.33667404],\n",
       "       [ 0.97022141,  2.14138544],\n",
       "       [ 0.93779352,  2.49225094],\n",
       "       [ 7.27642052,  8.67445736],\n",
       "       [ 6.5536464 ,  9.75742922],\n",
       "       [ 0.97724101,  1.5960899 ],\n",
       "       [ 0.45310254,  1.41021698],\n",
       "       [-0.53463461,  1.98343613],\n",
       "       [ 5.46034699,  6.42332384],\n",
       "       [ 5.46747085,  7.50015918],\n",
       "       [ 6.03816662,  7.8912306 ],\n",
       "       [ 0.76928112,  1.78241086],\n",
       "       [ 6.21128379,  8.82276695]])"
      ]
     },
     "execution_count": 187,
     "metadata": {},
     "output_type": "execute_result"
    }
   ],
   "source": [
    "X"
   ]
  },
  {
   "cell_type": "code",
   "execution_count": 188,
   "metadata": {},
   "outputs": [
    {
     "data": {
      "text/plain": [
       "(200, 2)"
      ]
     },
     "execution_count": 188,
     "metadata": {},
     "output_type": "execute_result"
    }
   ],
   "source": [
    "X.shape"
   ]
  },
  {
   "cell_type": "code",
   "execution_count": 189,
   "metadata": {},
   "outputs": [
    {
     "data": {
      "text/plain": [
       "array([1., 0., 0., 0., 0., 0., 1., 1., 0., 1., 0., 0., 0., 1., 0., 0., 0.,\n",
       "       1., 0., 0., 1., 1., 0., 0., 0., 1., 1., 1., 1., 0., 0., 1., 1., 0.,\n",
       "       1., 1., 1., 0., 1., 1., 1., 1., 0., 1., 1., 1., 0., 1., 0., 0., 1.,\n",
       "       0., 0., 1., 0., 0., 0., 0., 0., 0., 1., 0., 0., 1., 1., 0., 0., 0.,\n",
       "       0., 0., 0., 0., 0., 1., 0., 0., 1., 1., 1., 1., 1., 1., 1., 1., 1.,\n",
       "       1., 1., 1., 1., 0., 0., 0., 0., 1., 0., 0., 1., 1., 0., 0., 1., 1.,\n",
       "       0., 1., 1., 1., 1., 0., 1., 0., 1., 0., 1., 0., 1., 1., 0., 0., 1.,\n",
       "       1., 0., 1., 0., 0., 1., 1., 0., 1., 1., 0., 0., 0., 1., 0., 0., 1.,\n",
       "       1., 0., 1., 1., 1., 1., 1., 0., 0., 1., 1., 1., 1., 0., 0., 1., 1.,\n",
       "       0., 0., 0., 0., 0., 1., 1., 0., 1., 1., 0., 1., 0., 1., 1., 1., 1.,\n",
       "       0., 0., 0., 1., 0., 0., 1., 1., 0., 0., 0., 0., 1., 1., 1., 0., 0.,\n",
       "       0., 1., 1., 0., 0., 1., 1., 1., 0., 0., 0., 1., 0.])"
      ]
     },
     "execution_count": 189,
     "metadata": {},
     "output_type": "execute_result"
    }
   ],
   "source": [
    "Y"
   ]
  },
  {
   "cell_type": "code",
   "execution_count": 190,
   "metadata": {},
   "outputs": [
    {
     "data": {
      "text/plain": [
       "(200,)"
      ]
     },
     "execution_count": 190,
     "metadata": {},
     "output_type": "execute_result"
    }
   ],
   "source": [
    "Y.shape"
   ]
  },
  {
   "cell_type": "code",
   "execution_count": 191,
   "metadata": {},
   "outputs": [
    {
     "data": {
      "text/plain": [
       "((200, 2), (200,))"
      ]
     },
     "execution_count": 191,
     "metadata": {},
     "output_type": "execute_result"
    }
   ],
   "source": [
    "X.shape,Y.shape"
   ]
  },
  {
   "cell_type": "code",
   "execution_count": 192,
   "metadata": {},
   "outputs": [
    {
     "data": {
      "text/plain": [
       "array([[1.44937611, 2.74551131, 1.        ],\n",
       "       [5.09657487, 6.74545889, 0.        ],\n",
       "       [6.38209561, 8.87258627, 0.        ],\n",
       "       [5.01423238, 6.39315731, 0.        ],\n",
       "       [5.50060271, 8.90163505, 0.        ]])"
      ]
     },
     "execution_count": 192,
     "metadata": {},
     "output_type": "execute_result"
    }
   ],
   "source": [
    "data[:5]"
   ]
  },
  {
   "cell_type": "markdown",
   "metadata": {},
   "source": [
    "<h4> Logistic Regression </h4>"
   ]
  },
  {
   "cell_type": "code",
   "execution_count": 19,
   "metadata": {},
   "outputs": [],
   "source": [
    "def Sigmoid(z):\n",
    "    return 1 / (1 + np.exp(-z))"
   ]
  },
  {
   "cell_type": "code",
   "execution_count": 20,
   "metadata": {},
   "outputs": [],
   "source": [
    "def Hypothesis(X, theta):\n",
    "    return Sigmoid(X.dot(theta))"
   ]
  },
  {
   "cell_type": "code",
   "execution_count": 196,
   "metadata": {},
   "outputs": [
    {
     "data": {
      "text/plain": [
       "array([[ 1.44937611,  2.74551131],\n",
       "       [ 5.09657487,  6.74545889],\n",
       "       [ 6.38209561,  8.87258627],\n",
       "       [ 5.01423238,  6.39315731],\n",
       "       [ 5.50060271,  8.90163505],\n",
       "       [ 6.29083232,  9.01808968],\n",
       "       [ 1.12759237,  1.71678211],\n",
       "       [ 1.40319782,  0.9973711 ],\n",
       "       [ 4.82574529,  7.50205398],\n",
       "       [ 1.98223393,  2.49708035],\n",
       "       [ 6.76359025,  8.99175888],\n",
       "       [ 5.81684369,  9.06656812],\n",
       "       [ 6.92402594,  8.19546865],\n",
       "       [ 1.96007097,  1.89314477],\n",
       "       [ 7.62007357,  9.51246133],\n",
       "       [ 5.15317129,  7.15961527],\n",
       "       [ 5.7192321 ,  9.87150741],\n",
       "       [ 0.02567479,  2.40991141],\n",
       "       [ 6.93220707,  8.32141922],\n",
       "       [ 4.95050232,  8.6309311 ],\n",
       "       [ 0.47124002,  3.69101858],\n",
       "       [ 1.20238382,  2.76172879],\n",
       "       [ 4.72167467,  9.2246573 ],\n",
       "       [ 5.19636349,  7.76971898],\n",
       "       [ 4.8097668 ,  6.27852562],\n",
       "       [ 0.79894072,  1.59883108],\n",
       "       [ 0.08482632,  1.39383177],\n",
       "       [ 1.42243534,  2.19327114],\n",
       "       [ 0.54168082,  2.46767026],\n",
       "       [ 7.75519538,  8.31878611],\n",
       "       [ 6.52876402,  9.14852946],\n",
       "       [ 1.24325911,  2.03457647],\n",
       "       [ 0.63044913,  0.58811809],\n",
       "       [ 5.36351556,  7.32998097],\n",
       "       [ 0.27458105,  2.12173974],\n",
       "       [ 0.95198281,  2.53138178],\n",
       "       [ 0.09960935,  1.7352508 ],\n",
       "       [ 5.36783922,  7.96173808],\n",
       "       [ 1.57931881,  2.64400748],\n",
       "       [ 1.48609572,  3.45454571],\n",
       "       [ 0.55866514,  2.00607714],\n",
       "       [ 0.45235467,  1.93554675],\n",
       "       [ 8.3722973 ,  9.53198214],\n",
       "       [ 2.06993518,  3.58162043],\n",
       "       [ 2.22668844,  3.63926856],\n",
       "       [ 0.78302087,  2.54537962],\n",
       "       [ 4.4645288 ,  8.19230921],\n",
       "       [ 2.0238513 ,  0.82176449],\n",
       "       [ 6.97943707,  8.83254866],\n",
       "       [ 5.87118886,  8.57559686],\n",
       "       [ 0.64740966,  3.26812062],\n",
       "       [ 5.40566155,  5.81606847],\n",
       "       [ 6.96922976,  7.13395459],\n",
       "       [ 1.84532287,  0.48682569],\n",
       "       [ 6.10196284,  7.75169293],\n",
       "       [ 7.08810969, 10.21764287],\n",
       "       [ 4.9472852 ,  8.38727351],\n",
       "       [ 5.84466668,  8.16013976],\n",
       "       [ 5.95429788,  8.8043181 ],\n",
       "       [ 6.12023936,  8.14406784],\n",
       "       [ 1.68885937,  1.90198277],\n",
       "       [ 6.7314094 ,  7.40190508],\n",
       "       [ 5.38074168,  8.39686243],\n",
       "       [ 0.52975891,  1.91550772],\n",
       "       [ 1.22030617,  2.41182541],\n",
       "       [ 5.45138868,  7.48966771],\n",
       "       [ 6.72324591, 10.73369811],\n",
       "       [ 4.63567568,  6.75750156],\n",
       "       [ 5.89795445,  9.65509339],\n",
       "       [ 6.55801611,  8.81202365],\n",
       "       [ 5.69769873,  6.71236693],\n",
       "       [ 5.96418288,  7.27532375],\n",
       "       [ 6.51195391,  9.06237863],\n",
       "       [ 0.9449027 ,  0.93235349],\n",
       "       [ 6.64667112,  7.91128057],\n",
       "       [ 4.28717704,  7.11950782],\n",
       "       [ 1.30060932,  2.21894825],\n",
       "       [ 0.80218957,  2.1746316 ],\n",
       "       [ 1.19271908,  1.23624076],\n",
       "       [ 0.77762405,  1.12588098],\n",
       "       [ 1.07635746,  3.22099567],\n",
       "       [ 0.43076448,  2.05317035],\n",
       "       [-0.6435543 ,  1.35747857],\n",
       "       [ 1.32865379,  3.47179298],\n",
       "       [ 1.30188196,  1.58265021],\n",
       "       [ 1.64112396,  1.99299446],\n",
       "       [ 1.02625949,  2.62501151],\n",
       "       [ 1.10081654,  1.39431132],\n",
       "       [ 1.20694413,  2.83333061],\n",
       "       [ 5.6103101 ,  6.90677661],\n",
       "       [ 5.09447381,  8.08938516],\n",
       "       [ 4.69741066,  6.56392912],\n",
       "       [ 6.11622402,  8.31413902],\n",
       "       [ 0.30320764,  2.61509658],\n",
       "       [ 8.47378135,  9.54945039],\n",
       "       [ 5.07891609,  7.80742199],\n",
       "       [ 1.26658216,  1.09049421],\n",
       "       [ 1.07284137,  2.26944312],\n",
       "       [ 6.43839991,  7.52399387],\n",
       "       [ 6.12019336,  8.19598377],\n",
       "       [ 1.10558016,  1.78281777],\n",
       "       [ 1.23098694,  3.07536099],\n",
       "       [ 6.69563924,  7.30868836],\n",
       "       [ 1.26286235,  2.79226409],\n",
       "       [ 0.85071922,  1.98476649],\n",
       "       [ 1.56523088,  2.98238232],\n",
       "       [ 0.94066551,  4.03893562],\n",
       "       [ 7.27600034,  9.00864019],\n",
       "       [ 0.76895525,  2.89580816],\n",
       "       [ 5.26836676,  8.35361605],\n",
       "       [ 1.5728662 ,  4.04279154],\n",
       "       [ 6.15450082,  8.57891557],\n",
       "       [ 1.43489232,  2.37736741],\n",
       "       [ 6.42450925,  7.9017003 ],\n",
       "       [ 0.25710039,  1.6667695 ],\n",
       "       [ 0.56228555,  2.01188241],\n",
       "       [ 5.46652201,  9.61307073],\n",
       "       [ 7.37941038,  8.01998037],\n",
       "       [ 0.97890125,  2.36881647],\n",
       "       [ 0.81762677,  3.2682762 ],\n",
       "       [ 5.39849845,  7.91853045],\n",
       "       [ 2.06510475,  1.92357789],\n",
       "       [ 7.27334792,  8.81552966],\n",
       "       [ 6.95258932,  8.55788838],\n",
       "       [ 1.68678514,  2.69197464],\n",
       "       [ 1.52077801,  1.62603498],\n",
       "       [ 6.12892138,  9.42464379],\n",
       "       [ 0.89500395,  3.10405107],\n",
       "       [ 1.3701341 , -0.14030649],\n",
       "       [ 6.31688643,  7.95794806],\n",
       "       [ 6.10541472,  8.82333211],\n",
       "       [ 5.75268113,  9.57891345],\n",
       "       [ 0.77217724,  1.02360006],\n",
       "       [ 5.27388162,  8.14652186],\n",
       "       [ 6.77403722,  8.83071436],\n",
       "       [ 0.17595568,  1.5504269 ],\n",
       "       [ 0.78397155,  1.53696724],\n",
       "       [ 6.69174361,  8.32167572],\n",
       "       [ 0.41888892,  2.16857858],\n",
       "       [ 1.6088388 ,  3.61377591],\n",
       "       [ 2.16563009,  1.62390062],\n",
       "       [ 0.93299456,  2.09461098],\n",
       "       [ 0.56689013,  1.3742609 ],\n",
       "       [ 4.43989844,  8.25912698],\n",
       "       [ 4.75489328,  7.63372462],\n",
       "       [ 0.46282719,  1.93094468],\n",
       "       [ 1.189828  ,  0.77927526],\n",
       "       [ 1.54904465,  2.16923448],\n",
       "       [ 1.28362084,  1.10667446],\n",
       "       [ 5.48009144,  8.46945344],\n",
       "       [ 6.21662348,  8.25107654],\n",
       "       [ 0.4238975 ,  0.86666579],\n",
       "       [ 0.07943555,  1.9831677 ],\n",
       "       [ 7.16607155,  9.85349101],\n",
       "       [ 5.57629602,  9.11769512],\n",
       "       [ 7.3737596 ,  8.81896985],\n",
       "       [ 4.89409464,  8.56370684],\n",
       "       [ 7.39256751,  9.15212205],\n",
       "       [ 0.06052317,  1.44037791],\n",
       "       [ 0.47459126,  0.80989056],\n",
       "       [ 5.77368452,  8.79957352],\n",
       "       [ 1.09646009,  1.89772618],\n",
       "       [-0.35313963,  2.65973512],\n",
       "       [ 6.51831662,  9.30465967],\n",
       "       [ 2.07687544,  2.16827104],\n",
       "       [ 5.32524413,  8.95766847],\n",
       "       [ 0.95685909,  2.50506981],\n",
       "       [ 0.8260099 ,  1.40760895],\n",
       "       [-0.2134193 ,  0.75215602],\n",
       "       [ 0.58389861,  0.23957733],\n",
       "       [ 6.85822648,  7.9677492 ],\n",
       "       [ 8.1967082 ,  8.59789486],\n",
       "       [ 6.23584179,  7.88022611],\n",
       "       [ 0.72656843, -0.5856983 ],\n",
       "       [ 6.40621385,  8.59195492],\n",
       "       [ 5.73191341,  8.1738509 ],\n",
       "       [ 1.38488791,  2.01955002],\n",
       "       [-0.07589925,  2.78513581],\n",
       "       [ 3.94548903,  6.59353162],\n",
       "       [ 6.34917204,  8.4036327 ],\n",
       "       [ 5.01439484,  6.60975614],\n",
       "       [ 6.05921894,  6.81937217],\n",
       "       [ 1.21418426,  2.02949319],\n",
       "       [ 1.39970054,  1.39647239],\n",
       "       [ 0.9918279 ,  1.85870569],\n",
       "       [ 5.50869662,  8.46473865],\n",
       "       [ 3.04488835,  6.33742037],\n",
       "       [ 4.86998568,  8.33667404],\n",
       "       [ 0.97022141,  2.14138544],\n",
       "       [ 0.93779352,  2.49225094],\n",
       "       [ 7.27642052,  8.67445736],\n",
       "       [ 6.5536464 ,  9.75742922],\n",
       "       [ 0.97724101,  1.5960899 ],\n",
       "       [ 0.45310254,  1.41021698],\n",
       "       [-0.53463461,  1.98343613],\n",
       "       [ 5.46034699,  6.42332384],\n",
       "       [ 5.46747085,  7.50015918],\n",
       "       [ 6.03816662,  7.8912306 ],\n",
       "       [ 0.76928112,  1.78241086],\n",
       "       [ 6.21128379,  8.82276695]])"
      ]
     },
     "execution_count": 196,
     "metadata": {},
     "output_type": "execute_result"
    }
   ],
   "source": [
    "X"
   ]
  },
  {
   "cell_type": "code",
   "execution_count": 199,
   "metadata": {},
   "outputs": [
    {
     "data": {
      "text/plain": [
       "array([[0.6516462 ],\n",
       "       [0.39771102]])"
      ]
     },
     "execution_count": 199,
     "metadata": {},
     "output_type": "execute_result"
    }
   ],
   "source": []
  },
  {
   "cell_type": "code",
   "execution_count": 204,
   "metadata": {},
   "outputs": [
    {
     "data": {
      "text/plain": [
       "array([[0.81958156],\n",
       "       [0.98784893],\n",
       "       [0.99646917],\n",
       "       [0.9859331 ],\n",
       "       [0.99484091],\n",
       "       [0.99648963],\n",
       "       [0.7396859 ],\n",
       "       [0.71865059],\n",
       "       [0.9892133 ],\n",
       "       [0.84163007],\n",
       "       [0.99712655],\n",
       "       [0.99573977],\n",
       "       [0.99655513],\n",
       "       [0.81286843],\n",
       "       [0.99833088],\n",
       "       [0.98959198],\n",
       "       [0.99655251],\n",
       "       [0.68500669],\n",
       "       [0.99670171],\n",
       "       [0.99284239],\n",
       "       [0.7991518 ],\n",
       "       [0.8036657 ],\n",
       "       [0.99343706],\n",
       "       [0.99157116],\n",
       "       [0.9840602 ],\n",
       "       [0.70295939],\n",
       "       [0.61781707],\n",
       "       [0.79020677],\n",
       "       [0.73566813],\n",
       "       [0.99770428],\n",
       "       [0.99696724],\n",
       "       [0.76789643],\n",
       "       [0.6143919 ],\n",
       "       [0.99100381],\n",
       "       [0.68900842],\n",
       "       [0.77300959],\n",
       "       [0.64457748],\n",
       "       [0.99264148],\n",
       "       [0.82328671],\n",
       "       [0.85258127],\n",
       "       [0.7077463 ],\n",
       "       [0.69317681],\n",
       "       [0.99881031],\n",
       "       [0.88632346],\n",
       "       [0.8948629 ],\n",
       "       [0.76043376],\n",
       "       [0.98982917],\n",
       "       [0.7607244 ],\n",
       "       [0.99725249],\n",
       "       [0.99514197],\n",
       "       [0.78995057],\n",
       "       [0.98579242],\n",
       "       [0.99527537],\n",
       "       [0.72536983],\n",
       "       [0.99430617],\n",
       "       [0.99831176],\n",
       "       [0.99225993],\n",
       "       [0.99439539],\n",
       "       [0.99564335],\n",
       "       [0.99501036],\n",
       "       [0.79438208],\n",
       "       [0.99517977],\n",
       "       [0.9936216 ],\n",
       "       [0.69907603],\n",
       "       [0.78686786],\n",
       "       [0.99176856],\n",
       "       [0.99831591],\n",
       "       [0.98519647],\n",
       "       [0.99658788],\n",
       "       [0.9966695 ],\n",
       "       [0.99056283],\n",
       "       [0.992969  ],\n",
       "       [0.99686016],\n",
       "       [0.67135382],\n",
       "       [0.9957408 ],\n",
       "       [0.9846133 ],\n",
       "       [0.7825207 ],\n",
       "       [0.7399623 ],\n",
       "       [0.71514641],\n",
       "       [0.66857853],\n",
       "       [0.8174971 ],\n",
       "       [0.69905935],\n",
       "       [0.53653812],\n",
       "       [0.84432895],\n",
       "       [0.74627781],\n",
       "       [0.79565087],\n",
       "       [0.78380767],\n",
       "       [0.71708618],\n",
       "       [0.80754356],\n",
       "       [0.99077619],\n",
       "       [0.99203013],\n",
       "       [0.98468978],\n",
       "       [0.99526316],\n",
       "       [0.72409621],\n",
       "       [0.99886878],\n",
       "       [0.99123021],\n",
       "       [0.71236579],\n",
       "       [0.76775216],\n",
       "       [0.99472358],\n",
       "       [0.99509147],\n",
       "       [0.74184343],\n",
       "       [0.82078111],\n",
       "       [0.99495681],\n",
       "       [0.80935551],\n",
       "       [0.73242036],\n",
       "       [0.83753865],\n",
       "       [0.84543731],\n",
       "       [0.99772043],\n",
       "       [0.77905179],\n",
       "       [0.9932065 ],\n",
       "       [0.87870762],\n",
       "       [0.99571646],\n",
       "       [0.80061835],\n",
       "       [0.99528861],\n",
       "       [0.65548308],\n",
       "       [0.70845861],\n",
       "       [0.99581782],\n",
       "       [0.99702104],\n",
       "       [0.76596336],\n",
       "       [0.80218444],\n",
       "       [0.99264033],\n",
       "       [0.82125967],\n",
       "       [0.99757372],\n",
       "       [0.99696705],\n",
       "       [0.83223772],\n",
       "       [0.76665303],\n",
       "       [0.99668511],\n",
       "       [0.79932465],\n",
       "       [0.63685959],\n",
       "       [0.99514699],\n",
       "       [0.99594846],\n",
       "       [0.99627336],\n",
       "       [0.66080032],\n",
       "       [0.99276546],\n",
       "       [0.99699009],\n",
       "       [0.63884707],\n",
       "       [0.69744375],\n",
       "       [0.99633303],\n",
       "       [0.70562449],\n",
       "       [0.86528403],\n",
       "       [0.81369457],\n",
       "       [0.74616064],\n",
       "       [0.66538941],\n",
       "       [0.98993259],\n",
       "       [0.98932447],\n",
       "       [0.69385115],\n",
       "       [0.68440199],\n",
       "       [0.7981168 ],\n",
       "       [0.71495689],\n",
       "       [0.99403262],\n",
       "       [0.9953768 ],\n",
       "       [0.61369886],\n",
       "       [0.66040772],\n",
       "       [0.99816927],\n",
       "       [0.99533946],\n",
       "       [0.99768146],\n",
       "       [0.99250563],\n",
       "       [0.99793106],\n",
       "       [0.61876831],\n",
       "       [0.61474118],\n",
       "       [0.99527547],\n",
       "       [0.7480119 ],\n",
       "       [0.66565472],\n",
       "       [0.99710022],\n",
       "       [0.83311152],\n",
       "       [0.99452472],\n",
       "       [0.77191983],\n",
       "       [0.69267753],\n",
       "       [0.5360572 ],\n",
       "       [0.582853  ],\n",
       "       [0.99618869],\n",
       "       [0.99827095],\n",
       "       [0.9948456 ],\n",
       "       [0.53381857],\n",
       "       [0.99618204],\n",
       "       [0.99413577],\n",
       "       [0.77805598],\n",
       "       [0.70080173],\n",
       "       [0.97896813],\n",
       "       [0.99584447],\n",
       "       [0.98685704],\n",
       "       [0.99221385],\n",
       "       [0.76530541],\n",
       "       [0.74326457],\n",
       "       [0.73678771],\n",
       "       [0.99409847],\n",
       "       [0.96644896],\n",
       "       [0.99186405],\n",
       "       [0.7520492 ],\n",
       "       [0.76971   ],\n",
       "       [0.99746625],\n",
       "       [0.99752657],\n",
       "       [0.71899119],\n",
       "       [0.65666603],\n",
       "       [0.59711322],\n",
       "       [0.9885332 ],\n",
       "       [0.99185343],\n",
       "       [0.99439656],\n",
       "       [0.71230792],\n",
       "       [0.99613249]])"
      ]
     },
     "execution_count": 204,
     "metadata": {},
     "output_type": "execute_result"
    }
   ],
   "source": [
    "Hypothesis(X, theta=np.random.rand(X.shape[1], 1))"
   ]
  },
  {
   "cell_type": "markdown",
   "metadata": {},
   "source": [
    "$$\n",
    "J_{\\theta}(x) = - \\frac{1}{m} \\Sigma y^{(i)} log(h(x^{(i)})) + (1 - y^{(i)}) log(1 - h(x^{(i)}))\n",
    "$$"
   ]
  },
  {
   "cell_type": "code",
   "execution_count": 193,
   "metadata": {},
   "outputs": [],
   "source": [
    "def Error(X, theta, Y):\n",
    "    hx = Hypothesis(X, theta)\n",
    "    err = (Y * np.log(hx) + (1 - Y) * np.log(1 - hx)).mean()\n",
    "    return -err"
   ]
  },
  {
   "cell_type": "code",
   "execution_count": 86,
   "metadata": {},
   "outputs": [
    {
     "data": {
      "text/plain": [
       "7.917552416830338"
      ]
     },
     "execution_count": 86,
     "metadata": {},
     "output_type": "execute_result"
    }
   ],
   "source": [
    "Error(X, [0, 2], Y)"
   ]
  },
  {
   "cell_type": "code",
   "execution_count": 87,
   "metadata": {},
   "outputs": [],
   "source": [
    "def gradient(X, Y, hx, m):\n",
    "    return np.dot(X.T, (hx - Y)) / m"
   ]
  },
  {
   "cell_type": "code",
   "execution_count": 209,
   "metadata": {},
   "outputs": [],
   "source": [
    "def gradient_descent(X, Y, lr=0.5, max_itr=1000):\n",
    "    err_list = []\n",
    "    m, n = X.shape\n",
    "    theta = np.zeros((n,1))\n",
    "    for i in range(max_itr):\n",
    "        err = Error(X, theta, Y)\n",
    "        err_list.append(err)\n",
    "        hx = Hypothesis(X, theta)\n",
    "        grad = gradient(X, Y, hx, m)\n",
    "        theta -= lr * grad\n",
    "        if i % 400 == 0:\n",
    "            print(f'Iteration no {i} and cost {err}')\n",
    "    return theta, err_list        "
   ]
  },
  {
   "cell_type": "code",
   "execution_count": 206,
   "metadata": {},
   "outputs": [
    {
     "data": {
      "text/plain": [
       "array([[ 1.        ,  1.44937611,  2.74551131],\n",
       "       [ 1.        ,  5.09657487,  6.74545889],\n",
       "       [ 1.        ,  6.38209561,  8.87258627],\n",
       "       [ 1.        ,  5.01423238,  6.39315731],\n",
       "       [ 1.        ,  5.50060271,  8.90163505],\n",
       "       [ 1.        ,  6.29083232,  9.01808968],\n",
       "       [ 1.        ,  1.12759237,  1.71678211],\n",
       "       [ 1.        ,  1.40319782,  0.9973711 ],\n",
       "       [ 1.        ,  4.82574529,  7.50205398],\n",
       "       [ 1.        ,  1.98223393,  2.49708035],\n",
       "       [ 1.        ,  6.76359025,  8.99175888],\n",
       "       [ 1.        ,  5.81684369,  9.06656812],\n",
       "       [ 1.        ,  6.92402594,  8.19546865],\n",
       "       [ 1.        ,  1.96007097,  1.89314477],\n",
       "       [ 1.        ,  7.62007357,  9.51246133],\n",
       "       [ 1.        ,  5.15317129,  7.15961527],\n",
       "       [ 1.        ,  5.7192321 ,  9.87150741],\n",
       "       [ 1.        ,  0.02567479,  2.40991141],\n",
       "       [ 1.        ,  6.93220707,  8.32141922],\n",
       "       [ 1.        ,  4.95050232,  8.6309311 ],\n",
       "       [ 1.        ,  0.47124002,  3.69101858],\n",
       "       [ 1.        ,  1.20238382,  2.76172879],\n",
       "       [ 1.        ,  4.72167467,  9.2246573 ],\n",
       "       [ 1.        ,  5.19636349,  7.76971898],\n",
       "       [ 1.        ,  4.8097668 ,  6.27852562],\n",
       "       [ 1.        ,  0.79894072,  1.59883108],\n",
       "       [ 1.        ,  0.08482632,  1.39383177],\n",
       "       [ 1.        ,  1.42243534,  2.19327114],\n",
       "       [ 1.        ,  0.54168082,  2.46767026],\n",
       "       [ 1.        ,  7.75519538,  8.31878611],\n",
       "       [ 1.        ,  6.52876402,  9.14852946],\n",
       "       [ 1.        ,  1.24325911,  2.03457647],\n",
       "       [ 1.        ,  0.63044913,  0.58811809],\n",
       "       [ 1.        ,  5.36351556,  7.32998097],\n",
       "       [ 1.        ,  0.27458105,  2.12173974],\n",
       "       [ 1.        ,  0.95198281,  2.53138178],\n",
       "       [ 1.        ,  0.09960935,  1.7352508 ],\n",
       "       [ 1.        ,  5.36783922,  7.96173808],\n",
       "       [ 1.        ,  1.57931881,  2.64400748],\n",
       "       [ 1.        ,  1.48609572,  3.45454571],\n",
       "       [ 1.        ,  0.55866514,  2.00607714],\n",
       "       [ 1.        ,  0.45235467,  1.93554675],\n",
       "       [ 1.        ,  8.3722973 ,  9.53198214],\n",
       "       [ 1.        ,  2.06993518,  3.58162043],\n",
       "       [ 1.        ,  2.22668844,  3.63926856],\n",
       "       [ 1.        ,  0.78302087,  2.54537962],\n",
       "       [ 1.        ,  4.4645288 ,  8.19230921],\n",
       "       [ 1.        ,  2.0238513 ,  0.82176449],\n",
       "       [ 1.        ,  6.97943707,  8.83254866],\n",
       "       [ 1.        ,  5.87118886,  8.57559686],\n",
       "       [ 1.        ,  0.64740966,  3.26812062],\n",
       "       [ 1.        ,  5.40566155,  5.81606847],\n",
       "       [ 1.        ,  6.96922976,  7.13395459],\n",
       "       [ 1.        ,  1.84532287,  0.48682569],\n",
       "       [ 1.        ,  6.10196284,  7.75169293],\n",
       "       [ 1.        ,  7.08810969, 10.21764287],\n",
       "       [ 1.        ,  4.9472852 ,  8.38727351],\n",
       "       [ 1.        ,  5.84466668,  8.16013976],\n",
       "       [ 1.        ,  5.95429788,  8.8043181 ],\n",
       "       [ 1.        ,  6.12023936,  8.14406784],\n",
       "       [ 1.        ,  1.68885937,  1.90198277],\n",
       "       [ 1.        ,  6.7314094 ,  7.40190508],\n",
       "       [ 1.        ,  5.38074168,  8.39686243],\n",
       "       [ 1.        ,  0.52975891,  1.91550772],\n",
       "       [ 1.        ,  1.22030617,  2.41182541],\n",
       "       [ 1.        ,  5.45138868,  7.48966771],\n",
       "       [ 1.        ,  6.72324591, 10.73369811],\n",
       "       [ 1.        ,  4.63567568,  6.75750156],\n",
       "       [ 1.        ,  5.89795445,  9.65509339],\n",
       "       [ 1.        ,  6.55801611,  8.81202365],\n",
       "       [ 1.        ,  5.69769873,  6.71236693],\n",
       "       [ 1.        ,  5.96418288,  7.27532375],\n",
       "       [ 1.        ,  6.51195391,  9.06237863],\n",
       "       [ 1.        ,  0.9449027 ,  0.93235349],\n",
       "       [ 1.        ,  6.64667112,  7.91128057],\n",
       "       [ 1.        ,  4.28717704,  7.11950782],\n",
       "       [ 1.        ,  1.30060932,  2.21894825],\n",
       "       [ 1.        ,  0.80218957,  2.1746316 ],\n",
       "       [ 1.        ,  1.19271908,  1.23624076],\n",
       "       [ 1.        ,  0.77762405,  1.12588098],\n",
       "       [ 1.        ,  1.07635746,  3.22099567],\n",
       "       [ 1.        ,  0.43076448,  2.05317035],\n",
       "       [ 1.        , -0.6435543 ,  1.35747857],\n",
       "       [ 1.        ,  1.32865379,  3.47179298],\n",
       "       [ 1.        ,  1.30188196,  1.58265021],\n",
       "       [ 1.        ,  1.64112396,  1.99299446],\n",
       "       [ 1.        ,  1.02625949,  2.62501151],\n",
       "       [ 1.        ,  1.10081654,  1.39431132],\n",
       "       [ 1.        ,  1.20694413,  2.83333061],\n",
       "       [ 1.        ,  5.6103101 ,  6.90677661],\n",
       "       [ 1.        ,  5.09447381,  8.08938516],\n",
       "       [ 1.        ,  4.69741066,  6.56392912],\n",
       "       [ 1.        ,  6.11622402,  8.31413902],\n",
       "       [ 1.        ,  0.30320764,  2.61509658],\n",
       "       [ 1.        ,  8.47378135,  9.54945039],\n",
       "       [ 1.        ,  5.07891609,  7.80742199],\n",
       "       [ 1.        ,  1.26658216,  1.09049421],\n",
       "       [ 1.        ,  1.07284137,  2.26944312],\n",
       "       [ 1.        ,  6.43839991,  7.52399387],\n",
       "       [ 1.        ,  6.12019336,  8.19598377],\n",
       "       [ 1.        ,  1.10558016,  1.78281777],\n",
       "       [ 1.        ,  1.23098694,  3.07536099],\n",
       "       [ 1.        ,  6.69563924,  7.30868836],\n",
       "       [ 1.        ,  1.26286235,  2.79226409],\n",
       "       [ 1.        ,  0.85071922,  1.98476649],\n",
       "       [ 1.        ,  1.56523088,  2.98238232],\n",
       "       [ 1.        ,  0.94066551,  4.03893562],\n",
       "       [ 1.        ,  7.27600034,  9.00864019],\n",
       "       [ 1.        ,  0.76895525,  2.89580816],\n",
       "       [ 1.        ,  5.26836676,  8.35361605],\n",
       "       [ 1.        ,  1.5728662 ,  4.04279154],\n",
       "       [ 1.        ,  6.15450082,  8.57891557],\n",
       "       [ 1.        ,  1.43489232,  2.37736741],\n",
       "       [ 1.        ,  6.42450925,  7.9017003 ],\n",
       "       [ 1.        ,  0.25710039,  1.6667695 ],\n",
       "       [ 1.        ,  0.56228555,  2.01188241],\n",
       "       [ 1.        ,  5.46652201,  9.61307073],\n",
       "       [ 1.        ,  7.37941038,  8.01998037],\n",
       "       [ 1.        ,  0.97890125,  2.36881647],\n",
       "       [ 1.        ,  0.81762677,  3.2682762 ],\n",
       "       [ 1.        ,  5.39849845,  7.91853045],\n",
       "       [ 1.        ,  2.06510475,  1.92357789],\n",
       "       [ 1.        ,  7.27334792,  8.81552966],\n",
       "       [ 1.        ,  6.95258932,  8.55788838],\n",
       "       [ 1.        ,  1.68678514,  2.69197464],\n",
       "       [ 1.        ,  1.52077801,  1.62603498],\n",
       "       [ 1.        ,  6.12892138,  9.42464379],\n",
       "       [ 1.        ,  0.89500395,  3.10405107],\n",
       "       [ 1.        ,  1.3701341 , -0.14030649],\n",
       "       [ 1.        ,  6.31688643,  7.95794806],\n",
       "       [ 1.        ,  6.10541472,  8.82333211],\n",
       "       [ 1.        ,  5.75268113,  9.57891345],\n",
       "       [ 1.        ,  0.77217724,  1.02360006],\n",
       "       [ 1.        ,  5.27388162,  8.14652186],\n",
       "       [ 1.        ,  6.77403722,  8.83071436],\n",
       "       [ 1.        ,  0.17595568,  1.5504269 ],\n",
       "       [ 1.        ,  0.78397155,  1.53696724],\n",
       "       [ 1.        ,  6.69174361,  8.32167572],\n",
       "       [ 1.        ,  0.41888892,  2.16857858],\n",
       "       [ 1.        ,  1.6088388 ,  3.61377591],\n",
       "       [ 1.        ,  2.16563009,  1.62390062],\n",
       "       [ 1.        ,  0.93299456,  2.09461098],\n",
       "       [ 1.        ,  0.56689013,  1.3742609 ],\n",
       "       [ 1.        ,  4.43989844,  8.25912698],\n",
       "       [ 1.        ,  4.75489328,  7.63372462],\n",
       "       [ 1.        ,  0.46282719,  1.93094468],\n",
       "       [ 1.        ,  1.189828  ,  0.77927526],\n",
       "       [ 1.        ,  1.54904465,  2.16923448],\n",
       "       [ 1.        ,  1.28362084,  1.10667446],\n",
       "       [ 1.        ,  5.48009144,  8.46945344],\n",
       "       [ 1.        ,  6.21662348,  8.25107654],\n",
       "       [ 1.        ,  0.4238975 ,  0.86666579],\n",
       "       [ 1.        ,  0.07943555,  1.9831677 ],\n",
       "       [ 1.        ,  7.16607155,  9.85349101],\n",
       "       [ 1.        ,  5.57629602,  9.11769512],\n",
       "       [ 1.        ,  7.3737596 ,  8.81896985],\n",
       "       [ 1.        ,  4.89409464,  8.56370684],\n",
       "       [ 1.        ,  7.39256751,  9.15212205],\n",
       "       [ 1.        ,  0.06052317,  1.44037791],\n",
       "       [ 1.        ,  0.47459126,  0.80989056],\n",
       "       [ 1.        ,  5.77368452,  8.79957352],\n",
       "       [ 1.        ,  1.09646009,  1.89772618],\n",
       "       [ 1.        , -0.35313963,  2.65973512],\n",
       "       [ 1.        ,  6.51831662,  9.30465967],\n",
       "       [ 1.        ,  2.07687544,  2.16827104],\n",
       "       [ 1.        ,  5.32524413,  8.95766847],\n",
       "       [ 1.        ,  0.95685909,  2.50506981],\n",
       "       [ 1.        ,  0.8260099 ,  1.40760895],\n",
       "       [ 1.        , -0.2134193 ,  0.75215602],\n",
       "       [ 1.        ,  0.58389861,  0.23957733],\n",
       "       [ 1.        ,  6.85822648,  7.9677492 ],\n",
       "       [ 1.        ,  8.1967082 ,  8.59789486],\n",
       "       [ 1.        ,  6.23584179,  7.88022611],\n",
       "       [ 1.        ,  0.72656843, -0.5856983 ],\n",
       "       [ 1.        ,  6.40621385,  8.59195492],\n",
       "       [ 1.        ,  5.73191341,  8.1738509 ],\n",
       "       [ 1.        ,  1.38488791,  2.01955002],\n",
       "       [ 1.        , -0.07589925,  2.78513581],\n",
       "       [ 1.        ,  3.94548903,  6.59353162],\n",
       "       [ 1.        ,  6.34917204,  8.4036327 ],\n",
       "       [ 1.        ,  5.01439484,  6.60975614],\n",
       "       [ 1.        ,  6.05921894,  6.81937217],\n",
       "       [ 1.        ,  1.21418426,  2.02949319],\n",
       "       [ 1.        ,  1.39970054,  1.39647239],\n",
       "       [ 1.        ,  0.9918279 ,  1.85870569],\n",
       "       [ 1.        ,  5.50869662,  8.46473865],\n",
       "       [ 1.        ,  3.04488835,  6.33742037],\n",
       "       [ 1.        ,  4.86998568,  8.33667404],\n",
       "       [ 1.        ,  0.97022141,  2.14138544],\n",
       "       [ 1.        ,  0.93779352,  2.49225094],\n",
       "       [ 1.        ,  7.27642052,  8.67445736],\n",
       "       [ 1.        ,  6.5536464 ,  9.75742922],\n",
       "       [ 1.        ,  0.97724101,  1.5960899 ],\n",
       "       [ 1.        ,  0.45310254,  1.41021698],\n",
       "       [ 1.        , -0.53463461,  1.98343613],\n",
       "       [ 1.        ,  5.46034699,  6.42332384],\n",
       "       [ 1.        ,  5.46747085,  7.50015918],\n",
       "       [ 1.        ,  6.03816662,  7.8912306 ],\n",
       "       [ 1.        ,  0.76928112,  1.78241086],\n",
       "       [ 1.        ,  6.21128379,  8.82276695]])"
      ]
     },
     "execution_count": 206,
     "metadata": {},
     "output_type": "execute_result"
    }
   ],
   "source": [
    "X = np.hstack((np.ones((X.shape[0],1)), X))\n",
    "X"
   ]
  },
  {
   "cell_type": "code",
   "execution_count": 207,
   "metadata": {},
   "outputs": [
    {
     "data": {
      "text/plain": [
       "(200, 3)"
      ]
     },
     "execution_count": 207,
     "metadata": {},
     "output_type": "execute_result"
    }
   ],
   "source": [
    "X.shape"
   ]
  },
  {
   "cell_type": "code",
   "execution_count": 218,
   "metadata": {},
   "outputs": [
    {
     "name": "stdout",
     "output_type": "stream",
     "text": [
      "Iteration no 0 and cost 0.6931471805599452\n",
      "Iteration no 400 and cost 0.00038270166711869605\n",
      "Iteration no 800 and cost 0.00024016176784178735\n",
      "Iteration no 1200 and cost 0.00018665792623885546\n",
      "Iteration no 1600 and cost 0.0001569571153817795\n",
      "Iteration no 2000 and cost 0.0001374427128395482\n",
      "Iteration no 2400 and cost 0.0001233541228141497\n",
      "Iteration no 2800 and cost 0.00011255371695712436\n",
      "Iteration no 3200 and cost 0.00010392390460034914\n",
      "Iteration no 3600 and cost 9.681683666501684e-05\n",
      "Iteration no 4000 and cost 9.082774374869767e-05\n",
      "Iteration no 4400 and cost 8.568891113789934e-05\n",
      "Iteration no 4800 and cost 8.121516611593028e-05\n"
     ]
    },
    {
     "name": "stderr",
     "output_type": "stream",
     "text": [
      "c:\\users\\anish\\appdata\\local\\programs\\python\\python37\\lib\\site-packages\\ipykernel_launcher.py:3: RuntimeWarning: divide by zero encountered in log\n",
      "  This is separate from the ipykernel package so we can avoid doing imports until\n"
     ]
    },
    {
     "name": "stdout",
     "output_type": "stream",
     "text": [
      "Iteration no 5200 and cost 7.727371858993615e-05\n",
      "Iteration no 5600 and cost 7.376646783354932e-05\n",
      "Iteration no 6000 and cost 7.061911199890118e-05\n",
      "Iteration no 6400 and cost 6.777417069564533e-05\n",
      "Iteration no 6800 and cost 6.518636010511963e-05\n",
      "Iteration no 7200 and cost 6.281943665224101e-05\n",
      "Iteration no 7600 and cost 6.0643987633006785e-05\n",
      "Iteration no 8000 and cost 5.863584995767558e-05\n",
      "Iteration no 8400 and cost 5.677495600453222e-05\n",
      "Iteration no 8800 and cost 5.50444763699557e-05\n",
      "Iteration no 9200 and cost 5.343017309616107e-05\n",
      "Iteration no 9600 and cost 5.191990476928284e-05\n"
     ]
    }
   ],
   "source": [
    "theta, err_list = gradient_descent(X, Y.reshape((-1,1)), lr=10, max_itr=10000)"
   ]
  },
  {
   "cell_type": "code",
   "execution_count": 219,
   "metadata": {},
   "outputs": [
    {
     "data": {
      "text/plain": [
       "array([[28.47232626],\n",
       "       [-7.35536718],\n",
       "       [-1.83861685]])"
      ]
     },
     "execution_count": 219,
     "metadata": {},
     "output_type": "execute_result"
    }
   ],
   "source": [
    "theta"
   ]
  },
  {
   "cell_type": "code",
   "execution_count": 220,
   "metadata": {},
   "outputs": [
    {
     "data": {
      "text/plain": [
       "[<matplotlib.lines.Line2D at 0x1be2e7d9588>]"
      ]
     },
     "execution_count": 220,
     "metadata": {},
     "output_type": "execute_result"
    },
    {
     "data": {
      "image/png": "[encoded data removed]",
      "text/plain": [
       "<Figure size 432x288 with 1 Axes>"
      ]
     },
     "metadata": {
      "needs_background": "light"
     },
     "output_type": "display_data"
    }
   ],
   "source": [
    "plt.plot(err_list)"
   ]
  },
  {
   "cell_type": "code",
   "execution_count": 221,
   "metadata": {},
   "outputs": [],
   "source": [
    "x_test = np.arange(10)\n",
    "x2 = -(theta[0] + theta[1] * x_test) / theta[2]"
   ]
  },
  {
   "cell_type": "code",
   "execution_count": 222,
   "metadata": {},
   "outputs": [
    {
     "data": {
      "text/plain": [
       "array([ 15.48573119,  11.4852418 ,   7.48475242,   3.48426304,\n",
       "        -0.51622635,  -4.51671573,  -8.51720511, -12.5176945 ,\n",
       "       -16.51818388, -20.51867326])"
      ]
     },
     "execution_count": 222,
     "metadata": {},
     "output_type": "execute_result"
    }
   ],
   "source": [
    "x2"
   ]
  },
  {
   "cell_type": "code",
   "execution_count": 223,
   "metadata": {},
   "outputs": [
    {
     "data": {
      "text/plain": [
       "array([0, 1, 2, 3, 4, 5, 6, 7, 8, 9])"
      ]
     },
     "execution_count": 223,
     "metadata": {},
     "output_type": "execute_result"
    }
   ],
   "source": [
    "x_test"
   ]
  },
  {
   "cell_type": "code",
   "execution_count": 224,
   "metadata": {},
   "outputs": [
    {
     "data": {
      "text/plain": [
       "<matplotlib.collections.PathCollection at 0x1be2e8a82c8>"
      ]
     },
     "execution_count": 224,
     "metadata": {},
     "output_type": "execute_result"
    },
    {
     "data": {
      "image/png": "[encoded data removed]",
      "text/plain": [
       "<Figure size 432x288 with 1 Axes>"
      ]
     },
     "metadata": {
      "needs_background": "light"
     },
     "output_type": "display_data"
    }
   ],
   "source": [
    "plt.ylim((-1,13))\n",
    "plt.plot(x_test, x2)\n",
    "plt.scatter(X1[:,0],X1[:,1])\n",
    "plt.scatter(X2[:,0],X2[:,1])"
   ]
  },
  {
   "cell_type": "code",
   "execution_count": 231,
   "metadata": {},
   "outputs": [
    {
     "data": {
      "text/plain": [
       "array([4.00664765e-09])"
      ]
     },
     "execution_count": 231,
     "metadata": {},
     "output_type": "execute_result"
    }
   ],
   "source": [
    "Hypothesis(np.array([1, 4, 10]), theta)"
   ]
  },
  {
   "cell_type": "code",
   "execution_count": 234,
   "metadata": {},
   "outputs": [
    {
     "data": {
      "text/plain": [
       "array([False])"
      ]
     },
     "execution_count": 234,
     "metadata": {},
     "output_type": "execute_result"
    }
   ],
   "source": [
    "Hypothesis(np.array([1, 4, 6]), theta) > 0.5"
   ]
  },
  {
   "cell_type": "code",
   "execution_count": 236,
   "metadata": {},
   "outputs": [
    {
     "data": {
      "text/plain": [
       "100"
      ]
     },
     "execution_count": 236,
     "metadata": {},
     "output_type": "execute_result"
    }
   ],
   "source": [
    "(Hypothesis(X, theta) > 0.5).sum()"
   ]
  },
  {
   "cell_type": "code",
   "execution_count": 248,
   "metadata": {},
   "outputs": [
    {
     "data": {
      "text/plain": [
       "array([1, 0, 0, 0, 0, 0, 1, 1, 0, 1, 0, 0, 0, 1, 0, 0, 0, 1, 0, 0, 1, 1,\n",
       "       0, 0, 0, 1, 1, 1, 1, 0, 0, 1, 1, 0, 1, 1, 1, 0, 1, 1, 1, 1, 0, 1,\n",
       "       1, 1, 0, 1, 0, 0, 1, 0, 0, 1, 0, 0, 0, 0, 0, 0, 1, 0, 0, 1, 1, 0,\n",
       "       0, 0, 0, 0, 0, 0, 0, 1, 0, 0, 1, 1, 1, 1, 1, 1, 1, 1, 1, 1, 1, 1,\n",
       "       1, 0, 0, 0, 0, 1, 0, 0, 1, 1, 0, 0, 1, 1, 0, 1, 1, 1, 1, 0, 1, 0,\n",
       "       1, 0, 1, 0, 1, 1, 0, 0, 1, 1, 0, 1, 0, 0, 1, 1, 0, 1, 1, 0, 0, 0,\n",
       "       1, 0, 0, 1, 1, 0, 1, 1, 1, 1, 1, 0, 0, 1, 1, 1, 1, 0, 0, 1, 1, 0,\n",
       "       0, 0, 0, 0, 1, 1, 0, 1, 1, 0, 1, 0, 1, 1, 1, 1, 0, 0, 0, 1, 0, 0,\n",
       "       1, 1, 0, 0, 0, 0, 1, 1, 1, 0, 0, 0, 1, 1, 0, 0, 1, 1, 1, 0, 0, 0,\n",
       "       1, 0])"
      ]
     },
     "execution_count": 248,
     "metadata": {},
     "output_type": "execute_result"
    }
   ],
   "source": [
    "y_pred = Hypothesis(X, theta) > 0.9\n",
    "y_pred = np.array(y_pred, dtype=np.int).ravel()\n",
    "y_pred"
   ]
  },
  {
   "cell_type": "code",
   "execution_count": 250,
   "metadata": {},
   "outputs": [
    {
     "data": {
      "text/plain": [
       "array([1, 0, 0, 0, 0, 0, 1, 1, 0, 1, 0, 0, 0, 1, 0, 0, 0, 1, 0, 0, 1, 1,\n",
       "       0, 0, 0, 1, 1, 1, 1, 0, 0, 1, 1, 0, 1, 1, 1, 0, 1, 1, 1, 1, 0, 1,\n",
       "       1, 1, 0, 1, 0, 0, 1, 0, 0, 1, 0, 0, 0, 0, 0, 0, 1, 0, 0, 1, 1, 0,\n",
       "       0, 0, 0, 0, 0, 0, 0, 1, 0, 0, 1, 1, 1, 1, 1, 1, 1, 1, 1, 1, 1, 1,\n",
       "       1, 0, 0, 0, 0, 1, 0, 0, 1, 1, 0, 0, 1, 1, 0, 1, 1, 1, 1, 0, 1, 0,\n",
       "       1, 0, 1, 0, 1, 1, 0, 0, 1, 1, 0, 1, 0, 0, 1, 1, 0, 1, 1, 0, 0, 0,\n",
       "       1, 0, 0, 1, 1, 0, 1, 1, 1, 1, 1, 0, 0, 1, 1, 1, 1, 0, 0, 1, 1, 0,\n",
       "       0, 0, 0, 0, 1, 1, 0, 1, 1, 0, 1, 0, 1, 1, 1, 1, 0, 0, 0, 1, 0, 0,\n",
       "       1, 1, 0, 0, 0, 0, 1, 1, 1, 0, 0, 0, 1, 1, 0, 0, 1, 1, 1, 0, 0, 0,\n",
       "       1, 0])"
      ]
     },
     "execution_count": 250,
     "metadata": {},
     "output_type": "execute_result"
    }
   ],
   "source": [
    "Y = np.array(Y, dtype=np.int)\n",
    "Y"
   ]
  },
  {
   "cell_type": "code",
   "execution_count": 251,
   "metadata": {},
   "outputs": [
    {
     "data": {
      "text/plain": [
       "array([ True,  True,  True,  True,  True,  True,  True,  True,  True,\n",
       "        True,  True,  True,  True,  True,  True,  True,  True,  True,\n",
       "        True,  True,  True,  True,  True,  True,  True,  True,  True,\n",
       "        True,  True,  True,  True,  True,  True,  True,  True,  True,\n",
       "        True,  True,  True,  True,  True,  True,  True,  True,  True,\n",
       "        True,  True,  True,  True,  True,  True,  True,  True,  True,\n",
       "        True,  True,  True,  True,  True,  True,  True,  True,  True,\n",
       "        True,  True,  True,  True,  True,  True,  True,  True,  True,\n",
       "        True,  True,  True,  True,  True,  True,  True,  True,  True,\n",
       "        True,  True,  True,  True,  True,  True,  True,  True,  True,\n",
       "        True,  True,  True,  True,  True,  True,  True,  True,  True,\n",
       "        True,  True,  True,  True,  True,  True,  True,  True,  True,\n",
       "        True,  True,  True,  True,  True,  True,  True,  True,  True,\n",
       "        True,  True,  True,  True,  True,  True,  True,  True,  True,\n",
       "        True,  True,  True,  True,  True,  True,  True,  True,  True,\n",
       "        True,  True,  True,  True,  True,  True,  True,  True,  True,\n",
       "        True,  True,  True,  True,  True,  True,  True,  True,  True,\n",
       "        True,  True,  True,  True,  True,  True,  True,  True,  True,\n",
       "        True,  True,  True,  True,  True,  True,  True,  True,  True,\n",
       "        True,  True,  True,  True,  True,  True,  True,  True,  True,\n",
       "        True,  True,  True,  True,  True,  True,  True,  True,  True,\n",
       "        True,  True,  True,  True,  True,  True,  True,  True,  True,\n",
       "        True,  True])"
      ]
     },
     "execution_count": 251,
     "metadata": {},
     "output_type": "execute_result"
    }
   ],
   "source": [
    "y_pred == Y"
   ]
  },
  {
   "cell_type": "code",
   "execution_count": 252,
   "metadata": {},
   "outputs": [
    {
     "data": {
      "text/plain": [
       "200"
      ]
     },
     "execution_count": 252,
     "metadata": {},
     "output_type": "execute_result"
    }
   ],
   "source": [
    "(y_pred == Y).sum()"
   ]
  },
  {
   "cell_type": "code",
   "execution_count": 238,
   "metadata": {},
   "outputs": [
    {
     "data": {
      "text/plain": [
       "array([ True, False, False, False, False, False,  True,  True, False,\n",
       "        True, False, False, False,  True, False, False, False,  True,\n",
       "       False, False,  True,  True, False, False, False,  True,  True,\n",
       "        True,  True, False, False,  True,  True, False,  True,  True,\n",
       "        True, False,  True,  True,  True,  True, False,  True,  True,\n",
       "        True, False,  True, False, False,  True, False, False,  True,\n",
       "       False, False, False, False, False, False,  True, False, False,\n",
       "        True,  True, False, False, False, False, False, False, False,\n",
       "       False,  True, False, False,  True,  True,  True,  True,  True,\n",
       "        True,  True,  True,  True,  True,  True,  True,  True, False,\n",
       "       False, False, False,  True, False, False,  True,  True, False,\n",
       "       False,  True,  True, False,  True,  True,  True,  True, False,\n",
       "        True, False,  True, False,  True, False,  True,  True, False,\n",
       "       False,  True,  True, False,  True, False, False,  True,  True,\n",
       "       False,  True,  True, False, False, False,  True, False, False,\n",
       "        True,  True, False,  True,  True,  True,  True,  True, False,\n",
       "       False,  True,  True,  True,  True, False, False,  True,  True,\n",
       "       False, False, False, False, False,  True,  True, False,  True,\n",
       "        True, False,  True, False,  True,  True,  True,  True, False,\n",
       "       False, False,  True, False, False,  True,  True, False, False,\n",
       "       False, False,  True,  True,  True, False, False, False,  True,\n",
       "        True, False, False,  True,  True,  True, False, False, False,\n",
       "        True, False])"
      ]
     },
     "execution_count": 238,
     "metadata": {},
     "output_type": "execute_result"
    }
   ],
   "source": [
    "y_actual = Y == 1\n",
    "y_actual"
   ]
  },
  {
   "cell_type": "code",
   "execution_count": 239,
   "metadata": {},
   "outputs": [
    {
     "data": {
      "text/plain": [
       "200"
      ]
     },
     "execution_count": 239,
     "metadata": {},
     "output_type": "execute_result"
    }
   ],
   "source": [
    "correct = (y_pred.ravel() == y_actual).sum()\n",
    "correct"
   ]
  },
  {
   "cell_type": "code",
   "execution_count": 240,
   "metadata": {},
   "outputs": [
    {
     "data": {
      "text/plain": [
       "(200, 3)"
      ]
     },
     "execution_count": 240,
     "metadata": {},
     "output_type": "execute_result"
    }
   ],
   "source": [
    "X.shape"
   ]
  },
  {
   "cell_type": "code",
   "execution_count": 241,
   "metadata": {},
   "outputs": [
    {
     "data": {
      "text/plain": [
       "100.0"
      ]
     },
     "execution_count": 241,
     "metadata": {},
     "output_type": "execute_result"
    }
   ],
   "source": [
    "accuracy = 100 * correct / Y.shape[0]\n",
    "accuracy"
   ]
  },
  {
   "cell_type": "markdown",
   "metadata": {},
   "source": [
    "# Using SkLearn"
   ]
  },
  {
   "cell_type": "code",
   "execution_count": 253,
   "metadata": {},
   "outputs": [],
   "source": [
    "from sklearn.datasets import load_breast_cancer"
   ]
  },
  {
   "cell_type": "code",
   "execution_count": 254,
   "metadata": {},
   "outputs": [],
   "source": [
    "cancer = load_breast_cancer()\n",
    "X = cancer.data\n",
    "Y = cancer.target"
   ]
  },
  {
   "cell_type": "code",
   "execution_count": 258,
   "metadata": {},
   "outputs": [
    {
     "data": {
      "text/plain": [
       "{'data': array([[1.799e+01, 1.038e+01, 1.228e+02, ..., 2.654e-01, 4.601e-01,\n",
       "         1.189e-01],\n",
       "        [2.057e+01, 1.777e+01, 1.329e+02, ..., 1.860e-01, 2.750e-01,\n",
       "         8.902e-02],\n",
       "        [1.969e+01, 2.125e+01, 1.300e+02, ..., 2.430e-01, 3.613e-01,\n",
       "         8.758e-02],\n",
       "        ...,\n",
       "        [1.660e+01, 2.808e+01, 1.083e+02, ..., 1.418e-01, 2.218e-01,\n",
       "         7.820e-02],\n",
       "        [2.060e+01, 2.933e+01, 1.401e+02, ..., 2.650e-01, 4.087e-01,\n",
       "         1.240e-01],\n",
       "        [7.760e+00, 2.454e+01, 4.792e+01, ..., 0.000e+00, 2.871e-01,\n",
       "         7.039e-02]]),\n",
       " 'target': array([0, 0, 0, 0, 0, 0, 0, 0, 0, 0, 0, 0, 0, 0, 0, 0, 0, 0, 0, 1, 1, 1,\n",
       "        0, 0, 0, 0, 0, 0, 0, 0, 0, 0, 0, 0, 0, 0, 0, 1, 0, 0, 0, 0, 0, 0,\n",
       "        0, 0, 1, 0, 1, 1, 1, 1, 1, 0, 0, 1, 0, 0, 1, 1, 1, 1, 0, 1, 0, 0,\n",
       "        1, 1, 1, 1, 0, 1, 0, 0, 1, 0, 1, 0, 0, 1, 1, 1, 0, 0, 1, 0, 0, 0,\n",
       "        1, 1, 1, 0, 1, 1, 0, 0, 1, 1, 1, 0, 0, 1, 1, 1, 1, 0, 1, 1, 0, 1,\n",
       "        1, 1, 1, 1, 1, 1, 1, 0, 0, 0, 1, 0, 0, 1, 1, 1, 0, 0, 1, 0, 1, 0,\n",
       "        0, 1, 0, 0, 1, 1, 0, 1, 1, 0, 1, 1, 1, 1, 0, 1, 1, 1, 1, 1, 1, 1,\n",
       "        1, 1, 0, 1, 1, 1, 1, 0, 0, 1, 0, 1, 1, 0, 0, 1, 1, 0, 0, 1, 1, 1,\n",
       "        1, 0, 1, 1, 0, 0, 0, 1, 0, 1, 0, 1, 1, 1, 0, 1, 1, 0, 0, 1, 0, 0,\n",
       "        0, 0, 1, 0, 0, 0, 1, 0, 1, 0, 1, 1, 0, 1, 0, 0, 0, 0, 1, 1, 0, 0,\n",
       "        1, 1, 1, 0, 1, 1, 1, 1, 1, 0, 0, 1, 1, 0, 1, 1, 0, 0, 1, 0, 1, 1,\n",
       "        1, 1, 0, 1, 1, 1, 1, 1, 0, 1, 0, 0, 0, 0, 0, 0, 0, 0, 0, 0, 0, 0,\n",
       "        0, 0, 1, 1, 1, 1, 1, 1, 0, 1, 0, 1, 1, 0, 1, 1, 0, 1, 0, 0, 1, 1,\n",
       "        1, 1, 1, 1, 1, 1, 1, 1, 1, 1, 1, 0, 1, 1, 0, 1, 0, 1, 1, 1, 1, 1,\n",
       "        1, 1, 1, 1, 1, 1, 1, 1, 1, 0, 1, 1, 1, 0, 1, 0, 1, 1, 1, 1, 0, 0,\n",
       "        0, 1, 1, 1, 1, 0, 1, 0, 1, 0, 1, 1, 1, 0, 1, 1, 1, 1, 1, 1, 1, 0,\n",
       "        0, 0, 1, 1, 1, 1, 1, 1, 1, 1, 1, 1, 1, 0, 0, 1, 0, 0, 0, 1, 0, 0,\n",
       "        1, 1, 1, 1, 1, 0, 1, 1, 1, 1, 1, 0, 1, 1, 1, 0, 1, 1, 0, 0, 1, 1,\n",
       "        1, 1, 1, 1, 0, 1, 1, 1, 1, 1, 1, 1, 0, 1, 1, 1, 1, 1, 0, 1, 1, 0,\n",
       "        1, 1, 1, 1, 1, 1, 1, 1, 1, 1, 1, 1, 0, 1, 0, 0, 1, 0, 1, 1, 1, 1,\n",
       "        1, 0, 1, 1, 0, 1, 0, 1, 1, 0, 1, 0, 1, 1, 1, 1, 1, 1, 1, 1, 0, 0,\n",
       "        1, 1, 1, 1, 1, 1, 0, 1, 1, 1, 1, 1, 1, 1, 1, 1, 1, 0, 1, 1, 1, 1,\n",
       "        1, 1, 1, 0, 1, 0, 1, 1, 0, 1, 1, 1, 1, 1, 0, 0, 1, 0, 1, 0, 1, 1,\n",
       "        1, 1, 1, 0, 1, 1, 0, 1, 0, 1, 0, 0, 1, 1, 1, 0, 1, 1, 1, 1, 1, 1,\n",
       "        1, 1, 1, 1, 1, 0, 1, 0, 0, 1, 1, 1, 1, 1, 1, 1, 1, 1, 1, 1, 1, 1,\n",
       "        1, 1, 1, 1, 1, 1, 1, 1, 1, 1, 1, 1, 0, 0, 0, 0, 0, 0, 1]),\n",
       " 'frame': None,\n",
       " 'target_names': array(['malignant', 'benign'], dtype='<U9'),\n",
       " 'DESCR': '.. _breast_cancer_dataset:\\n\\nBreast cancer wisconsin (diagnostic) dataset\\n--------------------------------------------\\n\\n**Data Set Characteristics:**\\n\\n    :Number of Instances: 569\\n\\n    :Number of Attributes: 30 numeric, predictive attributes and the class\\n\\n    :Attribute Information:\\n        - radius (mean of distances from center to points on the perimeter)\\n        - texture (standard deviation of gray-scale values)\\n        - perimeter\\n        - area\\n        - smoothness (local variation in radius lengths)\\n        - compactness (perimeter^2 / area - 1.0)\\n        - concavity (severity of concave portions of the contour)\\n        - concave points (number of concave portions of the contour)\\n        - symmetry\\n        - fractal dimension (\"coastline approximation\" - 1)\\n\\n        The mean, standard error, and \"worst\" or largest (mean of the three\\n        worst/largest values) of these features were computed for each image,\\n        resulting in 30 features.  For instance, field 0 is Mean Radius, field\\n        10 is Radius SE, field 20 is Worst Radius.\\n\\n        - class:\\n                - WDBC-Malignant\\n                - WDBC-Benign\\n\\n    :Summary Statistics:\\n\\n    ===================================== ====== ======\\n                                           Min    Max\\n    ===================================== ====== ======\\n    radius (mean):                        6.981  28.11\\n    texture (mean):                       9.71   39.28\\n    perimeter (mean):                     43.79  188.5\\n    area (mean):                          143.5  2501.0\\n    smoothness (mean):                    0.053  0.163\\n    compactness (mean):                   0.019  0.345\\n    concavity (mean):                     0.0    0.427\\n    concave points (mean):                0.0    0.201\\n    symmetry (mean):                      0.106  0.304\\n    fractal dimension (mean):             0.05   0.097\\n    radius (standard error):              0.112  2.873\\n    texture (standard error):             0.36   4.885\\n    perimeter (standard error):           0.757  21.98\\n    area (standard error):                6.802  542.2\\n    smoothness (standard error):          0.002  0.031\\n    compactness (standard error):         0.002  0.135\\n    concavity (standard error):           0.0    0.396\\n    concave points (standard error):      0.0    0.053\\n    symmetry (standard error):            0.008  0.079\\n    fractal dimension (standard error):   0.001  0.03\\n    radius (worst):                       7.93   36.04\\n    texture (worst):                      12.02  49.54\\n    perimeter (worst):                    50.41  251.2\\n    area (worst):                         185.2  4254.0\\n    smoothness (worst):                   0.071  0.223\\n    compactness (worst):                  0.027  1.058\\n    concavity (worst):                    0.0    1.252\\n    concave points (worst):               0.0    0.291\\n    symmetry (worst):                     0.156  0.664\\n    fractal dimension (worst):            0.055  0.208\\n    ===================================== ====== ======\\n\\n    :Missing Attribute Values: None\\n\\n    :Class Distribution: 212 - Malignant, 357 - Benign\\n\\n    :Creator:  Dr. William H. Wolberg, W. Nick Street, Olvi L. Mangasarian\\n\\n    :Donor: Nick Street\\n\\n    :Date: November, 1995\\n\\nThis is a copy of UCI ML Breast Cancer Wisconsin (Diagnostic) datasets.\\nhttps://goo.gl/U2Uwz2\\n\\nFeatures are computed from a digitized image of a fine needle\\naspirate (FNA) of a breast mass.  They describe\\ncharacteristics of the cell nuclei present in the image.\\n\\nSeparating plane described above was obtained using\\nMultisurface Method-Tree (MSM-T) [K. P. Bennett, \"Decision Tree\\nConstruction Via Linear Programming.\" Proceedings of the 4th\\nMidwest Artificial Intelligence and Cognitive Science Society,\\npp. 97-101, 1992], a classification method which uses linear\\nprogramming to construct a decision tree.  Relevant features\\nwere selected using an exhaustive search in the space of 1-4\\nfeatures and 1-3 separating planes.\\n\\nThe actual linear program used to obtain the separating plane\\nin the 3-dimensional space is that described in:\\n[K. P. Bennett and O. L. Mangasarian: \"Robust Linear\\nProgramming Discrimination of Two Linearly Inseparable Sets\",\\nOptimization Methods and Software 1, 1992, 23-34].\\n\\nThis database is also available through the UW CS ftp server:\\n\\nftp ftp.cs.wisc.edu\\ncd math-prog/cpo-dataset/machine-learn/WDBC/\\n\\n.. topic:: References\\n\\n   - W.N. Street, W.H. Wolberg and O.L. Mangasarian. Nuclear feature extraction \\n     for breast tumor diagnosis. IS&T/SPIE 1993 International Symposium on \\n     Electronic Imaging: Science and Technology, volume 1905, pages 861-870,\\n     San Jose, CA, 1993.\\n   - O.L. Mangasarian, W.N. Street and W.H. Wolberg. Breast cancer diagnosis and \\n     prognosis via linear programming. Operations Research, 43(4), pages 570-577, \\n     July-August 1995.\\n   - W.H. Wolberg, W.N. Street, and O.L. Mangasarian. Machine learning techniques\\n     to diagnose breast cancer from fine-needle aspirates. Cancer Letters 77 (1994) \\n     163-171.',\n",
       " 'feature_names': array(['mean radius', 'mean texture', 'mean perimeter', 'mean area',\n",
       "        'mean smoothness', 'mean compactness', 'mean concavity',\n",
       "        'mean concave points', 'mean symmetry', 'mean fractal dimension',\n",
       "        'radius error', 'texture error', 'perimeter error', 'area error',\n",
       "        'smoothness error', 'compactness error', 'concavity error',\n",
       "        'concave points error', 'symmetry error',\n",
       "        'fractal dimension error', 'worst radius', 'worst texture',\n",
       "        'worst perimeter', 'worst area', 'worst smoothness',\n",
       "        'worst compactness', 'worst concavity', 'worst concave points',\n",
       "        'worst symmetry', 'worst fractal dimension'], dtype='<U23'),\n",
       " 'filename': 'c:\\\\users\\\\anish\\\\appdata\\\\local\\\\programs\\\\python\\\\python37\\\\lib\\\\site-packages\\\\sklearn\\\\datasets\\\\data\\\\breast_cancer.csv'}"
      ]
     },
     "execution_count": 258,
     "metadata": {},
     "output_type": "execute_result"
    }
   ],
   "source": [
    "cancer"
   ]
  },
  {
   "cell_type": "code",
   "execution_count": 259,
   "metadata": {},
   "outputs": [
    {
     "data": {
      "text/plain": [
       "array(['mean radius', 'mean texture', 'mean perimeter', 'mean area',\n",
       "       'mean smoothness', 'mean compactness', 'mean concavity',\n",
       "       'mean concave points', 'mean symmetry', 'mean fractal dimension',\n",
       "       'radius error', 'texture error', 'perimeter error', 'area error',\n",
       "       'smoothness error', 'compactness error', 'concavity error',\n",
       "       'concave points error', 'symmetry error',\n",
       "       'fractal dimension error', 'worst radius', 'worst texture',\n",
       "       'worst perimeter', 'worst area', 'worst smoothness',\n",
       "       'worst compactness', 'worst concavity', 'worst concave points',\n",
       "       'worst symmetry', 'worst fractal dimension'], dtype='<U23')"
      ]
     },
     "execution_count": 259,
     "metadata": {},
     "output_type": "execute_result"
    }
   ],
   "source": [
    "cancer.feature_names"
   ]
  },
  {
   "cell_type": "code",
   "execution_count": 146,
   "metadata": {},
   "outputs": [],
   "source": [
    "from sklearn.linear_model import LogisticRegression\n",
    "from sklearn.model_selection import train_test_split"
   ]
  },
  {
   "cell_type": "code",
   "execution_count": 260,
   "metadata": {},
   "outputs": [],
   "source": [
    "X_train, X_test, Y_train, Y_test = train_test_split(X, Y, test_size=.2)"
   ]
  },
  {
   "cell_type": "code",
   "execution_count": 262,
   "metadata": {},
   "outputs": [
    {
     "data": {
      "text/plain": [
       "(455, 30)"
      ]
     },
     "execution_count": 262,
     "metadata": {},
     "output_type": "execute_result"
    }
   ],
   "source": [
    "X_train.shape"
   ]
  },
  {
   "cell_type": "code",
   "execution_count": 263,
   "metadata": {},
   "outputs": [
    {
     "data": {
      "text/plain": [
       "(455,)"
      ]
     },
     "execution_count": 263,
     "metadata": {},
     "output_type": "execute_result"
    }
   ],
   "source": [
    "Y_train.shape"
   ]
  },
  {
   "cell_type": "code",
   "execution_count": 264,
   "metadata": {},
   "outputs": [
    {
     "data": {
      "text/plain": [
       "(114, 30)"
      ]
     },
     "execution_count": 264,
     "metadata": {},
     "output_type": "execute_result"
    }
   ],
   "source": [
    "X_test.shape"
   ]
  },
  {
   "cell_type": "code",
   "execution_count": 265,
   "metadata": {},
   "outputs": [
    {
     "data": {
      "text/plain": [
       "(114,)"
      ]
     },
     "execution_count": 265,
     "metadata": {},
     "output_type": "execute_result"
    }
   ],
   "source": [
    "Y_test.shape"
   ]
  },
  {
   "cell_type": "code",
   "execution_count": 266,
   "metadata": {},
   "outputs": [],
   "source": [
    "lr = LogisticRegression()"
   ]
  },
  {
   "cell_type": "code",
   "execution_count": 267,
   "metadata": {},
   "outputs": [
    {
     "name": "stderr",
     "output_type": "stream",
     "text": [
      "c:\\users\\anish\\appdata\\local\\programs\\python\\python37\\lib\\site-packages\\sklearn\\linear_model\\_logistic.py:765: ConvergenceWarning: lbfgs failed to converge (status=1):\n",
      "STOP: TOTAL NO. of ITERATIONS REACHED LIMIT.\n",
      "\n",
      "Increase the number of iterations (max_iter) or scale the data as shown in:\n",
      "    https://scikit-learn.org/stable/modules/preprocessing.html\n",
      "Please also refer to the documentation for alternative solver options:\n",
      "    https://scikit-learn.org/stable/modules/linear_model.html#logistic-regression\n",
      "  extra_warning_msg=_LOGISTIC_SOLVER_CONVERGENCE_MSG)\n"
     ]
    },
    {
     "data": {
      "text/plain": [
       "LogisticRegression()"
      ]
     },
     "execution_count": 267,
     "metadata": {},
     "output_type": "execute_result"
    }
   ],
   "source": [
    "lr.fit(X_train, Y_train)"
   ]
  },
  {
   "cell_type": "code",
   "execution_count": 269,
   "metadata": {},
   "outputs": [
    {
     "data": {
      "text/plain": [
       "0.9340659340659341"
      ]
     },
     "execution_count": 269,
     "metadata": {},
     "output_type": "execute_result"
    }
   ],
   "source": [
    "lr.score(X_train, Y_train)"
   ]
  },
  {
   "cell_type": "code",
   "execution_count": 270,
   "metadata": {},
   "outputs": [
    {
     "data": {
      "text/plain": [
       "0.9736842105263158"
      ]
     },
     "execution_count": 270,
     "metadata": {},
     "output_type": "execute_result"
    }
   ],
   "source": [
    "lr.score(X_test, Y_test)"
   ]
  },
  {
   "cell_type": "code",
   "execution_count": 271,
   "metadata": {},
   "outputs": [
    {
     "data": {
      "text/plain": [
       "0.9736842105263158"
      ]
     },
     "execution_count": 271,
     "metadata": {},
     "output_type": "execute_result"
    }
   ],
   "source": [
    "Y_pred = lr.predict(X_test)\n",
    "(Y_pred == Y_test).mean()"
   ]
  },
  {
   "cell_type": "code",
   "execution_count": 272,
   "metadata": {},
   "outputs": [
    {
     "data": {
      "text/plain": [
       "111"
      ]
     },
     "execution_count": 272,
     "metadata": {},
     "output_type": "execute_result"
    }
   ],
   "source": [
    "(Y_pred == Y_test).sum()"
   ]
  },
  {
   "cell_type": "code",
   "execution_count": 273,
   "metadata": {},
   "outputs": [
    {
     "data": {
      "text/plain": [
       "(114,)"
      ]
     },
     "execution_count": 273,
     "metadata": {},
     "output_type": "execute_result"
    }
   ],
   "source": [
    "Y_pred.shape"
   ]
  },
  {
   "cell_type": "code",
   "execution_count": 276,
   "metadata": {},
   "outputs": [
    {
     "data": {
      "text/plain": [
       "array([[False,  True],\n",
       "       [False,  True],\n",
       "       [False,  True],\n",
       "       [ True, False],\n",
       "       [ True, False],\n",
       "       [False,  True],\n",
       "       [ True, False],\n",
       "       [False,  True],\n",
       "       [ True, False],\n",
       "       [ True, False],\n",
       "       [False,  True],\n",
       "       [ True, False],\n",
       "       [False,  True],\n",
       "       [False, False],\n",
       "       [ True, False],\n",
       "       [False,  True],\n",
       "       [False,  True],\n",
       "       [ True, False],\n",
       "       [False,  True],\n",
       "       [ True, False],\n",
       "       [False,  True],\n",
       "       [False,  True],\n",
       "       [False,  True],\n",
       "       [False,  True],\n",
       "       [ True, False],\n",
       "       [ True, False],\n",
       "       [False,  True],\n",
       "       [False,  True],\n",
       "       [False,  True],\n",
       "       [ True, False],\n",
       "       [False,  True],\n",
       "       [False,  True],\n",
       "       [False,  True],\n",
       "       [ True, False],\n",
       "       [False,  True],\n",
       "       [False,  True],\n",
       "       [False,  True],\n",
       "       [False,  True],\n",
       "       [False,  True],\n",
       "       [False,  True],\n",
       "       [False,  True],\n",
       "       [ True, False],\n",
       "       [False,  True],\n",
       "       [False,  True],\n",
       "       [False,  True],\n",
       "       [False,  True],\n",
       "       [ True, False],\n",
       "       [False,  True],\n",
       "       [False,  True],\n",
       "       [False,  True],\n",
       "       [ True, False],\n",
       "       [ True, False],\n",
       "       [False,  True],\n",
       "       [False,  True],\n",
       "       [ True, False],\n",
       "       [ True, False],\n",
       "       [False,  True],\n",
       "       [ True, False],\n",
       "       [False,  True],\n",
       "       [False,  True],\n",
       "       [False,  True],\n",
       "       [ True, False],\n",
       "       [False,  True],\n",
       "       [False,  True],\n",
       "       [ True, False],\n",
       "       [False,  True],\n",
       "       [False,  True],\n",
       "       [False,  True],\n",
       "       [False,  True],\n",
       "       [ True, False],\n",
       "       [False,  True],\n",
       "       [ True, False],\n",
       "       [ True, False],\n",
       "       [False,  True],\n",
       "       [False,  True],\n",
       "       [False,  True],\n",
       "       [False,  True],\n",
       "       [False,  True],\n",
       "       [False,  True],\n",
       "       [False,  True],\n",
       "       [False, False],\n",
       "       [False,  True],\n",
       "       [ True, False],\n",
       "       [False,  True],\n",
       "       [False, False],\n",
       "       [False,  True],\n",
       "       [False,  True],\n",
       "       [False,  True],\n",
       "       [ True, False],\n",
       "       [ True, False],\n",
       "       [False,  True],\n",
       "       [False,  True],\n",
       "       [ True, False],\n",
       "       [False,  True],\n",
       "       [ True, False],\n",
       "       [ True, False],\n",
       "       [ True, False],\n",
       "       [ True, False],\n",
       "       [False,  True],\n",
       "       [False,  True],\n",
       "       [False,  True],\n",
       "       [ True, False],\n",
       "       [False,  True],\n",
       "       [False,  True],\n",
       "       [False,  True],\n",
       "       [False,  True],\n",
       "       [False,  True],\n",
       "       [False,  True],\n",
       "       [False,  True],\n",
       "       [ True, False],\n",
       "       [ True, False],\n",
       "       [False,  True],\n",
       "       [False,  True],\n",
       "       [ True, False]])"
      ]
     },
     "execution_count": 276,
     "metadata": {},
     "output_type": "execute_result"
    }
   ],
   "source": [
    "lr.predict_proba(X_test) > 0.6"
   ]
  },
  {
   "cell_type": "code",
   "execution_count": 277,
   "metadata": {},
   "outputs": [],
   "source": [
    "from sklearn.metrics import confusion_matrix"
   ]
  },
  {
   "cell_type": "code",
   "execution_count": 278,
   "metadata": {},
   "outputs": [
    {
     "data": {
      "text/plain": [
       "array([[39,  2],\n",
       "       [ 1, 72]], dtype=int64)"
      ]
     },
     "execution_count": 278,
     "metadata": {},
     "output_type": "execute_result"
    }
   ],
   "source": [
    "matrix = confusion_matrix(Y_test,Y_pred)\n",
    "matrix"
   ]
  },
  {
   "cell_type": "code",
   "execution_count": 159,
   "metadata": {},
   "outputs": [],
   "source": [
    "people_without_cacer_and_we_dont_predict_cancer = matrix[0][0]\n",
    "people_without_cacer_and_we_predict_cancer = matrix[0][1]\n",
    "people_with_cacer_and_we_predict_no_cancer = matrix[1][0]\n",
    "people_with_cacer_and_we_predict_no_cancer = matrix[1][1]"
   ]
  }
 ],
 "metadata": {
  "kernelspec": {
   "display_name": "Python 3",
   "language": "python",
   "name": "python3"
  },
  "language_info": {
   "codemirror_mode": {
    "name": "ipython",
    "version": 3
   },
   "file_extension": ".py",
   "mimetype": "text/x-python",
   "name": "python",
   "nbconvert_exporter": "python",
   "pygments_lexer": "ipython3",
   "version": "3.7.9"
  }
 },
 "nbformat": 4,
 "nbformat_minor": 2
}
